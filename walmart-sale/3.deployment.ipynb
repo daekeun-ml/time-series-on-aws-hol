{
 "cells": [
  {
   "cell_type": "markdown",
   "metadata": {},
   "source": [
    "# Module 3. Deployment on MMS(Multi Model Server)\n",
    "---\n",
    "\n",
    "본 모듈에서는 모델의 배포(deployment)를 수행합니다. 노트북 실행에는 약 15분 가량 소요되며, 핸즈온 실습 시에는 25분을 권장드립니다.\n",
    "\n",
    "<br>\n",
    "\n",
    "## 1. Inference script\n",
    "---\n",
    "\n",
    "아래 코드 셀은 `src` 디렉토리에 SageMaker 추론 스크립트인 `inference.py`를 저장합니다.<br>\n",
    "\n",
    "이 스크립트는 SageMaker 상에서 MMS(Multi Model Server)를 쉽고 편하게 배포할 수 이는 high-level 툴킷인 SageMaker inference toolkit의 인터페이스를\n",
    "사용하고 있으며, 여러분께서는 인터페이스에 정의된 핸들러(handler) 함수들만 구현하시면 됩니다.\n",
    "\n",
    "#### MMS(Multi Model Server)란?\n",
    "- [https://github.com/awslabs/multi-model-server](https://github.com/awslabs/multi-model-server) (2017년 12월 초 MXNet 1.0 릴리스 시 최초 공개, MXNet용 모델 서버로 시작)\n",
    "- Prerequisites: Java 8, MXNet (단, MXNet 사용 시에만)\n",
    "- MMS는 프레임워크에 구애받지 않도록 설계되었기 때문에, 모든 프레임워크의 백엔드 엔진 역할을 할 수 있는 충분한 유연성을 제공합니다.\n",
    "- SageMaker MXNet 추론 컨테이너와 PyTorch 추론 컨테이너는 SageMaker inference toolkit으로 MMS를 래핑하여 사용합니다.\n",
    "    - 2020년 4월 말 PyTorch용 배포 웹 서비스인 torchserve가 출시되면서, 향후 PyTorch 추론 컨테이너는 MMS 기반에서 torchserve 기반으로 마이그레이션될 예정입니다. "
   ]
  },
  {
   "cell_type": "code",
   "execution_count": 1,
   "metadata": {},
   "outputs": [
    {
     "name": "stdout",
     "output_type": "stream",
     "text": [
      "Overwriting ./src/inference.py\n"
     ]
    }
   ],
   "source": [
    "%%writefile ./src/inference.py\n",
    "\n",
    "import os\n",
    "import pandas as pd\n",
    "import gluonts \n",
    "import numpy as np\n",
    "import argparse\n",
    "import json\n",
    "import pathlib\n",
    "from mxnet import gpu, cpu\n",
    "from mxnet.context import num_gpus\n",
    "import matplotlib.pyplot as plt\n",
    "\n",
    "from gluonts.dataset.util import to_pandas\n",
    "from gluonts.distribution import DistributionOutput, StudentTOutput, NegativeBinomialOutput, GaussianOutput\n",
    "from gluonts.model.deepar import DeepAREstimator\n",
    "from gluonts.trainer import Trainer\n",
    "from gluonts.evaluation import Evaluator\n",
    "from gluonts.evaluation.backtest import make_evaluation_predictions, backtest_metrics\n",
    "from gluonts.model.predictor import Predictor\n",
    "from gluonts.dataset.field_names import FieldName\n",
    "from gluonts.dataset.common import ListDataset\n",
    "\n",
    "\n",
    "def model_fn(model_dir):\n",
    "    path = pathlib.Path(model_dir)   \n",
    "    predictor = Predictor.deserialize(path)\n",
    "    print(\"model was loaded successfully\")\n",
    "    return predictor\n",
    "\n",
    "\n",
    "def transform_fn(model, request_body, content_type='application/json', accept_type='application/json'):\n",
    "\n",
    "    related_cols = ['Temperature', 'Fuel_Price', 'CPI', 'Unemployment'] \n",
    "    item_cols = ['Type', 'Size'] \n",
    "    FREQ = 'W'\n",
    "    pred_length = 12\n",
    "\n",
    "    data = json.loads(request_body)    \n",
    "    \n",
    "    target_test_df = pd.DataFrame(data['target_values'], index=data['timestamp'])\n",
    "    related_test_df = pd.DataFrame(data['related_values'], index=data['timestamp'])\n",
    "    item_df = pd.DataFrame(data['item'], index=data['store_id'])\n",
    "    item_df.columns = item_cols\n",
    "        \n",
    "    target = target_test_df.values\n",
    "    num_steps, num_series = target_test_df.shape\n",
    "    start_dt = target_test_df.index[0]\n",
    "    \n",
    "    num_related_cols = len(related_cols)\n",
    "    num_features_per_feature = int(related_test_df.shape[1] / num_related_cols)\n",
    "    related_list = []\n",
    "\n",
    "    for feature_idx in range(0, num_related_cols):\n",
    "        start_idx = feature_idx * num_features_per_feature\n",
    "        end_idx = start_idx + num_features_per_feature\n",
    "        related_list.append(related_test_df.iloc[:, start_idx:end_idx].values)\n",
    "\n",
    "    test_lst = []\n",
    "    for i in range(0, num_series):\n",
    "        target_vec = target[:-pred_length, i]\n",
    "        related_vecs = [related[:, i] for related in related_list]\n",
    "        item = item_df.loc[i+1]    \n",
    "        dic = {FieldName.TARGET: target_vec, \n",
    "               FieldName.START: start_dt,\n",
    "               FieldName.FEAT_DYNAMIC_REAL: related_vecs,\n",
    "               FieldName.FEAT_STATIC_CAT: [item[0]],\n",
    "               FieldName.FEAT_STATIC_REAL: [item[1]]\n",
    "              } \n",
    "        test_lst.append(dic)\n",
    "\n",
    "    test_ds = ListDataset(test_lst, freq=FREQ)\n",
    "\n",
    "    response_body = {}\n",
    "    forecast_it = model.predict(test_ds)\n",
    "\n",
    "    for idx, f in enumerate(forecast_it):\n",
    "        response_body[f'store_{idx}'] = f.samples.mean(axis=0).tolist()\n",
    "\n",
    "    return json.dumps(response_body)"
   ]
  },
  {
   "cell_type": "markdown",
   "metadata": {},
   "source": [
    "<br>\n",
    "\n",
    "## 2. Test Inference code \n",
    "---\n",
    "\n",
    "엔드포인트 배포 전, 추론 스크립트를 검증합니다. "
   ]
  },
  {
   "cell_type": "code",
   "execution_count": 2,
   "metadata": {},
   "outputs": [],
   "source": [
    "%store -r"
   ]
  },
  {
   "cell_type": "code",
   "execution_count": 3,
   "metadata": {},
   "outputs": [
    {
     "name": "stdout",
     "output_type": "stream",
     "text": [
      "model was loaded successfully\n",
      "[15.7701416015625, 15.733563423156738, 16.09058380126953, 16.215749740600586, 16.334148406982422, 15.785937309265137, 15.678658485412598, 16.614551544189453, 16.959915161132812, 16.207666397094727, 16.245784759521484, 17.47865867614746]\n"
     ]
    }
   ],
   "source": [
    "from src.inference import model_fn, transform_fn\n",
    "import json\n",
    "import numpy as np\n",
    "import pandas as pd\n",
    "\n",
    "# Prepare test data \n",
    "target_test_df = pd.read_csv(\"data/target_train.csv\", index_col=0, header=[0,1])\n",
    "related_test_df = pd.read_csv(\"data/related_train.csv\", index_col=0, header=[0,1])\n",
    "item_df = pd.read_csv(\"data/item.csv\", index_col=0)\n",
    "\n",
    "input_data = {'target_values': target_test_df.values.tolist(), \n",
    "              'related_values': related_test_df.values.tolist(),\n",
    "              'item': item_df.values.tolist(),\n",
    "              'timestamp': related_test_df.index.tolist(),\n",
    "              'store_id': item_df.index.tolist()\n",
    "             }\n",
    "\n",
    "request_body = json.dumps(input_data)\n",
    "# Test inference script \n",
    "model = model_fn('./model')\n",
    "response = transform_fn(model, request_body)\n",
    "outputs = json.loads(response)\n",
    "print(outputs['store_0'])"
   ]
  },
  {
   "cell_type": "markdown",
   "metadata": {},
   "source": [
    "<br>\n",
    "\n",
    "## 3. Local Endpoint Inference\n",
    "---\n",
    "\n",
    "충분한 검증 및 테스트 없이 훈련된 모델을 곧바로 실제 운영 환경에 배포하기에는 많은 위험 요소들이 있습니다. 따라서, 로컬 모드를 사용하여 실제 운영 환경에 배포하기 위한 추론 인스턴스를 시작하기 전에 노트북 인스턴스의 로컬 환경에서 모델을 배포하는 것을 권장합니다. 이를 로컬 모드 엔드포인트(Local Mode Endpoint)라고 합니다."
   ]
  },
  {
   "cell_type": "code",
   "execution_count": 4,
   "metadata": {},
   "outputs": [],
   "source": [
    "import os\n",
    "import time\n",
    "import sagemaker\n",
    "from sagemaker.mxnet import MXNetModel\n",
    "role = sagemaker.get_execution_role()"
   ]
  },
  {
   "cell_type": "code",
   "execution_count": 5,
   "metadata": {},
   "outputs": [],
   "source": [
    "local_model_path = f'file://{os.getcwd()}/model/model.tar.gz'\n",
    "endpoint_name = \"local-endpoint-walmart-sale-forecast-{}\".format(int(time.time()))"
   ]
  },
  {
   "cell_type": "markdown",
   "metadata": {},
   "source": [
    "\n",
    "아래 코드 셀을 실행 후, 로그를 확인해 보세요. MMS에 대한 세팅값들을 확인하실 수 있습니다.\n",
    "\n",
    "```bash\n",
    "algo-1-u3xwd_1  | MMS Home: /usr/local/lib/python3.6/site-packages\n",
    "algo-1-u3xwd_1  | Current directory: /\n",
    "algo-1-u3xwd_1  | Temp directory: /home/model-server/tmp\n",
    "algo-1-u3xwd_1  | Number of GPUs: 0\n",
    "algo-1-u3xwd_1  | Number of CPUs: 2\n",
    "algo-1-u3xwd_1  | Max heap size: 878 M\n",
    "algo-1-u3xwd_1  | Python executable: /usr/local/bin/python3.6\n",
    "algo-1-u3xwd_1  | Config file: /etc/sagemaker-mms.properties\n",
    "algo-1-u3xwd_1  | Inference address: http://0.0.0.0:8080\n",
    "algo-1-u3xwd_1  | Management address: http://0.0.0.0:8080\n",
    "algo-1-u3xwd_1  | Model Store: /.sagemaker/mms/models\n",
    "...\n",
    "```"
   ]
  },
  {
   "cell_type": "code",
   "execution_count": 6,
   "metadata": {},
   "outputs": [
    {
     "name": "stderr",
     "output_type": "stream",
     "text": [
      "Parameter image will be renamed to image_uri in SageMaker Python SDK v2.\n",
      "'create_image_uri' will be deprecated in favor of 'ImageURIProvider' class in SageMaker Python SDK v2.\n"
     ]
    },
    {
     "name": "stdout",
     "output_type": "stream",
     "text": [
      "Attaching to tmpx39klqnd_algo-1-zn5e8_1\n",
      "\u001b[36malgo-1-zn5e8_1  |\u001b[0m Collecting pandas==1.0.0\n",
      "\u001b[36malgo-1-zn5e8_1  |\u001b[0m   Downloading pandas-1.0.0-cp36-cp36m-manylinux1_x86_64.whl (10.1 MB)\n",
      "\u001b[K     |████████████████████████████████| 10.1 MB 19.6 MB/s eta 0:00:01\n",
      "\u001b[36malgo-1-zn5e8_1  |\u001b[0m \u001b[?25hCollecting gluonts==0.5.1\n",
      "\u001b[36malgo-1-zn5e8_1  |\u001b[0m   Downloading gluonts-0.5.1-py3-none-any.whl (419 kB)\n",
      "\u001b[K     |████████████████████████████████| 419 kB 34.5 MB/s eta 0:00:01\n",
      "\u001b[36malgo-1-zn5e8_1  |\u001b[0m \u001b[?25hCollecting pytz>=2017.2\n",
      "\u001b[36malgo-1-zn5e8_1  |\u001b[0m   Downloading pytz-2020.1-py2.py3-none-any.whl (510 kB)\n",
      "\u001b[K     |████████████████████████████████| 510 kB 39.6 MB/s eta 0:00:01\n",
      "\u001b[36malgo-1-zn5e8_1  |\u001b[0m \u001b[?25hRequirement already satisfied: numpy>=1.13.3 in /usr/local/lib/python3.6/site-packages (from pandas==1.0.0->-r /opt/ml/model/code/requirements.txt (line 1)) (1.17.4)\n",
      "\u001b[36malgo-1-zn5e8_1  |\u001b[0m Requirement already satisfied: python-dateutil>=2.6.1 in /usr/local/lib/python3.6/site-packages (from pandas==1.0.0->-r /opt/ml/model/code/requirements.txt (line 1)) (2.8.1)\n",
      "\u001b[36malgo-1-zn5e8_1  |\u001b[0m Collecting ujson~=1.35\n",
      "\u001b[36malgo-1-zn5e8_1  |\u001b[0m   Downloading ujson-1.35.tar.gz (192 kB)\n",
      "\u001b[K     |████████████████████████████████| 192 kB 47.3 MB/s eta 0:00:01\n",
      "\u001b[36malgo-1-zn5e8_1  |\u001b[0m \u001b[?25hRequirement already satisfied: matplotlib~=3.0 in /usr/local/lib/python3.6/site-packages (from gluonts==0.5.1->-r /opt/ml/model/code/requirements.txt (line 2)) (3.3.1)\n",
      "\u001b[36malgo-1-zn5e8_1  |\u001b[0m Collecting pydantic~=1.1\n",
      "\u001b[36malgo-1-zn5e8_1  |\u001b[0m   Downloading pydantic-1.6.1-cp36-cp36m-manylinux2014_x86_64.whl (8.7 MB)\n",
      "\u001b[K     |████████████████████████████████| 8.7 MB 37.8 MB/s eta 0:00:01\n",
      "\u001b[36malgo-1-zn5e8_1  |\u001b[0m \u001b[?25hCollecting holidays<0.10,>=0.9\n",
      "\u001b[36malgo-1-zn5e8_1  |\u001b[0m   Downloading holidays-0.9.12.tar.gz (85 kB)\n",
      "\u001b[K     |████████████████████████████████| 85 kB 6.0 MB/s  eta 0:00:01\n",
      "\u001b[36malgo-1-zn5e8_1  |\u001b[0m \u001b[?25hRequirement already satisfied: tqdm~=4.23 in /usr/local/lib/python3.6/site-packages (from gluonts==0.5.1->-r /opt/ml/model/code/requirements.txt (line 2)) (4.48.2)\n",
      "\u001b[36malgo-1-zn5e8_1  |\u001b[0m Requirement already satisfied: six>=1.5 in /usr/local/lib/python3.6/site-packages (from python-dateutil>=2.6.1->pandas==1.0.0->-r /opt/ml/model/code/requirements.txt (line 1)) (1.15.0)\n",
      "\u001b[36malgo-1-zn5e8_1  |\u001b[0m Requirement already satisfied: pillow>=6.2.0 in /usr/local/lib/python3.6/site-packages (from matplotlib~=3.0->gluonts==0.5.1->-r /opt/ml/model/code/requirements.txt (line 2)) (7.2.0)\n",
      "\u001b[36malgo-1-zn5e8_1  |\u001b[0m Requirement already satisfied: cycler>=0.10 in /usr/local/lib/python3.6/site-packages (from matplotlib~=3.0->gluonts==0.5.1->-r /opt/ml/model/code/requirements.txt (line 2)) (0.10.0)\n",
      "\u001b[36malgo-1-zn5e8_1  |\u001b[0m Requirement already satisfied: pyparsing!=2.0.4,!=2.1.2,!=2.1.6,>=2.0.3 in /usr/local/lib/python3.6/site-packages (from matplotlib~=3.0->gluonts==0.5.1->-r /opt/ml/model/code/requirements.txt (line 2)) (2.4.7)\n",
      "\u001b[36malgo-1-zn5e8_1  |\u001b[0m Requirement already satisfied: certifi>=2020.06.20 in /usr/local/lib/python3.6/site-packages (from matplotlib~=3.0->gluonts==0.5.1->-r /opt/ml/model/code/requirements.txt (line 2)) (2020.6.20)\n",
      "\u001b[36malgo-1-zn5e8_1  |\u001b[0m Requirement already satisfied: kiwisolver>=1.0.1 in /usr/local/lib/python3.6/site-packages (from matplotlib~=3.0->gluonts==0.5.1->-r /opt/ml/model/code/requirements.txt (line 2)) (1.2.0)\n",
      "\u001b[36malgo-1-zn5e8_1  |\u001b[0m Collecting dataclasses>=0.6; python_version < \"3.7\"\n",
      "\u001b[36malgo-1-zn5e8_1  |\u001b[0m   Downloading dataclasses-0.7-py3-none-any.whl (18 kB)\n",
      "\u001b[36malgo-1-zn5e8_1  |\u001b[0m Using legacy 'setup.py install' for ujson, since package 'wheel' is not installed.\n",
      "\u001b[36malgo-1-zn5e8_1  |\u001b[0m Using legacy 'setup.py install' for holidays, since package 'wheel' is not installed.\n",
      "\u001b[36malgo-1-zn5e8_1  |\u001b[0m Installing collected packages: pytz, pandas, ujson, dataclasses, pydantic, holidays, gluonts\n",
      "\u001b[36malgo-1-zn5e8_1  |\u001b[0m     Running setup.py install for ujson ... \u001b[?25ldone\n",
      "\u001b[36malgo-1-zn5e8_1  |\u001b[0m \u001b[?25h    Running setup.py install for holidays ... \u001b[?25ldone\n",
      "\u001b[36malgo-1-zn5e8_1  |\u001b[0m \u001b[?25hSuccessfully installed dataclasses-0.7 gluonts-0.5.1 holidays-0.9.12 pandas-1.0.0 pydantic-1.6.1 pytz-2020.1 ujson-1.35\n",
      "\u001b[36malgo-1-zn5e8_1  |\u001b[0m Warning: Calling MMS with mxnet-model-server. Please move to multi-model-server.\n",
      "\u001b[36malgo-1-zn5e8_1  |\u001b[0m 2020-08-31 13:45:04,051 [INFO ] main com.amazonaws.ml.mms.ModelServer - \n",
      "\u001b[36malgo-1-zn5e8_1  |\u001b[0m MMS Home: /usr/local/lib/python3.6/site-packages\n",
      "\u001b[36malgo-1-zn5e8_1  |\u001b[0m Current directory: /\n",
      "\u001b[36malgo-1-zn5e8_1  |\u001b[0m Temp directory: /home/model-server/tmp\n",
      "\u001b[36malgo-1-zn5e8_1  |\u001b[0m Number of GPUs: 0\n",
      "\u001b[36malgo-1-zn5e8_1  |\u001b[0m Number of CPUs: 4\n",
      "\u001b[36malgo-1-zn5e8_1  |\u001b[0m Max heap size: 13646 M\n",
      "\u001b[36malgo-1-zn5e8_1  |\u001b[0m Python executable: /usr/local/bin/python3.6\n",
      "\u001b[36malgo-1-zn5e8_1  |\u001b[0m Config file: /etc/sagemaker-mms.properties\n",
      "\u001b[36malgo-1-zn5e8_1  |\u001b[0m Inference address: http://0.0.0.0:8080\n",
      "\u001b[36malgo-1-zn5e8_1  |\u001b[0m Management address: http://0.0.0.0:8080\n",
      "\u001b[36malgo-1-zn5e8_1  |\u001b[0m Model Store: /.sagemaker/mms/models\n",
      "\u001b[36malgo-1-zn5e8_1  |\u001b[0m Initial Models: ALL\n",
      "\u001b[36malgo-1-zn5e8_1  |\u001b[0m Log dir: /logs\n",
      "\u001b[36malgo-1-zn5e8_1  |\u001b[0m Metrics dir: /logs\n",
      "\u001b[36malgo-1-zn5e8_1  |\u001b[0m Netty threads: 0\n",
      "\u001b[36malgo-1-zn5e8_1  |\u001b[0m Netty client threads: 0\n",
      "\u001b[36malgo-1-zn5e8_1  |\u001b[0m Default workers per model: 4\n",
      "\u001b[36malgo-1-zn5e8_1  |\u001b[0m Blacklist Regex: N/A\n",
      "\u001b[36malgo-1-zn5e8_1  |\u001b[0m Maximum Response Size: 6553500\n",
      "\u001b[36malgo-1-zn5e8_1  |\u001b[0m Maximum Request Size: 6553500\n",
      "\u001b[36malgo-1-zn5e8_1  |\u001b[0m Preload model: false\n",
      "\u001b[36malgo-1-zn5e8_1  |\u001b[0m Prefer direct buffer: false\n",
      "\u001b[36malgo-1-zn5e8_1  |\u001b[0m 2020-08-31 13:45:04,155 [WARN ] W-9000-model com.amazonaws.ml.mms.wlm.WorkerLifeCycle - attachIOStreams() threadName=W-9000-model\n",
      "\u001b[36malgo-1-zn5e8_1  |\u001b[0m 2020-08-31 13:45:04,298 [INFO ] W-9000-model-stdout com.amazonaws.ml.mms.wlm.WorkerLifeCycle - model_service_worker started with args: --sock-type unix --sock-name /home/model-server/tmp/.mms.sock.9000 --handler sagemaker_mxnet_serving_container.handler_service --model-path /.sagemaker/mms/models/model --model-name model --preload-model false --tmp-dir /home/model-server/tmp\n",
      "\u001b[36malgo-1-zn5e8_1  |\u001b[0m 2020-08-31 13:45:04,300 [INFO ] W-9000-model-stdout com.amazonaws.ml.mms.wlm.WorkerLifeCycle - Listening on port: /home/model-server/tmp/.mms.sock.9000\n",
      "\u001b[36malgo-1-zn5e8_1  |\u001b[0m 2020-08-31 13:45:04,300 [INFO ] W-9000-model-stdout com.amazonaws.ml.mms.wlm.WorkerLifeCycle - [PID] 93\n",
      "\u001b[36malgo-1-zn5e8_1  |\u001b[0m 2020-08-31 13:45:04,300 [INFO ] W-9000-model-stdout com.amazonaws.ml.mms.wlm.WorkerLifeCycle - MMS worker started.\n",
      "\u001b[36malgo-1-zn5e8_1  |\u001b[0m 2020-08-31 13:45:04,301 [INFO ] W-9000-model-stdout com.amazonaws.ml.mms.wlm.WorkerLifeCycle - Python runtime: 3.6.10\n",
      "\u001b[36malgo-1-zn5e8_1  |\u001b[0m 2020-08-31 13:45:04,301 [INFO ] main com.amazonaws.ml.mms.wlm.ModelManager - Model model loaded.\n",
      "\u001b[36malgo-1-zn5e8_1  |\u001b[0m 2020-08-31 13:45:04,308 [INFO ] main com.amazonaws.ml.mms.ModelServer - Initialize Inference server with: EpollServerSocketChannel.\n",
      "\u001b[36malgo-1-zn5e8_1  |\u001b[0m 2020-08-31 13:45:04,318 [INFO ] W-9000-model com.amazonaws.ml.mms.wlm.WorkerThread - Connecting to: /home/model-server/tmp/.mms.sock.9000\n",
      "\u001b[36malgo-1-zn5e8_1  |\u001b[0m 2020-08-31 13:45:04,319 [INFO ] W-9000-model com.amazonaws.ml.mms.wlm.WorkerThread - Connecting to: /home/model-server/tmp/.mms.sock.9000\n",
      "\u001b[36malgo-1-zn5e8_1  |\u001b[0m 2020-08-31 13:45:04,319 [INFO ] W-9000-model com.amazonaws.ml.mms.wlm.WorkerThread - Connecting to: /home/model-server/tmp/.mms.sock.9000\n",
      "\u001b[36malgo-1-zn5e8_1  |\u001b[0m 2020-08-31 13:45:04,319 [INFO ] W-9000-model com.amazonaws.ml.mms.wlm.WorkerThread - Connecting to: /home/model-server/tmp/.mms.sock.9000\n",
      "\u001b[36malgo-1-zn5e8_1  |\u001b[0m 2020-08-31 13:45:04,395 [INFO ] main com.amazonaws.ml.mms.ModelServer - Inference API bind to: http://0.0.0.0:8080\n",
      "\u001b[36malgo-1-zn5e8_1  |\u001b[0m Model server started.\n",
      "\u001b[36malgo-1-zn5e8_1  |\u001b[0m 2020-08-31 13:45:04,402 [INFO ] W-9000-model-stdout com.amazonaws.ml.mms.wlm.WorkerLifeCycle - Connection accepted: /home/model-server/tmp/.mms.sock.9000.\n",
      "\u001b[36malgo-1-zn5e8_1  |\u001b[0m 2020-08-31 13:45:04,402 [INFO ] W-9000-model-stdout com.amazonaws.ml.mms.wlm.WorkerLifeCycle - Connection accepted: /home/model-server/tmp/.mms.sock.9000.\n",
      "\u001b[36malgo-1-zn5e8_1  |\u001b[0m 2020-08-31 13:45:04,403 [INFO ] W-9000-model-stdout com.amazonaws.ml.mms.wlm.WorkerLifeCycle - Connection accepted: /home/model-server/tmp/.mms.sock.9000.\n",
      "\u001b[36malgo-1-zn5e8_1  |\u001b[0m 2020-08-31 13:45:04,405 [INFO ] W-9000-model-stdout com.amazonaws.ml.mms.wlm.WorkerLifeCycle - Connection accepted: /home/model-server/tmp/.mms.sock.9000.\n",
      "\u001b[36malgo-1-zn5e8_1  |\u001b[0m 2020-08-31 13:45:04,414 [WARN ] pool-2-thread-1 com.amazonaws.ml.mms.metrics.MetricCollector - worker pid is not available yet.\n"
     ]
    },
    {
     "name": "stdout",
     "output_type": "stream",
     "text": [
      "\u001b[36malgo-1-zn5e8_1  |\u001b[0m 2020-08-31 13:45:06,460 [INFO ] pool-1-thread-6 ACCESS_LOG - /172.18.0.1:40150 \"GET /ping HTTP/1.1\" 200 64\r\n",
      "!"
     ]
    }
   ],
   "source": [
    "local_model = MXNetModel(model_data=local_model_path,\n",
    "                         role=role,\n",
    "                         source_dir='src',\n",
    "                         entry_point='inference.py',\n",
    "                         framework_version='1.6.0',\n",
    "                         py_version='py3')\n",
    "\n",
    "predictor = local_model.deploy(instance_type='local', \n",
    "                           initial_instance_count=1, \n",
    "                           endpoint_name=endpoint_name,\n",
    "                           wait=True)"
   ]
  },
  {
   "cell_type": "markdown",
   "metadata": {},
   "source": [
    "로컬에서 컨테이너를 배포했기 때문에 컨테이너가 현재 실행 중임을 확인할 수 있습니다."
   ]
  },
  {
   "cell_type": "code",
   "execution_count": 8,
   "metadata": {},
   "outputs": [
    {
     "name": "stdout",
     "output_type": "stream",
     "text": [
      "CONTAINER ID        IMAGE                                                                        COMMAND                  CREATED             STATUS              PORTS                              NAMES\r\n",
      "7c26a9dfcc02        763104351884.dkr.ecr.us-east-1.amazonaws.com/mxnet-inference:1.6.0-cpu-py3   \"python /usr/local/b…\"   3 minutes ago       Up 3 minutes        0.0.0.0:8080->8080/tcp, 8081/tcp   tmpx39klqnd_algo-1-zn5e8_1\r\n"
     ]
    }
   ],
   "source": [
    "!docker ps"
   ]
  },
  {
   "cell_type": "markdown",
   "metadata": {},
   "source": [
    "### Inference using SageMaker SDK\n",
    "\n",
    "SageMaker SDK의 `predict()` 메서드로 쉽게 추론을 수행할 수 있습니다. "
   ]
  },
  {
   "cell_type": "code",
   "execution_count": 9,
   "metadata": {},
   "outputs": [
    {
     "name": "stdout",
     "output_type": "stream",
     "text": [
      "\u001b[36malgo-1-zn5e8_1  |\u001b[0m 2020-08-31 13:48:18,673 [INFO ] W-9000-model com.amazonaws.ml.mms.wlm.WorkerThread - Backend response time: 1068\r\n",
      "\u001b[36malgo-1-zn5e8_1  |\u001b[0m 2020-08-31 13:48:18,674 [INFO ] W-9000-model ACCESS_LOG - /172.18.0.1:40454 \"POST /invocations HTTP/1.1\" 200 1075\r\n",
      "[15.935184478759766, 15.732880592346191, 16.043224334716797, 16.235946655273438, 15.844615936279297, 15.772137641906738, 15.925655364990234, 17.14641571044922, 16.655651092529297, 16.78845977783203, 16.297924041748047, 17.3497257232666] [6.816939830780029, 7.008257865905762, 7.347595691680908, 7.0981526374816895, 6.89121150970459, 7.107028007507324, 7.02495002746582, 7.325056552886963, 7.246580600738525, 7.074840545654297, 7.360692977905273, 7.569527626037598]\n"
     ]
    }
   ],
   "source": [
    "outputs = predictor.predict(input_data)\n",
    "print(outputs['store_0'], outputs['store_20'])"
   ]
  },
  {
   "cell_type": "markdown",
   "metadata": {},
   "source": [
    "### Inference using Boto3 SDK\n",
    "\n",
    "SageMaker SDK의 `predict()` 메서드로 추론을 수행할 수도 있지만, 이번에는 boto3의 `invoke_endpoint()` 메서드로 추론을 수행해 보겠습니다.<br>\n",
    "Boto3는 서비스 레벨의 low-level SDK로, ML 실험에 초점을 맞춰 일부 기능들이 추상화된 high-level SDK인 SageMaker SDK와 달리\n",
    "SageMaker API를 완벽하게 제어할 수 있습으며, 프로덕션 및 자동화 작업에 적합합니다.\n",
    "\n",
    "참고로 `invoke_endpoint()` 호출을 위한 런타임 클라이언트 인스턴스 생성 시, 로컬 배포 모드에서는 `sagemaker.local.LocalSagemakerRuntimeClient()`를 호출해야 합니다."
   ]
  },
  {
   "cell_type": "code",
   "execution_count": 10,
   "metadata": {},
   "outputs": [
    {
     "name": "stdout",
     "output_type": "stream",
     "text": [
      "\u001b[36malgo-1-zn5e8_1  |\u001b[0m 2020-08-31 13:48:22,551 [INFO ] W-9000-model com.amazonaws.ml.mms.wlm.WorkerThread - Backend response time: 1079\r\n",
      "\u001b[36malgo-1-zn5e8_1  |\u001b[0m 2020-08-31 13:48:22,552 [INFO ] W-9000-model ACCESS_LOG - /172.18.0.1:40458 \"POST /invocations HTTP/1.1\" 200 1083\r\n"
     ]
    }
   ],
   "source": [
    "client = sagemaker.local.LocalSagemakerClient()\n",
    "runtime_client = sagemaker.local.LocalSagemakerRuntimeClient()\n",
    "endpoint_name = local_model.endpoint_name\n",
    "\n",
    "response = runtime_client.invoke_endpoint(\n",
    "    EndpointName=endpoint_name, \n",
    "    ContentType='application/json',\n",
    "    Accept='application/json',\n",
    "    Body=json.dumps(input_data)\n",
    "    )\n",
    "outputs = json.loads(response['Body'].read().decode())"
   ]
  },
  {
   "cell_type": "code",
   "execution_count": 11,
   "metadata": {},
   "outputs": [
    {
     "name": "stdout",
     "output_type": "stream",
     "text": [
      "[15.935184478759766, 15.732880592346191, 16.043224334716797, 16.235946655273438, 15.844615936279297, 15.772137641906738, 15.925655364990234, 17.14641571044922, 16.655651092529297, 16.78845977783203, 16.297924041748047, 17.3497257232666] [6.816939830780029, 7.008257865905762, 7.347595691680908, 7.0981526374816895, 6.89121150970459, 7.107028007507324, 7.02495002746582, 7.325056552886963, 7.246580600738525, 7.074840545654297, 7.360692977905273, 7.569527626037598]\n"
     ]
    }
   ],
   "source": [
    "print(outputs['store_0'], outputs['store_20'])"
   ]
  },
  {
   "cell_type": "markdown",
   "metadata": {},
   "source": [
    "### Local Mode Endpoint Clean-up\n",
    "\n",
    "엔드포인트를 계속 사용하지 않는다면, 엔드포인트를 삭제해야 합니다. \n",
    "SageMaker SDK에서는 `delete_endpoint()` 메소드로 간단히 삭제할 수 있습니다."
   ]
  },
  {
   "cell_type": "code",
   "execution_count": 12,
   "metadata": {},
   "outputs": [
    {
     "name": "stdout",
     "output_type": "stream",
     "text": [
      "Gracefully stopping... (press Ctrl+C again to force)\n",
      "--- Deleted model: mxnet-inference-2020-08-31-13-43-59-138\n",
      "--- Deleted endpoint: local-endpoint-walmart-sale-forecast-1598881435\n",
      "--- Deleted endpoint_config: local-endpoint-walmart-sale-forecast-1598881435\n"
     ]
    }
   ],
   "source": [
    "def delete_endpoint(client, endpoint_name):\n",
    "    response = client.describe_endpoint_config(EndpointConfigName=endpoint_name)\n",
    "    model_name = response['ProductionVariants'][0]['ModelName']\n",
    "\n",
    "    client.delete_model(ModelName=model_name)    \n",
    "    client.delete_endpoint(EndpointName=endpoint_name)\n",
    "    client.delete_endpoint_config(EndpointConfigName=endpoint_name)    \n",
    "    \n",
    "    print(f'--- Deleted model: {model_name}')\n",
    "    print(f'--- Deleted endpoint: {endpoint_name}')\n",
    "    print(f'--- Deleted endpoint_config: {endpoint_name}')    \n",
    "delete_endpoint(client, endpoint_name)"
   ]
  },
  {
   "cell_type": "markdown",
   "metadata": {},
   "source": [
    "<br>\n",
    "\n",
    "## 4. SageMaker Hosted Endpoint Inference\n",
    "---\n",
    "\n",
    "이제 실제 운영 환경에 엔드포인트 배포를 수행해 보겠습니다. 로컬 모드 엔드포인트와 대부분의 코드가 동일하며, 모델 아티팩트 경로(`model_data`)와 인스턴스 유형(`instance_type`)만 변경해 주시면 됩니다. SageMaker가 관리하는 배포 클러스터를 프로비저닝하는 시간이 소요되기 때문에 추론 서비스를 시작하는 데에는 약 5~10분 정도 소요됩니다."
   ]
  },
  {
   "cell_type": "code",
   "execution_count": 13,
   "metadata": {},
   "outputs": [],
   "source": [
    "import os\n",
    "import boto3\n",
    "import sagemaker\n",
    "from sagemaker.mxnet import MXNet\n",
    "\n",
    "boto_session = boto3.Session()\n",
    "sagemaker_session = sagemaker.Session(boto_session=boto_session)\n",
    "role = sagemaker.get_execution_role()\n",
    "bucket = sagemaker.Session().default_bucket()"
   ]
  },
  {
   "cell_type": "code",
   "execution_count": 14,
   "metadata": {},
   "outputs": [],
   "source": [
    "model_path = os.path.join(s3_model_dir, \"model.tar.gz\")\n",
    "endpoint_name = \"endpoint-walmart-sale-forecast-{}\".format(int(time.time()))"
   ]
  },
  {
   "cell_type": "code",
   "execution_count": 15,
   "metadata": {},
   "outputs": [
    {
     "name": "stderr",
     "output_type": "stream",
     "text": [
      "Parameter image will be renamed to image_uri in SageMaker Python SDK v2.\n",
      "'create_image_uri' will be deprecated in favor of 'ImageURIProvider' class in SageMaker Python SDK v2.\n"
     ]
    },
    {
     "name": "stdout",
     "output_type": "stream",
     "text": [
      "-------------!"
     ]
    }
   ],
   "source": [
    "model = MXNetModel(model_data=model_path,\n",
    "                         role=role,\n",
    "                         source_dir='src',\n",
    "                         entry_point='inference.py',\n",
    "                         framework_version='1.6.0',\n",
    "                         py_version='py3')\n",
    "\n",
    "predictor = model.deploy(instance_type=\"ml.c5.large\", \n",
    "                         initial_instance_count=1, \n",
    "                         endpoint_name=endpoint_name,\n",
    "                         wait=True)"
   ]
  },
  {
   "cell_type": "markdown",
   "metadata": {},
   "source": [
    "추론을 수행합니다. 로컬 모드의 코드와 동일합니다."
   ]
  },
  {
   "cell_type": "code",
   "execution_count": 16,
   "metadata": {},
   "outputs": [],
   "source": [
    "import boto3\n",
    "client = boto3.client('sagemaker')\n",
    "runtime_client = boto3.client('sagemaker-runtime')\n",
    "endpoint_name = model.endpoint_name"
   ]
  },
  {
   "cell_type": "code",
   "execution_count": 17,
   "metadata": {},
   "outputs": [],
   "source": [
    "response = runtime_client.invoke_endpoint(\n",
    "    EndpointName=endpoint_name, \n",
    "    ContentType='application/json',\n",
    "    Accept='application/json',\n",
    "    Body=json.dumps(input_data)\n",
    "    )\n",
    "outputs = json.loads(response['Body'].read().decode())"
   ]
  },
  {
   "cell_type": "code",
   "execution_count": 18,
   "metadata": {},
   "outputs": [
    {
     "name": "stdout",
     "output_type": "stream",
     "text": [
      "[15.93518352508545, 15.732880592346191, 16.043222427368164, 16.235946655273438, 15.844615936279297, 15.772136688232422, 15.92565631866455, 17.14641761779785, 16.655649185180664, 16.78845977783203, 16.297924041748047, 17.349727630615234] [6.8169403076171875, 7.008257865905762, 7.347595691680908, 7.0981526374816895, 6.89121150970459, 7.107028961181641, 7.02495002746582, 7.325056552886963, 7.246580600738525, 7.074840545654297, 7.360692977905273, 7.569528102874756]\n"
     ]
    }
   ],
   "source": [
    "print(outputs['store_0'], outputs['store_20'])"
   ]
  },
  {
   "cell_type": "markdown",
   "metadata": {},
   "source": [
    "### SageMaker Hosted Endpoint Clean-up\n",
    "\n",
    "엔드포인트를 계속 사용하지 않는다면, 불필요한 과금을 피하기 위해 엔드포인트를 삭제해야 합니다. \n",
    "SageMaker SDK에서는 `delete_endpoint()` 메소드로 간단히 삭제할 수 있으며, UI에서도 쉽게 삭제할 수 있습니다."
   ]
  },
  {
   "cell_type": "code",
   "execution_count": 19,
   "metadata": {},
   "outputs": [
    {
     "name": "stdout",
     "output_type": "stream",
     "text": [
      "--- Deleted model: mxnet-inference-2020-08-31-13-49-14-118\n",
      "--- Deleted endpoint: endpoint-walmaet-sake-forecast-1598881752\n",
      "--- Deleted endpoint_config: endpoint-walmaet-sake-forecast-1598881752\n"
     ]
    }
   ],
   "source": [
    "delete_endpoint(client, endpoint_name)"
   ]
  }
 ],
 "metadata": {
  "kernelspec": {
   "display_name": "conda_mxnet_p36",
   "language": "python",
   "name": "conda_mxnet_p36"
  },
  "language_info": {
   "codemirror_mode": {
    "name": "ipython",
    "version": 3
   },
   "file_extension": ".py",
   "mimetype": "text/x-python",
   "name": "python",
   "nbconvert_exporter": "python",
   "pygments_lexer": "ipython3",
   "version": "3.6.10"
  }
 },
 "nbformat": 4,
 "nbformat_minor": 4
}
