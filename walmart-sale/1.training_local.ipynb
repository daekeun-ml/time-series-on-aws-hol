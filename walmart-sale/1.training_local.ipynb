{
 "cells": [
  {
   "cell_type": "markdown",
   "metadata": {},
   "source": [
    "# Module 1. Training from Local Environment using GluonTS\n",
    "---\n",
    "\n",
    "본 모듈에서는 GluonTS를 사용하여 시계열 데이터에 대한 훈련 및 추론을 수행해 보겠습니다.\n",
    "노트북 실행에는 2~3분 소요되지만, 핸즈온 실습 시에는 25분을 권장드립니다. 특히 시계열 데이터, pandas, GluonTS를 다루는 데 익숙하지 않으면 각 코드 셀별로 실행시켜 보시는 것을 추천드립니다.\n",
    "\n",
    "이 데이터셋은 2010-02-05에서 2012-11-01까지의 시계열 데이터로 45개의 월마트 매장의 **주단위** 매출액을 예측하는 데이터셋입니다. 각 매장에서는 여러 부서가 있으며, 각 상점의 부서 전체 매출을 예측하는 문제입니다.\n",
    "대상 시계열, 연관 시계열 데이터, 아이템 메타데이터를 모두 사용하기 때문에  `target time series`, `related time series`, `item metadata` 를 모두 활용하여 훈련 및 예측을 수행하게 됩니다.\n",
    "\n",
    "\n",
    "### References\n",
    "- Dataset description: https://www.kaggle.com/c/walmart-recruiting-store-sales-forecasting\n",
    "- Amazon Forecast 핸즈온: https://github.com/chrisking/ForecastPOC\n",
    "- Amazon Forecast 핸즈온(한국어): https://github.com/gonsoomoon-ml/Forecast/tree/master/StoreItemDemand\n",
    "- GluonTS: https://gluon-ts.mxnet.io"
   ]
  },
  {
   "cell_type": "markdown",
   "metadata": {},
   "source": [
    "## 1. Setup\n",
    "---\n",
    "만약 GluonTS가 인스톨되어 있지 않다면, 아래 코드 셀의 주석을 해제하고 코드 셀을 실행시켜 주세요."
   ]
  },
  {
   "cell_type": "code",
   "execution_count": 1,
   "metadata": {},
   "outputs": [],
   "source": [
    "#!pip install gluonts==0.7.6"
   ]
  },
  {
   "cell_type": "markdown",
   "metadata": {},
   "source": [
    "### Import Libraries\n",
    "표준 Python 라이브러리를 가져옵니다."
   ]
  },
  {
   "cell_type": "code",
   "execution_count": 2,
   "metadata": {},
   "outputs": [],
   "source": [
    "import os\n",
    "import pandas as pd\n",
    "import gluonts \n",
    "import numpy as np\n",
    "import argparse\n",
    "import json\n",
    "import pathlib\n",
    "from mxnet import gpu, cpu\n",
    "from mxnet.context import num_gpus\n",
    "import matplotlib.pyplot as plt\n",
    "\n",
    "from gluonts.dataset.util import to_pandas\n",
    "from gluonts.mx.distribution import DistributionOutput, StudentTOutput, NegativeBinomialOutput, GaussianOutput\n",
    "from gluonts.model.deepar import DeepAREstimator\n",
    "from gluonts.mx.trainer import Trainer\n",
    "from gluonts.evaluation import Evaluator\n",
    "from gluonts.evaluation.backtest import make_evaluation_predictions, backtest_metrics\n",
    "from gluonts.model.predictor import Predictor\n",
    "from gluonts.dataset.field_names import FieldName\n",
    "from gluonts.dataset.common import ListDataset"
   ]
  },
  {
   "cell_type": "markdown",
   "metadata": {},
   "source": [
    "<br>\n",
    "\n",
    "## 2. Data Loading & Checking\n",
    "---\n",
    "\n",
    "판매 데이터를 판다스 데이터프레임으로 로딩합니다. 데이터프레임 로딩 후, 날짜 컬럼을 `datetime` 포맷의 컬럼으로 변경합니다. 본 예제는 데이터 사이즈가 크지 않기에 차이를 느끼기 어렵겠지만, 수천 만개의 행을 그대로 `datetime` 으로 변환하면 모든 행을 순회해야 하기에 시간이 오래 소요됩니다. 따라서, 고유한 날짜만 `datetime`으로 변환하여 `map()`으로 그룹 매핑하면 빠르게 변환할 수 있습니다."
   ]
  },
  {
   "cell_type": "code",
   "execution_count": 3,
   "metadata": {},
   "outputs": [],
   "source": [
    "data_dir = 'data'\n",
    "train_file_name = 'train.csv'\n",
    "features_file_name = 'features.csv'\n",
    "store_file_name = 'stores.csv'"
   ]
  },
  {
   "cell_type": "code",
   "execution_count": 4,
   "metadata": {},
   "outputs": [
    {
     "name": "stderr",
     "output_type": "stream",
     "text": [
      "/home/ec2-user/anaconda3/envs/mxnet_p36/lib/python3.6/site-packages/ipykernel/__main__.py:4: SettingWithCopyWarning: \n",
      "A value is trying to be set on a copy of a slice from a DataFrame\n",
      "\n",
      "See the caveats in the documentation: https://pandas.pydata.org/pandas-docs/stable/user_guide/indexing.html#returning-a-view-versus-a-copy\n"
     ]
    },
    {
     "data": {
      "text/html": [
       "<div>\n",
       "<style scoped>\n",
       "    .dataframe tbody tr th:only-of-type {\n",
       "        vertical-align: middle;\n",
       "    }\n",
       "\n",
       "    .dataframe tbody tr th {\n",
       "        vertical-align: top;\n",
       "    }\n",
       "\n",
       "    .dataframe thead th {\n",
       "        text-align: right;\n",
       "    }\n",
       "</style>\n",
       "<table border=\"1\" class=\"dataframe\">\n",
       "  <thead>\n",
       "    <tr style=\"text-align: right;\">\n",
       "      <th></th>\n",
       "      <th>Store</th>\n",
       "      <th>Dept</th>\n",
       "      <th>Date</th>\n",
       "      <th>Weekly_Sales</th>\n",
       "      <th>IsHoliday</th>\n",
       "    </tr>\n",
       "  </thead>\n",
       "  <tbody>\n",
       "    <tr>\n",
       "      <th>0</th>\n",
       "      <td>1</td>\n",
       "      <td>1</td>\n",
       "      <td>2010-02-08</td>\n",
       "      <td>24924.50</td>\n",
       "      <td>False</td>\n",
       "    </tr>\n",
       "    <tr>\n",
       "      <th>1</th>\n",
       "      <td>1</td>\n",
       "      <td>1</td>\n",
       "      <td>2010-02-15</td>\n",
       "      <td>46039.49</td>\n",
       "      <td>True</td>\n",
       "    </tr>\n",
       "    <tr>\n",
       "      <th>2</th>\n",
       "      <td>1</td>\n",
       "      <td>1</td>\n",
       "      <td>2010-02-22</td>\n",
       "      <td>41595.55</td>\n",
       "      <td>False</td>\n",
       "    </tr>\n",
       "    <tr>\n",
       "      <th>3</th>\n",
       "      <td>1</td>\n",
       "      <td>1</td>\n",
       "      <td>2010-03-01</td>\n",
       "      <td>19403.54</td>\n",
       "      <td>False</td>\n",
       "    </tr>\n",
       "    <tr>\n",
       "      <th>4</th>\n",
       "      <td>1</td>\n",
       "      <td>1</td>\n",
       "      <td>2010-03-08</td>\n",
       "      <td>21827.90</td>\n",
       "      <td>False</td>\n",
       "    </tr>\n",
       "  </tbody>\n",
       "</table>\n",
       "</div>"
      ],
      "text/plain": [
       "   Store  Dept       Date  Weekly_Sales  IsHoliday\n",
       "0      1     1 2010-02-08      24924.50      False\n",
       "1      1     1 2010-02-15      46039.49       True\n",
       "2      1     1 2010-02-22      41595.55      False\n",
       "3      1     1 2010-03-01      19403.54      False\n",
       "4      1     1 2010-03-08      21827.90      False"
      ]
     },
     "metadata": {},
     "output_type": "display_data"
    },
    {
     "name": "stdout",
     "output_type": "stream",
     "text": [
      "(421570, 5)\n"
     ]
    }
   ],
   "source": [
    "train_df = pd.read_csv(os.path.join(data_dir, train_file_name))\n",
    "date_cache = {k: pd.to_datetime(k) for k in train_df['Date'].unique()}\n",
    "train_df['Date'] = train_df['Date'].map(date_cache) + pd.DateOffset(days=3)\n",
    "train_df['Weekly_Sales'][train_df['Weekly_Sales'] < 0] = 0\n",
    "display(train_df.head())\n",
    "print(train_df.shape)"
   ]
  },
  {
   "cell_type": "code",
   "execution_count": 5,
   "metadata": {},
   "outputs": [
    {
     "data": {
      "text/html": [
       "<div>\n",
       "<style scoped>\n",
       "    .dataframe tbody tr th:only-of-type {\n",
       "        vertical-align: middle;\n",
       "    }\n",
       "\n",
       "    .dataframe tbody tr th {\n",
       "        vertical-align: top;\n",
       "    }\n",
       "\n",
       "    .dataframe thead th {\n",
       "        text-align: right;\n",
       "    }\n",
       "</style>\n",
       "<table border=\"1\" class=\"dataframe\">\n",
       "  <thead>\n",
       "    <tr style=\"text-align: right;\">\n",
       "      <th></th>\n",
       "      <th>Store</th>\n",
       "      <th>Date</th>\n",
       "      <th>Temperature</th>\n",
       "      <th>Fuel_Price</th>\n",
       "      <th>MarkDown1</th>\n",
       "      <th>MarkDown2</th>\n",
       "      <th>MarkDown3</th>\n",
       "      <th>MarkDown4</th>\n",
       "      <th>MarkDown5</th>\n",
       "      <th>CPI</th>\n",
       "      <th>Unemployment</th>\n",
       "      <th>IsHoliday</th>\n",
       "    </tr>\n",
       "  </thead>\n",
       "  <tbody>\n",
       "    <tr>\n",
       "      <th>0</th>\n",
       "      <td>1</td>\n",
       "      <td>2010-02-08</td>\n",
       "      <td>42.31</td>\n",
       "      <td>2.572</td>\n",
       "      <td>NaN</td>\n",
       "      <td>NaN</td>\n",
       "      <td>NaN</td>\n",
       "      <td>NaN</td>\n",
       "      <td>NaN</td>\n",
       "      <td>211.096358</td>\n",
       "      <td>8.106</td>\n",
       "      <td>False</td>\n",
       "    </tr>\n",
       "    <tr>\n",
       "      <th>1</th>\n",
       "      <td>1</td>\n",
       "      <td>2010-02-15</td>\n",
       "      <td>38.51</td>\n",
       "      <td>2.548</td>\n",
       "      <td>NaN</td>\n",
       "      <td>NaN</td>\n",
       "      <td>NaN</td>\n",
       "      <td>NaN</td>\n",
       "      <td>NaN</td>\n",
       "      <td>211.242170</td>\n",
       "      <td>8.106</td>\n",
       "      <td>True</td>\n",
       "    </tr>\n",
       "    <tr>\n",
       "      <th>2</th>\n",
       "      <td>1</td>\n",
       "      <td>2010-02-22</td>\n",
       "      <td>39.93</td>\n",
       "      <td>2.514</td>\n",
       "      <td>NaN</td>\n",
       "      <td>NaN</td>\n",
       "      <td>NaN</td>\n",
       "      <td>NaN</td>\n",
       "      <td>NaN</td>\n",
       "      <td>211.289143</td>\n",
       "      <td>8.106</td>\n",
       "      <td>False</td>\n",
       "    </tr>\n",
       "    <tr>\n",
       "      <th>3</th>\n",
       "      <td>1</td>\n",
       "      <td>2010-03-01</td>\n",
       "      <td>46.63</td>\n",
       "      <td>2.561</td>\n",
       "      <td>NaN</td>\n",
       "      <td>NaN</td>\n",
       "      <td>NaN</td>\n",
       "      <td>NaN</td>\n",
       "      <td>NaN</td>\n",
       "      <td>211.319643</td>\n",
       "      <td>8.106</td>\n",
       "      <td>False</td>\n",
       "    </tr>\n",
       "    <tr>\n",
       "      <th>4</th>\n",
       "      <td>1</td>\n",
       "      <td>2010-03-08</td>\n",
       "      <td>46.50</td>\n",
       "      <td>2.625</td>\n",
       "      <td>NaN</td>\n",
       "      <td>NaN</td>\n",
       "      <td>NaN</td>\n",
       "      <td>NaN</td>\n",
       "      <td>NaN</td>\n",
       "      <td>211.350143</td>\n",
       "      <td>8.106</td>\n",
       "      <td>False</td>\n",
       "    </tr>\n",
       "  </tbody>\n",
       "</table>\n",
       "</div>"
      ],
      "text/plain": [
       "   Store       Date  Temperature  Fuel_Price  MarkDown1  MarkDown2  MarkDown3  \\\n",
       "0      1 2010-02-08        42.31       2.572        NaN        NaN        NaN   \n",
       "1      1 2010-02-15        38.51       2.548        NaN        NaN        NaN   \n",
       "2      1 2010-02-22        39.93       2.514        NaN        NaN        NaN   \n",
       "3      1 2010-03-01        46.63       2.561        NaN        NaN        NaN   \n",
       "4      1 2010-03-08        46.50       2.625        NaN        NaN        NaN   \n",
       "\n",
       "   MarkDown4  MarkDown5         CPI  Unemployment  IsHoliday  \n",
       "0        NaN        NaN  211.096358         8.106      False  \n",
       "1        NaN        NaN  211.242170         8.106       True  \n",
       "2        NaN        NaN  211.289143         8.106      False  \n",
       "3        NaN        NaN  211.319643         8.106      False  \n",
       "4        NaN        NaN  211.350143         8.106      False  "
      ]
     },
     "metadata": {},
     "output_type": "display_data"
    },
    {
     "name": "stdout",
     "output_type": "stream",
     "text": [
      "(8190, 12)\n"
     ]
    }
   ],
   "source": [
    "feature_df = pd.read_csv(os.path.join(data_dir, features_file_name))\n",
    "feature_df['Date'] = pd.to_datetime(feature_df['Date']) + pd.DateOffset(days=3)\n",
    "display(feature_df.head())\n",
    "print(feature_df.shape)"
   ]
  },
  {
   "cell_type": "code",
   "execution_count": 6,
   "metadata": {},
   "outputs": [
    {
     "data": {
      "text/html": [
       "<div>\n",
       "<style scoped>\n",
       "    .dataframe tbody tr th:only-of-type {\n",
       "        vertical-align: middle;\n",
       "    }\n",
       "\n",
       "    .dataframe tbody tr th {\n",
       "        vertical-align: top;\n",
       "    }\n",
       "\n",
       "    .dataframe thead th {\n",
       "        text-align: right;\n",
       "    }\n",
       "</style>\n",
       "<table border=\"1\" class=\"dataframe\">\n",
       "  <thead>\n",
       "    <tr style=\"text-align: right;\">\n",
       "      <th></th>\n",
       "      <th>Store</th>\n",
       "      <th>Type</th>\n",
       "      <th>Size</th>\n",
       "    </tr>\n",
       "  </thead>\n",
       "  <tbody>\n",
       "    <tr>\n",
       "      <th>0</th>\n",
       "      <td>1</td>\n",
       "      <td>A</td>\n",
       "      <td>151315</td>\n",
       "    </tr>\n",
       "    <tr>\n",
       "      <th>1</th>\n",
       "      <td>2</td>\n",
       "      <td>A</td>\n",
       "      <td>202307</td>\n",
       "    </tr>\n",
       "    <tr>\n",
       "      <th>2</th>\n",
       "      <td>3</td>\n",
       "      <td>B</td>\n",
       "      <td>37392</td>\n",
       "    </tr>\n",
       "    <tr>\n",
       "      <th>3</th>\n",
       "      <td>4</td>\n",
       "      <td>A</td>\n",
       "      <td>205863</td>\n",
       "    </tr>\n",
       "    <tr>\n",
       "      <th>4</th>\n",
       "      <td>5</td>\n",
       "      <td>B</td>\n",
       "      <td>34875</td>\n",
       "    </tr>\n",
       "  </tbody>\n",
       "</table>\n",
       "</div>"
      ],
      "text/plain": [
       "   Store Type    Size\n",
       "0      1    A  151315\n",
       "1      2    A  202307\n",
       "2      3    B   37392\n",
       "3      4    A  205863\n",
       "4      5    B   34875"
      ]
     },
     "metadata": {},
     "output_type": "display_data"
    },
    {
     "name": "stdout",
     "output_type": "stream",
     "text": [
      "(45, 3)\n"
     ]
    }
   ],
   "source": [
    "store_df = pd.read_csv(os.path.join(data_dir, store_file_name))\n",
    "display(store_df.head())\n",
    "print(store_df.shape)"
   ]
  },
  {
   "cell_type": "markdown",
   "metadata": {},
   "source": [
    "<br>\n",
    "\n",
    "## 3. Data Wrangling\n",
    "---\n",
    "\n",
    "Amazon Forecast는 csv 파일을 입력데이터로 지원하지만, 대부분의 경우 raw 데이터를 그대로 사용할 수 없습니다. Forecast 뿐만 아니라, SageMaker built-in DeepAR이나 GluonTS도 마찬가지이므로 전처리 작업은 필수입니다. 대표적인 데이터 전처리 예시들은 아래와 같습니다.\n",
    "\n",
    "- 중복 제거\n",
    "- 이상치 제거 or padding (예: 수량 예측 시 0보다 작은 값이 포함된 경우 0으로 padding)\n",
    "- Daily/Weekly Aggregation (Mean, Sum, Min, Max 등)\n",
    "- Missing date padding \n",
    "- Missing data imputation\n",
    "- 범주형 데이터의 label ncoding, one-hot encoding\n",
    "\n",
    "본 데이터셋은 Aggregation, Missing date padding, label encoding으로 간단한 전처리를 수행합니다."
   ]
  },
  {
   "cell_type": "markdown",
   "metadata": {},
   "source": [
    "### Aggregation\n",
    "\n",
    "부서별 매출이 아닌 부서 합산 매출액을 예측하기 때문에 부서별 매출액을 집계합니다."
   ]
  },
  {
   "cell_type": "code",
   "execution_count": 7,
   "metadata": {},
   "outputs": [],
   "source": [
    "FREQ = 'W'\n",
    "train_agg_df = train_df.groupby(['Store', 'Date'])[['Weekly_Sales']].agg(['sum'])\n",
    "train_agg_df.columns = ['_'.join(map(str,c)) for c in train_agg_df.columns.tolist()]\n",
    "train_agg_df.reset_index(inplace=True)"
   ]
  },
  {
   "cell_type": "markdown",
   "metadata": {},
   "source": [
    "MarkDown 관련 컬럼과 공휴일 컬럼들을 제거하고, 결측값이 존재하는 컬럼들을 forward filling과 backward filling으로 채웁니다."
   ]
  },
  {
   "cell_type": "code",
   "execution_count": 8,
   "metadata": {},
   "outputs": [],
   "source": [
    "feature_drop_cols = ['MarkDown1', 'MarkDown2', 'MarkDown3', 'MarkDown4', 'MarkDown5', 'IsHoliday']\n",
    "feature_df.drop(feature_drop_cols, axis=1, inplace=True)\n",
    "feature_df['CPI'].bfill(inplace=True)\n",
    "feature_df['CPI'].ffill(inplace=True)\n",
    "feature_df['Unemployment'].bfill(inplace=True)\n",
    "feature_df['Unemployment'].ffill(inplace=True)"
   ]
  },
  {
   "cell_type": "code",
   "execution_count": 9,
   "metadata": {
    "scrolled": true
   },
   "outputs": [
    {
     "data": {
      "text/html": [
       "<div>\n",
       "<style scoped>\n",
       "    .dataframe tbody tr th:only-of-type {\n",
       "        vertical-align: middle;\n",
       "    }\n",
       "\n",
       "    .dataframe tbody tr th {\n",
       "        vertical-align: top;\n",
       "    }\n",
       "\n",
       "    .dataframe thead th {\n",
       "        text-align: right;\n",
       "    }\n",
       "</style>\n",
       "<table border=\"1\" class=\"dataframe\">\n",
       "  <thead>\n",
       "    <tr style=\"text-align: right;\">\n",
       "      <th></th>\n",
       "      <th>Store</th>\n",
       "      <th>Date</th>\n",
       "      <th>Weekly_Sales_sum</th>\n",
       "    </tr>\n",
       "  </thead>\n",
       "  <tbody>\n",
       "    <tr>\n",
       "      <th>0</th>\n",
       "      <td>1</td>\n",
       "      <td>2010-02-08</td>\n",
       "      <td>1643690.90</td>\n",
       "    </tr>\n",
       "    <tr>\n",
       "      <th>1</th>\n",
       "      <td>1</td>\n",
       "      <td>2010-02-15</td>\n",
       "      <td>1641957.44</td>\n",
       "    </tr>\n",
       "    <tr>\n",
       "      <th>2</th>\n",
       "      <td>1</td>\n",
       "      <td>2010-02-22</td>\n",
       "      <td>1612831.17</td>\n",
       "    </tr>\n",
       "    <tr>\n",
       "      <th>3</th>\n",
       "      <td>1</td>\n",
       "      <td>2010-03-01</td>\n",
       "      <td>1409727.59</td>\n",
       "    </tr>\n",
       "    <tr>\n",
       "      <th>4</th>\n",
       "      <td>1</td>\n",
       "      <td>2010-03-08</td>\n",
       "      <td>1554806.68</td>\n",
       "    </tr>\n",
       "  </tbody>\n",
       "</table>\n",
       "</div>"
      ],
      "text/plain": [
       "   Store       Date  Weekly_Sales_sum\n",
       "0      1 2010-02-08        1643690.90\n",
       "1      1 2010-02-15        1641957.44\n",
       "2      1 2010-02-22        1612831.17\n",
       "3      1 2010-03-01        1409727.59\n",
       "4      1 2010-03-08        1554806.68"
      ]
     },
     "execution_count": 9,
     "metadata": {},
     "output_type": "execute_result"
    }
   ],
   "source": [
    "train_agg_df.head()"
   ]
  },
  {
   "cell_type": "markdown",
   "metadata": {},
   "source": [
    "### Scaling & Join\n",
    "\n",
    "금액 단위가 매우 클 때에는 log 변환이나 일정 스케일(예: 10000, 100000)을 나눠 주는 것이 좋습니다.\n",
    "또한, 나중에 Gluon Dataset 변환을 용이하게 하기 위해 대상 시계열과 관련 시계열을 join합니다."
   ]
  },
  {
   "cell_type": "code",
   "execution_count": 10,
   "metadata": {},
   "outputs": [],
   "source": [
    "train_agg_df['Weekly_Sales_sum'] = train_agg_df['Weekly_Sales_sum']/100000\n",
    "# train_agg_df['Weekly_Sales_sum'] = np.log1p(train_agg_df['Weekly_Sales_sum'])\n",
    "\n",
    "df = pd.merge(left=feature_df, right=train_agg_df, how='left', \\\n",
    "                  on=['Store','Date'], sort=False)"
   ]
  },
  {
   "cell_type": "code",
   "execution_count": 11,
   "metadata": {},
   "outputs": [
    {
     "data": {
      "text/html": [
       "<div>\n",
       "<style scoped>\n",
       "    .dataframe tbody tr th:only-of-type {\n",
       "        vertical-align: middle;\n",
       "    }\n",
       "\n",
       "    .dataframe tbody tr th {\n",
       "        vertical-align: top;\n",
       "    }\n",
       "\n",
       "    .dataframe thead th {\n",
       "        text-align: right;\n",
       "    }\n",
       "</style>\n",
       "<table border=\"1\" class=\"dataframe\">\n",
       "  <thead>\n",
       "    <tr style=\"text-align: right;\">\n",
       "      <th></th>\n",
       "      <th>Store</th>\n",
       "      <th>Date</th>\n",
       "      <th>Temperature</th>\n",
       "      <th>Fuel_Price</th>\n",
       "      <th>CPI</th>\n",
       "      <th>Unemployment</th>\n",
       "      <th>Weekly_Sales_sum</th>\n",
       "    </tr>\n",
       "  </thead>\n",
       "  <tbody>\n",
       "    <tr>\n",
       "      <th>0</th>\n",
       "      <td>1</td>\n",
       "      <td>2010-02-08</td>\n",
       "      <td>42.31</td>\n",
       "      <td>2.572</td>\n",
       "      <td>211.096358</td>\n",
       "      <td>8.106</td>\n",
       "      <td>16.436909</td>\n",
       "    </tr>\n",
       "    <tr>\n",
       "      <th>1</th>\n",
       "      <td>1</td>\n",
       "      <td>2010-02-15</td>\n",
       "      <td>38.51</td>\n",
       "      <td>2.548</td>\n",
       "      <td>211.242170</td>\n",
       "      <td>8.106</td>\n",
       "      <td>16.419574</td>\n",
       "    </tr>\n",
       "    <tr>\n",
       "      <th>2</th>\n",
       "      <td>1</td>\n",
       "      <td>2010-02-22</td>\n",
       "      <td>39.93</td>\n",
       "      <td>2.514</td>\n",
       "      <td>211.289143</td>\n",
       "      <td>8.106</td>\n",
       "      <td>16.128312</td>\n",
       "    </tr>\n",
       "    <tr>\n",
       "      <th>3</th>\n",
       "      <td>1</td>\n",
       "      <td>2010-03-01</td>\n",
       "      <td>46.63</td>\n",
       "      <td>2.561</td>\n",
       "      <td>211.319643</td>\n",
       "      <td>8.106</td>\n",
       "      <td>14.097276</td>\n",
       "    </tr>\n",
       "    <tr>\n",
       "      <th>4</th>\n",
       "      <td>1</td>\n",
       "      <td>2010-03-08</td>\n",
       "      <td>46.50</td>\n",
       "      <td>2.625</td>\n",
       "      <td>211.350143</td>\n",
       "      <td>8.106</td>\n",
       "      <td>15.548067</td>\n",
       "    </tr>\n",
       "  </tbody>\n",
       "</table>\n",
       "</div>"
      ],
      "text/plain": [
       "   Store       Date  Temperature  Fuel_Price         CPI  Unemployment  \\\n",
       "0      1 2010-02-08        42.31       2.572  211.096358         8.106   \n",
       "1      1 2010-02-15        38.51       2.548  211.242170         8.106   \n",
       "2      1 2010-02-22        39.93       2.514  211.289143         8.106   \n",
       "3      1 2010-03-01        46.63       2.561  211.319643         8.106   \n",
       "4      1 2010-03-08        46.50       2.625  211.350143         8.106   \n",
       "\n",
       "   Weekly_Sales_sum  \n",
       "0         16.436909  \n",
       "1         16.419574  \n",
       "2         16.128312  \n",
       "3         14.097276  \n",
       "4         15.548067  "
      ]
     },
     "execution_count": 11,
     "metadata": {},
     "output_type": "execute_result"
    }
   ],
   "source": [
    "df.head()"
   ]
  },
  {
   "cell_type": "markdown",
   "metadata": {},
   "source": [
    "마지막 구간의 대상 시계열은 테스트셋에 해당되므로, `Weekly_Sales_sum`이 `NaN`으로 출력되는 것이 정상입니다."
   ]
  },
  {
   "cell_type": "code",
   "execution_count": 12,
   "metadata": {},
   "outputs": [
    {
     "data": {
      "text/html": [
       "<div>\n",
       "<style scoped>\n",
       "    .dataframe tbody tr th:only-of-type {\n",
       "        vertical-align: middle;\n",
       "    }\n",
       "\n",
       "    .dataframe tbody tr th {\n",
       "        vertical-align: top;\n",
       "    }\n",
       "\n",
       "    .dataframe thead th {\n",
       "        text-align: right;\n",
       "    }\n",
       "</style>\n",
       "<table border=\"1\" class=\"dataframe\">\n",
       "  <thead>\n",
       "    <tr style=\"text-align: right;\">\n",
       "      <th></th>\n",
       "      <th>Store</th>\n",
       "      <th>Date</th>\n",
       "      <th>Temperature</th>\n",
       "      <th>Fuel_Price</th>\n",
       "      <th>CPI</th>\n",
       "      <th>Unemployment</th>\n",
       "      <th>Weekly_Sales_sum</th>\n",
       "    </tr>\n",
       "  </thead>\n",
       "  <tbody>\n",
       "    <tr>\n",
       "      <th>8185</th>\n",
       "      <td>45</td>\n",
       "      <td>2013-07-01</td>\n",
       "      <td>76.05</td>\n",
       "      <td>3.639</td>\n",
       "      <td>193.589304</td>\n",
       "      <td>8.335</td>\n",
       "      <td>NaN</td>\n",
       "    </tr>\n",
       "    <tr>\n",
       "      <th>8186</th>\n",
       "      <td>45</td>\n",
       "      <td>2013-07-08</td>\n",
       "      <td>77.50</td>\n",
       "      <td>3.614</td>\n",
       "      <td>193.589304</td>\n",
       "      <td>8.335</td>\n",
       "      <td>NaN</td>\n",
       "    </tr>\n",
       "    <tr>\n",
       "      <th>8187</th>\n",
       "      <td>45</td>\n",
       "      <td>2013-07-15</td>\n",
       "      <td>79.37</td>\n",
       "      <td>3.614</td>\n",
       "      <td>193.589304</td>\n",
       "      <td>8.335</td>\n",
       "      <td>NaN</td>\n",
       "    </tr>\n",
       "    <tr>\n",
       "      <th>8188</th>\n",
       "      <td>45</td>\n",
       "      <td>2013-07-22</td>\n",
       "      <td>82.84</td>\n",
       "      <td>3.737</td>\n",
       "      <td>193.589304</td>\n",
       "      <td>8.335</td>\n",
       "      <td>NaN</td>\n",
       "    </tr>\n",
       "    <tr>\n",
       "      <th>8189</th>\n",
       "      <td>45</td>\n",
       "      <td>2013-07-29</td>\n",
       "      <td>76.06</td>\n",
       "      <td>3.804</td>\n",
       "      <td>193.589304</td>\n",
       "      <td>8.335</td>\n",
       "      <td>NaN</td>\n",
       "    </tr>\n",
       "  </tbody>\n",
       "</table>\n",
       "</div>"
      ],
      "text/plain": [
       "      Store       Date  Temperature  Fuel_Price         CPI  Unemployment  \\\n",
       "8185     45 2013-07-01        76.05       3.639  193.589304         8.335   \n",
       "8186     45 2013-07-08        77.50       3.614  193.589304         8.335   \n",
       "8187     45 2013-07-15        79.37       3.614  193.589304         8.335   \n",
       "8188     45 2013-07-22        82.84       3.737  193.589304         8.335   \n",
       "8189     45 2013-07-29        76.06       3.804  193.589304         8.335   \n",
       "\n",
       "      Weekly_Sales_sum  \n",
       "8185               NaN  \n",
       "8186               NaN  \n",
       "8187               NaN  \n",
       "8188               NaN  \n",
       "8189               NaN  "
      ]
     },
     "execution_count": 12,
     "metadata": {},
     "output_type": "execute_result"
    }
   ],
   "source": [
    "df.tail()"
   ]
  },
  {
   "cell_type": "code",
   "execution_count": 13,
   "metadata": {},
   "outputs": [],
   "source": [
    "start_train_dt, end_train_dt = train_df['Date'].agg(['min', 'max'])\n",
    "dt_index = pd.DatetimeIndex(df['Date'].unique())"
   ]
  },
  {
   "cell_type": "code",
   "execution_count": 14,
   "metadata": {},
   "outputs": [],
   "source": [
    "target_col = 'Weekly_Sales_sum'\n",
    "related_cols = ['Temperature', 'Fuel_Price', 'CPI', 'Unemployment']\n",
    "target_df = df.set_index(['Date', 'Store'])[[target_col]].unstack()\n",
    "related_df = df.set_index(['Date', 'Store'])[related_cols].unstack()"
   ]
  },
  {
   "cell_type": "code",
   "execution_count": 15,
   "metadata": {},
   "outputs": [
    {
     "data": {
      "text/html": [
       "<div>\n",
       "<style scoped>\n",
       "    .dataframe tbody tr th:only-of-type {\n",
       "        vertical-align: middle;\n",
       "    }\n",
       "\n",
       "    .dataframe tbody tr th {\n",
       "        vertical-align: top;\n",
       "    }\n",
       "\n",
       "    .dataframe thead tr th {\n",
       "        text-align: left;\n",
       "    }\n",
       "\n",
       "    .dataframe thead tr:last-of-type th {\n",
       "        text-align: right;\n",
       "    }\n",
       "</style>\n",
       "<table border=\"1\" class=\"dataframe\">\n",
       "  <thead>\n",
       "    <tr>\n",
       "      <th></th>\n",
       "      <th colspan=\"21\" halign=\"left\">Weekly_Sales_sum</th>\n",
       "    </tr>\n",
       "    <tr>\n",
       "      <th>Store</th>\n",
       "      <th>1</th>\n",
       "      <th>2</th>\n",
       "      <th>3</th>\n",
       "      <th>4</th>\n",
       "      <th>5</th>\n",
       "      <th>6</th>\n",
       "      <th>7</th>\n",
       "      <th>8</th>\n",
       "      <th>9</th>\n",
       "      <th>10</th>\n",
       "      <th>...</th>\n",
       "      <th>36</th>\n",
       "      <th>37</th>\n",
       "      <th>38</th>\n",
       "      <th>39</th>\n",
       "      <th>40</th>\n",
       "      <th>41</th>\n",
       "      <th>42</th>\n",
       "      <th>43</th>\n",
       "      <th>44</th>\n",
       "      <th>45</th>\n",
       "    </tr>\n",
       "    <tr>\n",
       "      <th>Date</th>\n",
       "      <th></th>\n",
       "      <th></th>\n",
       "      <th></th>\n",
       "      <th></th>\n",
       "      <th></th>\n",
       "      <th></th>\n",
       "      <th></th>\n",
       "      <th></th>\n",
       "      <th></th>\n",
       "      <th></th>\n",
       "      <th></th>\n",
       "      <th></th>\n",
       "      <th></th>\n",
       "      <th></th>\n",
       "      <th></th>\n",
       "      <th></th>\n",
       "      <th></th>\n",
       "      <th></th>\n",
       "      <th></th>\n",
       "      <th></th>\n",
       "      <th></th>\n",
       "    </tr>\n",
       "  </thead>\n",
       "  <tbody>\n",
       "    <tr>\n",
       "      <th>2010-02-08</th>\n",
       "      <td>16.436909</td>\n",
       "      <td>21.369895</td>\n",
       "      <td>4.616222</td>\n",
       "      <td>21.351439</td>\n",
       "      <td>3.171731</td>\n",
       "      <td>16.526941</td>\n",
       "      <td>4.967254</td>\n",
       "      <td>10.041371</td>\n",
       "      <td>5.495205</td>\n",
       "      <td>21.930487</td>\n",
       "      <td>...</td>\n",
       "      <td>4.675467</td>\n",
       "      <td>5.360067</td>\n",
       "      <td>3.584961</td>\n",
       "      <td>12.305968</td>\n",
       "      <td>10.019438</td>\n",
       "      <td>10.865332</td>\n",
       "      <td>5.433840</td>\n",
       "      <td>6.470293</td>\n",
       "      <td>2.810910</td>\n",
       "      <td>8.906920</td>\n",
       "    </tr>\n",
       "    <tr>\n",
       "      <th>2010-02-15</th>\n",
       "      <td>16.419574</td>\n",
       "      <td>21.378095</td>\n",
       "      <td>4.207290</td>\n",
       "      <td>21.883074</td>\n",
       "      <td>3.118257</td>\n",
       "      <td>16.063339</td>\n",
       "      <td>5.241049</td>\n",
       "      <td>9.948014</td>\n",
       "      <td>5.526775</td>\n",
       "      <td>21.760285</td>\n",
       "      <td>...</td>\n",
       "      <td>4.695637</td>\n",
       "      <td>5.298527</td>\n",
       "      <td>3.422149</td>\n",
       "      <td>12.662291</td>\n",
       "      <td>9.553383</td>\n",
       "      <td>10.756563</td>\n",
       "      <td>5.757130</td>\n",
       "      <td>6.829190</td>\n",
       "      <td>2.868571</td>\n",
       "      <td>6.569891</td>\n",
       "    </tr>\n",
       "    <tr>\n",
       "      <th>2010-02-22</th>\n",
       "      <td>16.128312</td>\n",
       "      <td>21.244515</td>\n",
       "      <td>4.216422</td>\n",
       "      <td>20.498603</td>\n",
       "      <td>3.034476</td>\n",
       "      <td>15.671381</td>\n",
       "      <td>5.067605</td>\n",
       "      <td>9.639604</td>\n",
       "      <td>5.113279</td>\n",
       "      <td>21.134326</td>\n",
       "      <td>...</td>\n",
       "      <td>4.702810</td>\n",
       "      <td>5.103825</td>\n",
       "      <td>3.272379</td>\n",
       "      <td>12.305920</td>\n",
       "      <td>9.162892</td>\n",
       "      <td>10.520347</td>\n",
       "      <td>5.087949</td>\n",
       "      <td>6.589975</td>\n",
       "      <td>2.679563</td>\n",
       "      <td>8.412643</td>\n",
       "    </tr>\n",
       "    <tr>\n",
       "      <th>2010-03-01</th>\n",
       "      <td>14.097276</td>\n",
       "      <td>18.650973</td>\n",
       "      <td>4.072049</td>\n",
       "      <td>19.257288</td>\n",
       "      <td>2.702816</td>\n",
       "      <td>14.329532</td>\n",
       "      <td>4.960832</td>\n",
       "      <td>8.475921</td>\n",
       "      <td>4.737733</td>\n",
       "      <td>20.067877</td>\n",
       "      <td>...</td>\n",
       "      <td>4.475194</td>\n",
       "      <td>5.136158</td>\n",
       "      <td>3.342227</td>\n",
       "      <td>11.685820</td>\n",
       "      <td>8.639414</td>\n",
       "      <td>9.919427</td>\n",
       "      <td>4.915106</td>\n",
       "      <td>6.187028</td>\n",
       "      <td>2.730791</td>\n",
       "      <td>7.436417</td>\n",
       "    </tr>\n",
       "    <tr>\n",
       "      <th>2010-03-08</th>\n",
       "      <td>15.548067</td>\n",
       "      <td>19.910131</td>\n",
       "      <td>4.152020</td>\n",
       "      <td>19.710574</td>\n",
       "      <td>2.888626</td>\n",
       "      <td>16.013558</td>\n",
       "      <td>4.914195</td>\n",
       "      <td>8.815039</td>\n",
       "      <td>5.072979</td>\n",
       "      <td>19.878881</td>\n",
       "      <td>...</td>\n",
       "      <td>4.802034</td>\n",
       "      <td>5.192557</td>\n",
       "      <td>3.722399</td>\n",
       "      <td>12.662542</td>\n",
       "      <td>9.901523</td>\n",
       "      <td>10.635925</td>\n",
       "      <td>5.549724</td>\n",
       "      <td>6.586001</td>\n",
       "      <td>2.846173</td>\n",
       "      <td>7.779512</td>\n",
       "    </tr>\n",
       "  </tbody>\n",
       "</table>\n",
       "<p>5 rows × 45 columns</p>\n",
       "</div>"
      ],
      "text/plain": [
       "           Weekly_Sales_sum                                            \\\n",
       "Store                    1          2         3          4         5    \n",
       "Date                                                                    \n",
       "2010-02-08        16.436909  21.369895  4.616222  21.351439  3.171731   \n",
       "2010-02-15        16.419574  21.378095  4.207290  21.883074  3.118257   \n",
       "2010-02-22        16.128312  21.244515  4.216422  20.498603  3.034476   \n",
       "2010-03-01        14.097276  18.650973  4.072049  19.257288  2.702816   \n",
       "2010-03-08        15.548067  19.910131  4.152020  19.710574  2.888626   \n",
       "\n",
       "                                                                 ...  \\\n",
       "Store              6         7          8         9          10  ...   \n",
       "Date                                                             ...   \n",
       "2010-02-08  16.526941  4.967254  10.041371  5.495205  21.930487  ...   \n",
       "2010-02-15  16.063339  5.241049   9.948014  5.526775  21.760285  ...   \n",
       "2010-02-22  15.671381  5.067605   9.639604  5.113279  21.134326  ...   \n",
       "2010-03-01  14.329532  4.960832   8.475921  4.737733  20.067877  ...   \n",
       "2010-03-08  16.013558  4.914195   8.815039  5.072979  19.878881  ...   \n",
       "\n",
       "                                                                           \\\n",
       "Store             36        37        38         39         40         41   \n",
       "Date                                                                        \n",
       "2010-02-08  4.675467  5.360067  3.584961  12.305968  10.019438  10.865332   \n",
       "2010-02-15  4.695637  5.298527  3.422149  12.662291   9.553383  10.756563   \n",
       "2010-02-22  4.702810  5.103825  3.272379  12.305920   9.162892  10.520347   \n",
       "2010-03-01  4.475194  5.136158  3.342227  11.685820   8.639414   9.919427   \n",
       "2010-03-08  4.802034  5.192557  3.722399  12.662542   9.901523  10.635925   \n",
       "\n",
       "                                                    \n",
       "Store             42        43        44        45  \n",
       "Date                                                \n",
       "2010-02-08  5.433840  6.470293  2.810910  8.906920  \n",
       "2010-02-15  5.757130  6.829190  2.868571  6.569891  \n",
       "2010-02-22  5.087949  6.589975  2.679563  8.412643  \n",
       "2010-03-01  4.915106  6.187028  2.730791  7.436417  \n",
       "2010-03-08  5.549724  6.586001  2.846173  7.779512  \n",
       "\n",
       "[5 rows x 45 columns]"
      ]
     },
     "execution_count": 15,
     "metadata": {},
     "output_type": "execute_result"
    }
   ],
   "source": [
    "target_df.head()"
   ]
  },
  {
   "cell_type": "code",
   "execution_count": 16,
   "metadata": {},
   "outputs": [
    {
     "data": {
      "text/html": [
       "<div>\n",
       "<style scoped>\n",
       "    .dataframe tbody tr th:only-of-type {\n",
       "        vertical-align: middle;\n",
       "    }\n",
       "\n",
       "    .dataframe tbody tr th {\n",
       "        vertical-align: top;\n",
       "    }\n",
       "\n",
       "    .dataframe thead tr th {\n",
       "        text-align: left;\n",
       "    }\n",
       "\n",
       "    .dataframe thead tr:last-of-type th {\n",
       "        text-align: right;\n",
       "    }\n",
       "</style>\n",
       "<table border=\"1\" class=\"dataframe\">\n",
       "  <thead>\n",
       "    <tr>\n",
       "      <th></th>\n",
       "      <th colspan=\"10\" halign=\"left\">Temperature</th>\n",
       "      <th>...</th>\n",
       "      <th colspan=\"10\" halign=\"left\">Unemployment</th>\n",
       "    </tr>\n",
       "    <tr>\n",
       "      <th>Store</th>\n",
       "      <th>1</th>\n",
       "      <th>2</th>\n",
       "      <th>3</th>\n",
       "      <th>4</th>\n",
       "      <th>5</th>\n",
       "      <th>6</th>\n",
       "      <th>7</th>\n",
       "      <th>8</th>\n",
       "      <th>9</th>\n",
       "      <th>10</th>\n",
       "      <th>...</th>\n",
       "      <th>36</th>\n",
       "      <th>37</th>\n",
       "      <th>38</th>\n",
       "      <th>39</th>\n",
       "      <th>40</th>\n",
       "      <th>41</th>\n",
       "      <th>42</th>\n",
       "      <th>43</th>\n",
       "      <th>44</th>\n",
       "      <th>45</th>\n",
       "    </tr>\n",
       "    <tr>\n",
       "      <th>Date</th>\n",
       "      <th></th>\n",
       "      <th></th>\n",
       "      <th></th>\n",
       "      <th></th>\n",
       "      <th></th>\n",
       "      <th></th>\n",
       "      <th></th>\n",
       "      <th></th>\n",
       "      <th></th>\n",
       "      <th></th>\n",
       "      <th></th>\n",
       "      <th></th>\n",
       "      <th></th>\n",
       "      <th></th>\n",
       "      <th></th>\n",
       "      <th></th>\n",
       "      <th></th>\n",
       "      <th></th>\n",
       "      <th></th>\n",
       "      <th></th>\n",
       "      <th></th>\n",
       "    </tr>\n",
       "  </thead>\n",
       "  <tbody>\n",
       "    <tr>\n",
       "      <th>2010-02-08</th>\n",
       "      <td>42.31</td>\n",
       "      <td>40.19</td>\n",
       "      <td>45.71</td>\n",
       "      <td>43.76</td>\n",
       "      <td>39.70</td>\n",
       "      <td>40.43</td>\n",
       "      <td>10.53</td>\n",
       "      <td>34.14</td>\n",
       "      <td>38.01</td>\n",
       "      <td>54.34</td>\n",
       "      <td>...</td>\n",
       "      <td>8.554</td>\n",
       "      <td>8.554</td>\n",
       "      <td>13.975</td>\n",
       "      <td>8.554</td>\n",
       "      <td>5.892</td>\n",
       "      <td>7.541</td>\n",
       "      <td>9.765</td>\n",
       "      <td>9.521</td>\n",
       "      <td>8.119</td>\n",
       "      <td>8.992</td>\n",
       "    </tr>\n",
       "    <tr>\n",
       "      <th>2010-02-15</th>\n",
       "      <td>38.51</td>\n",
       "      <td>38.49</td>\n",
       "      <td>47.93</td>\n",
       "      <td>28.84</td>\n",
       "      <td>39.81</td>\n",
       "      <td>40.57</td>\n",
       "      <td>25.90</td>\n",
       "      <td>33.34</td>\n",
       "      <td>37.08</td>\n",
       "      <td>49.96</td>\n",
       "      <td>...</td>\n",
       "      <td>8.554</td>\n",
       "      <td>8.554</td>\n",
       "      <td>13.975</td>\n",
       "      <td>8.554</td>\n",
       "      <td>5.892</td>\n",
       "      <td>7.541</td>\n",
       "      <td>9.765</td>\n",
       "      <td>9.521</td>\n",
       "      <td>8.119</td>\n",
       "      <td>8.992</td>\n",
       "    </tr>\n",
       "    <tr>\n",
       "      <th>2010-02-22</th>\n",
       "      <td>39.93</td>\n",
       "      <td>39.69</td>\n",
       "      <td>47.07</td>\n",
       "      <td>36.45</td>\n",
       "      <td>41.14</td>\n",
       "      <td>43.58</td>\n",
       "      <td>27.28</td>\n",
       "      <td>39.10</td>\n",
       "      <td>43.06</td>\n",
       "      <td>58.22</td>\n",
       "      <td>...</td>\n",
       "      <td>8.554</td>\n",
       "      <td>8.554</td>\n",
       "      <td>13.975</td>\n",
       "      <td>8.554</td>\n",
       "      <td>5.892</td>\n",
       "      <td>7.541</td>\n",
       "      <td>9.765</td>\n",
       "      <td>9.521</td>\n",
       "      <td>8.119</td>\n",
       "      <td>8.992</td>\n",
       "    </tr>\n",
       "    <tr>\n",
       "      <th>2010-03-01</th>\n",
       "      <td>46.63</td>\n",
       "      <td>46.10</td>\n",
       "      <td>52.05</td>\n",
       "      <td>41.36</td>\n",
       "      <td>46.70</td>\n",
       "      <td>47.10</td>\n",
       "      <td>24.91</td>\n",
       "      <td>37.91</td>\n",
       "      <td>43.83</td>\n",
       "      <td>52.77</td>\n",
       "      <td>...</td>\n",
       "      <td>8.554</td>\n",
       "      <td>8.554</td>\n",
       "      <td>13.975</td>\n",
       "      <td>8.554</td>\n",
       "      <td>5.892</td>\n",
       "      <td>7.541</td>\n",
       "      <td>9.765</td>\n",
       "      <td>9.521</td>\n",
       "      <td>8.119</td>\n",
       "      <td>8.992</td>\n",
       "    </tr>\n",
       "    <tr>\n",
       "      <th>2010-03-08</th>\n",
       "      <td>46.50</td>\n",
       "      <td>47.17</td>\n",
       "      <td>53.04</td>\n",
       "      <td>43.49</td>\n",
       "      <td>48.89</td>\n",
       "      <td>49.63</td>\n",
       "      <td>35.86</td>\n",
       "      <td>45.64</td>\n",
       "      <td>48.43</td>\n",
       "      <td>55.92</td>\n",
       "      <td>...</td>\n",
       "      <td>8.554</td>\n",
       "      <td>8.554</td>\n",
       "      <td>13.975</td>\n",
       "      <td>8.554</td>\n",
       "      <td>5.892</td>\n",
       "      <td>7.541</td>\n",
       "      <td>9.765</td>\n",
       "      <td>9.521</td>\n",
       "      <td>8.119</td>\n",
       "      <td>8.992</td>\n",
       "    </tr>\n",
       "  </tbody>\n",
       "</table>\n",
       "<p>5 rows × 180 columns</p>\n",
       "</div>"
      ],
      "text/plain": [
       "           Temperature                                                   \\\n",
       "Store               1      2      3      4      5      6      7      8    \n",
       "Date                                                                      \n",
       "2010-02-08       42.31  40.19  45.71  43.76  39.70  40.43  10.53  34.14   \n",
       "2010-02-15       38.51  38.49  47.93  28.84  39.81  40.57  25.90  33.34   \n",
       "2010-02-22       39.93  39.69  47.07  36.45  41.14  43.58  27.28  39.10   \n",
       "2010-03-01       46.63  46.10  52.05  41.36  46.70  47.10  24.91  37.91   \n",
       "2010-03-08       46.50  47.17  53.04  43.49  48.89  49.63  35.86  45.64   \n",
       "\n",
       "                          ... Unemployment                               \\\n",
       "Store          9      10  ...           36     37      38     39     40   \n",
       "Date                      ...                                             \n",
       "2010-02-08  38.01  54.34  ...        8.554  8.554  13.975  8.554  5.892   \n",
       "2010-02-15  37.08  49.96  ...        8.554  8.554  13.975  8.554  5.892   \n",
       "2010-02-22  43.06  58.22  ...        8.554  8.554  13.975  8.554  5.892   \n",
       "2010-03-01  43.83  52.77  ...        8.554  8.554  13.975  8.554  5.892   \n",
       "2010-03-08  48.43  55.92  ...        8.554  8.554  13.975  8.554  5.892   \n",
       "\n",
       "                                               \n",
       "Store          41     42     43     44     45  \n",
       "Date                                           \n",
       "2010-02-08  7.541  9.765  9.521  8.119  8.992  \n",
       "2010-02-15  7.541  9.765  9.521  8.119  8.992  \n",
       "2010-02-22  7.541  9.765  9.521  8.119  8.992  \n",
       "2010-03-01  7.541  9.765  9.521  8.119  8.992  \n",
       "2010-03-08  7.541  9.765  9.521  8.119  8.992  \n",
       "\n",
       "[5 rows x 180 columns]"
      ]
     },
     "execution_count": 16,
     "metadata": {},
     "output_type": "execute_result"
    }
   ],
   "source": [
    "related_df.head()"
   ]
  },
  {
   "cell_type": "markdown",
   "metadata": {},
   "source": [
    "### Label Encoding for item metadata\n",
    "\n",
    "범주형 데이터를 수치형으로 변환해줍니다."
   ]
  },
  {
   "cell_type": "code",
   "execution_count": 17,
   "metadata": {},
   "outputs": [],
   "source": [
    "from sklearn.preprocessing import MinMaxScaler, StandardScaler\n",
    "\n",
    "prod_cat_dict = {}\n",
    "prod_cat_cols = ['Type']\n",
    "for c in prod_cat_cols:\n",
    "    store_df[c], prod_cat_dict[c] = pd.factorize(store_df[c]) \n",
    "    \n",
    "store_df.set_index('Store', inplace=True)    \n",
    "\n",
    "scaler = MinMaxScaler()\n",
    "store_df['Size'] = scaler.fit_transform(store_df[['Size']])"
   ]
  },
  {
   "cell_type": "code",
   "execution_count": 18,
   "metadata": {},
   "outputs": [
    {
     "data": {
      "text/plain": [
       "[3]"
      ]
     },
     "execution_count": 18,
     "metadata": {},
     "output_type": "execute_result"
    }
   ],
   "source": [
    "stat_cat_cardinalities = [len(prod_cat_dict[k]) for k in prod_cat_dict.keys()]\n",
    "stat_cat_cardinalities"
   ]
  },
  {
   "cell_type": "markdown",
   "metadata": {},
   "source": [
    "### Split Training set and Test set"
   ]
  },
  {
   "cell_type": "code",
   "execution_count": 19,
   "metadata": {},
   "outputs": [],
   "source": [
    "target_train_df = target_df[target_df.index <= train_df['Date'].max()]\n",
    "\n",
    "related_train_df = related_df[target_df.index <= train_df['Date'].max()]\n",
    "related_test_df = related_df[target_df.index > train_df['Date'].max()]"
   ]
  },
  {
   "cell_type": "markdown",
   "metadata": {},
   "source": [
    "### z-normalization for related time-series"
   ]
  },
  {
   "cell_type": "code",
   "execution_count": 20,
   "metadata": {},
   "outputs": [],
   "source": [
    "std_scaler = StandardScaler()\n",
    "std_scaler.fit(related_train_df)\n",
    "\n",
    "related_train = std_scaler.transform(related_train_df)\n",
    "related_train_df = pd.DataFrame(related_train, columns=related_train_df.columns, index=related_train_df.index)\n",
    "\n",
    "related_test = std_scaler.transform(related_test_df)\n",
    "related_test_df = pd.DataFrame(related_test, columns=related_test_df.columns, index=related_test_df.index)"
   ]
  },
  {
   "cell_type": "markdown",
   "metadata": {},
   "source": [
    "### Save preprocessed data\n",
    "\n",
    "전처리가 완료된 데이터를 다음 모듈에서 그대로 활용하기 위해 csv로 저장합니다."
   ]
  },
  {
   "cell_type": "code",
   "execution_count": 21,
   "metadata": {},
   "outputs": [],
   "source": [
    "target_train_df.to_csv(f'{data_dir}/target_train.csv', index=True)\n",
    "\n",
    "related_train_df.to_csv(f'{data_dir}/related_train.csv', index=True)\n",
    "related_test_df.to_csv(f'{data_dir}/related_test.csv', index=True)\n",
    "\n",
    "store_df.to_csv(f'{data_dir}/item.csv', index=True)"
   ]
  },
  {
   "cell_type": "markdown",
   "metadata": {},
   "source": [
    "<br>\n",
    "\n",
    "## 4. Preparing GlounTS Dataset\n",
    "---\n",
    "\n",
    "12주 데이터를 예측 구간으로 설정합니다."
   ]
  },
  {
   "cell_type": "code",
   "execution_count": 22,
   "metadata": {},
   "outputs": [],
   "source": [
    "num_steps, num_series = target_train_df.shape\n",
    "target = target_train_df.values\n",
    "pred_length = 12\n",
    "\n",
    "custom_ds_metadata = {'num_series': num_series, \n",
    "                      'num_steps': num_steps,\n",
    "                      'prediction_length': pred_length,\n",
    "                      'freq': FREQ,\n",
    "                      'start': [start_train_dt for _ in range(num_series)] \n",
    "                     }"
   ]
  },
  {
   "cell_type": "markdown",
   "metadata": {},
   "source": [
    "### Create GluonTS Dataset\n",
    "\n",
    "GluonTS Dataset을 생성하기 위해서는 `FieldName.TARGET`과 `FieldName.START` 키에 해당하는 값들이 반드시 포함되어야 하며, 나머지 FieldName에 대해서는 선택적으로 포함할 수 있습니다.\n",
    " \n",
    "그리고, 일반적인 ML 알고리즘과 달리 GlounTS의 테스트 데이터셋은 훈련 데이터 전부를 포함합니다.\n",
    "예를 들어 100일치 시계열을 대상으로, 마지막 20일치 데이터에 대해 테스트가 필요한 경우(80일 훈련, 20일 테스트), \n",
    "시작일부터 80일치까지의 시계열을 훈련 데이터로 지정하고 100일치의 모든 데이터를 그대로 테스트 데이터셋으로 지정하시면 됩니다. 전체 시계열이 필요한 이유는\n",
    "Evaluator 클래스를 통해 metric 및 plotting을 한 줄의 코드로 간단하게 수행하기 위함이고, 실제 내부 로직에서는 테스트 시계열에서 예측 시계열 길이만큼의(예: 20일치) 데이터를 잘라내어 추론을 수행합니다."
   ]
  },
  {
   "cell_type": "code",
   "execution_count": 23,
   "metadata": {},
   "outputs": [],
   "source": [
    "related_list = [related_train_df[c].values for c in related_cols]\n",
    "\n",
    "train_lst = []\n",
    "for i in range(0, num_series):\n",
    "    target_vec = target[:-pred_length, i]\n",
    "    related_vecs = [related[:-pred_length, i] for related in related_list]\n",
    "    item = store_df.loc[i+1]\n",
    "    dic = {FieldName.TARGET: target_vec, \n",
    "           FieldName.START: start_train_dt,\n",
    "           FieldName.FEAT_DYNAMIC_REAL: related_vecs,\n",
    "           FieldName.FEAT_STATIC_CAT: [item[0]],\n",
    "           FieldName.FEAT_STATIC_REAL: [item[1]]\n",
    "          } \n",
    "    train_lst.append(dic)\n",
    "    \n",
    "test_lst = []\n",
    "for i in range(0, num_series):\n",
    "    target_vec = target[:, i]\n",
    "    related_vecs = [related[:, i] for related in related_list]\n",
    "    item = store_df.loc[i+1]    \n",
    "    dic = {FieldName.TARGET: target_vec, \n",
    "           FieldName.START: start_train_dt,\n",
    "           FieldName.FEAT_DYNAMIC_REAL: related_vecs,\n",
    "           FieldName.FEAT_STATIC_CAT: [item[0]],\n",
    "           FieldName.FEAT_STATIC_REAL: [item[1]]\n",
    "          } \n",
    "    test_lst.append(dic)\n",
    "\n",
    "train_ds = ListDataset(train_lst, freq=FREQ)\n",
    "test_ds = ListDataset(test_lst, freq=FREQ)"
   ]
  },
  {
   "cell_type": "markdown",
   "metadata": {},
   "source": [
    "<br>\n",
    "\n",
    "## 5. Baseline Training and Evaluation (Seasonal naïve)\n",
    "---\n",
    "\n",
    "머신러닝의 첫번째 iteration은 baseline 모델을 만들어 보는 것입니다. baseline을 통해 모델이 예측하는 하한선(lower bound)을 알 수 있으며, 특히 복잡한 패턴들이 많은 시계열 데이터에서는 baseline이 매우 잘 동작합니다. \n",
    "\n",
    "Seasonal naïve는 이전 데이터의 통계치를 반영하는 모델로, 과거 관측치를 복사하기 때문에 복잡한 훈련 과정 수행 없이 곧바로 추론이 가능하다는 장점이 있습니다."
   ]
  },
  {
   "cell_type": "code",
   "execution_count": 24,
   "metadata": {},
   "outputs": [],
   "source": [
    "from gluonts.model.seasonal_naive import *\n",
    "from gluonts.evaluation import Evaluator\n",
    "\n",
    "naive_predictor = SeasonalNaivePredictor(freq=FREQ, \n",
    "                                         prediction_length=pred_length,\n",
    "                                         season_length=4)"
   ]
  },
  {
   "cell_type": "code",
   "execution_count": 25,
   "metadata": {},
   "outputs": [],
   "source": [
    "from pylab import rcParams\n",
    "from itertools import islice\n",
    "from gluonts.evaluation.backtest import make_evaluation_predictions\n",
    "\n",
    "rcParams['figure.figsize'] = 15, 8\n",
    "    \n",
    "def plot_forecasts(tss, forecasts, past_length=40, num_plots=2):\n",
    "    for target, forecast in islice(zip(tss, forecasts), num_plots):\n",
    "        ax = target[-past_length:].plot(figsize=(12, 5), linewidth=2)\n",
    "        forecast.plot(color='g')\n",
    "        plt.grid(which='both')\n",
    "        plt.legend([\"observations\", \"median prediction\", \"90% confidence interval\", \"50% confidence interval\"])\n",
    "        plt.show()\n",
    "        \n",
    "        \n",
    "def get_metrics(tss, forecasts, num_series, verbose=1):\n",
    "    evaluator = Evaluator(num_workers=os.cpu_count())\n",
    "    agg_metrics, item_metrics = evaluator(iter(tss), iter(forecasts), num_series=num_series)\n",
    "    metrics = ['RMSE', 'MAPE', 'wQuantileLoss[0.1]', 'wQuantileLoss[0.5]', 'wQuantileLoss[0.9]', 'mean_wQuantileLoss']\n",
    "    metrics_dic = dict((key,value) for key, value in agg_metrics.items() if key in metrics)\n",
    "    if verbose == 1:\n",
    "        print(json.dumps(metrics_dic, indent=4))\n",
    "    return metrics_dic"
   ]
  },
  {
   "cell_type": "code",
   "execution_count": 26,
   "metadata": {},
   "outputs": [],
   "source": [
    "forecast_it_baseline, ts_it_baseline = make_evaluation_predictions(test_ds, naive_predictor, num_samples=1)\n",
    "forecasts_baseline = list(forecast_it_baseline)\n",
    "tss_baseline = list(ts_it_baseline)"
   ]
  },
  {
   "cell_type": "code",
   "execution_count": 27,
   "metadata": {},
   "outputs": [
    {
     "data": {
      "image/png": "[encoded data removed]",
      "text/plain": [
       "<Figure size 864x360 with 1 Axes>"
      ]
     },
     "metadata": {
      "needs_background": "light"
     },
     "output_type": "display_data"
    }
   ],
   "source": [
    "plot_forecasts(tss_baseline, forecasts_baseline, past_length=52, num_plots=1)"
   ]
  },
  {
   "cell_type": "code",
   "execution_count": 28,
   "metadata": {},
   "outputs": [
    {
     "name": "stderr",
     "output_type": "stream",
     "text": [
      "Running evaluation: 100%|██████████| 45/45 [00:00<00:00, 1766.60it/s]\n"
     ]
    },
    {
     "name": "stdout",
     "output_type": "stream",
     "text": [
      "{\n",
      "    \"MAPE\": 0.05883001723775157,\n",
      "    \"RMSE\": 0.8405363755494974,\n",
      "    \"wQuantileLoss[0.1]\": 0.053047917610844125,\n",
      "    \"wQuantileLoss[0.5]\": 0.05759065931444056,\n",
      "    \"wQuantileLoss[0.9]\": 0.062133401018037,\n",
      "    \"mean_wQuantileLoss\": 0.057590659314440566\n",
      "}\n"
     ]
    }
   ],
   "source": [
    "metrics_baseline = get_metrics(tss_baseline, forecasts_baseline, len(test_ds))"
   ]
  },
  {
   "cell_type": "markdown",
   "metadata": {},
   "source": [
    "<br>\n",
    "\n",
    "## 6. Training and Evaluation (DeepAR)\n",
    "---\n",
    "\n",
    "DeepAR로 예측을 수행해 보겠습니다.\n",
    "\n",
    "### Training"
   ]
  },
  {
   "cell_type": "code",
   "execution_count": 29,
   "metadata": {},
   "outputs": [],
   "source": [
    "device = 'gpu' if num_gpus() > 0 else \"cpu\"\n",
    "trainer = Trainer(\n",
    "    ctx=device,\n",
    "    epochs=30,\n",
    "    learning_rate=0.001,\n",
    "    batch_size=32\n",
    ")"
   ]
  },
  {
   "cell_type": "code",
   "execution_count": 30,
   "metadata": {},
   "outputs": [],
   "source": [
    "deepar_estimator = DeepAREstimator(freq=FREQ, \n",
    "                                   prediction_length=pred_length,\n",
    "                                   use_feat_dynamic_real=True,\n",
    "                                   use_feat_static_cat=True,\n",
    "                                   use_feat_static_real=True,\n",
    "                                   cardinality=stat_cat_cardinalities,\n",
    "                                   num_cells=30,\n",
    "                                   distr_output=StudentTOutput(),\n",
    "                                   trainer=trainer)"
   ]
  },
  {
   "cell_type": "code",
   "execution_count": 31,
   "metadata": {},
   "outputs": [
    {
     "name": "stderr",
     "output_type": "stream",
     "text": [
      "\r",
      "  0%|          | 0/50 [00:00<?, ?it/s]"
     ]
    },
    {
     "name": "stdout",
     "output_type": "stream",
     "text": [
      "learning rate from ``lr_scheduler`` has been overwritten by ``learning_rate`` in optimizer.\n"
     ]
    },
    {
     "name": "stderr",
     "output_type": "stream",
     "text": [
      "100%|██████████| 50/50 [00:01<00:00, 29.65it/s, epoch=1/30, avg_epoch_loss=2.38]\n",
      "100%|██████████| 50/50 [00:01<00:00, 32.15it/s, epoch=2/30, avg_epoch_loss=1.48]\n",
      "100%|██████████| 50/50 [00:01<00:00, 33.18it/s, epoch=3/30, avg_epoch_loss=1.3]\n",
      "100%|██████████| 50/50 [00:01<00:00, 31.80it/s, epoch=4/30, avg_epoch_loss=1.26]\n",
      "100%|██████████| 50/50 [00:01<00:00, 30.74it/s, epoch=5/30, avg_epoch_loss=1.2]\n",
      "100%|██████████| 50/50 [00:01<00:00, 31.63it/s, epoch=6/30, avg_epoch_loss=1.1]\n",
      "100%|██████████| 50/50 [00:01<00:00, 33.26it/s, epoch=7/30, avg_epoch_loss=1.09]\n",
      "100%|██████████| 50/50 [00:01<00:00, 33.22it/s, epoch=8/30, avg_epoch_loss=1.06]\n",
      "100%|██████████| 50/50 [00:01<00:00, 32.78it/s, epoch=9/30, avg_epoch_loss=1]\n",
      "100%|██████████| 50/50 [00:01<00:00, 32.17it/s, epoch=10/30, avg_epoch_loss=0.966]\n",
      "100%|██████████| 50/50 [00:01<00:00, 32.60it/s, epoch=11/30, avg_epoch_loss=0.976]\n",
      "100%|██████████| 50/50 [00:01<00:00, 33.26it/s, epoch=12/30, avg_epoch_loss=0.955]\n",
      "100%|██████████| 50/50 [00:01<00:00, 32.96it/s, epoch=13/30, avg_epoch_loss=0.896]\n",
      "100%|██████████| 50/50 [00:01<00:00, 32.08it/s, epoch=14/30, avg_epoch_loss=0.895]\n",
      "100%|██████████| 50/50 [00:01<00:00, 32.67it/s, epoch=15/30, avg_epoch_loss=0.904]\n",
      "100%|██████████| 50/50 [00:01<00:00, 33.04it/s, epoch=16/30, avg_epoch_loss=0.888]\n",
      "100%|██████████| 50/50 [00:01<00:00, 32.56it/s, epoch=17/30, avg_epoch_loss=0.854]\n",
      "100%|██████████| 50/50 [00:01<00:00, 31.07it/s, epoch=18/30, avg_epoch_loss=0.83]\n",
      "100%|██████████| 50/50 [00:01<00:00, 32.14it/s, epoch=19/30, avg_epoch_loss=0.852]\n",
      "100%|██████████| 50/50 [00:01<00:00, 32.99it/s, epoch=20/30, avg_epoch_loss=0.84]\n",
      "100%|██████████| 50/50 [00:01<00:00, 32.92it/s, epoch=21/30, avg_epoch_loss=0.845]\n",
      "100%|██████████| 50/50 [00:01<00:00, 33.02it/s, epoch=22/30, avg_epoch_loss=0.808]\n",
      "100%|██████████| 50/50 [00:01<00:00, 31.96it/s, epoch=23/30, avg_epoch_loss=0.776]\n",
      "100%|██████████| 50/50 [00:01<00:00, 32.82it/s, epoch=24/30, avg_epoch_loss=0.781]\n",
      "100%|██████████| 50/50 [00:01<00:00, 31.79it/s, epoch=25/30, avg_epoch_loss=0.773]\n",
      "100%|██████████| 50/50 [00:01<00:00, 32.17it/s, epoch=26/30, avg_epoch_loss=0.796]\n",
      "100%|██████████| 50/50 [00:01<00:00, 32.81it/s, epoch=27/30, avg_epoch_loss=0.787]\n",
      "100%|██████████| 50/50 [00:01<00:00, 32.11it/s, epoch=28/30, avg_epoch_loss=0.781]\n",
      "100%|██████████| 50/50 [00:01<00:00, 30.23it/s, epoch=29/30, avg_epoch_loss=0.729]\n",
      "100%|██████████| 50/50 [00:01<00:00, 32.95it/s, epoch=30/30, avg_epoch_loss=0.736]\n"
     ]
    }
   ],
   "source": [
    "deepar_predictor = deepar_estimator.train(train_ds)"
   ]
  },
  {
   "cell_type": "markdown",
   "metadata": {},
   "source": [
    "### Evaluation\n",
    "\n",
    "아래 코드 셀에서는 `gluonts.evaluation.Evaluator()`를 사용하여 훈련된 모델의 지표(metirc)들을 생성합니다. 지표들은\n",
    "딕셔너리와 판다스 데이터프레임의 두 가지 형태들로 반환하며, Evaluator 생성자 호출 시에 필요한 지표들만 명시적으로 지정할 수도 있습니다. \n",
    "\n",
    "참고로, 딥러닝 기반 모델은 점예측이 아닌 모수 예측을 통한 샘플링이기 때문에 `make_evaluation_predictions` 함수의 `num_samples`는 자유롭게 부여하시면 됩니다."
   ]
  },
  {
   "cell_type": "code",
   "execution_count": 32,
   "metadata": {},
   "outputs": [
    {
     "name": "stdout",
     "output_type": "stream",
     "text": [
      "CPU times: user 908 ms, sys: 32.3 ms, total: 940 ms\n",
      "Wall time: 458 ms\n"
     ]
    }
   ],
   "source": [
    "%%time\n",
    "forecast_it, ts_it = make_evaluation_predictions( \n",
    "                     dataset=test_ds,  # test dataset\n",
    "                     predictor=deepar_predictor, # predictor\n",
    "                     num_samples=100) # number of sample paths we want for evaluation\n",
    "forecasts = list(forecast_it)\n",
    "tss = list(ts_it)"
   ]
  },
  {
   "cell_type": "code",
   "execution_count": 33,
   "metadata": {},
   "outputs": [
    {
     "data": {
      "image/png": "[encoded data removed]",
      "text/plain": [
       "<Figure size 864x360 with 1 Axes>"
      ]
     },
     "metadata": {
      "needs_background": "light"
     },
     "output_type": "display_data"
    },
    {
     "data": {
      "image/png": "[encoded data removed]",
      "text/plain": [
       "<Figure size 864x360 with 1 Axes>"
      ]
     },
     "metadata": {
      "needs_background": "light"
     },
     "output_type": "display_data"
    },
    {
     "data": {
      "image/png": "[encoded data removed]",
      "text/plain": [
       "<Figure size 864x360 with 1 Axes>"
      ]
     },
     "metadata": {
      "needs_background": "light"
     },
     "output_type": "display_data"
    },
    {
     "data": {
      "image/png": "[encoded data removed]",
      "text/plain": [
       "<Figure size 864x360 with 1 Axes>"
      ]
     },
     "metadata": {
      "needs_background": "light"
     },
     "output_type": "display_data"
    },
    {
     "data": {
      "image/png": "[encoded data removed]",
      "text/plain": [
       "<Figure size 864x360 with 1 Axes>"
      ]
     },
     "metadata": {
      "needs_background": "light"
     },
     "output_type": "display_data"
    }
   ],
   "source": [
    "plot_forecasts(tss, forecasts, past_length=52, num_plots=5)"
   ]
  },
  {
   "cell_type": "code",
   "execution_count": 34,
   "metadata": {},
   "outputs": [
    {
     "name": "stderr",
     "output_type": "stream",
     "text": [
      "Running evaluation: 100%|██████████| 45/45 [00:00<00:00, 1365.85it/s]\n"
     ]
    },
    {
     "name": "stdout",
     "output_type": "stream",
     "text": [
      "{\n",
      "    \"MAPE\": 0.042739967670705585,\n",
      "    \"RMSE\": 0.6006382853165999,\n",
      "    \"wQuantileLoss[0.1]\": 0.018518431111364805,\n",
      "    \"wQuantileLoss[0.5]\": 0.041001745217416084,\n",
      "    \"wQuantileLoss[0.9]\": 0.02009756328161687,\n",
      "    \"mean_wQuantileLoss\": 0.03233109460682619\n",
      "}\n"
     ]
    }
   ],
   "source": [
    "metrics = get_metrics(tss, forecasts, len(test_ds))"
   ]
  },
  {
   "cell_type": "markdown",
   "metadata": {},
   "source": [
    "### Compare with two models\n",
    "\n",
    "Baseline 모델과 DeepAR 모델의 성능을 확인해 보겠습니다."
   ]
  },
  {
   "cell_type": "code",
   "execution_count": 35,
   "metadata": {},
   "outputs": [
    {
     "data": {
      "text/html": [
       "<div>\n",
       "<style scoped>\n",
       "    .dataframe tbody tr th:only-of-type {\n",
       "        vertical-align: middle;\n",
       "    }\n",
       "\n",
       "    .dataframe tbody tr th {\n",
       "        vertical-align: top;\n",
       "    }\n",
       "\n",
       "    .dataframe thead th {\n",
       "        text-align: right;\n",
       "    }\n",
       "</style>\n",
       "<table border=\"1\" class=\"dataframe\">\n",
       "  <thead>\n",
       "    <tr style=\"text-align: right;\">\n",
       "      <th></th>\n",
       "      <th>Baseline</th>\n",
       "      <th>DeepAR</th>\n",
       "    </tr>\n",
       "  </thead>\n",
       "  <tbody>\n",
       "    <tr>\n",
       "      <th>MAPE</th>\n",
       "      <td>0.058830</td>\n",
       "      <td>0.042740</td>\n",
       "    </tr>\n",
       "    <tr>\n",
       "      <th>RMSE</th>\n",
       "      <td>0.840536</td>\n",
       "      <td>0.600638</td>\n",
       "    </tr>\n",
       "    <tr>\n",
       "      <th>wQuantileLoss[0.1]</th>\n",
       "      <td>0.053048</td>\n",
       "      <td>0.018518</td>\n",
       "    </tr>\n",
       "    <tr>\n",
       "      <th>wQuantileLoss[0.5]</th>\n",
       "      <td>0.057591</td>\n",
       "      <td>0.041002</td>\n",
       "    </tr>\n",
       "    <tr>\n",
       "      <th>wQuantileLoss[0.9]</th>\n",
       "      <td>0.062133</td>\n",
       "      <td>0.020098</td>\n",
       "    </tr>\n",
       "    <tr>\n",
       "      <th>mean_wQuantileLoss</th>\n",
       "      <td>0.057591</td>\n",
       "      <td>0.032331</td>\n",
       "    </tr>\n",
       "  </tbody>\n",
       "</table>\n",
       "</div>"
      ],
      "text/plain": [
       "                    Baseline    DeepAR\n",
       "MAPE                0.058830  0.042740\n",
       "RMSE                0.840536  0.600638\n",
       "wQuantileLoss[0.1]  0.053048  0.018518\n",
       "wQuantileLoss[0.5]  0.057591  0.041002\n",
       "wQuantileLoss[0.9]  0.062133  0.020098\n",
       "mean_wQuantileLoss  0.057591  0.032331"
      ]
     },
     "metadata": {},
     "output_type": "display_data"
    }
   ],
   "source": [
    "metrics_df = pd.concat([pd.Series(metrics_baseline), pd.Series(metrics)], axis=1)\n",
    "metrics_df.columns=['Baseline', 'DeepAR']\n",
    "display(metrics_df)"
   ]
  },
  {
   "cell_type": "markdown",
   "metadata": {},
   "source": [
    "<br>\n",
    "\n",
    "## 7. Miscellaneous\n",
    "---\n",
    "\n",
    "### Save the model\n",
    "\n",
    "모델을 저장합니다. 저장된 모델은 deserialize하여 로딩 가능합니다."
   ]
  },
  {
   "cell_type": "code",
   "execution_count": 36,
   "metadata": {},
   "outputs": [
    {
     "name": "stderr",
     "output_type": "stream",
     "text": [
      "WARNING:root:Serializing RepresentableBlockPredictor instances does not save the prediction network structure in a backwards-compatible manner. Be careful not to use this method in production.\n"
     ]
    }
   ],
   "source": [
    "model_dir = 'model'\n",
    "!rm -rf $model_dir\n",
    "os.makedirs(model_dir, exist_ok=True)\n",
    "deepar_predictor.serialize(pathlib.Path(model_dir))"
   ]
  }
 ],
 "metadata": {
  "kernelspec": {
   "display_name": "conda_mxnet_p36",
   "language": "python",
   "name": "conda_mxnet_p36"
  },
  "language_info": {
   "codemirror_mode": {
    "name": "ipython",
    "version": 3
   },
   "file_extension": ".py",
   "mimetype": "text/x-python",
   "name": "python",
   "nbconvert_exporter": "python",
   "pygments_lexer": "ipython3",
   "version": "3.6.13"
  }
 },
 "nbformat": 4,
 "nbformat_minor": 4
}
