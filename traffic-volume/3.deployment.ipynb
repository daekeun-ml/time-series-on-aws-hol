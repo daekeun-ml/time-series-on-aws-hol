{
 "cells": [
  {
   "cell_type": "markdown",
   "metadata": {},
   "source": [
    "# Module 3. Deployment on MMS(Multi Model Server)\n",
    "---\n",
    "\n",
    "본 모듈에서는 모델의 배포(deployment)를 수행합니다. \n",
    "\n",
    "<br>\n",
    "\n",
    "## 1. Inference script\n",
    "---\n",
    "\n",
    "아래 코드 셀은 `src` 디렉토리에 SageMaker 추론 스크립트인 `inference.py`를 저장합니다.<br>\n",
    "\n",
    "이 스크립트는 SageMaker 상에서 MMS(Multi Model Server)를 쉽고 편하게 배포할 수 이는 high-level 툴킷인 SageMaker inference toolkit의 인터페이스를\n",
    "사용하고 있으며, 여러분께서는 인터페이스에 정의된 핸들러(handler) 함수들만 구현하시면 됩니다.\n",
    "\n",
    "#### MMS(Multi Model Server)란?\n",
    "- [https://github.com/awslabs/multi-model-server](https://github.com/awslabs/multi-model-server) (2017년 12월 초 MXNet 1.0 릴리스 시 최초 공개, MXNet용 모델 서버로 시작)\n",
    "- Prerequisites: Java 8, MXNet (단, MXNet 사용 시에만)\n",
    "- MMS는 프레임워크에 구애받지 않도록 설계되었기 때문에, 모든 프레임워크의 백엔드 엔진 역할을 할 수 있는 충분한 유연성을 제공합니다.\n",
    "- SageMaker MXNet 추론 컨테이너와 PyTorch 추론 컨테이너는 SageMaker inference toolkit으로 MMS를 래핑하여 사용합니다.\n",
    "    - 2020년 4월 말 PyTorch용 배포 웹 서비스인 torchserve가 출시되면서, 향후 PyTorch 추론 컨테이너는 MMS 기반에서 torchserve 기반으로 마이그레이션될 예정입니다. "
   ]
  },
  {
   "cell_type": "code",
   "execution_count": 1,
   "metadata": {},
   "outputs": [
    {
     "name": "stdout",
     "output_type": "stream",
     "text": [
      "Overwriting ./src/inference.py\n"
     ]
    }
   ],
   "source": [
    "%%writefile ./src/inference.py\n",
    "\n",
    "import os\n",
    "# os.system('pip install pandas==1.0.0')\n",
    "# os.system('pip install gluonts==0.5.1')\n",
    "import pandas as pd\n",
    "import gluonts \n",
    "import numpy as np\n",
    "import argparse\n",
    "import json\n",
    "import pathlib\n",
    "from mxnet import gpu, cpu\n",
    "from mxnet.context import num_gpus\n",
    "import matplotlib.pyplot as plt\n",
    "\n",
    "from gluonts.dataset.util import to_pandas\n",
    "from gluonts.distribution import DistributionOutput, StudentTOutput, NegativeBinomialOutput, GaussianOutput\n",
    "from gluonts.model.deepar import DeepAREstimator\n",
    "from gluonts.trainer import Trainer\n",
    "from gluonts.evaluation import Evaluator\n",
    "from gluonts.evaluation.backtest import make_evaluation_predictions, backtest_metrics\n",
    "from gluonts.model.predictor import Predictor\n",
    "from gluonts.dataset.field_names import FieldName\n",
    "from gluonts.dataset.common import ListDataset\n",
    "\n",
    "\n",
    "def model_fn(model_dir):\n",
    "    path = pathlib.Path(model_dir)   \n",
    "    predictor = Predictor.deserialize(path)\n",
    "    print(\"model was loaded successfully\")\n",
    "    return predictor\n",
    "\n",
    "\n",
    "def transform_fn(model, request_body, content_type='application/json', accept_type='application/json'):\n",
    "\n",
    "    data = json.loads(request_body)\n",
    "    related_cols = ['holiday', 'temp', 'rain_1h', 'snow_1h', 'clouds_all', 'weather_main', 'weather_description']    \n",
    "\n",
    "    target_test_df = pd.DataFrame(data['target_values'], index=data['timestamp'])\n",
    "    related_test_df = pd.DataFrame(data['related_values'], index=data['timestamp'])\n",
    "    related_test_df.columns = related_cols\n",
    "        \n",
    "    target = target_test_df.values\n",
    "    related = related_test_df.values\n",
    "    num_series = target_test_df.shape[1]\n",
    "    start_dt = target_test_df.index[0]\n",
    "\n",
    "    related_list = [related_test_df[c].values for c in related_cols]    \n",
    "    test_lst = []\n",
    "\n",
    "    target_vec = target.squeeze()\n",
    "    related_vecs = [related.squeeze() for related in related_list]\n",
    "    dic = {FieldName.TARGET: target_vec, \n",
    "           FieldName.START: start_dt,\n",
    "           FieldName.FEAT_DYNAMIC_REAL: related_vecs\n",
    "          } \n",
    "    test_lst.append(dic)\n",
    "    test_ds = ListDataset(test_lst, freq='H')\n",
    "    \n",
    "    response_body = {}\n",
    "    forecast_it = model.predict(test_ds)\n",
    "    forecast = list(forecast_it)\n",
    "    response_body['out'] = forecast[0].samples.mean(axis=0).tolist()\n",
    "\n",
    "    return json.dumps(response_body)"
   ]
  },
  {
   "cell_type": "markdown",
   "metadata": {},
   "source": [
    "<br>\n",
    "\n",
    "## 2. Test Inference code \n",
    "---\n",
    "\n",
    "엔드포인트 배포 전, 추론 스크립트를 검증합니다. "
   ]
  },
  {
   "cell_type": "code",
   "execution_count": 2,
   "metadata": {},
   "outputs": [],
   "source": [
    "%store -r"
   ]
  },
  {
   "cell_type": "code",
   "execution_count": 3,
   "metadata": {},
   "outputs": [
    {
     "name": "stdout",
     "output_type": "stream",
     "text": [
      "model was loaded successfully\n",
      "[457.7642517089844, 567.9750366210938, 382.68304443359375, 320.3094482421875, 899.874755859375, 1698.7567138671875, 5487.13330078125, 5470.951171875, 4177.37109375, 5276.63427734375, 4754.59765625, 4245.623046875, 4421.34765625, 4838.39404296875, 5763.17236328125, 7565.7470703125, 6749.44384765625, 6718.55615234375, 5032.4287109375, 3777.794677734375, 2581.06005859375, 2452.687744140625, 1765.7325439453125, 1272.89208984375, 1039.848388671875, 256.1932373046875, 365.0664367675781, 405.8995361328125, 2061.02978515625, 3240.366943359375, 5432.646484375, 5595.45947265625, 7343.56689453125, 6137.77197265625, 6068.63134765625, 4974.45947265625, 5184.138671875, 5324.9912109375, 5949.27880859375, 6924.556640625, 6832.42626953125, 5999.900390625, 5335.38427734375, 4391.95166015625, 3079.4482421875, 2349.560302734375, 1707.477783203125, 1440.76806640625, 310.7195739746094, -178.45899963378906, 173.61856079101562, 675.1363525390625, 1309.171142578125, 3110.492919921875, 5501.97265625, 6769.359375, 7584.13818359375, 8914.416015625, 6428.90869140625, 5172.14794921875, 5234.119140625, 5337.92919921875, 6189.876953125, 6595.2412109375, 8073.43798828125, 6956.294921875, 6294.49267578125, 3996.25634765625, 2971.705078125, 2614.3798828125, 1415.8760986328125, 750.5427856445312, 373.81378173828125, -57.946659088134766, 94.05082702636719, 190.57839965820312, 1709.274658203125, 3619.871826171875, 6266.13623046875, 6029.759765625, 6336.3212890625, 6671.53857421875, 6109.431640625, 5972.828125, 5841.951171875, 5802.365234375, 6733.84228515625, 7781.0361328125, 8286.5654296875, 7367.0205078125, 6421.01953125, 5331.2685546875, 3887.224365234375, 2718.047119140625, 1809.02490234375, 1478.91357421875, 769.6663818359375, 618.7614135742188, 46.27442932128906, 147.42234802246094, 1649.8760986328125, 4058.984619140625, 6316.41455078125, 5609.5810546875, 6305.83251953125, 6507.06689453125, 5882.32568359375, 5550.45166015625, 5414.94580078125, 5910.28955078125, 5901.435546875, 5871.94921875, 6759.68359375, 6237.3798828125, 5243.8876953125, 4548.55419921875, 3705.6748046875, 2922.162109375, 2620.79833984375, 1891.6129150390625, 1613.27001953125, 1240.9874267578125, 768.7324829101562, 171.79177856445312, 724.243896484375, 1982.62158203125, 3518.936767578125, 4233.689453125, 4424.451171875, 4472.38330078125, 5008.8095703125, 4780.29296875, 5438.8095703125, 5068.3388671875, 5445.35888671875, 5410.04833984375, 5628.923828125, 5092.10546875, 4196.6669921875, 3808.97509765625, 2862.276611328125, 2608.05224609375, 2250.03369140625, 1741.393798828125, 1323.857666015625, 852.1981811523438, 305.81072998046875, 484.60076904296875, 668.2894287109375, 2009.9337158203125, 2067.3251953125, 3901.616455078125, 3887.141357421875, 4200.80810546875, 4078.5703125, 4199.60302734375, 4281.19580078125, 4956.99951171875, 5149.669921875, 5966.185546875, 5697.42919921875, 2467.262939453125, 4690.57080078125, 3712.6142578125, 2995.3896484375, 2311.534423828125, 1437.0379638671875, 783.76708984375]\n"
     ]
    }
   ],
   "source": [
    "from src.inference import model_fn, transform_fn\n",
    "import json\n",
    "import numpy as np\n",
    "import pandas as pd\n",
    "\n",
    "# Prepare test data\n",
    "target_test_df = pd.read_csv(\"data/target_test.csv\", index_col=0)\n",
    "related_test_df = pd.read_csv(\"data/related_test.csv\", index_col=0)\n",
    "\n",
    "pred_length = 50\n",
    "input_data = {'target_values': target_test_df.values.tolist(), \n",
    "              'related_values': related_test_df.values.tolist(),\n",
    "              'timestamp': target_test_df.index.tolist()\n",
    "             }\n",
    "request_body = json.dumps(input_data)\n",
    "\n",
    "# Test inference script \n",
    "model = model_fn('./model')\n",
    "response = transform_fn(model, request_body)\n",
    "outputs = json.loads(response)\n",
    "print(outputs['out'])"
   ]
  },
  {
   "cell_type": "markdown",
   "metadata": {},
   "source": [
    "<br>\n",
    "\n",
    "## 3. Local Endpoint Inference\n",
    "---\n",
    "\n",
    "충분한 검증 및 테스트 없이 훈련된 모델을 곧바로 실제 운영 환경에 배포하기에는 많은 위험 요소들이 있습니다. 따라서, 로컬 모드를 사용하여 실제 운영 환경에 배포하기 위한 추론 인스턴스를 시작하기 전에 노트북 인스턴스의 로컬 환경에서 모델을 배포하는 것을 권장합니다. 이를 로컬 모드 엔드포인트(Local Mode Endpoint)라고 합니다."
   ]
  },
  {
   "cell_type": "code",
   "execution_count": 4,
   "metadata": {},
   "outputs": [],
   "source": [
    "import os\n",
    "import time\n",
    "import sagemaker\n",
    "from sagemaker.mxnet import MXNetModel\n",
    "role = sagemaker.get_execution_role()"
   ]
  },
  {
   "cell_type": "code",
   "execution_count": 5,
   "metadata": {},
   "outputs": [],
   "source": [
    "local_model_path = f'file://{os.getcwd()}/model/model.tar.gz'\n",
    "endpoint_name = \"local-endpoint-traffic-volume-forecast-{}\".format(int(time.time()))"
   ]
  },
  {
   "cell_type": "markdown",
   "metadata": {},
   "source": [
    "\n",
    "아래 코드 셀을 실행 후, 로그를 확인해 보세요. MMS에 대한 세팅값들을 확인하실 수 있습니다.\n",
    "\n",
    "```bash\n",
    "algo-1-u3xwd_1  | MMS Home: /usr/local/lib/python3.6/site-packages\n",
    "algo-1-u3xwd_1  | Current directory: /\n",
    "algo-1-u3xwd_1  | Temp directory: /home/model-server/tmp\n",
    "algo-1-u3xwd_1  | Number of GPUs: 0\n",
    "algo-1-u3xwd_1  | Number of CPUs: 2\n",
    "algo-1-u3xwd_1  | Max heap size: 878 M\n",
    "algo-1-u3xwd_1  | Python executable: /usr/local/bin/python3.6\n",
    "algo-1-u3xwd_1  | Config file: /etc/sagemaker-mms.properties\n",
    "algo-1-u3xwd_1  | Inference address: http://0.0.0.0:8080\n",
    "algo-1-u3xwd_1  | Management address: http://0.0.0.0:8080\n",
    "algo-1-u3xwd_1  | Model Store: /.sagemaker/mms/models\n",
    "...\n",
    "```"
   ]
  },
  {
   "cell_type": "code",
   "execution_count": 6,
   "metadata": {},
   "outputs": [
    {
     "name": "stderr",
     "output_type": "stream",
     "text": [
      "Parameter image will be renamed to image_uri in SageMaker Python SDK v2.\n",
      "'create_image_uri' will be deprecated in favor of 'ImageURIProvider' class in SageMaker Python SDK v2.\n"
     ]
    },
    {
     "name": "stdout",
     "output_type": "stream",
     "text": [
      "Attaching to tmpy7bk5t_z_algo-1-wv0sa_1\n",
      "\u001b[36malgo-1-wv0sa_1  |\u001b[0m Collecting pandas==1.0.0\n",
      "\u001b[36malgo-1-wv0sa_1  |\u001b[0m   Downloading pandas-1.0.0-cp36-cp36m-manylinux1_x86_64.whl (10.1 MB)\n",
      "\u001b[K     |████████████████████████████████| 10.1 MB 14.9 MB/s eta 0:00:01\n",
      "\u001b[36malgo-1-wv0sa_1  |\u001b[0m \u001b[?25hCollecting gluonts==0.5.1\n",
      "\u001b[36malgo-1-wv0sa_1  |\u001b[0m   Downloading gluonts-0.5.1-py3-none-any.whl (419 kB)\n",
      "\u001b[K     |████████████████████████████████| 419 kB 31.4 MB/s eta 0:00:01\n",
      "\u001b[36malgo-1-wv0sa_1  |\u001b[0m \u001b[?25hRequirement already satisfied: python-dateutil>=2.6.1 in /usr/local/lib/python3.6/site-packages (from pandas==1.0.0->-r /opt/ml/model/code/requirements.txt (line 1)) (2.8.1)\n",
      "\u001b[36malgo-1-wv0sa_1  |\u001b[0m Requirement already satisfied: numpy>=1.13.3 in /usr/local/lib/python3.6/site-packages (from pandas==1.0.0->-r /opt/ml/model/code/requirements.txt (line 1)) (1.17.4)\n",
      "\u001b[36malgo-1-wv0sa_1  |\u001b[0m Collecting pytz>=2017.2\n",
      "\u001b[36malgo-1-wv0sa_1  |\u001b[0m   Downloading pytz-2020.1-py2.py3-none-any.whl (510 kB)\n",
      "\u001b[K     |████████████████████████████████| 510 kB 28.4 MB/s eta 0:00:01\n",
      "\u001b[36malgo-1-wv0sa_1  |\u001b[0m \u001b[?25hCollecting ujson~=1.35\n",
      "\u001b[36malgo-1-wv0sa_1  |\u001b[0m   Downloading ujson-1.35.tar.gz (192 kB)\n",
      "\u001b[K     |████████████████████████████████| 192 kB 46.4 MB/s eta 0:00:01\n",
      "\u001b[36malgo-1-wv0sa_1  |\u001b[0m \u001b[?25hCollecting holidays<0.10,>=0.9\n",
      "\u001b[36malgo-1-wv0sa_1  |\u001b[0m   Downloading holidays-0.9.12.tar.gz (85 kB)\n",
      "\u001b[K     |████████████████████████████████| 85 kB 6.7 MB/s  eta 0:00:01\n",
      "\u001b[36malgo-1-wv0sa_1  |\u001b[0m \u001b[?25hRequirement already satisfied: matplotlib~=3.0 in /usr/local/lib/python3.6/site-packages (from gluonts==0.5.1->-r /opt/ml/model/code/requirements.txt (line 2)) (3.3.1)\n",
      "\u001b[36malgo-1-wv0sa_1  |\u001b[0m Collecting pydantic~=1.1\n",
      "\u001b[36malgo-1-wv0sa_1  |\u001b[0m   Downloading pydantic-1.6.1-cp36-cp36m-manylinux2014_x86_64.whl (8.7 MB)\n",
      "\u001b[K     |████████████████████████████████| 8.7 MB 44.6 MB/s eta 0:00:01\n",
      "\u001b[36malgo-1-wv0sa_1  |\u001b[0m \u001b[?25hRequirement already satisfied: tqdm~=4.23 in /usr/local/lib/python3.6/site-packages (from gluonts==0.5.1->-r /opt/ml/model/code/requirements.txt (line 2)) (4.48.2)\n",
      "\u001b[36malgo-1-wv0sa_1  |\u001b[0m Requirement already satisfied: six>=1.5 in /usr/local/lib/python3.6/site-packages (from python-dateutil>=2.6.1->pandas==1.0.0->-r /opt/ml/model/code/requirements.txt (line 1)) (1.15.0)\n",
      "\u001b[36malgo-1-wv0sa_1  |\u001b[0m Requirement already satisfied: cycler>=0.10 in /usr/local/lib/python3.6/site-packages (from matplotlib~=3.0->gluonts==0.5.1->-r /opt/ml/model/code/requirements.txt (line 2)) (0.10.0)\n",
      "\u001b[36malgo-1-wv0sa_1  |\u001b[0m Requirement already satisfied: pillow>=6.2.0 in /usr/local/lib/python3.6/site-packages (from matplotlib~=3.0->gluonts==0.5.1->-r /opt/ml/model/code/requirements.txt (line 2)) (7.2.0)\n",
      "\u001b[36malgo-1-wv0sa_1  |\u001b[0m Requirement already satisfied: pyparsing!=2.0.4,!=2.1.2,!=2.1.6,>=2.0.3 in /usr/local/lib/python3.6/site-packages (from matplotlib~=3.0->gluonts==0.5.1->-r /opt/ml/model/code/requirements.txt (line 2)) (2.4.7)\n",
      "\u001b[36malgo-1-wv0sa_1  |\u001b[0m Requirement already satisfied: certifi>=2020.06.20 in /usr/local/lib/python3.6/site-packages (from matplotlib~=3.0->gluonts==0.5.1->-r /opt/ml/model/code/requirements.txt (line 2)) (2020.6.20)\n",
      "\u001b[36malgo-1-wv0sa_1  |\u001b[0m Requirement already satisfied: kiwisolver>=1.0.1 in /usr/local/lib/python3.6/site-packages (from matplotlib~=3.0->gluonts==0.5.1->-r /opt/ml/model/code/requirements.txt (line 2)) (1.2.0)\n",
      "\u001b[36malgo-1-wv0sa_1  |\u001b[0m Collecting dataclasses>=0.6; python_version < \"3.7\"\n",
      "\u001b[36malgo-1-wv0sa_1  |\u001b[0m   Downloading dataclasses-0.7-py3-none-any.whl (18 kB)\n",
      "\u001b[36malgo-1-wv0sa_1  |\u001b[0m Using legacy 'setup.py install' for ujson, since package 'wheel' is not installed.\n",
      "\u001b[36malgo-1-wv0sa_1  |\u001b[0m Using legacy 'setup.py install' for holidays, since package 'wheel' is not installed.\n",
      "\u001b[36malgo-1-wv0sa_1  |\u001b[0m Installing collected packages: pytz, pandas, ujson, holidays, dataclasses, pydantic, gluonts\n",
      "\u001b[36malgo-1-wv0sa_1  |\u001b[0m     Running setup.py install for ujson ... \u001b[?25ldone\n",
      "\u001b[36malgo-1-wv0sa_1  |\u001b[0m \u001b[?25h    Running setup.py install for holidays ... \u001b[?25ldone\n",
      "\u001b[36malgo-1-wv0sa_1  |\u001b[0m \u001b[?25hSuccessfully installed dataclasses-0.7 gluonts-0.5.1 holidays-0.9.12 pandas-1.0.0 pydantic-1.6.1 pytz-2020.1 ujson-1.35\n",
      "\u001b[36malgo-1-wv0sa_1  |\u001b[0m Warning: Calling MMS with mxnet-model-server. Please move to multi-model-server.\n",
      "\u001b[36malgo-1-wv0sa_1  |\u001b[0m 2020-08-28 11:18:34,251 [INFO ] main com.amazonaws.ml.mms.ModelServer - \n",
      "\u001b[36malgo-1-wv0sa_1  |\u001b[0m MMS Home: /usr/local/lib/python3.6/site-packages\n",
      "\u001b[36malgo-1-wv0sa_1  |\u001b[0m Current directory: /\n",
      "\u001b[36malgo-1-wv0sa_1  |\u001b[0m Temp directory: /home/model-server/tmp\n",
      "\u001b[36malgo-1-wv0sa_1  |\u001b[0m Number of GPUs: 0\n",
      "\u001b[36malgo-1-wv0sa_1  |\u001b[0m Number of CPUs: 2\n",
      "\u001b[36malgo-1-wv0sa_1  |\u001b[0m Max heap size: 1751 M\n",
      "\u001b[36malgo-1-wv0sa_1  |\u001b[0m Python executable: /usr/local/bin/python3.6\n",
      "\u001b[36malgo-1-wv0sa_1  |\u001b[0m Config file: /etc/sagemaker-mms.properties\n",
      "\u001b[36malgo-1-wv0sa_1  |\u001b[0m Inference address: http://0.0.0.0:8080\n",
      "\u001b[36malgo-1-wv0sa_1  |\u001b[0m Management address: http://0.0.0.0:8080\n",
      "\u001b[36malgo-1-wv0sa_1  |\u001b[0m Model Store: /.sagemaker/mms/models\n",
      "\u001b[36malgo-1-wv0sa_1  |\u001b[0m Initial Models: ALL\n",
      "\u001b[36malgo-1-wv0sa_1  |\u001b[0m Log dir: /logs\n",
      "\u001b[36malgo-1-wv0sa_1  |\u001b[0m Metrics dir: /logs\n",
      "\u001b[36malgo-1-wv0sa_1  |\u001b[0m Netty threads: 0\n",
      "\u001b[36malgo-1-wv0sa_1  |\u001b[0m Netty client threads: 0\n",
      "\u001b[36malgo-1-wv0sa_1  |\u001b[0m Default workers per model: 2\n",
      "\u001b[36malgo-1-wv0sa_1  |\u001b[0m Blacklist Regex: N/A\n",
      "\u001b[36malgo-1-wv0sa_1  |\u001b[0m Maximum Response Size: 6553500\n",
      "\u001b[36malgo-1-wv0sa_1  |\u001b[0m Maximum Request Size: 6553500\n",
      "\u001b[36malgo-1-wv0sa_1  |\u001b[0m Preload model: false\n",
      "\u001b[36malgo-1-wv0sa_1  |\u001b[0m Prefer direct buffer: false\n",
      "\u001b[36malgo-1-wv0sa_1  |\u001b[0m 2020-08-28 11:18:34,352 [WARN ] W-9000-model com.amazonaws.ml.mms.wlm.WorkerLifeCycle - attachIOStreams() threadName=W-9000-model\n",
      "\u001b[36malgo-1-wv0sa_1  |\u001b[0m 2020-08-28 11:18:34,494 [INFO ] W-9000-model-stdout com.amazonaws.ml.mms.wlm.WorkerLifeCycle - model_service_worker started with args: --sock-type unix --sock-name /home/model-server/tmp/.mms.sock.9000 --handler sagemaker_mxnet_serving_container.handler_service --model-path /.sagemaker/mms/models/model --model-name model --preload-model false --tmp-dir /home/model-server/tmp\n",
      "\u001b[36malgo-1-wv0sa_1  |\u001b[0m 2020-08-28 11:18:34,496 [INFO ] W-9000-model-stdout com.amazonaws.ml.mms.wlm.WorkerLifeCycle - Listening on port: /home/model-server/tmp/.mms.sock.9000\n",
      "\u001b[36malgo-1-wv0sa_1  |\u001b[0m 2020-08-28 11:18:34,497 [INFO ] W-9000-model-stdout com.amazonaws.ml.mms.wlm.WorkerLifeCycle - [PID] 84\n",
      "\u001b[36malgo-1-wv0sa_1  |\u001b[0m 2020-08-28 11:18:34,498 [INFO ] W-9000-model-stdout com.amazonaws.ml.mms.wlm.WorkerLifeCycle - MMS worker started.\n",
      "\u001b[36malgo-1-wv0sa_1  |\u001b[0m 2020-08-28 11:18:34,499 [INFO ] main com.amazonaws.ml.mms.wlm.ModelManager - Model model loaded.\n",
      "\u001b[36malgo-1-wv0sa_1  |\u001b[0m 2020-08-28 11:18:34,500 [INFO ] W-9000-model-stdout com.amazonaws.ml.mms.wlm.WorkerLifeCycle - Python runtime: 3.6.10\n",
      "\u001b[36malgo-1-wv0sa_1  |\u001b[0m 2020-08-28 11:18:34,506 [INFO ] main com.amazonaws.ml.mms.ModelServer - Initialize Inference server with: EpollServerSocketChannel.\n",
      "\u001b[36malgo-1-wv0sa_1  |\u001b[0m 2020-08-28 11:18:34,530 [INFO ] W-9000-model com.amazonaws.ml.mms.wlm.WorkerThread - Connecting to: /home/model-server/tmp/.mms.sock.9000\n",
      "\u001b[36malgo-1-wv0sa_1  |\u001b[0m 2020-08-28 11:18:34,531 [INFO ] W-9000-model com.amazonaws.ml.mms.wlm.WorkerThread - Connecting to: /home/model-server/tmp/.mms.sock.9000\n",
      "\u001b[36malgo-1-wv0sa_1  |\u001b[0m 2020-08-28 11:18:34,594 [INFO ] main com.amazonaws.ml.mms.ModelServer - Inference API bind to: http://0.0.0.0:8080\n",
      "\u001b[36malgo-1-wv0sa_1  |\u001b[0m Model server started.\n",
      "\u001b[36malgo-1-wv0sa_1  |\u001b[0m 2020-08-28 11:18:34,609 [INFO ] W-9000-model-stdout com.amazonaws.ml.mms.wlm.WorkerLifeCycle - Connection accepted: /home/model-server/tmp/.mms.sock.9000.\n",
      "\u001b[36malgo-1-wv0sa_1  |\u001b[0m 2020-08-28 11:18:34,611 [INFO ] W-9000-model-stdout com.amazonaws.ml.mms.wlm.WorkerLifeCycle - Connection accepted: /home/model-server/tmp/.mms.sock.9000.\n",
      "\u001b[36malgo-1-wv0sa_1  |\u001b[0m 2020-08-28 11:18:34,621 [WARN ] pool-2-thread-1 com.amazonaws.ml.mms.metrics.MetricCollector - worker pid is not available yet.\n",
      "\u001b[36malgo-1-wv0sa_1  |\u001b[0m 2020-08-28 11:18:36,413 [INFO ] pool-1-thread-4 ACCESS_LOG - /172.18.0.1:44160 \"GET /ping HTTP/1.1\" 200 39\n",
      "!"
     ]
    }
   ],
   "source": [
    "local_model = MXNetModel(model_data=local_model_path,\n",
    "                         role=role,\n",
    "                         source_dir='src',\n",
    "                         entry_point='inference.py',\n",
    "                         framework_version='1.6.0',\n",
    "                         py_version='py3')\n",
    "\n",
    "predictor = local_model.deploy(instance_type='local', \n",
    "                           initial_instance_count=1, \n",
    "                           endpoint_name=endpoint_name,\n",
    "                           wait=True)"
   ]
  },
  {
   "cell_type": "markdown",
   "metadata": {},
   "source": [
    "로컬에서 컨테이너를 배포했기 때문에 컨테이너가 현재 실행 중임을 확인할 수 있습니다."
   ]
  },
  {
   "cell_type": "code",
   "execution_count": 7,
   "metadata": {},
   "outputs": [
    {
     "name": "stdout",
     "output_type": "stream",
     "text": [
      "CONTAINER ID        IMAGE                                                                        COMMAND                  CREATED             STATUS              PORTS                              NAMES\r\n",
      "8b6149915bd0        763104351884.dkr.ecr.us-east-1.amazonaws.com/mxnet-inference:1.6.0-cpu-py3   \"python /usr/local/b…\"   14 seconds ago      Up 13 seconds       0.0.0.0:8080->8080/tcp, 8081/tcp   tmpy7bk5t_z_algo-1-wv0sa_1\r\n"
     ]
    }
   ],
   "source": [
    "!docker ps"
   ]
  },
  {
   "cell_type": "markdown",
   "metadata": {},
   "source": [
    "### Inference using SageMaker SDK\n",
    "\n",
    "SageMaker SDK의 `predict()` 메서드로 쉽게 추론을 수행할 수 있습니다. "
   ]
  },
  {
   "cell_type": "code",
   "execution_count": 8,
   "metadata": {},
   "outputs": [
    {
     "name": "stdout",
     "output_type": "stream",
     "text": [
      "\u001b[36malgo-1-wv0sa_1  |\u001b[0m 2020-08-28 11:18:37,672 [INFO ] W-9000-model-stdout com.amazonaws.ml.mms.wlm.WorkerLifeCycle - Generating new fontManager, this may take some time...\n",
      "\u001b[36malgo-1-wv0sa_1  |\u001b[0m 2020-08-28 11:18:37,680 [INFO ] W-9000-model-stdout com.amazonaws.ml.mms.wlm.WorkerLifeCycle - Generating new fontManager, this may take some time...\n",
      "\u001b[36malgo-1-wv0sa_1  |\u001b[0m 2020-08-28 11:18:38,673 [INFO ] W-9000-model-stdout com.amazonaws.ml.mms.wlm.WorkerLifeCycle - Using CPU\n",
      "\u001b[36malgo-1-wv0sa_1  |\u001b[0m 2020-08-28 11:18:38,690 [INFO ] W-9000-model-stdout com.amazonaws.ml.mms.wlm.WorkerLifeCycle - Using CPU\n",
      "\u001b[36malgo-1-wv0sa_1  |\u001b[0m 2020-08-28 11:18:38,706 [INFO ] W-9000-model-stdout com.amazonaws.ml.mms.wlm.WorkerLifeCycle - model was loaded successfully\n",
      "\u001b[36malgo-1-wv0sa_1  |\u001b[0m 2020-08-28 11:18:38,708 [INFO ] W-9000-model-stdout com.amazonaws.ml.mms.wlm.WorkerLifeCycle - Model model loaded io_fd=0242acfffe120002-00000046-00000000-443d5144d7d26924-c7690c30\n",
      "\u001b[36malgo-1-wv0sa_1  |\u001b[0m 2020-08-28 11:18:38,711 [INFO ] W-9000-model com.amazonaws.ml.mms.wlm.WorkerThread - Backend response time: 4015\n",
      "\u001b[36malgo-1-wv0sa_1  |\u001b[0m 2020-08-28 11:18:38,713 [WARN ] W-9000-model com.amazonaws.ml.mms.wlm.WorkerLifeCycle - attachIOStreams() threadName=W-model-2\n",
      "\u001b[36malgo-1-wv0sa_1  |\u001b[0m 2020-08-28 11:18:38,725 [INFO ] W-9000-model-stdout com.amazonaws.ml.mms.wlm.WorkerLifeCycle - model was loaded successfully\n",
      "\u001b[36malgo-1-wv0sa_1  |\u001b[0m 2020-08-28 11:18:38,730 [INFO ] W-9000-model-stdout com.amazonaws.ml.mms.wlm.WorkerLifeCycle - Model model loaded io_fd=0242acfffe120002-00000046-00000001-81a57344d7d26929-2be5b556\n",
      "\u001b[36malgo-1-wv0sa_1  |\u001b[0m 2020-08-28 11:18:38,727 [INFO ] W-9000-model com.amazonaws.ml.mms.wlm.WorkerThread - Backend response time: 4033\n",
      "\u001b[36malgo-1-wv0sa_1  |\u001b[0m 2020-08-28 11:18:38,732 [WARN ] W-9000-model com.amazonaws.ml.mms.wlm.WorkerLifeCycle - attachIOStreams() threadName=W-model-1\n",
      "\u001b[36malgo-1-wv0sa_1  |\u001b[0m 2020-08-28 11:18:38,783 [INFO ] W-9000-model com.amazonaws.ml.mms.wlm.WorkerThread - Backend response time: 47\n",
      "\u001b[36malgo-1-wv0sa_1  |\u001b[0m 2020-08-28 11:18:38,785 [INFO ] W-9000-model ACCESS_LOG - /172.18.0.1:44164 \"POST /invocations HTTP/1.1\" 200 2049\n"
     ]
    }
   ],
   "source": [
    "outputs = predictor.predict(input_data)"
   ]
  },
  {
   "cell_type": "code",
   "execution_count": 9,
   "metadata": {},
   "outputs": [
    {
     "name": "stdout",
     "output_type": "stream",
     "text": [
      "{'out': [457.7642517089844, 567.9750366210938, 382.68304443359375, 320.3094482421875, 899.874755859375, 1698.7567138671875, 5487.13330078125, 5470.951171875, 4177.37109375, 5276.63427734375, 4754.59765625, 4245.623046875, 4421.34765625, 4838.39404296875, 5763.17236328125, 7565.7470703125, 6749.44384765625, 6718.55615234375, 5032.4287109375, 3777.794677734375, 2581.06005859375, 2452.687744140625, 1765.7325439453125, 1272.89208984375, 1039.848388671875, 256.1932373046875, 365.0664367675781, 405.8995361328125, 2061.02978515625, 3240.366943359375, 5432.646484375, 5595.45947265625, 7343.56689453125, 6137.77197265625, 6068.63134765625, 4974.45947265625, 5184.138671875, 5324.9912109375, 5949.27880859375, 6924.556640625, 6832.42626953125, 5999.900390625, 5335.38427734375, 4391.95166015625, 3079.4482421875, 2349.560302734375, 1707.477783203125, 1440.76806640625, 310.7195739746094, -178.45899963378906, 173.61856079101562, 675.1363525390625, 1309.171142578125, 3110.492919921875, 5501.97265625, 6769.359375, 7584.13818359375, 8914.416015625, 6428.90869140625, 5172.14794921875, 5234.119140625, 5337.92919921875, 6189.876953125, 6595.2412109375, 8073.43798828125, 6956.294921875, 6294.49267578125, 3996.25634765625, 2971.705078125, 2614.3798828125, 1415.8760986328125, 750.5427856445312, 373.81378173828125, -57.946659088134766, 94.05082702636719, 190.57839965820312, 1709.274658203125, 3619.871826171875, 6266.13623046875, 6029.759765625, 6336.3212890625, 6671.53857421875, 6109.431640625, 5972.828125, 5841.951171875, 5802.365234375, 6733.84228515625, 7781.0361328125, 8286.5654296875, 7367.0205078125, 6421.01953125, 5331.2685546875, 3887.224365234375, 2718.047119140625, 1809.02490234375, 1478.91357421875, 769.6663818359375, 618.7614135742188, 46.27442932128906, 147.42234802246094, 1649.8760986328125, 4058.984619140625, 6316.41455078125, 5609.5810546875, 6305.83251953125, 6507.06689453125, 5882.32568359375, 5550.45166015625, 5414.94580078125, 5910.28955078125, 5901.435546875, 5871.94921875, 6759.68359375, 6237.3798828125, 5243.8876953125, 4548.55419921875, 3705.6748046875, 2922.162109375, 2620.79833984375, 1891.6129150390625, 1613.27001953125, 1240.9874267578125, 768.7324829101562, 171.79177856445312, 724.243896484375, 1982.62158203125, 3518.936767578125, 4233.689453125, 4424.451171875, 4472.38330078125, 5008.8095703125, 4780.29296875, 5438.8095703125, 5068.3388671875, 5445.35888671875, 5410.04833984375, 5628.923828125, 5092.10546875, 4196.6669921875, 3808.97509765625, 2862.276611328125, 2608.05224609375, 2250.03369140625, 1741.393798828125, 1323.857666015625, 852.1981811523438, 305.81072998046875, 484.60076904296875, 668.2894287109375, 2009.9337158203125, 2067.3251953125, 3901.616455078125, 3887.141357421875, 4200.80810546875, 4078.5703125, 4199.60302734375, 4281.19580078125, 4956.99951171875, 5149.669921875, 5966.185546875, 5697.42919921875, 2467.262939453125, 4690.57080078125, 3712.6142578125, 2995.3896484375, 2311.534423828125, 1437.0379638671875, 783.76708984375]}\n"
     ]
    }
   ],
   "source": [
    "print(outputs)"
   ]
  },
  {
   "cell_type": "markdown",
   "metadata": {},
   "source": [
    "### Inference using Boto3 SDK\n",
    "\n",
    "SageMaker SDK의 `predict()` 메서드로 추론을 수행할 수도 있지만, 이번에는 boto3의 `invoke_endpoint()` 메서드로 추론을 수행해 보겠습니다.<br>\n",
    "Boto3는 서비스 레벨의 low-level SDK로, ML 실험에 초점을 맞춰 일부 기능들이 추상화된 high-level SDK인 SageMaker SDK와 달리\n",
    "SageMaker API를 완벽하게 제어할 수 있습으며, 프로덕션 및 자동화 작업에 적합합니다.\n",
    "\n",
    "참고로 `invoke_endpoint()` 호출을 위한 런타임 클라이언트 인스턴스 생성 시, 로컬 배포 모드에서는 `sagemaker.local.LocalSagemakerRuntimeClient()`를 호출해야 합니다."
   ]
  },
  {
   "cell_type": "code",
   "execution_count": 10,
   "metadata": {},
   "outputs": [
    {
     "name": "stdout",
     "output_type": "stream",
     "text": [
      "\u001b[36malgo-1-wv0sa_1  |\u001b[0m 2020-08-28 11:18:38,875 [INFO ] W-9000-model com.amazonaws.ml.mms.wlm.WorkerThread - Backend response time: 31\r\n",
      "\u001b[36malgo-1-wv0sa_1  |\u001b[0m 2020-08-28 11:18:38,877 [INFO ] W-9000-model ACCESS_LOG - /172.18.0.1:44188 \"POST /invocations HTTP/1.1\" 200 34\r\n"
     ]
    }
   ],
   "source": [
    "client = sagemaker.local.LocalSagemakerClient()\n",
    "runtime_client = sagemaker.local.LocalSagemakerRuntimeClient()\n",
    "endpoint_name = local_model.endpoint_name\n",
    "\n",
    "response = runtime_client.invoke_endpoint(\n",
    "    EndpointName=endpoint_name, \n",
    "    ContentType='application/json',\n",
    "    Accept='application/json',\n",
    "    Body=json.dumps(input_data)\n",
    "    )\n",
    "outputs = response['Body'].read().decode()"
   ]
  },
  {
   "cell_type": "code",
   "execution_count": 11,
   "metadata": {},
   "outputs": [
    {
     "data": {
      "text/plain": [
       "'{\"out\": [457.7642517089844, 567.9750366210938, 382.68304443359375, 320.3094482421875, 899.874755859375, 1698.7567138671875, 5487.13330078125, 5470.951171875, 4177.37109375, 5276.63427734375, 4754.59765625, 4245.623046875, 4421.34765625, 4838.39404296875, 5763.17236328125, 7565.7470703125, 6749.44384765625, 6718.55615234375, 5032.4287109375, 3777.794677734375, 2581.06005859375, 2452.687744140625, 1765.7325439453125, 1272.89208984375, 1039.848388671875, 256.1932373046875, 365.0664367675781, 405.8995361328125, 2061.02978515625, 3240.366943359375, 5432.646484375, 5595.45947265625, 7343.56689453125, 6137.77197265625, 6068.63134765625, 4974.45947265625, 5184.138671875, 5324.9912109375, 5949.27880859375, 6924.556640625, 6832.42626953125, 5999.900390625, 5335.38427734375, 4391.95166015625, 3079.4482421875, 2349.560302734375, 1707.477783203125, 1440.76806640625, 310.7195739746094, -178.45899963378906, 173.61856079101562, 675.1363525390625, 1309.171142578125, 3110.492919921875, 5501.97265625, 6769.359375, 7584.13818359375, 8914.416015625, 6428.90869140625, 5172.14794921875, 5234.119140625, 5337.92919921875, 6189.876953125, 6595.2412109375, 8073.43798828125, 6956.294921875, 6294.49267578125, 3996.25634765625, 2971.705078125, 2614.3798828125, 1415.8760986328125, 750.5427856445312, 373.81378173828125, -57.946659088134766, 94.05082702636719, 190.57839965820312, 1709.274658203125, 3619.871826171875, 6266.13623046875, 6029.759765625, 6336.3212890625, 6671.53857421875, 6109.431640625, 5972.828125, 5841.951171875, 5802.365234375, 6733.84228515625, 7781.0361328125, 8286.5654296875, 7367.0205078125, 6421.01953125, 5331.2685546875, 3887.224365234375, 2718.047119140625, 1809.02490234375, 1478.91357421875, 769.6663818359375, 618.7614135742188, 46.27442932128906, 147.42234802246094, 1649.8760986328125, 4058.984619140625, 6316.41455078125, 5609.5810546875, 6305.83251953125, 6507.06689453125, 5882.32568359375, 5550.45166015625, 5414.94580078125, 5910.28955078125, 5901.435546875, 5871.94921875, 6759.68359375, 6237.3798828125, 5243.8876953125, 4548.55419921875, 3705.6748046875, 2922.162109375, 2620.79833984375, 1891.6129150390625, 1613.27001953125, 1240.9874267578125, 768.7324829101562, 171.79177856445312, 724.243896484375, 1982.62158203125, 3518.936767578125, 4233.689453125, 4424.451171875, 4472.38330078125, 5008.8095703125, 4780.29296875, 5438.8095703125, 5068.3388671875, 5445.35888671875, 5410.04833984375, 5628.923828125, 5092.10546875, 4196.6669921875, 3808.97509765625, 2862.276611328125, 2608.05224609375, 2250.03369140625, 1741.393798828125, 1323.857666015625, 852.1981811523438, 305.81072998046875, 484.60076904296875, 668.2894287109375, 2009.9337158203125, 2067.3251953125, 3901.616455078125, 3887.141357421875, 4200.80810546875, 4078.5703125, 4199.60302734375, 4281.19580078125, 4956.99951171875, 5149.669921875, 5966.185546875, 5697.42919921875, 2467.262939453125, 4690.57080078125, 3712.6142578125, 2995.3896484375, 2311.534423828125, 1437.0379638671875, 783.76708984375]}'"
      ]
     },
     "execution_count": 11,
     "metadata": {},
     "output_type": "execute_result"
    }
   ],
   "source": [
    "outputs"
   ]
  },
  {
   "cell_type": "markdown",
   "metadata": {},
   "source": [
    "### Local Mode Endpoint Clean-up\n",
    "\n",
    "엔드포인트를 계속 사용하지 않는다면, 엔드포인트를 삭제해야 합니다. \n",
    "SageMaker SDK에서는 `delete_endpoint()` 메소드로 간단히 삭제할 수 있습니다."
   ]
  },
  {
   "cell_type": "code",
   "execution_count": null,
   "metadata": {},
   "outputs": [],
   "source": [
    "def delete_endpoint(client, endpoint_name):\n",
    "    response = client.describe_endpoint_config(EndpointConfigName=endpoint_name)\n",
    "    model_name = response['ProductionVariants'][0]['ModelName']\n",
    "\n",
    "    client.delete_model(ModelName=model_name)    \n",
    "    client.delete_endpoint(EndpointName=endpoint_name)\n",
    "    client.delete_endpoint_config(EndpointConfigName=endpoint_name)    \n",
    "    \n",
    "    print(f'--- Deleted model: {model_name}')\n",
    "    print(f'--- Deleted endpoint: {endpoint_name}')\n",
    "    print(f'--- Deleted endpoint_config: {endpoint_name}')    \n",
    "delete_endpoint(client, endpoint_name)"
   ]
  },
  {
   "cell_type": "markdown",
   "metadata": {},
   "source": [
    "<br>\n",
    "\n",
    "## 4. SageMaker Hosted Endpoint Inference\n",
    "---\n",
    "\n",
    "이제 실제 운영 환경에 엔드포인트 배포를 수행해 보겠습니다. 로컬 모드 엔드포인트와 대부분의 코드가 동일하며, 모델 아티팩트 경로(`model_data`)와 인스턴스 유형(`instance_type`)만 변경해 주시면 됩니다. SageMaker가 관리하는 배포 클러스터를 프로비저닝하는 시간이 소요되기 때문에 추론 서비스를 시작하는 데에는 약 5~10분 정도 소요됩니다."
   ]
  },
  {
   "cell_type": "code",
   "execution_count": null,
   "metadata": {},
   "outputs": [],
   "source": [
    "import os\n",
    "import boto3\n",
    "import sagemaker\n",
    "from sagemaker.mxnet import MXNet\n",
    "\n",
    "boto_session = boto3.Session()\n",
    "sagemaker_session = sagemaker.Session(boto_session=boto_session)\n",
    "role = sagemaker.get_execution_role()\n",
    "bucket = sagemaker.Session().default_bucket()"
   ]
  },
  {
   "cell_type": "code",
   "execution_count": null,
   "metadata": {},
   "outputs": [],
   "source": [
    "model_path = os.path.join(s3_model_dir, \"model.tar.gz\")\n",
    "endpoint_name = \"endpoint-store-item-demand-forecast-{}\".format(int(time.time()))"
   ]
  },
  {
   "cell_type": "code",
   "execution_count": null,
   "metadata": {},
   "outputs": [],
   "source": [
    "model_path"
   ]
  },
  {
   "cell_type": "code",
   "execution_count": null,
   "metadata": {},
   "outputs": [],
   "source": [
    "!aws s3 ls s3://sagemaker-us-east-1-143656149352/mxnet-training-2020-08-27-14-18-31-655/output/"
   ]
  },
  {
   "cell_type": "code",
   "execution_count": null,
   "metadata": {},
   "outputs": [],
   "source": [
    "model = MXNetModel(model_data=model_path,\n",
    "                         role=role,\n",
    "                         source_dir='src',\n",
    "                         entry_point='inference.py',\n",
    "                         framework_version='1.6.0',\n",
    "                         py_version='py3')\n",
    "\n",
    "predictor = model.deploy(instance_type=\"ml.c5.large\", \n",
    "                         initial_instance_count=1, \n",
    "                         endpoint_name=endpoint_name,\n",
    "                         wait=True)"
   ]
  },
  {
   "cell_type": "markdown",
   "metadata": {},
   "source": [
    "추론을 수행합니다. 로컬 모드의 코드와 동일합니다."
   ]
  },
  {
   "cell_type": "markdown",
   "metadata": {},
   "source": []
  },
  {
   "cell_type": "code",
   "execution_count": null,
   "metadata": {},
   "outputs": [],
   "source": [
    "# outputs = predictor.predict(input_data)\n",
    "# print(outputs)"
   ]
  },
  {
   "cell_type": "code",
   "execution_count": null,
   "metadata": {},
   "outputs": [],
   "source": [
    "import boto3\n",
    "client = boto3.client('sagemaker')\n",
    "runtime_client = boto3.client('sagemaker-runtime')\n",
    "endpoint_name = model.endpoint_name"
   ]
  },
  {
   "cell_type": "code",
   "execution_count": null,
   "metadata": {},
   "outputs": [],
   "source": [
    "\n",
    "response = runtime_client.invoke_endpoint(\n",
    "    EndpointName=endpoint_name, \n",
    "    ContentType='application/json',\n",
    "    Accept='application/json',\n",
    "    Body=json.dumps(input_data)\n",
    "    )\n",
    "outputs = response['Body'].read().decode()"
   ]
  },
  {
   "cell_type": "code",
   "execution_count": null,
   "metadata": {},
   "outputs": [],
   "source": [
    "outputs"
   ]
  },
  {
   "cell_type": "markdown",
   "metadata": {},
   "source": [
    "### SageMaker Hosted Endpoint Clean-up\n",
    "\n",
    "엔드포인트를 계속 사용하지 않는다면, 불필요한 과금을 피하기 위해 엔드포인트를 삭제해야 합니다. \n",
    "SageMaker SDK에서는 `delete_endpoint()` 메소드로 간단히 삭제할 수 있으며, UI에서도 쉽게 삭제할 수 있습니다."
   ]
  },
  {
   "cell_type": "code",
   "execution_count": null,
   "metadata": {},
   "outputs": [],
   "source": [
    "delete_endpoint(client, endpoint_name)"
   ]
  }
 ],
 "metadata": {
  "kernelspec": {
   "display_name": "conda_mxnet_p36",
   "language": "python",
   "name": "conda_mxnet_p36"
  },
  "language_info": {
   "codemirror_mode": {
    "name": "ipython",
    "version": 3
   },
   "file_extension": ".py",
   "mimetype": "text/x-python",
   "name": "python",
   "nbconvert_exporter": "python",
   "pygments_lexer": "ipython3",
   "version": "3.6.10"
  }
 },
 "nbformat": 4,
 "nbformat_minor": 4
}
