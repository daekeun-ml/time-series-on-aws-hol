{
 "cells": [
  {
   "cell_type": "markdown",
   "metadata": {},
   "source": [
    "# Module 3. Deployment on MMS(Multi Model Server)\n",
    "---\n",
    "\n",
    "본 모듈에서는 모델의 배포(deployment)를 수행합니다. 노트북 실행에는 약 15분 가량 소요되며, 핸즈온 실습 시에는 25분을 권장드립니다.\n",
    "\n",
    "<br>\n",
    "\n",
    "## 1. Inference script\n",
    "---\n",
    "\n",
    "아래 코드 셀은 `src` 디렉토리에 SageMaker 추론 스크립트인 `inference.py`를 저장합니다.<br>\n",
    "\n",
    "이 스크립트는 SageMaker 상에서 MMS(Multi Model Server)를 쉽고 편하게 배포할 수 이는 high-level 툴킷인 SageMaker inference toolkit의 인터페이스를\n",
    "사용하고 있으며, 여러분께서는 인터페이스에 정의된 핸들러(handler) 함수들만 구현하시면 됩니다.\n",
    "\n",
    "#### MMS(Multi Model Server)란?\n",
    "- [https://github.com/awslabs/multi-model-server](https://github.com/awslabs/multi-model-server) (2017년 12월 초 MXNet 1.0 릴리스 시 최초 공개, MXNet용 모델 서버로 시작)\n",
    "- Prerequisites: Java 8, MXNet (단, MXNet 사용 시에만)\n",
    "- MMS는 프레임워크에 구애받지 않도록 설계되었기 때문에, 모든 프레임워크의 백엔드 엔진 역할을 할 수 있는 충분한 유연성을 제공합니다.\n",
    "- SageMaker MXNet 추론 컨테이너와 PyTorch 추론 컨테이너는 SageMaker inference toolkit으로 MMS를 래핑하여 사용합니다.\n",
    "    - 2020년 4월 말 PyTorch용 배포 웹 서비스인 torchserve가 출시되면서, 향후 PyTorch 추론 컨테이너는 MMS 기반에서 torchserve 기반으로 마이그레이션될 예정입니다. "
   ]
  },
  {
   "cell_type": "code",
   "execution_count": 1,
   "metadata": {},
   "outputs": [
    {
     "name": "stdout",
     "output_type": "stream",
     "text": [
      "Overwriting ./src/inference.py\n"
     ]
    }
   ],
   "source": [
    "%%writefile ./src/inference.py\n",
    "\n",
    "import os\n",
    "import pandas as pd\n",
    "import gluonts \n",
    "import numpy as np\n",
    "import argparse\n",
    "import json\n",
    "import pathlib\n",
    "from mxnet import gpu, cpu\n",
    "from mxnet.context import num_gpus\n",
    "import matplotlib.pyplot as plt\n",
    "\n",
    "from gluonts.dataset.util import to_pandas\n",
    "from gluonts.mx.distribution import DistributionOutput, StudentTOutput, NegativeBinomialOutput, GaussianOutput\n",
    "from gluonts.model.deepar import DeepAREstimator\n",
    "from gluonts.mx.trainer import Trainer\n",
    "from gluonts.evaluation import Evaluator\n",
    "from gluonts.evaluation.backtest import make_evaluation_predictions, backtest_metrics\n",
    "from gluonts.model.predictor import Predictor\n",
    "from gluonts.dataset.field_names import FieldName\n",
    "from gluonts.dataset.common import ListDataset\n",
    "\n",
    "\n",
    "def model_fn(model_dir):\n",
    "    path = pathlib.Path(model_dir)   \n",
    "    predictor = Predictor.deserialize(path)\n",
    "    print(\"model was loaded successfully\")\n",
    "    return predictor\n",
    "\n",
    "\n",
    "def transform_fn(model, request_body, content_type='application/json', accept_type='application/json'):\n",
    "    \n",
    "    related_cols = ['holiday', 'temp', 'rain_1h', 'snow_1h', 'clouds_all', 'weather_main', 'weather_description']    \n",
    "    FREQ = 'H'\n",
    "    pred_length = 24*7\n",
    "\n",
    "    data = json.loads(request_body)\n",
    "\n",
    "    target_test_df = pd.DataFrame(data['target_values'], index=data['timestamp'])\n",
    "    related_test_df = pd.DataFrame(data['related_values'], index=data['timestamp'])\n",
    "    related_test_df.columns = related_cols\n",
    "        \n",
    "    target = target_test_df.values\n",
    "    related = related_test_df.values\n",
    "    num_series = target_test_df.shape[1]\n",
    "    start_dt = target_test_df.index[0]\n",
    "\n",
    "    related_list = [related_test_df[c].values for c in related_cols]    \n",
    "    test_lst = []\n",
    "\n",
    "    target_vec = target.squeeze()\n",
    "    related_vecs = [related.squeeze() for related in related_list]\n",
    "    dic = {FieldName.TARGET: target_vec, \n",
    "           FieldName.START: start_dt,\n",
    "           FieldName.FEAT_DYNAMIC_REAL: related_vecs\n",
    "          } \n",
    "    test_lst.append(dic)\n",
    "    test_ds = ListDataset(test_lst, freq=FREQ)\n",
    "    \n",
    "    response_body = {}\n",
    "    forecast_it = model.predict(test_ds)\n",
    "    forecast = list(forecast_it)\n",
    "    response_body['out'] = forecast[0].samples.mean(axis=0).tolist()\n",
    "    return json.dumps(response_body)"
   ]
  },
  {
   "cell_type": "markdown",
   "metadata": {},
   "source": [
    "<br>\n",
    "\n",
    "## 2. Test Inference code \n",
    "---\n",
    "\n",
    "엔드포인트 배포 전, 추론 스크립트를 검증합니다. "
   ]
  },
  {
   "cell_type": "code",
   "execution_count": 2,
   "metadata": {},
   "outputs": [],
   "source": [
    "%store -r"
   ]
  },
  {
   "cell_type": "code",
   "execution_count": 7,
   "metadata": {},
   "outputs": [
    {
     "name": "stdout",
     "output_type": "stream",
     "text": [
      "The history saving thread hit an unexpected error (OperationalError('database or disk is full',)).History will not be written to the database.\n",
      "model was loaded successfully\n",
      "[943.9248657226562, 240.01544189453125, 72.08430480957031, 262.6484069824219, 464.26739501953125, 2012.26123046875, 4445.40771484375, 4047.429443359375, 4763.0654296875, 5302.21240234375, 4416.32861328125, 4526.18603515625, 4707.32861328125, 5293.30517578125, 5780.46630859375, 7090.29833984375, 6285.76806640625, 6898.302734375, 5814.22314453125, 3767.296875, 2415.335205078125, 1821.4932861328125, 1141.8502197265625, 1012.423828125, 658.1253051757812, 348.40155029296875, 19.034622192382812, 58.60297393798828, 1348.5244140625, 3476.54052734375, 5536.71142578125, 7529.82421875, 7083.34521484375, 7169.65185546875, 5991.9814453125, 5732.31494140625, 5472.51318359375, 5481.4462890625, 6118.572265625, 6432.88818359375, 8180.08935546875, 6933.18701171875, 4911.9990234375, 4108.01123046875, 2938.84619140625, 2386.147216796875, 1521.6793212890625, 725.7899169921875, 192.1584930419922, 28.930931091308594, -122.50962829589844, 176.10009765625, 1290.8592529296875, 3145.03662109375, 4885.060546875, 6417.90673828125, 6958.1923828125, 6600.31689453125, 6486.17236328125, 6230.49853515625, 5791.35302734375, 5623.892578125, 5780.5654296875, 6752.513671875, 7252.3779296875, 6878.875, 5877.388671875, 4377.07861328125, 3679.67333984375, 3079.64599609375, 1662.3065185546875, 951.019775390625, 200.14080810546875, 73.23452758789062, 189.08673095703125, 615.8386840820312, 1699.6695556640625, 4117.9150390625, 5701.80810546875, 5707.03125, 6685.39794921875, 6288.25927734375, 5772.71044921875, 5567.53076171875, 5490.68115234375, 5649.923828125, 6348.876953125, 7849.7744140625, 7712.05517578125, 7589.4794921875, 6353.06103515625, 4987.287109375, 3703.5087890625, 2373.948486328125, 2119.498046875, 1081.878662109375, 872.143310546875, 345.8257141113281, 286.7196044921875, 866.5181884765625, 1843.936279296875, 3048.6103515625, 4829.8544921875, 5689.9755859375, 6805.767578125, 6584.50927734375, 5545.15625, 5321.17431640625, 5332.705078125, 5572.81005859375, 5688.08935546875, 5898.7080078125, 6981.5673828125, 6417.396484375, 5599.09375, 4522.83984375, 3336.683837890625, 2777.13720703125, 2374.4423828125, 2024.257080078125, 2001.255126953125, 1220.25341796875, 741.1589965820312, 652.9727172851562, 588.3228149414062, 1465.8519287109375, 2736.547607421875, 5139.259765625, 4590.3076171875, 4291.21728515625, 5112.72705078125, 5157.80078125, 5060.1904296875, 5164.1044921875, 5651.53076171875, 6438.2470703125, 6226.81689453125, 5233.23876953125, 4823.22509765625, 3516.72216796875, 3088.025390625, 2814.758056640625, 2314.494140625, 1869.5159912109375, 1261.5579833984375, 752.2638549804688, 479.8115539550781, 156.54473876953125, 463.7247619628906, 1191.9552001953125, 2440.6650390625, 3177.473388671875, 4046.505859375, 4095.01806640625, 4425.142578125, 4473.05908203125, 4975.69384765625, 5522.24072265625, 6065.017578125, 6087.90869140625, 6253.46044921875, 5925.4482421875, 5007.00634765625, 3700.095947265625, 3144.8740234375, 2690.17529296875, 1718.0987548828125, 1371.0115966796875]\n"
     ]
    }
   ],
   "source": [
    "from src.inference import model_fn, transform_fn\n",
    "import json\n",
    "import numpy as np\n",
    "import pandas as pd\n",
    "\n",
    "# Prepare test data\n",
    "target_test_df = pd.read_csv(\"data/target_test.csv\", index_col=0)\n",
    "related_test_df = pd.read_csv(\"data/related_test.csv\", index_col=0)\n",
    "\n",
    "input_data = {'target_values': target_test_df.values.tolist(), \n",
    "              'related_values': related_test_df.values.tolist(),\n",
    "              'timestamp': target_test_df.index.tolist()\n",
    "             }\n",
    "request_body = json.dumps(input_data)\n",
    "\n",
    "# Test inference script \n",
    "model = model_fn('./model')\n",
    "response = transform_fn(model, request_body)\n",
    "outputs = json.loads(response)\n",
    "print(outputs['out'])"
   ]
  },
  {
   "cell_type": "markdown",
   "metadata": {},
   "source": [
    "<br>\n",
    "\n",
    "## 3. Local Endpoint Inference\n",
    "---\n",
    "\n",
    "충분한 검증 및 테스트 없이 훈련된 모델을 곧바로 실제 운영 환경에 배포하기에는 많은 위험 요소들이 있습니다. 따라서, 로컬 모드를 사용하여 실제 운영 환경에 배포하기 위한 추론 인스턴스를 시작하기 전에 노트북 인스턴스의 로컬 환경에서 모델을 배포하는 것을 권장합니다. 이를 로컬 모드 엔드포인트(Local Mode Endpoint)라고 합니다."
   ]
  },
  {
   "cell_type": "code",
   "execution_count": 8,
   "metadata": {},
   "outputs": [],
   "source": [
    "import os\n",
    "import time\n",
    "import sagemaker\n",
    "from sagemaker.mxnet import MXNetModel\n",
    "role = sagemaker.get_execution_role()"
   ]
  },
  {
   "cell_type": "code",
   "execution_count": 9,
   "metadata": {},
   "outputs": [],
   "source": [
    "local_model_path = f'file://{os.getcwd()}/model/model.tar.gz'\n",
    "endpoint_name = \"local-endpoint-traffic-volume-forecast-{}\".format(int(time.time()))"
   ]
  },
  {
   "cell_type": "markdown",
   "metadata": {},
   "source": [
    "\n",
    "아래 코드 셀을 실행 후, 로그를 확인해 보세요. MMS에 대한 세팅값들을 확인하실 수 있습니다.\n",
    "\n",
    "```bash\n",
    "algo-1-u3xwd_1  | MMS Home: /usr/local/lib/python3.6/site-packages\n",
    "algo-1-u3xwd_1  | Current directory: /\n",
    "algo-1-u3xwd_1  | Temp directory: /home/model-server/tmp\n",
    "algo-1-u3xwd_1  | Number of GPUs: 0\n",
    "algo-1-u3xwd_1  | Number of CPUs: 2\n",
    "algo-1-u3xwd_1  | Max heap size: 878 M\n",
    "algo-1-u3xwd_1  | Python executable: /usr/local/bin/python3.6\n",
    "algo-1-u3xwd_1  | Config file: /etc/sagemaker-mms.properties\n",
    "algo-1-u3xwd_1  | Inference address: http://0.0.0.0:8080\n",
    "algo-1-u3xwd_1  | Management address: http://0.0.0.0:8080\n",
    "algo-1-u3xwd_1  | Model Store: /.sagemaker/mms/models\n",
    "...\n",
    "```"
   ]
  },
  {
   "cell_type": "code",
   "execution_count": 11,
   "metadata": {},
   "outputs": [
    {
     "name": "stdout",
     "output_type": "stream",
     "text": [
      "Attaching to uz5etc0xo9-algo-1-uenxg\n",
      "\u001b[36muz5etc0xo9-algo-1-uenxg |\u001b[0m Collecting pandas==1.1.5\n",
      "\u001b[36muz5etc0xo9-algo-1-uenxg |\u001b[0m   Downloading pandas-1.1.5-cp36-cp36m-manylinux1_x86_64.whl (9.5 MB)\n",
      "\u001b[K     |████████████████████████████████| 9.5 MB 18.1 MB/s eta 0:00:01\n",
      "\u001b[36muz5etc0xo9-algo-1-uenxg |\u001b[0m \u001b[?25hCollecting gluonts==0.6.7\n",
      "\u001b[36muz5etc0xo9-algo-1-uenxg |\u001b[0m   Downloading gluonts-0.6.7-py3-none-any.whl (569 kB)\n",
      "\u001b[K     |████████████████████████████████| 569 kB 57.0 MB/s eta 0:00:01\n",
      "\u001b[36muz5etc0xo9-algo-1-uenxg |\u001b[0m \u001b[?25hCollecting toolz~=0.10\n",
      "\u001b[36muz5etc0xo9-algo-1-uenxg |\u001b[0m   Downloading toolz-0.11.1-py3-none-any.whl (55 kB)\n",
      "\u001b[K     |████████████████████████████████| 55 kB 5.6 MB/s  eta 0:00:01\n",
      "\u001b[36muz5etc0xo9-algo-1-uenxg |\u001b[0m \u001b[?25hRequirement already satisfied: numpy~=1.16 in /usr/local/lib/python3.6/site-packages (from gluonts==0.6.7->-r /opt/ml/model/code/requirements.txt (line 2)) (1.17.4)\n",
      "\u001b[36muz5etc0xo9-algo-1-uenxg |\u001b[0m Collecting pydantic<1.7,~=1.1\n",
      "\u001b[36muz5etc0xo9-algo-1-uenxg |\u001b[0m   Downloading pydantic-1.6.1-cp36-cp36m-manylinux2014_x86_64.whl (8.7 MB)\n",
      "\u001b[K     |████████████████████████████████| 8.7 MB 51.9 MB/s eta 0:00:01\n",
      "\u001b[36muz5etc0xo9-algo-1-uenxg |\u001b[0m \u001b[?25hRequirement already satisfied: matplotlib~=3.0 in /usr/local/lib/python3.6/site-packages (from gluonts==0.6.7->-r /opt/ml/model/code/requirements.txt (line 2)) (3.3.4)\n",
      "\u001b[36muz5etc0xo9-algo-1-uenxg |\u001b[0m Collecting ujson~=1.35\n",
      "\u001b[36muz5etc0xo9-algo-1-uenxg |\u001b[0m   Downloading ujson-1.35.tar.gz (192 kB)\n",
      "\u001b[K     |████████████████████████████████| 192 kB 50.5 MB/s eta 0:00:01\n",
      "\u001b[36muz5etc0xo9-algo-1-uenxg |\u001b[0m \u001b[?25hRequirement already satisfied: tqdm~=4.23 in /usr/local/lib/python3.6/site-packages (from gluonts==0.6.7->-r /opt/ml/model/code/requirements.txt (line 2)) (4.58.0)\n",
      "\u001b[36muz5etc0xo9-algo-1-uenxg |\u001b[0m Collecting holidays>=0.9\n",
      "\u001b[36muz5etc0xo9-algo-1-uenxg |\u001b[0m   Downloading holidays-0.11.1-py3-none-any.whl (133 kB)\n",
      "\u001b[K     |████████████████████████████████| 133 kB 50.7 MB/s eta 0:00:01\n",
      "\u001b[36muz5etc0xo9-algo-1-uenxg |\u001b[0m \u001b[?25hCollecting pytz>=2017.2\n",
      "\u001b[36muz5etc0xo9-algo-1-uenxg |\u001b[0m   Downloading pytz-2021.1-py2.py3-none-any.whl (510 kB)\n",
      "\u001b[K     |████████████████████████████████| 510 kB 47.3 MB/s eta 0:00:01\n",
      "\u001b[36muz5etc0xo9-algo-1-uenxg |\u001b[0m \u001b[?25hRequirement already satisfied: python-dateutil>=2.7.3 in /usr/local/lib/python3.6/site-packages (from pandas==1.1.5->-r /opt/ml/model/code/requirements.txt (line 1)) (2.8.1)\n",
      "\u001b[36muz5etc0xo9-algo-1-uenxg |\u001b[0m Collecting hijri-converter\n",
      "\u001b[36muz5etc0xo9-algo-1-uenxg |\u001b[0m   Downloading hijri_converter-2.1.1-py3-none-any.whl (14 kB)\n",
      "\u001b[36muz5etc0xo9-algo-1-uenxg |\u001b[0m Collecting convertdate>=2.3.0\n",
      "\u001b[36muz5etc0xo9-algo-1-uenxg |\u001b[0m   Downloading convertdate-2.3.2-py3-none-any.whl (47 kB)\n",
      "\u001b[K     |████████████████████████████████| 47 kB 7.3 MB/s  eta 0:00:01\n",
      "\u001b[36muz5etc0xo9-algo-1-uenxg |\u001b[0m \u001b[?25hRequirement already satisfied: six in /usr/local/lib/python3.6/site-packages (from holidays>=0.9->gluonts==0.6.7->-r /opt/ml/model/code/requirements.txt (line 2)) (1.15.0)\n",
      "\u001b[36muz5etc0xo9-algo-1-uenxg |\u001b[0m Collecting korean-lunar-calendar\n",
      "\u001b[36muz5etc0xo9-algo-1-uenxg |\u001b[0m   Downloading korean_lunar_calendar-0.2.1-py3-none-any.whl (8.0 kB)\n",
      "\u001b[36muz5etc0xo9-algo-1-uenxg |\u001b[0m Collecting pymeeus<=1,>=0.3.13\n",
      "\u001b[36muz5etc0xo9-algo-1-uenxg |\u001b[0m   Downloading PyMeeus-0.5.11.tar.gz (5.4 MB)\n",
      "\u001b[K     |████████████████████████████████| 5.4 MB 49.8 MB/s eta 0:00:01\n",
      "\u001b[36muz5etc0xo9-algo-1-uenxg |\u001b[0m \u001b[?25hRequirement already satisfied: kiwisolver>=1.0.1 in /usr/local/lib/python3.6/site-packages (from matplotlib~=3.0->gluonts==0.6.7->-r /opt/ml/model/code/requirements.txt (line 2)) (1.3.1)\n",
      "\u001b[36muz5etc0xo9-algo-1-uenxg |\u001b[0m Requirement already satisfied: cycler>=0.10 in /usr/local/lib/python3.6/site-packages (from matplotlib~=3.0->gluonts==0.6.7->-r /opt/ml/model/code/requirements.txt (line 2)) (0.10.0)\n",
      "\u001b[36muz5etc0xo9-algo-1-uenxg |\u001b[0m Requirement already satisfied: pillow>=6.2.0 in /usr/local/lib/python3.6/site-packages (from matplotlib~=3.0->gluonts==0.6.7->-r /opt/ml/model/code/requirements.txt (line 2)) (8.1.1)\n",
      "\u001b[36muz5etc0xo9-algo-1-uenxg |\u001b[0m Requirement already satisfied: pyparsing!=2.0.4,!=2.1.2,!=2.1.6,>=2.0.3 in /usr/local/lib/python3.6/site-packages (from matplotlib~=3.0->gluonts==0.6.7->-r /opt/ml/model/code/requirements.txt (line 2)) (2.4.7)\n",
      "\u001b[36muz5etc0xo9-algo-1-uenxg |\u001b[0m Collecting dataclasses>=0.6\n",
      "\u001b[36muz5etc0xo9-algo-1-uenxg |\u001b[0m   Downloading dataclasses-0.8-py3-none-any.whl (19 kB)\n",
      "\u001b[36muz5etc0xo9-algo-1-uenxg |\u001b[0m Using legacy 'setup.py install' for pymeeus, since package 'wheel' is not installed.\n",
      "\u001b[36muz5etc0xo9-algo-1-uenxg |\u001b[0m Using legacy 'setup.py install' for ujson, since package 'wheel' is not installed.\n",
      "\u001b[36muz5etc0xo9-algo-1-uenxg |\u001b[0m Installing collected packages: pytz, pymeeus, korean-lunar-calendar, hijri-converter, dataclasses, convertdate, ujson, toolz, pydantic, pandas, holidays, gluonts\n",
      "\u001b[36muz5etc0xo9-algo-1-uenxg |\u001b[0m     Running setup.py install for pymeeus ... \u001b[?25ldone\n",
      "\u001b[36muz5etc0xo9-algo-1-uenxg |\u001b[0m \u001b[?25h    Running setup.py install for ujson ... \u001b[?25ldone\n",
      "\u001b[36muz5etc0xo9-algo-1-uenxg |\u001b[0m \u001b[?25hSuccessfully installed convertdate-2.3.2 dataclasses-0.8 gluonts-0.6.7 hijri-converter-2.1.1 holidays-0.11.1 korean-lunar-calendar-0.2.1 pandas-1.1.5 pydantic-1.6.1 pymeeus-0.5.11 pytz-2021.1 toolz-0.11.1 ujson-1.35\n",
      "\u001b[36muz5etc0xo9-algo-1-uenxg |\u001b[0m Warning: Calling MMS with mxnet-model-server. Please move to multi-model-server.\n",
      "\u001b[36muz5etc0xo9-algo-1-uenxg |\u001b[0m 2021-04-07 06:38:58,702 [INFO ] main com.amazonaws.ml.mms.ModelServer - \n",
      "\u001b[36muz5etc0xo9-algo-1-uenxg |\u001b[0m MMS Home: /usr/local/lib/python3.6/site-packages\n",
      "\u001b[36muz5etc0xo9-algo-1-uenxg |\u001b[0m Current directory: /\n",
      "\u001b[36muz5etc0xo9-algo-1-uenxg |\u001b[0m Temp directory: /home/model-server/tmp\n",
      "\u001b[36muz5etc0xo9-algo-1-uenxg |\u001b[0m Number of GPUs: 0\n",
      "\u001b[36muz5etc0xo9-algo-1-uenxg |\u001b[0m Number of CPUs: 8\n",
      "\u001b[36muz5etc0xo9-algo-1-uenxg |\u001b[0m Max heap size: 13646 M\n",
      "\u001b[36muz5etc0xo9-algo-1-uenxg |\u001b[0m Python executable: /usr/local/bin/python3.6\n",
      "\u001b[36muz5etc0xo9-algo-1-uenxg |\u001b[0m Config file: /etc/sagemaker-mms.properties\n",
      "\u001b[36muz5etc0xo9-algo-1-uenxg |\u001b[0m Inference address: http://0.0.0.0:8080\n",
      "\u001b[36muz5etc0xo9-algo-1-uenxg |\u001b[0m Management address: http://0.0.0.0:8080\n",
      "\u001b[36muz5etc0xo9-algo-1-uenxg |\u001b[0m Model Store: /.sagemaker/mms/models\n",
      "\u001b[36muz5etc0xo9-algo-1-uenxg |\u001b[0m Initial Models: ALL\n",
      "\u001b[36muz5etc0xo9-algo-1-uenxg |\u001b[0m Log dir: /logs\n",
      "\u001b[36muz5etc0xo9-algo-1-uenxg |\u001b[0m Metrics dir: /logs\n",
      "\u001b[36muz5etc0xo9-algo-1-uenxg |\u001b[0m Netty threads: 0\n",
      "\u001b[36muz5etc0xo9-algo-1-uenxg |\u001b[0m Netty client threads: 0\n",
      "\u001b[36muz5etc0xo9-algo-1-uenxg |\u001b[0m Default workers per model: 8\n",
      "\u001b[36muz5etc0xo9-algo-1-uenxg |\u001b[0m Blacklist Regex: N/A\n",
      "\u001b[36muz5etc0xo9-algo-1-uenxg |\u001b[0m Maximum Response Size: 6553500\n",
      "\u001b[36muz5etc0xo9-algo-1-uenxg |\u001b[0m Maximum Request Size: 6553500\n",
      "\u001b[36muz5etc0xo9-algo-1-uenxg |\u001b[0m Preload model: false\n",
      "\u001b[36muz5etc0xo9-algo-1-uenxg |\u001b[0m Prefer direct buffer: false\n",
      "\u001b[36muz5etc0xo9-algo-1-uenxg |\u001b[0m 2021-04-07 06:38:58,788 [WARN ] W-9000-model com.amazonaws.ml.mms.wlm.WorkerLifeCycle - attachIOStreams() threadName=W-9000-model\n",
      "\u001b[36muz5etc0xo9-algo-1-uenxg |\u001b[0m 2021-04-07 06:38:58,908 [INFO ] W-9000-model-stdout com.amazonaws.ml.mms.wlm.WorkerLifeCycle - model_service_worker started with args: --sock-type unix --sock-name /home/model-server/tmp/.mms.sock.9000 --handler sagemaker_mxnet_serving_container.handler_service --model-path /.sagemaker/mms/models/model --model-name model --preload-model false --tmp-dir /home/model-server/tmp\n",
      "\u001b[36muz5etc0xo9-algo-1-uenxg |\u001b[0m 2021-04-07 06:38:58,909 [INFO ] W-9000-model-stdout com.amazonaws.ml.mms.wlm.WorkerLifeCycle - Listening on port: /home/model-server/tmp/.mms.sock.9000\n",
      "\u001b[36muz5etc0xo9-algo-1-uenxg |\u001b[0m 2021-04-07 06:38:58,909 [INFO ] W-9000-model-stdout com.amazonaws.ml.mms.wlm.WorkerLifeCycle - [PID] 107\n",
      "\u001b[36muz5etc0xo9-algo-1-uenxg |\u001b[0m 2021-04-07 06:38:58,910 [INFO ] W-9000-model-stdout com.amazonaws.ml.mms.wlm.WorkerLifeCycle - MMS worker started.\n",
      "\u001b[36muz5etc0xo9-algo-1-uenxg |\u001b[0m 2021-04-07 06:38:58,910 [INFO ] W-9000-model-stdout com.amazonaws.ml.mms.wlm.WorkerLifeCycle - Python runtime: 3.6.13\n",
      "\u001b[36muz5etc0xo9-algo-1-uenxg |\u001b[0m 2021-04-07 06:38:58,910 [INFO ] main com.amazonaws.ml.mms.wlm.ModelManager - Model model loaded.\n",
      "\u001b[36muz5etc0xo9-algo-1-uenxg |\u001b[0m 2021-04-07 06:38:58,916 [INFO ] main com.amazonaws.ml.mms.ModelServer - Initialize Inference server with: EpollServerSocketChannel.\n",
      "\u001b[36muz5etc0xo9-algo-1-uenxg |\u001b[0m 2021-04-07 06:38:58,927 [INFO ] W-9000-model com.amazonaws.ml.mms.wlm.WorkerThread - Connecting to: /home/model-server/tmp/.mms.sock.9000\n",
      "\u001b[36muz5etc0xo9-algo-1-uenxg |\u001b[0m 2021-04-07 06:38:58,927 [INFO ] W-9000-model com.amazonaws.ml.mms.wlm.WorkerThread - Connecting to: /home/model-server/tmp/.mms.sock.9000\n",
      "\u001b[36muz5etc0xo9-algo-1-uenxg |\u001b[0m 2021-04-07 06:38:58,928 [INFO ] W-9000-model com.amazonaws.ml.mms.wlm.WorkerThread - Connecting to: /home/model-server/tmp/.mms.sock.9000\n",
      "\u001b[36muz5etc0xo9-algo-1-uenxg |\u001b[0m 2021-04-07 06:38:58,927 [INFO ] W-9000-model com.amazonaws.ml.mms.wlm.WorkerThread - Connecting to: /home/model-server/tmp/.mms.sock.9000\n",
      "\u001b[36muz5etc0xo9-algo-1-uenxg |\u001b[0m 2021-04-07 06:38:58,927 [INFO ] W-9000-model com.amazonaws.ml.mms.wlm.WorkerThread - Connecting to: /home/model-server/tmp/.mms.sock.9000\n",
      "\u001b[36muz5etc0xo9-algo-1-uenxg |\u001b[0m 2021-04-07 06:38:58,927 [INFO ] W-9000-model com.amazonaws.ml.mms.wlm.WorkerThread - Connecting to: /home/model-server/tmp/.mms.sock.9000\n",
      "\u001b[36muz5etc0xo9-algo-1-uenxg |\u001b[0m 2021-04-07 06:38:58,928 [INFO ] W-9000-model com.amazonaws.ml.mms.wlm.WorkerThread - Connecting to: /home/model-server/tmp/.mms.sock.9000\n",
      "\u001b[36muz5etc0xo9-algo-1-uenxg |\u001b[0m 2021-04-07 06:38:58,929 [INFO ] W-9000-model com.amazonaws.ml.mms.wlm.WorkerThread - Connecting to: /home/model-server/tmp/.mms.sock.9000\n",
      "\u001b[36muz5etc0xo9-algo-1-uenxg |\u001b[0m 2021-04-07 06:38:59,000 [INFO ] main com.amazonaws.ml.mms.ModelServer - Inference API bind to: http://0.0.0.0:8080\n",
      "\u001b[36muz5etc0xo9-algo-1-uenxg |\u001b[0m Model server started.\n",
      "\u001b[36muz5etc0xo9-algo-1-uenxg |\u001b[0m 2021-04-07 06:38:59,004 [WARN ] pool-2-thread-1 com.amazonaws.ml.mms.metrics.MetricCollector - worker pid is not available yet.\n",
      "\u001b[36muz5etc0xo9-algo-1-uenxg |\u001b[0m 2021-04-07 06:38:59,006 [INFO ] W-9000-model-stdout com.amazonaws.ml.mms.wlm.WorkerLifeCycle - Connection accepted: /home/model-server/tmp/.mms.sock.9000.\n",
      "\u001b[36muz5etc0xo9-algo-1-uenxg |\u001b[0m 2021-04-07 06:38:59,010 [INFO ] W-9000-model-stdout com.amazonaws.ml.mms.wlm.WorkerLifeCycle - Connection accepted: /home/model-server/tmp/.mms.sock.9000.\n",
      "\u001b[36muz5etc0xo9-algo-1-uenxg |\u001b[0m 2021-04-07 06:38:59,011 [INFO ] W-9000-model-stdout com.amazonaws.ml.mms.wlm.WorkerLifeCycle - Connection accepted: /home/model-server/tmp/.mms.sock.9000.\n",
      "\u001b[36muz5etc0xo9-algo-1-uenxg |\u001b[0m 2021-04-07 06:38:59,013 [INFO ] W-9000-model-stdout com.amazonaws.ml.mms.wlm.WorkerLifeCycle - Connection accepted: /home/model-server/tmp/.mms.sock.9000.\n",
      "\u001b[36muz5etc0xo9-algo-1-uenxg |\u001b[0m 2021-04-07 06:38:59,014 [INFO ] W-9000-model-stdout com.amazonaws.ml.mms.wlm.WorkerLifeCycle - Connection accepted: /home/model-server/tmp/.mms.sock.9000.\n",
      "\u001b[36muz5etc0xo9-algo-1-uenxg |\u001b[0m 2021-04-07 06:38:59,016 [INFO ] W-9000-model-stdout com.amazonaws.ml.mms.wlm.WorkerLifeCycle - Connection accepted: /home/model-server/tmp/.mms.sock.9000.\n",
      "\u001b[36muz5etc0xo9-algo-1-uenxg |\u001b[0m 2021-04-07 06:38:59,019 [INFO ] W-9000-model-stdout com.amazonaws.ml.mms.wlm.WorkerLifeCycle - Connection accepted: /home/model-server/tmp/.mms.sock.9000.\n",
      "\u001b[36muz5etc0xo9-algo-1-uenxg |\u001b[0m 2021-04-07 06:38:59,021 [INFO ] W-9000-model-stdout com.amazonaws.ml.mms.wlm.WorkerLifeCycle - Connection accepted: /home/model-server/tmp/.mms.sock.9000.\n"
     ]
    },
    {
     "name": "stdout",
     "output_type": "stream",
     "text": [
      "\u001b[36muz5etc0xo9-algo-1-uenxg |\u001b[0m 2021-04-07 06:38:59,179 [INFO ] pool-1-thread-10 ACCESS_LOG - /172.18.0.1:47416 \"GET /ping HTTP/1.1\" 200 25\n",
      "!\u001b[36muz5etc0xo9-algo-1-uenxg |\u001b[0m 2021-04-07 06:39:02,457 [INFO ] W-9000-model-stdout com.amazonaws.ml.mms.wlm.WorkerLifeCycle - Generating new fontManager, this may take some time...\n",
      "\u001b[36muz5etc0xo9-algo-1-uenxg |\u001b[0m 2021-04-07 06:39:02,467 [INFO ] W-9000-model-stdout com.amazonaws.ml.mms.wlm.WorkerLifeCycle - Generating new fontManager, this may take some time...\n",
      "\u001b[36muz5etc0xo9-algo-1-uenxg |\u001b[0m 2021-04-07 06:39:02,492 [INFO ] W-9000-model-stdout com.amazonaws.ml.mms.wlm.WorkerLifeCycle - Generating new fontManager, this may take some time...\n",
      "\u001b[36muz5etc0xo9-algo-1-uenxg |\u001b[0m 2021-04-07 06:39:02,496 [INFO ] W-9000-model-stdout com.amazonaws.ml.mms.wlm.WorkerLifeCycle - Generating new fontManager, this may take some time...\n",
      "\u001b[36muz5etc0xo9-algo-1-uenxg |\u001b[0m 2021-04-07 06:39:02,503 [INFO ] W-9000-model-stdout com.amazonaws.ml.mms.wlm.WorkerLifeCycle - Generating new fontManager, this may take some time...\n",
      "\u001b[36muz5etc0xo9-algo-1-uenxg |\u001b[0m 2021-04-07 06:39:02,511 [INFO ] W-9000-model-stdout com.amazonaws.ml.mms.wlm.WorkerLifeCycle - Generating new fontManager, this may take some time...\n",
      "\u001b[36muz5etc0xo9-algo-1-uenxg |\u001b[0m 2021-04-07 06:39:02,548 [INFO ] W-9000-model-stdout com.amazonaws.ml.mms.wlm.WorkerLifeCycle - Generating new fontManager, this may take some time...\n",
      "\u001b[36muz5etc0xo9-algo-1-uenxg |\u001b[0m 2021-04-07 06:39:02,590 [INFO ] W-9000-model-stdout com.amazonaws.ml.mms.wlm.WorkerLifeCycle - Generating new fontManager, this may take some time...\n",
      "\u001b[36muz5etc0xo9-algo-1-uenxg |\u001b[0m 2021-04-07 06:39:03,578 [INFO ] W-9000-model-stdout com.amazonaws.ml.mms.wlm.WorkerLifeCycle - Using CPU\n",
      "\u001b[36muz5etc0xo9-algo-1-uenxg |\u001b[0m 2021-04-07 06:39:03,617 [INFO ] W-9000-model-stdout com.amazonaws.ml.mms.wlm.WorkerLifeCycle - model was loaded successfully\n",
      "\u001b[36muz5etc0xo9-algo-1-uenxg |\u001b[0m 2021-04-07 06:39:03,618 [INFO ] W-9000-model-stdout com.amazonaws.ml.mms.wlm.WorkerLifeCycle - Model model loaded io_fd=0242acfffe120002-00000055-00000005-9cfa030ca9627778-d2c5c6f4\n",
      "\u001b[36muz5etc0xo9-algo-1-uenxg |\u001b[0m 2021-04-07 06:39:03,620 [INFO ] W-9000-model com.amazonaws.ml.mms.wlm.WorkerThread - Backend response time: 4515\n",
      "\u001b[36muz5etc0xo9-algo-1-uenxg |\u001b[0m 2021-04-07 06:39:03,623 [WARN ] W-9000-model com.amazonaws.ml.mms.wlm.WorkerLifeCycle - attachIOStreams() threadName=W-model-6\n",
      "\u001b[36muz5etc0xo9-algo-1-uenxg |\u001b[0m 2021-04-07 06:39:03,632 [INFO ] W-9000-model-stdout com.amazonaws.ml.mms.wlm.WorkerLifeCycle - Using CPU\n",
      "\u001b[36muz5etc0xo9-algo-1-uenxg |\u001b[0m 2021-04-07 06:39:03,651 [INFO ] W-9000-model-stdout com.amazonaws.ml.mms.wlm.WorkerLifeCycle - Using CPU\n",
      "\u001b[36muz5etc0xo9-algo-1-uenxg |\u001b[0m 2021-04-07 06:39:03,668 [INFO ] W-9000-model-stdout com.amazonaws.ml.mms.wlm.WorkerLifeCycle - Using CPU\n",
      "\u001b[36muz5etc0xo9-algo-1-uenxg |\u001b[0m 2021-04-07 06:39:03,671 [INFO ] W-9000-model-stdout com.amazonaws.ml.mms.wlm.WorkerLifeCycle - model was loaded successfully\n",
      "\u001b[36muz5etc0xo9-algo-1-uenxg |\u001b[0m 2021-04-07 06:39:03,671 [INFO ] W-9000-model-stdout com.amazonaws.ml.mms.wlm.WorkerLifeCycle - Model model loaded io_fd=0242acfffe120002-00000055-00000000-43697d0ca9627778-451fea1f\n",
      "\u001b[36muz5etc0xo9-algo-1-uenxg |\u001b[0m 2021-04-07 06:39:03,672 [INFO ] W-9000-model com.amazonaws.ml.mms.wlm.WorkerThread - Backend response time: 4577\n",
      "\u001b[36muz5etc0xo9-algo-1-uenxg |\u001b[0m 2021-04-07 06:39:03,672 [WARN ] W-9000-model com.amazonaws.ml.mms.wlm.WorkerLifeCycle - attachIOStreams() threadName=W-model-1\n",
      "\u001b[36muz5etc0xo9-algo-1-uenxg |\u001b[0m 2021-04-07 06:39:03,675 [INFO ] W-9000-model-stdout com.amazonaws.ml.mms.wlm.WorkerLifeCycle - Using CPU\n",
      "\u001b[36muz5etc0xo9-algo-1-uenxg |\u001b[0m 2021-04-07 06:39:03,688 [INFO ] W-9000-model-stdout com.amazonaws.ml.mms.wlm.WorkerLifeCycle - model was loaded successfully\n",
      "\u001b[36muz5etc0xo9-algo-1-uenxg |\u001b[0m 2021-04-07 06:39:03,689 [INFO ] W-9000-model-stdout com.amazonaws.ml.mms.wlm.WorkerLifeCycle - Model model loaded io_fd=0242acfffe120002-00000055-00000006-6ecd030ca9627778-df72b18b\n",
      "\u001b[36muz5etc0xo9-algo-1-uenxg |\u001b[0m 2021-04-07 06:39:03,690 [INFO ] W-9000-model com.amazonaws.ml.mms.wlm.WorkerThread - Backend response time: 4581\n",
      "\u001b[36muz5etc0xo9-algo-1-uenxg |\u001b[0m 2021-04-07 06:39:03,691 [WARN ] W-9000-model com.amazonaws.ml.mms.wlm.WorkerLifeCycle - attachIOStreams() threadName=W-model-5\n",
      "\u001b[36muz5etc0xo9-algo-1-uenxg |\u001b[0m 2021-04-07 06:39:03,704 [INFO ] W-9000-model-stdout com.amazonaws.ml.mms.wlm.WorkerLifeCycle - model was loaded successfully\n",
      "\u001b[36muz5etc0xo9-algo-1-uenxg |\u001b[0m 2021-04-07 06:39:03,705 [INFO ] W-9000-model-stdout com.amazonaws.ml.mms.wlm.WorkerLifeCycle - Model model loaded io_fd=0242acfffe120002-00000055-00000008-ea6a830ca9627778-42dc5c07\n",
      "\u001b[36muz5etc0xo9-algo-1-uenxg |\u001b[0m 2021-04-07 06:39:03,705 [INFO ] W-9000-model com.amazonaws.ml.mms.wlm.WorkerThread - Backend response time: 4610\n",
      "\u001b[36muz5etc0xo9-algo-1-uenxg |\u001b[0m 2021-04-07 06:39:03,705 [WARN ] W-9000-model com.amazonaws.ml.mms.wlm.WorkerLifeCycle - attachIOStreams() threadName=W-model-4\n",
      "\u001b[36muz5etc0xo9-algo-1-uenxg |\u001b[0m 2021-04-07 06:39:03,705 [INFO ] W-9000-model-stdout com.amazonaws.ml.mms.wlm.WorkerLifeCycle - model was loaded successfully\n",
      "\u001b[36muz5etc0xo9-algo-1-uenxg |\u001b[0m 2021-04-07 06:39:03,706 [INFO ] W-9000-model-stdout com.amazonaws.ml.mms.wlm.WorkerLifeCycle - Model model loaded io_fd=0242acfffe120002-00000055-00000002-8674fd0ca9627778-94296154\n",
      "\u001b[36muz5etc0xo9-algo-1-uenxg |\u001b[0m 2021-04-07 06:39:03,707 [INFO ] W-9000-model com.amazonaws.ml.mms.wlm.WorkerThread - Backend response time: 4614\n",
      "\u001b[36muz5etc0xo9-algo-1-uenxg |\u001b[0m 2021-04-07 06:39:03,707 [WARN ] W-9000-model com.amazonaws.ml.mms.wlm.WorkerLifeCycle - attachIOStreams() threadName=W-model-3\n",
      "\u001b[36muz5etc0xo9-algo-1-uenxg |\u001b[0m 2021-04-07 06:39:03,723 [INFO ] W-9000-model-stdout com.amazonaws.ml.mms.wlm.WorkerLifeCycle - Using CPU\n",
      "\u001b[36muz5etc0xo9-algo-1-uenxg |\u001b[0m 2021-04-07 06:39:03,743 [INFO ] W-9000-model-stdout com.amazonaws.ml.mms.wlm.WorkerLifeCycle - Using CPU\n",
      "\u001b[36muz5etc0xo9-algo-1-uenxg |\u001b[0m 2021-04-07 06:39:03,748 [INFO ] W-9000-model-stdout com.amazonaws.ml.mms.wlm.WorkerLifeCycle - model was loaded successfully\n",
      "\u001b[36muz5etc0xo9-algo-1-uenxg |\u001b[0m 2021-04-07 06:39:03,749 [INFO ] W-9000-model-stdout com.amazonaws.ml.mms.wlm.WorkerLifeCycle - Model model loaded io_fd=0242acfffe120002-00000055-00000004-3f23fd0ca9627778-fc451232\n",
      "\u001b[36muz5etc0xo9-algo-1-uenxg |\u001b[0m 2021-04-07 06:39:03,749 [INFO ] W-9000-model com.amazonaws.ml.mms.wlm.WorkerThread - Backend response time: 4638\n",
      "\u001b[36muz5etc0xo9-algo-1-uenxg |\u001b[0m 2021-04-07 06:39:03,749 [WARN ] W-9000-model com.amazonaws.ml.mms.wlm.WorkerLifeCycle - attachIOStreams() threadName=W-model-8\n",
      "\u001b[36muz5etc0xo9-algo-1-uenxg |\u001b[0m 2021-04-07 06:39:03,762 [INFO ] W-9000-model-stdout com.amazonaws.ml.mms.wlm.WorkerLifeCycle - Using CPU\n",
      "\u001b[36muz5etc0xo9-algo-1-uenxg |\u001b[0m 2021-04-07 06:39:03,769 [INFO ] W-9000-model-stdout com.amazonaws.ml.mms.wlm.WorkerLifeCycle - model was loaded successfully\n",
      "\u001b[36muz5etc0xo9-algo-1-uenxg |\u001b[0m 2021-04-07 06:39:03,769 [INFO ] W-9000-model-stdout com.amazonaws.ml.mms.wlm.WorkerLifeCycle - Model model loaded io_fd=0242acfffe120002-00000055-00000003-fb91fd0ca9627778-ef807218\n",
      "\u001b[36muz5etc0xo9-algo-1-uenxg |\u001b[0m 2021-04-07 06:39:03,769 [INFO ] W-9000-model com.amazonaws.ml.mms.wlm.WorkerThread - Backend response time: 4660\n",
      "\u001b[36muz5etc0xo9-algo-1-uenxg |\u001b[0m 2021-04-07 06:39:03,770 [WARN ] W-9000-model com.amazonaws.ml.mms.wlm.WorkerLifeCycle - attachIOStreams() threadName=W-model-2\n",
      "\u001b[36muz5etc0xo9-algo-1-uenxg |\u001b[0m 2021-04-07 06:39:03,788 [INFO ] W-9000-model-stdout com.amazonaws.ml.mms.wlm.WorkerLifeCycle - model was loaded successfully\n",
      "\u001b[36muz5etc0xo9-algo-1-uenxg |\u001b[0m 2021-04-07 06:39:03,789 [INFO ] W-9000-model-stdout com.amazonaws.ml.mms.wlm.WorkerLifeCycle - Model model loaded io_fd=0242acfffe120002-00000055-00000007-a4cc830ca9627778-4fdacc36\n",
      "\u001b[36muz5etc0xo9-algo-1-uenxg |\u001b[0m 2021-04-07 06:39:03,789 [INFO ] W-9000-model com.amazonaws.ml.mms.wlm.WorkerThread - Backend response time: 4688\n",
      "\u001b[36muz5etc0xo9-algo-1-uenxg |\u001b[0m 2021-04-07 06:39:03,789 [WARN ] W-9000-model com.amazonaws.ml.mms.wlm.WorkerLifeCycle - attachIOStreams() threadName=W-model-7\n"
     ]
    }
   ],
   "source": [
    "local_model = MXNetModel(model_data=local_model_path,\n",
    "                         role=role,\n",
    "                         source_dir='src',\n",
    "                         entry_point='inference.py',\n",
    "                         framework_version='1.6.0',\n",
    "                         py_version='py3')\n",
    "\n",
    "predictor = local_model.deploy(instance_type='local', \n",
    "                           initial_instance_count=1, \n",
    "                           endpoint_name=endpoint_name,\n",
    "                           wait=True)"
   ]
  },
  {
   "cell_type": "markdown",
   "metadata": {},
   "source": [
    "로컬에서 컨테이너를 배포했기 때문에 컨테이너가 현재 실행 중임을 확인할 수 있습니다."
   ]
  },
  {
   "cell_type": "code",
   "execution_count": 12,
   "metadata": {},
   "outputs": [
    {
     "name": "stdout",
     "output_type": "stream",
     "text": [
      "CONTAINER ID        IMAGE                                                                        COMMAND                  CREATED             STATUS              PORTS                              NAMES\r\n",
      "65f8a12afbaf        763104351884.dkr.ecr.us-east-1.amazonaws.com/mxnet-inference:1.6.0-cpu-py3   \"python /usr/local/b…\"   5 minutes ago       Up 5 minutes        0.0.0.0:8080->8080/tcp, 8081/tcp   uz5etc0xo9-algo-1-uenxg\r\n"
     ]
    }
   ],
   "source": [
    "!docker ps"
   ]
  },
  {
   "cell_type": "markdown",
   "metadata": {},
   "source": [
    "### Inference using SageMaker SDK\n",
    "\n",
    "SageMaker SDK의 `predict()` 메서드로 쉽게 추론을 수행할 수 있습니다. "
   ]
  },
  {
   "cell_type": "code",
   "execution_count": 13,
   "metadata": {},
   "outputs": [
    {
     "name": "stdout",
     "output_type": "stream",
     "text": [
      "\u001b[36muz5etc0xo9-algo-1-uenxg |\u001b[0m 2021-04-07 06:44:07,472 [INFO ] W-9000-model com.amazonaws.ml.mms.wlm.WorkerThread - Backend response time: 48\r\n",
      "\u001b[36muz5etc0xo9-algo-1-uenxg |\u001b[0m 2021-04-07 06:44:07,472 [INFO ] W-9000-model ACCESS_LOG - /172.18.0.1:43932 \"POST /invocations HTTP/1.1\" 200 54\r\n"
     ]
    }
   ],
   "source": [
    "outputs = predictor.predict(input_data)"
   ]
  },
  {
   "cell_type": "code",
   "execution_count": 14,
   "metadata": {},
   "outputs": [
    {
     "name": "stdout",
     "output_type": "stream",
     "text": [
      "{'out': [917.7115478515625, 189.37432861328125, 84.92733764648438, 224.2052001953125, 458.60882568359375, 1810.460205078125, 4772.833984375, 5505.134765625, 4140.82080078125, 4779.0166015625, 4505.71044921875, 4427.0166015625, 4544.5849609375, 5169.572265625, 6098.62939453125, 7205.91748046875, 6688.689453125, 7187.91748046875, 5541.04736328125, 3531.455322265625, 2053.02099609375, 1849.30126953125, 1249.337646484375, 1102.44580078125, 616.233642578125, 393.4483642578125, 34.6899528503418, 65.4824447631836, 1410.8447265625, 3479.644775390625, 5495.203125, 6423.46484375, 6735.57666015625, 6528.0107421875, 6131.7548828125, 5412.97998046875, 5282.89208984375, 5458.107421875, 6098.064453125, 6893.7841796875, 6999.64013671875, 5758.9775390625, 4646.97265625, 4179.44287109375, 2922.569091796875, 2236.9970703125, 1364.1856689453125, 794.4921264648438, 184.84010314941406, 69.28057098388672, -174.8890838623047, 174.46640014648438, 1456.85791015625, 3016.038818359375, 4838.28173828125, 6272.0654296875, 7502.302734375, 8310.6796875, 6482.93798828125, 5662.939453125, 5818.93017578125, 5540.4169921875, 5855.14306640625, 6621.34326171875, 7669.95947265625, 6870.7880859375, 6156.40869140625, 4121.10009765625, 3659.894775390625, 3160.32275390625, 1661.2052001953125, 925.43896484375, 186.4483184814453, 46.33431625366211, 180.03953552246094, 612.0120849609375, 1737.8045654296875, 3649.41162109375, 5486.45263671875, 6220.943359375, 6444.95458984375, 6584.6162109375, 5918.5361328125, 5570.06689453125, 5516.119140625, 5768.62744140625, 6652.77490234375, 8045.70166015625, 8200.8759765625, 7587.396484375, 6199.70263671875, 4777.45947265625, 3614.333984375, 2738.133056640625, 2080.837890625, 1180.4248046875, 839.26220703125, 258.79888916015625, 340.79229736328125, 890.8814697265625, 1681.9853515625, 2633.1123046875, 5635.82958984375, 5641.83544921875, 6206.68115234375, 5945.46728515625, 5513.2529296875, 5365.86669921875, 5227.5625, 5537.32421875, 5791.6181640625, 5970.2001953125, 6598.90478515625, 6000.009765625, 5341.2587890625, 4542.41796875, 3521.715087890625, 2752.0146484375, 2537.561279296875, 1992.4146728515625, 1699.13330078125, 1267.577880859375, 698.0021362304688, 689.9541625976562, 617.8309326171875, 1895.2315673828125, 3436.578857421875, 4534.01953125, 4619.92626953125, 4759.41357421875, 5334.16259765625, 5316.8154296875, 5287.97705078125, 5017.5498046875, 5391.6962890625, 5511.34375, 5982.78955078125, 5097.53369140625, 4099.84814453125, 3786.204345703125, 2905.526611328125, 2722.97412109375, 2171.93896484375, 2051.213134765625, 1055.5843505859375, 737.7481079101562, 502.3047790527344, 194.55838012695312, 543.28466796875, 1856.915771484375, 2015.838623046875, 4282.751953125, 4093.517578125, 4316.27197265625, 4503.04833984375, 4463.9794921875, 5083.68994140625, 5217.96923828125, 5913.486328125, 5884.5732421875, 6020.576171875, 2077.5986328125, 4767.76513671875, 3869.05322265625, 3031.375732421875, 2406.39599609375, 1625.4771728515625, 1156.3570556640625]}\n"
     ]
    }
   ],
   "source": [
    "print(outputs)"
   ]
  },
  {
   "cell_type": "markdown",
   "metadata": {},
   "source": [
    "### Inference using Boto3 SDK\n",
    "\n",
    "SageMaker SDK의 `predict()` 메서드로 추론을 수행할 수도 있지만, 이번에는 boto3의 `invoke_endpoint()` 메서드로 추론을 수행해 보겠습니다.<br>\n",
    "Boto3는 서비스 레벨의 low-level SDK로, ML 실험에 초점을 맞춰 일부 기능들이 추상화된 high-level SDK인 SageMaker SDK와 달리\n",
    "SageMaker API를 완벽하게 제어할 수 있습으며, 프로덕션 및 자동화 작업에 적합합니다.\n",
    "\n",
    "참고로 `invoke_endpoint()` 호출을 위한 런타임 클라이언트 인스턴스 생성 시, 로컬 배포 모드에서는 `sagemaker.local.LocalSagemakerRuntimeClient()`를 호출해야 합니다."
   ]
  },
  {
   "cell_type": "code",
   "execution_count": 15,
   "metadata": {},
   "outputs": [
    {
     "name": "stdout",
     "output_type": "stream",
     "text": [
      "\u001b[36muz5etc0xo9-algo-1-uenxg |\u001b[0m 2021-04-07 06:44:09,907 [INFO ] W-9000-model com.amazonaws.ml.mms.wlm.WorkerThread - Backend response time: 54\r\n",
      "\u001b[36muz5etc0xo9-algo-1-uenxg |\u001b[0m 2021-04-07 06:44:09,908 [INFO ] W-9000-model ACCESS_LOG - /172.18.0.1:44134 \"POST /invocations HTTP/1.1\" 200 56\r\n"
     ]
    }
   ],
   "source": [
    "client = sagemaker.local.LocalSagemakerClient()\n",
    "runtime_client = sagemaker.local.LocalSagemakerRuntimeClient()\n",
    "endpoint_name = local_model.endpoint_name\n",
    "\n",
    "response = runtime_client.invoke_endpoint(\n",
    "    EndpointName=endpoint_name, \n",
    "    ContentType='application/json',\n",
    "    Accept='application/json',\n",
    "    Body=json.dumps(input_data)\n",
    "    )\n",
    "outputs = json.loads(response['Body'].read().decode())"
   ]
  },
  {
   "cell_type": "code",
   "execution_count": 16,
   "metadata": {},
   "outputs": [
    {
     "name": "stdout",
     "output_type": "stream",
     "text": [
      "{'out': [917.7115478515625, 189.37432861328125, 84.92733764648438, 224.2052001953125, 458.60882568359375, 1810.460205078125, 4772.833984375, 5505.134765625, 4140.82080078125, 4779.0166015625, 4505.71044921875, 4427.0166015625, 4544.5849609375, 5169.572265625, 6098.62939453125, 7205.91748046875, 6688.689453125, 7187.91748046875, 5541.04736328125, 3531.455322265625, 2053.02099609375, 1849.30126953125, 1249.337646484375, 1102.44580078125, 616.233642578125, 393.4483642578125, 34.6899528503418, 65.4824447631836, 1410.8447265625, 3479.644775390625, 5495.203125, 6423.46484375, 6735.57666015625, 6528.0107421875, 6131.7548828125, 5412.97998046875, 5282.89208984375, 5458.107421875, 6098.064453125, 6893.7841796875, 6999.64013671875, 5758.9775390625, 4646.97265625, 4179.44287109375, 2922.569091796875, 2236.9970703125, 1364.1856689453125, 794.4921264648438, 184.84010314941406, 69.28057098388672, -174.8890838623047, 174.46640014648438, 1456.85791015625, 3016.038818359375, 4838.28173828125, 6272.0654296875, 7502.302734375, 8310.6796875, 6482.93798828125, 5662.939453125, 5818.93017578125, 5540.4169921875, 5855.14306640625, 6621.34326171875, 7669.95947265625, 6870.7880859375, 6156.40869140625, 4121.10009765625, 3659.894775390625, 3160.32275390625, 1661.2052001953125, 925.43896484375, 186.4483184814453, 46.33431625366211, 180.03953552246094, 612.0120849609375, 1737.8045654296875, 3649.41162109375, 5486.45263671875, 6220.943359375, 6444.95458984375, 6584.6162109375, 5918.5361328125, 5570.06689453125, 5516.119140625, 5768.62744140625, 6652.77490234375, 8045.70166015625, 8200.8759765625, 7587.396484375, 6199.70263671875, 4777.45947265625, 3614.333984375, 2738.133056640625, 2080.837890625, 1180.4248046875, 839.26220703125, 258.79888916015625, 340.79229736328125, 890.8814697265625, 1681.9853515625, 2633.1123046875, 5635.82958984375, 5641.83544921875, 6206.68115234375, 5945.46728515625, 5513.2529296875, 5365.86669921875, 5227.5625, 5537.32421875, 5791.6181640625, 5970.2001953125, 6598.90478515625, 6000.009765625, 5341.2587890625, 4542.41796875, 3521.715087890625, 2752.0146484375, 2537.561279296875, 1992.4146728515625, 1699.13330078125, 1267.577880859375, 698.0021362304688, 689.9541625976562, 617.8309326171875, 1895.2315673828125, 3436.578857421875, 4534.01953125, 4619.92626953125, 4759.41357421875, 5334.16259765625, 5316.8154296875, 5287.97705078125, 5017.5498046875, 5391.6962890625, 5511.34375, 5982.78955078125, 5097.53369140625, 4099.84814453125, 3786.204345703125, 2905.526611328125, 2722.97412109375, 2171.93896484375, 2051.213134765625, 1055.5843505859375, 737.7481079101562, 502.3047790527344, 194.55838012695312, 543.28466796875, 1856.915771484375, 2015.838623046875, 4282.751953125, 4093.517578125, 4316.27197265625, 4503.04833984375, 4463.9794921875, 5083.68994140625, 5217.96923828125, 5913.486328125, 5884.5732421875, 6020.576171875, 2077.5986328125, 4767.76513671875, 3869.05322265625, 3031.375732421875, 2406.39599609375, 1625.4771728515625, 1156.3570556640625]}\n"
     ]
    }
   ],
   "source": [
    "print(outputs)"
   ]
  },
  {
   "cell_type": "markdown",
   "metadata": {},
   "source": [
    "### Local Mode Endpoint Clean-up\n",
    "\n",
    "엔드포인트를 계속 사용하지 않는다면, 엔드포인트를 삭제해야 합니다. \n",
    "SageMaker SDK에서는 `delete_endpoint()` 메소드로 간단히 삭제할 수 있습니다."
   ]
  },
  {
   "cell_type": "code",
   "execution_count": 17,
   "metadata": {},
   "outputs": [
    {
     "name": "stdout",
     "output_type": "stream",
     "text": [
      "Gracefully stopping... (press Ctrl+C again to force)\n",
      "--- Deleted model: mxnet-inference-2021-04-07-06-38-43-459\n",
      "--- Deleted endpoint: local-endpoint-traffic-volume-forecast-1617777052\n",
      "--- Deleted endpoint_config: local-endpoint-traffic-volume-forecast-1617777052\n"
     ]
    }
   ],
   "source": [
    "def delete_endpoint(client, endpoint_name):\n",
    "    response = client.describe_endpoint_config(EndpointConfigName=endpoint_name)\n",
    "    model_name = response['ProductionVariants'][0]['ModelName']\n",
    "\n",
    "    client.delete_model(ModelName=model_name)    \n",
    "    client.delete_endpoint(EndpointName=endpoint_name)\n",
    "    client.delete_endpoint_config(EndpointConfigName=endpoint_name)    \n",
    "    \n",
    "    print(f'--- Deleted model: {model_name}')\n",
    "    print(f'--- Deleted endpoint: {endpoint_name}')\n",
    "    print(f'--- Deleted endpoint_config: {endpoint_name}')    \n",
    "delete_endpoint(client, endpoint_name)"
   ]
  },
  {
   "cell_type": "markdown",
   "metadata": {},
   "source": [
    "<br>\n",
    "\n",
    "## 4. SageMaker Hosted Endpoint Inference\n",
    "---\n",
    "\n",
    "이제 실제 운영 환경에 엔드포인트 배포를 수행해 보겠습니다. 로컬 모드 엔드포인트와 대부분의 코드가 동일하며, 모델 아티팩트 경로(`model_data`)와 인스턴스 유형(`instance_type`)만 변경해 주시면 됩니다. SageMaker가 관리하는 배포 클러스터를 프로비저닝하는 시간이 소요되기 때문에 추론 서비스를 시작하는 데에는 약 5~10분 정도 소요됩니다."
   ]
  },
  {
   "cell_type": "code",
   "execution_count": 20,
   "metadata": {},
   "outputs": [],
   "source": [
    "import os\n",
    "import boto3\n",
    "import sagemaker\n",
    "from sagemaker.mxnet import MXNet\n",
    "\n",
    "boto_session = boto3.Session()\n",
    "sagemaker_session = sagemaker.Session(boto_session=boto_session)\n",
    "role = sagemaker.get_execution_role()\n",
    "bucket = sagemaker.Session().default_bucket()"
   ]
  },
  {
   "cell_type": "code",
   "execution_count": 21,
   "metadata": {},
   "outputs": [],
   "source": [
    "model_path = os.path.join(s3_model_dir, \"model.tar.gz\")\n",
    "endpoint_name = \"endpoint-traffic-volume-forecast-{}\".format(int(time.time()))"
   ]
  },
  {
   "cell_type": "code",
   "execution_count": 22,
   "metadata": {},
   "outputs": [
    {
     "name": "stdout",
     "output_type": "stream",
     "text": [
      "-------------!"
     ]
    }
   ],
   "source": [
    "model = MXNetModel(model_data=model_path,\n",
    "                         role=role,\n",
    "                         source_dir='src',\n",
    "                         entry_point='inference.py',\n",
    "                         framework_version='1.6.0',\n",
    "                         py_version='py3')\n",
    "\n",
    "predictor = model.deploy(instance_type=\"ml.c5.large\", \n",
    "                         initial_instance_count=1, \n",
    "                         endpoint_name=endpoint_name,\n",
    "                         wait=True)"
   ]
  },
  {
   "cell_type": "markdown",
   "metadata": {},
   "source": [
    "추론을 수행합니다. 로컬 모드의 코드와 동일합니다."
   ]
  },
  {
   "cell_type": "code",
   "execution_count": 23,
   "metadata": {},
   "outputs": [],
   "source": [
    "import boto3\n",
    "client = boto3.client('sagemaker')\n",
    "runtime_client = boto3.client('sagemaker-runtime')\n",
    "endpoint_name = model.endpoint_name"
   ]
  },
  {
   "cell_type": "code",
   "execution_count": 24,
   "metadata": {},
   "outputs": [],
   "source": [
    "response = runtime_client.invoke_endpoint(\n",
    "    EndpointName=endpoint_name, \n",
    "    ContentType='application/json',\n",
    "    Accept='application/json',\n",
    "    Body=json.dumps(input_data)\n",
    "    )\n",
    "outputs = json.loads(response['Body'].read().decode())"
   ]
  },
  {
   "cell_type": "code",
   "execution_count": 25,
   "metadata": {},
   "outputs": [
    {
     "data": {
      "text/plain": [
       "{'out': [917.7115478515625,\n",
       "  189.37432861328125,\n",
       "  84.92733764648438,\n",
       "  224.2052001953125,\n",
       "  458.60882568359375,\n",
       "  1810.460205078125,\n",
       "  4772.833984375,\n",
       "  5505.134765625,\n",
       "  4140.82080078125,\n",
       "  4779.0166015625,\n",
       "  4505.71044921875,\n",
       "  4427.0166015625,\n",
       "  4544.5849609375,\n",
       "  5169.572265625,\n",
       "  6098.62939453125,\n",
       "  7205.91748046875,\n",
       "  6688.689453125,\n",
       "  7187.91748046875,\n",
       "  5541.04736328125,\n",
       "  3531.455322265625,\n",
       "  2053.02099609375,\n",
       "  1849.30126953125,\n",
       "  1249.337646484375,\n",
       "  1102.44580078125,\n",
       "  616.233642578125,\n",
       "  393.4483642578125,\n",
       "  34.6899528503418,\n",
       "  65.4824447631836,\n",
       "  1410.8447265625,\n",
       "  3479.644775390625,\n",
       "  5495.203125,\n",
       "  6423.46484375,\n",
       "  6735.57666015625,\n",
       "  6528.0107421875,\n",
       "  6131.7548828125,\n",
       "  5412.97998046875,\n",
       "  5282.89208984375,\n",
       "  5458.107421875,\n",
       "  6098.064453125,\n",
       "  6893.7841796875,\n",
       "  6999.64013671875,\n",
       "  5758.9775390625,\n",
       "  4646.97265625,\n",
       "  4179.44287109375,\n",
       "  2922.569091796875,\n",
       "  2236.9970703125,\n",
       "  1364.1856689453125,\n",
       "  794.4921264648438,\n",
       "  184.84010314941406,\n",
       "  69.28057098388672,\n",
       "  -174.8890838623047,\n",
       "  174.46640014648438,\n",
       "  1456.85791015625,\n",
       "  3016.038818359375,\n",
       "  4838.28173828125,\n",
       "  6272.0654296875,\n",
       "  7502.302734375,\n",
       "  8310.6796875,\n",
       "  6482.93798828125,\n",
       "  5662.939453125,\n",
       "  5818.93017578125,\n",
       "  5540.4169921875,\n",
       "  5855.14306640625,\n",
       "  6621.34326171875,\n",
       "  7669.95947265625,\n",
       "  6870.7880859375,\n",
       "  6156.40869140625,\n",
       "  4121.10009765625,\n",
       "  3659.894775390625,\n",
       "  3160.32275390625,\n",
       "  1661.2052001953125,\n",
       "  925.43896484375,\n",
       "  186.4483184814453,\n",
       "  46.33431625366211,\n",
       "  180.03953552246094,\n",
       "  612.0120849609375,\n",
       "  1737.8045654296875,\n",
       "  3649.41162109375,\n",
       "  5486.45263671875,\n",
       "  6220.943359375,\n",
       "  6444.95458984375,\n",
       "  6584.6162109375,\n",
       "  5918.5361328125,\n",
       "  5570.06689453125,\n",
       "  5516.119140625,\n",
       "  5768.62744140625,\n",
       "  6652.77490234375,\n",
       "  8045.70166015625,\n",
       "  8200.8759765625,\n",
       "  7587.396484375,\n",
       "  6199.70263671875,\n",
       "  4777.45947265625,\n",
       "  3614.333984375,\n",
       "  2738.133056640625,\n",
       "  2080.837890625,\n",
       "  1180.4248046875,\n",
       "  839.26220703125,\n",
       "  258.79888916015625,\n",
       "  340.79229736328125,\n",
       "  890.8814697265625,\n",
       "  1681.9853515625,\n",
       "  2633.1123046875,\n",
       "  5635.82958984375,\n",
       "  5641.83544921875,\n",
       "  6206.68115234375,\n",
       "  5945.46728515625,\n",
       "  5513.2529296875,\n",
       "  5365.86669921875,\n",
       "  5227.5625,\n",
       "  5537.32421875,\n",
       "  5791.6181640625,\n",
       "  5970.2001953125,\n",
       "  6598.90478515625,\n",
       "  6000.009765625,\n",
       "  5341.2587890625,\n",
       "  4542.41796875,\n",
       "  3521.715087890625,\n",
       "  2752.0146484375,\n",
       "  2537.561279296875,\n",
       "  1992.4146728515625,\n",
       "  1699.13330078125,\n",
       "  1267.577880859375,\n",
       "  698.0021362304688,\n",
       "  689.9541625976562,\n",
       "  617.8309326171875,\n",
       "  1895.2315673828125,\n",
       "  3436.578857421875,\n",
       "  4534.01953125,\n",
       "  4619.92626953125,\n",
       "  4759.41357421875,\n",
       "  5334.16259765625,\n",
       "  5316.8154296875,\n",
       "  5287.97705078125,\n",
       "  5017.5498046875,\n",
       "  5391.6962890625,\n",
       "  5511.34375,\n",
       "  5982.78955078125,\n",
       "  5097.53369140625,\n",
       "  4099.84814453125,\n",
       "  3786.204345703125,\n",
       "  2905.526611328125,\n",
       "  2722.97412109375,\n",
       "  2171.93896484375,\n",
       "  2051.213134765625,\n",
       "  1055.5843505859375,\n",
       "  737.7481079101562,\n",
       "  502.3047790527344,\n",
       "  194.55838012695312,\n",
       "  543.28466796875,\n",
       "  1856.915771484375,\n",
       "  2015.838623046875,\n",
       "  4282.751953125,\n",
       "  4093.517578125,\n",
       "  4316.27197265625,\n",
       "  4503.04833984375,\n",
       "  4463.9794921875,\n",
       "  5083.68994140625,\n",
       "  5217.96923828125,\n",
       "  5913.486328125,\n",
       "  5884.5732421875,\n",
       "  6020.576171875,\n",
       "  2077.5986328125,\n",
       "  4767.76513671875,\n",
       "  3869.05322265625,\n",
       "  3031.375732421875,\n",
       "  2406.39599609375,\n",
       "  1625.4771728515625,\n",
       "  1156.3570556640625]}"
      ]
     },
     "execution_count": 25,
     "metadata": {},
     "output_type": "execute_result"
    }
   ],
   "source": [
    "outputs"
   ]
  },
  {
   "cell_type": "markdown",
   "metadata": {},
   "source": [
    "### SageMaker Hosted Endpoint Clean-up\n",
    "\n",
    "엔드포인트를 계속 사용하지 않는다면, 불필요한 과금을 피하기 위해 엔드포인트를 삭제해야 합니다. \n",
    "SageMaker SDK에서는 `delete_endpoint()` 메소드로 간단히 삭제할 수 있으며, UI에서도 쉽게 삭제할 수 있습니다."
   ]
  },
  {
   "cell_type": "code",
   "execution_count": 26,
   "metadata": {},
   "outputs": [
    {
     "name": "stdout",
     "output_type": "stream",
     "text": [
      "--- Deleted model: mxnet-inference-2021-04-07-06-46-42-331\n",
      "--- Deleted endpoint: endpoint-traffic-volume-forecast-1617777999\n",
      "--- Deleted endpoint_config: endpoint-traffic-volume-forecast-1617777999\n"
     ]
    }
   ],
   "source": [
    "delete_endpoint(client, endpoint_name)"
   ]
  }
 ],
 "metadata": {
  "kernelspec": {
   "display_name": "conda_mxnet_p36",
   "language": "python",
   "name": "conda_mxnet_p36"
  },
  "language_info": {
   "codemirror_mode": {
    "name": "ipython",
    "version": 3
   },
   "file_extension": ".py",
   "mimetype": "text/x-python",
   "name": "python",
   "nbconvert_exporter": "python",
   "pygments_lexer": "ipython3",
   "version": "3.6.13"
  }
 },
 "nbformat": 4,
 "nbformat_minor": 4
}
