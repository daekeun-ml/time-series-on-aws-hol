{
 "cells": [
  {
   "cell_type": "markdown",
   "metadata": {},
   "source": [
    "# Module 3. Deployment on MMS(Multi Model Server)\n",
    "---\n",
    "\n",
    "본 모듈에서는 모델의 배포(deployment)를 수행합니다. 노트북 실행에는 약 15분 가량 소요되며, 핸즈온 실습 시에는 25분을 권장드립니다.\n",
    "\n",
    "<br>\n",
    "\n",
    "## 1. Inference script\n",
    "---\n",
    "\n",
    "아래 코드 셀은 `src` 디렉토리에 SageMaker 추론 스크립트인 `inference.py`를 저장합니다.<br>\n",
    "\n",
    "이 스크립트는 SageMaker 상에서 MMS(Multi Model Server)를 쉽고 편하게 배포할 수 이는 high-level 툴킷인 SageMaker inference toolkit의 인터페이스를\n",
    "사용하고 있으며, 여러분께서는 인터페이스에 정의된 핸들러(handler) 함수들만 구현하시면 됩니다.\n",
    "\n",
    "#### MMS(Multi Model Server)란?\n",
    "- [https://github.com/awslabs/multi-model-server](https://github.com/awslabs/multi-model-server) (2017년 12월 초 MXNet 1.0 릴리스 시 최초 공개, MXNet용 모델 서버로 시작)\n",
    "- Prerequisites: Java 8, MXNet (단, MXNet 사용 시에만)\n",
    "- MMS는 프레임워크에 구애받지 않도록 설계되었기 때문에, 모든 프레임워크의 백엔드 엔진 역할을 할 수 있는 충분한 유연성을 제공합니다.\n",
    "- SageMaker MXNet 추론 컨테이너와 PyTorch 추론 컨테이너는 SageMaker inference toolkit으로 MMS를 래핑하여 사용합니다.\n",
    "    - 2020년 4월 말 PyTorch용 배포 웹 서비스인 torchserve가 출시되면서, 향후 PyTorch 추론 컨테이너는 MMS 기반에서 torchserve 기반으로 마이그레이션될 예정입니다. "
   ]
  },
  {
   "cell_type": "code",
   "execution_count": 1,
   "metadata": {},
   "outputs": [
    {
     "name": "stdout",
     "output_type": "stream",
     "text": [
      "Overwriting ./src/inference.py\n"
     ]
    }
   ],
   "source": [
    "%%writefile ./src/inference.py\n",
    "\n",
    "import os\n",
    "import pandas as pd\n",
    "import gluonts \n",
    "import numpy as np\n",
    "import argparse\n",
    "import json\n",
    "import pathlib\n",
    "from mxnet import gpu, cpu\n",
    "from mxnet.context import num_gpus\n",
    "import matplotlib.pyplot as plt\n",
    "\n",
    "from gluonts.dataset.util import to_pandas\n",
    "from gluonts.distribution import DistributionOutput, StudentTOutput, NegativeBinomialOutput, GaussianOutput\n",
    "from gluonts.model.deepar import DeepAREstimator\n",
    "from gluonts.trainer import Trainer\n",
    "from gluonts.evaluation import Evaluator\n",
    "from gluonts.evaluation.backtest import make_evaluation_predictions, backtest_metrics\n",
    "from gluonts.model.predictor import Predictor\n",
    "from gluonts.dataset.field_names import FieldName\n",
    "from gluonts.dataset.common import ListDataset\n",
    "\n",
    "\n",
    "def model_fn(model_dir):\n",
    "    path = pathlib.Path(model_dir)   \n",
    "    predictor = Predictor.deserialize(path)\n",
    "    print(\"model was loaded successfully\")\n",
    "    return predictor\n",
    "\n",
    "\n",
    "def transform_fn(model, request_body, content_type='application/json', accept_type='application/json'):\n",
    "    \n",
    "    related_cols = ['holiday', 'temp', 'rain_1h', 'snow_1h', 'clouds_all', 'weather_main', 'weather_description']    \n",
    "    FREQ = 'H'\n",
    "    pred_length = 24*7\n",
    "\n",
    "    data = json.loads(request_body)\n",
    "\n",
    "    target_test_df = pd.DataFrame(data['target_values'], index=data['timestamp'])\n",
    "    related_test_df = pd.DataFrame(data['related_values'], index=data['timestamp'])\n",
    "    related_test_df.columns = related_cols\n",
    "        \n",
    "    target = target_test_df.values\n",
    "    related = related_test_df.values\n",
    "    num_series = target_test_df.shape[1]\n",
    "    start_dt = target_test_df.index[0]\n",
    "\n",
    "    related_list = [related_test_df[c].values for c in related_cols]    \n",
    "    test_lst = []\n",
    "\n",
    "    target_vec = target.squeeze()\n",
    "    related_vecs = [related.squeeze() for related in related_list]\n",
    "    dic = {FieldName.TARGET: target_vec, \n",
    "           FieldName.START: start_dt,\n",
    "           FieldName.FEAT_DYNAMIC_REAL: related_vecs\n",
    "          } \n",
    "    test_lst.append(dic)\n",
    "    test_ds = ListDataset(test_lst, freq=FREQ)\n",
    "    \n",
    "    response_body = {}\n",
    "    forecast_it = model.predict(test_ds)\n",
    "    forecast = list(forecast_it)\n",
    "    response_body['out'] = forecast[0].samples.mean(axis=0).tolist()\n",
    "    return json.dumps(response_body)"
   ]
  },
  {
   "cell_type": "markdown",
   "metadata": {},
   "source": [
    "<br>\n",
    "\n",
    "## 2. Test Inference code \n",
    "---\n",
    "\n",
    "엔드포인트 배포 전, 추론 스크립트를 검증합니다. "
   ]
  },
  {
   "cell_type": "code",
   "execution_count": 2,
   "metadata": {},
   "outputs": [],
   "source": [
    "%store -r"
   ]
  },
  {
   "cell_type": "code",
   "execution_count": 3,
   "metadata": {},
   "outputs": [
    {
     "name": "stdout",
     "output_type": "stream",
     "text": [
      "model was loaded successfully\n",
      "[656.91064453125, 561.4729614257812, 347.90850830078125, 589.5120849609375, 1208.7757568359375, 2401.4052734375, 4090.120361328125, 4432.9208984375, 5057.35595703125, 2463.945556640625, 4192.39404296875, 4626.38671875, 4401.234375, 4769.94677734375, 5059.52734375, 6265.05615234375, 6696.24853515625, 6363.36669921875, 6048.70751953125, 3575.61865234375, 3003.282470703125, 2079.645263671875, 1056.0457763671875, 810.9989624023438, 425.81524658203125, 418.6568603515625, 485.02008056640625, 136.82293701171875, 1191.1549072265625, 3784.2900390625, 5694.00927734375, 6540.23681640625, 7461.63134765625, 5763.88330078125, 5628.015625, 5755.81982421875, 5388.52978515625, 5715.1064453125, 6246.8251953125, 6802.5185546875, 7542.9619140625, 7001.9814453125, 5324.79248046875, 4155.74365234375, 3336.8203125, 2572.806884765625, 1908.6240234375, 719.6004638671875, 583.6642456054688, 223.6375732421875, 7.462818622589111, 236.8397979736328, 1103.4217529296875, 3340.116455078125, 5791.96240234375, 8205.7353515625, 7731.46826171875, 6635.1455078125, 6573.14306640625, 6379.78564453125, 5749.91748046875, 5707.7548828125, 6059.119140625, 6633.56298828125, 7508.625, 7157.3056640625, 6031.4111328125, 4321.23583984375, 3149.350830078125, 2517.248291015625, 1541.45458984375, 885.13037109375, 387.1905517578125, -67.43804931640625, -4.602800369262695, 574.3966064453125, 1596.7728271484375, 4028.937255859375, 5402.9599609375, 6313.84228515625, 6556.13916015625, 5963.39990234375, 6218.921875, 5549.86376953125, 5405.97265625, 5501.62353515625, 6441.7255859375, 6992.322265625, 8074.83203125, 6741.6845703125, 6051.8017578125, 5562.96240234375, 3602.61279296875, 2683.339111328125, 1856.80029296875, 1065.470703125, 518.4149169921875, 594.7286987304688, 675.3878173828125, 519.2760620117188, 1518.8253173828125, 3225.1123046875, 4025.69677734375, 6157.1767578125, 5632.79931640625, 5592.5556640625, 5262.70068359375, 4955.53955078125, 5144.4501953125, 5432.240234375, 5953.578125, 6580.990234375, 6970.525390625, 6388.88916015625, 5261.1669921875, 4204.21240234375, 3822.63037109375, 2959.50341796875, 2573.289306640625, 1740.1932373046875, 1453.8238525390625, 971.3716430664062, 821.2595825195312, 617.2047729492188, 566.9004516601562, 1536.831298828125, 2253.51171875, 4464.96533203125, 4732.568359375, 4736.1904296875, 5228.44921875, 4657.6748046875, 4779.01318359375, 5101.5478515625, 5282.609375, 5572.9970703125, 5329.52685546875, 5353.92578125, 4747.93701171875, 4127.71044921875, 3040.61474609375, 2784.050537109375, 2376.769775390625, 1871.47412109375, 1584.368408203125, 773.6674194335938, 559.2695922851562, 460.427734375, 685.126708984375, 1965.4859619140625, 2180.1943359375, 2895.83837890625, 3786.627197265625, 4187.44580078125, 4170.03662109375, 3930.7353515625, 4620.9794921875, 4985.46923828125, 5302.1923828125, 6266.76611328125, 6559.0244140625, 5261.09765625, 5430.314453125, 3330.002197265625, 3127.739013671875, 1803.8165283203125, 1947.510498046875, 1634.65966796875]\n"
     ]
    }
   ],
   "source": [
    "from src.inference import model_fn, transform_fn\n",
    "import json\n",
    "import numpy as np\n",
    "import pandas as pd\n",
    "\n",
    "# Prepare test data\n",
    "target_test_df = pd.read_csv(\"data/target_test.csv\", index_col=0)\n",
    "related_test_df = pd.read_csv(\"data/related_test.csv\", index_col=0)\n",
    "\n",
    "input_data = {'target_values': target_test_df.values.tolist(), \n",
    "              'related_values': related_test_df.values.tolist(),\n",
    "              'timestamp': target_test_df.index.tolist()\n",
    "             }\n",
    "request_body = json.dumps(input_data)\n",
    "\n",
    "# Test inference script \n",
    "model = model_fn('./model')\n",
    "response = transform_fn(model, request_body)\n",
    "outputs = json.loads(response)\n",
    "print(outputs['out'])"
   ]
  },
  {
   "cell_type": "markdown",
   "metadata": {},
   "source": [
    "<br>\n",
    "\n",
    "## 3. Local Endpoint Inference\n",
    "---\n",
    "\n",
    "충분한 검증 및 테스트 없이 훈련된 모델을 곧바로 실제 운영 환경에 배포하기에는 많은 위험 요소들이 있습니다. 따라서, 로컬 모드를 사용하여 실제 운영 환경에 배포하기 위한 추론 인스턴스를 시작하기 전에 노트북 인스턴스의 로컬 환경에서 모델을 배포하는 것을 권장합니다. 이를 로컬 모드 엔드포인트(Local Mode Endpoint)라고 합니다."
   ]
  },
  {
   "cell_type": "code",
   "execution_count": 4,
   "metadata": {},
   "outputs": [],
   "source": [
    "import os\n",
    "import time\n",
    "import sagemaker\n",
    "from sagemaker.mxnet import MXNetModel\n",
    "role = sagemaker.get_execution_role()"
   ]
  },
  {
   "cell_type": "code",
   "execution_count": 5,
   "metadata": {},
   "outputs": [],
   "source": [
    "local_model_path = f'file://{os.getcwd()}/model/model.tar.gz'\n",
    "endpoint_name = \"local-endpoint-traffic-volume-forecast-{}\".format(int(time.time()))"
   ]
  },
  {
   "cell_type": "markdown",
   "metadata": {},
   "source": [
    "\n",
    "아래 코드 셀을 실행 후, 로그를 확인해 보세요. MMS에 대한 세팅값들을 확인하실 수 있습니다.\n",
    "\n",
    "```bash\n",
    "algo-1-u3xwd_1  | MMS Home: /usr/local/lib/python3.6/site-packages\n",
    "algo-1-u3xwd_1  | Current directory: /\n",
    "algo-1-u3xwd_1  | Temp directory: /home/model-server/tmp\n",
    "algo-1-u3xwd_1  | Number of GPUs: 0\n",
    "algo-1-u3xwd_1  | Number of CPUs: 2\n",
    "algo-1-u3xwd_1  | Max heap size: 878 M\n",
    "algo-1-u3xwd_1  | Python executable: /usr/local/bin/python3.6\n",
    "algo-1-u3xwd_1  | Config file: /etc/sagemaker-mms.properties\n",
    "algo-1-u3xwd_1  | Inference address: http://0.0.0.0:8080\n",
    "algo-1-u3xwd_1  | Management address: http://0.0.0.0:8080\n",
    "algo-1-u3xwd_1  | Model Store: /.sagemaker/mms/models\n",
    "...\n",
    "```"
   ]
  },
  {
   "cell_type": "code",
   "execution_count": 6,
   "metadata": {},
   "outputs": [
    {
     "name": "stderr",
     "output_type": "stream",
     "text": [
      "Parameter image will be renamed to image_uri in SageMaker Python SDK v2.\n",
      "'create_image_uri' will be deprecated in favor of 'ImageURIProvider' class in SageMaker Python SDK v2.\n"
     ]
    },
    {
     "name": "stdout",
     "output_type": "stream",
     "text": [
      "Attaching to tmpr4ropmh6_algo-1-71m4l_1\n",
      "\u001b[36malgo-1-71m4l_1  |\u001b[0m Collecting pandas==1.0.0\n",
      "\u001b[36malgo-1-71m4l_1  |\u001b[0m   Downloading pandas-1.0.0-cp36-cp36m-manylinux1_x86_64.whl (10.1 MB)\n",
      "\u001b[K     |████████████████████████████████| 10.1 MB 26.0 MB/s eta 0:00:01\n",
      "\u001b[36malgo-1-71m4l_1  |\u001b[0m \u001b[?25hCollecting gluonts==0.5.1\n",
      "\u001b[36malgo-1-71m4l_1  |\u001b[0m   Downloading gluonts-0.5.1-py3-none-any.whl (419 kB)\n",
      "\u001b[K     |████████████████████████████████| 419 kB 33.4 MB/s eta 0:00:01\n",
      "\u001b[36malgo-1-71m4l_1  |\u001b[0m \u001b[?25hRequirement already satisfied: numpy>=1.13.3 in /usr/local/lib/python3.6/site-packages (from pandas==1.0.0->-r /opt/ml/model/code/requirements.txt (line 1)) (1.17.4)\n",
      "\u001b[36malgo-1-71m4l_1  |\u001b[0m Requirement already satisfied: python-dateutil>=2.6.1 in /usr/local/lib/python3.6/site-packages (from pandas==1.0.0->-r /opt/ml/model/code/requirements.txt (line 1)) (2.8.1)\n",
      "\u001b[36malgo-1-71m4l_1  |\u001b[0m Collecting pytz>=2017.2\n",
      "\u001b[36malgo-1-71m4l_1  |\u001b[0m   Downloading pytz-2020.1-py2.py3-none-any.whl (510 kB)\n",
      "\u001b[K     |████████████████████████████████| 510 kB 43.8 MB/s eta 0:00:01\n",
      "\u001b[36malgo-1-71m4l_1  |\u001b[0m \u001b[?25hRequirement already satisfied: tqdm~=4.23 in /usr/local/lib/python3.6/site-packages (from gluonts==0.5.1->-r /opt/ml/model/code/requirements.txt (line 2)) (4.48.2)\n",
      "\u001b[36malgo-1-71m4l_1  |\u001b[0m Requirement already satisfied: matplotlib~=3.0 in /usr/local/lib/python3.6/site-packages (from gluonts==0.5.1->-r /opt/ml/model/code/requirements.txt (line 2)) (3.3.1)\n",
      "\u001b[36malgo-1-71m4l_1  |\u001b[0m Collecting pydantic~=1.1\n",
      "\u001b[36malgo-1-71m4l_1  |\u001b[0m   Downloading pydantic-1.6.1-cp36-cp36m-manylinux2014_x86_64.whl (8.7 MB)\n",
      "\u001b[K     |████████████████████████████████| 8.7 MB 38.8 MB/s eta 0:00:01\n",
      "\u001b[36malgo-1-71m4l_1  |\u001b[0m \u001b[?25hCollecting holidays<0.10,>=0.9\n",
      "\u001b[36malgo-1-71m4l_1  |\u001b[0m   Downloading holidays-0.9.12.tar.gz (85 kB)\n",
      "\u001b[K     |████████████████████████████████| 85 kB 7.0 MB/s  eta 0:00:01\n",
      "\u001b[36malgo-1-71m4l_1  |\u001b[0m \u001b[?25hCollecting ujson~=1.35\n",
      "\u001b[36malgo-1-71m4l_1  |\u001b[0m   Downloading ujson-1.35.tar.gz (192 kB)\n",
      "\u001b[K     |████████████████████████████████| 192 kB 46.4 MB/s eta 0:00:01\n",
      "\u001b[36malgo-1-71m4l_1  |\u001b[0m \u001b[?25hRequirement already satisfied: six>=1.5 in /usr/local/lib/python3.6/site-packages (from python-dateutil>=2.6.1->pandas==1.0.0->-r /opt/ml/model/code/requirements.txt (line 1)) (1.15.0)\n",
      "\u001b[36malgo-1-71m4l_1  |\u001b[0m Requirement already satisfied: kiwisolver>=1.0.1 in /usr/local/lib/python3.6/site-packages (from matplotlib~=3.0->gluonts==0.5.1->-r /opt/ml/model/code/requirements.txt (line 2)) (1.2.0)\n",
      "\u001b[36malgo-1-71m4l_1  |\u001b[0m Requirement already satisfied: pyparsing!=2.0.4,!=2.1.2,!=2.1.6,>=2.0.3 in /usr/local/lib/python3.6/site-packages (from matplotlib~=3.0->gluonts==0.5.1->-r /opt/ml/model/code/requirements.txt (line 2)) (2.4.7)\n",
      "\u001b[36malgo-1-71m4l_1  |\u001b[0m Requirement already satisfied: cycler>=0.10 in /usr/local/lib/python3.6/site-packages (from matplotlib~=3.0->gluonts==0.5.1->-r /opt/ml/model/code/requirements.txt (line 2)) (0.10.0)\n",
      "\u001b[36malgo-1-71m4l_1  |\u001b[0m Requirement already satisfied: pillow>=6.2.0 in /usr/local/lib/python3.6/site-packages (from matplotlib~=3.0->gluonts==0.5.1->-r /opt/ml/model/code/requirements.txt (line 2)) (7.2.0)\n",
      "\u001b[36malgo-1-71m4l_1  |\u001b[0m Requirement already satisfied: certifi>=2020.06.20 in /usr/local/lib/python3.6/site-packages (from matplotlib~=3.0->gluonts==0.5.1->-r /opt/ml/model/code/requirements.txt (line 2)) (2020.6.20)\n",
      "\u001b[36malgo-1-71m4l_1  |\u001b[0m Collecting dataclasses>=0.6; python_version < \"3.7\"\n",
      "\u001b[36malgo-1-71m4l_1  |\u001b[0m   Downloading dataclasses-0.7-py3-none-any.whl (18 kB)\n",
      "\u001b[36malgo-1-71m4l_1  |\u001b[0m Using legacy 'setup.py install' for holidays, since package 'wheel' is not installed.\n",
      "\u001b[36malgo-1-71m4l_1  |\u001b[0m Using legacy 'setup.py install' for ujson, since package 'wheel' is not installed.\n",
      "\u001b[36malgo-1-71m4l_1  |\u001b[0m Installing collected packages: pytz, pandas, dataclasses, pydantic, holidays, ujson, gluonts\n",
      "\u001b[36malgo-1-71m4l_1  |\u001b[0m     Running setup.py install for holidays ... \u001b[?25ldone\n",
      "\u001b[36malgo-1-71m4l_1  |\u001b[0m \u001b[?25h    Running setup.py install for ujson ... \u001b[?25ldone\n",
      "\u001b[36malgo-1-71m4l_1  |\u001b[0m \u001b[?25hSuccessfully installed dataclasses-0.7 gluonts-0.5.1 holidays-0.9.12 pandas-1.0.0 pydantic-1.6.1 pytz-2020.1 ujson-1.35\n",
      "\u001b[36malgo-1-71m4l_1  |\u001b[0m Warning: Calling MMS with mxnet-model-server. Please move to multi-model-server.\n",
      "\u001b[36malgo-1-71m4l_1  |\u001b[0m 2020-08-31 13:59:53,083 [INFO ] main com.amazonaws.ml.mms.ModelServer - \n",
      "\u001b[36malgo-1-71m4l_1  |\u001b[0m MMS Home: /usr/local/lib/python3.6/site-packages\n",
      "\u001b[36malgo-1-71m4l_1  |\u001b[0m Current directory: /\n",
      "\u001b[36malgo-1-71m4l_1  |\u001b[0m Temp directory: /home/model-server/tmp\n",
      "\u001b[36malgo-1-71m4l_1  |\u001b[0m Number of GPUs: 0\n",
      "\u001b[36malgo-1-71m4l_1  |\u001b[0m Number of CPUs: 4\n",
      "\u001b[36malgo-1-71m4l_1  |\u001b[0m Max heap size: 13646 M\n",
      "\u001b[36malgo-1-71m4l_1  |\u001b[0m Python executable: /usr/local/bin/python3.6\n",
      "\u001b[36malgo-1-71m4l_1  |\u001b[0m Config file: /etc/sagemaker-mms.properties\n",
      "\u001b[36malgo-1-71m4l_1  |\u001b[0m Inference address: http://0.0.0.0:8080\n",
      "\u001b[36malgo-1-71m4l_1  |\u001b[0m Management address: http://0.0.0.0:8080\n",
      "\u001b[36malgo-1-71m4l_1  |\u001b[0m Model Store: /.sagemaker/mms/models\n",
      "\u001b[36malgo-1-71m4l_1  |\u001b[0m Initial Models: ALL\n",
      "\u001b[36malgo-1-71m4l_1  |\u001b[0m Log dir: /logs\n",
      "\u001b[36malgo-1-71m4l_1  |\u001b[0m Metrics dir: /logs\n",
      "\u001b[36malgo-1-71m4l_1  |\u001b[0m Netty threads: 0\n",
      "\u001b[36malgo-1-71m4l_1  |\u001b[0m Netty client threads: 0\n",
      "\u001b[36malgo-1-71m4l_1  |\u001b[0m Default workers per model: 4\n",
      "\u001b[36malgo-1-71m4l_1  |\u001b[0m Blacklist Regex: N/A\n",
      "\u001b[36malgo-1-71m4l_1  |\u001b[0m Maximum Response Size: 6553500\n",
      "\u001b[36malgo-1-71m4l_1  |\u001b[0m Maximum Request Size: 6553500\n",
      "\u001b[36malgo-1-71m4l_1  |\u001b[0m Preload model: false\n",
      "\u001b[36malgo-1-71m4l_1  |\u001b[0m Prefer direct buffer: false\n",
      "\u001b[36malgo-1-71m4l_1  |\u001b[0m 2020-08-31 13:59:53,172 [WARN ] W-9000-model com.amazonaws.ml.mms.wlm.WorkerLifeCycle - attachIOStreams() threadName=W-9000-model\n",
      "\u001b[36malgo-1-71m4l_1  |\u001b[0m 2020-08-31 13:59:53,314 [INFO ] W-9000-model-stdout com.amazonaws.ml.mms.wlm.WorkerLifeCycle - model_service_worker started with args: --sock-type unix --sock-name /home/model-server/tmp/.mms.sock.9000 --handler sagemaker_mxnet_serving_container.handler_service --model-path /.sagemaker/mms/models/model --model-name model --preload-model false --tmp-dir /home/model-server/tmp\n",
      "\u001b[36malgo-1-71m4l_1  |\u001b[0m 2020-08-31 13:59:53,315 [INFO ] W-9000-model-stdout com.amazonaws.ml.mms.wlm.WorkerLifeCycle - Listening on port: /home/model-server/tmp/.mms.sock.9000\n",
      "\u001b[36malgo-1-71m4l_1  |\u001b[0m 2020-08-31 13:59:53,316 [INFO ] W-9000-model-stdout com.amazonaws.ml.mms.wlm.WorkerLifeCycle - [PID] 92\n",
      "\u001b[36malgo-1-71m4l_1  |\u001b[0m 2020-08-31 13:59:53,316 [INFO ] W-9000-model-stdout com.amazonaws.ml.mms.wlm.WorkerLifeCycle - MMS worker started.\n",
      "\u001b[36malgo-1-71m4l_1  |\u001b[0m 2020-08-31 13:59:53,316 [INFO ] W-9000-model-stdout com.amazonaws.ml.mms.wlm.WorkerLifeCycle - Python runtime: 3.6.10\n",
      "\u001b[36malgo-1-71m4l_1  |\u001b[0m 2020-08-31 13:59:53,317 [INFO ] main com.amazonaws.ml.mms.wlm.ModelManager - Model model loaded.\n",
      "\u001b[36malgo-1-71m4l_1  |\u001b[0m 2020-08-31 13:59:53,325 [INFO ] main com.amazonaws.ml.mms.ModelServer - Initialize Inference server with: EpollServerSocketChannel.\n",
      "\u001b[36malgo-1-71m4l_1  |\u001b[0m 2020-08-31 13:59:53,336 [INFO ] W-9000-model com.amazonaws.ml.mms.wlm.WorkerThread - Connecting to: /home/model-server/tmp/.mms.sock.9000\n",
      "\u001b[36malgo-1-71m4l_1  |\u001b[0m 2020-08-31 13:59:53,338 [INFO ] W-9000-model com.amazonaws.ml.mms.wlm.WorkerThread - Connecting to: /home/model-server/tmp/.mms.sock.9000\n",
      "\u001b[36malgo-1-71m4l_1  |\u001b[0m 2020-08-31 13:59:53,339 [INFO ] W-9000-model com.amazonaws.ml.mms.wlm.WorkerThread - Connecting to: /home/model-server/tmp/.mms.sock.9000\n",
      "\u001b[36malgo-1-71m4l_1  |\u001b[0m 2020-08-31 13:59:53,339 [INFO ] W-9000-model com.amazonaws.ml.mms.wlm.WorkerThread - Connecting to: /home/model-server/tmp/.mms.sock.9000\n",
      "\u001b[36malgo-1-71m4l_1  |\u001b[0m 2020-08-31 13:59:53,408 [INFO ] main com.amazonaws.ml.mms.ModelServer - Inference API bind to: http://0.0.0.0:8080\n",
      "\u001b[36malgo-1-71m4l_1  |\u001b[0m 2020-08-31 13:59:53,410 [INFO ] W-9000-model-stdout com.amazonaws.ml.mms.wlm.WorkerLifeCycle - Connection accepted: /home/model-server/tmp/.mms.sock.9000.\n",
      "\u001b[36malgo-1-71m4l_1  |\u001b[0m 2020-08-31 13:59:53,413 [INFO ] W-9000-model-stdout com.amazonaws.ml.mms.wlm.WorkerLifeCycle - Connection accepted: /home/model-server/tmp/.mms.sock.9000.\n",
      "\u001b[36malgo-1-71m4l_1  |\u001b[0m 2020-08-31 13:59:53,415 [INFO ] W-9000-model-stdout com.amazonaws.ml.mms.wlm.WorkerLifeCycle - Connection accepted: /home/model-server/tmp/.mms.sock.9000.\n",
      "\u001b[36malgo-1-71m4l_1  |\u001b[0m 2020-08-31 13:59:53,417 [INFO ] W-9000-model-stdout com.amazonaws.ml.mms.wlm.WorkerLifeCycle - Connection accepted: /home/model-server/tmp/.mms.sock.9000.\n",
      "\u001b[36malgo-1-71m4l_1  |\u001b[0m Model server started.\n",
      "\u001b[36malgo-1-71m4l_1  |\u001b[0m 2020-08-31 13:59:53,426 [WARN ] pool-2-thread-1 com.amazonaws.ml.mms.metrics.MetricCollector - worker pid is not available yet.\n"
     ]
    },
    {
     "name": "stdout",
     "output_type": "stream",
     "text": [
      "\u001b[36malgo-1-71m4l_1  |\u001b[0m 2020-08-31 13:59:55,820 [INFO ] pool-1-thread-6 ACCESS_LOG - /172.18.0.1:46542 \"GET /ping HTTP/1.1\" 200 42\n",
      "!\u001b[36malgo-1-71m4l_1  |\u001b[0m 2020-08-31 13:59:56,732 [INFO ] W-9000-model-stdout com.amazonaws.ml.mms.wlm.WorkerLifeCycle - Generating new fontManager, this may take some time...\n",
      "\u001b[36malgo-1-71m4l_1  |\u001b[0m 2020-08-31 13:59:56,768 [INFO ] W-9000-model-stdout com.amazonaws.ml.mms.wlm.WorkerLifeCycle - Generating new fontManager, this may take some time...\n",
      "\u001b[36malgo-1-71m4l_1  |\u001b[0m 2020-08-31 13:59:56,770 [INFO ] W-9000-model-stdout com.amazonaws.ml.mms.wlm.WorkerLifeCycle - Generating new fontManager, this may take some time...\n",
      "\u001b[36malgo-1-71m4l_1  |\u001b[0m 2020-08-31 13:59:56,804 [INFO ] W-9000-model-stdout com.amazonaws.ml.mms.wlm.WorkerLifeCycle - Generating new fontManager, this may take some time...\n",
      "\u001b[36malgo-1-71m4l_1  |\u001b[0m 2020-08-31 13:59:57,789 [INFO ] W-9000-model-stdout com.amazonaws.ml.mms.wlm.WorkerLifeCycle - Using CPU\n",
      "\u001b[36malgo-1-71m4l_1  |\u001b[0m 2020-08-31 13:59:57,822 [INFO ] W-9000-model-stdout com.amazonaws.ml.mms.wlm.WorkerLifeCycle - model was loaded successfully\n",
      "\u001b[36malgo-1-71m4l_1  |\u001b[0m 2020-08-31 13:59:57,825 [INFO ] W-9000-model-stdout com.amazonaws.ml.mms.wlm.WorkerLifeCycle - Model model loaded io_fd=0242acfffe120002-0000004b-00000001-0836b9ae13542d00-7908b328\n",
      "\u001b[36malgo-1-71m4l_1  |\u001b[0m 2020-08-31 13:59:57,827 [INFO ] W-9000-model com.amazonaws.ml.mms.wlm.WorkerThread - Backend response time: 4342\n",
      "\u001b[36malgo-1-71m4l_1  |\u001b[0m 2020-08-31 13:59:57,830 [WARN ] W-9000-model com.amazonaws.ml.mms.wlm.WorkerLifeCycle - attachIOStreams() threadName=W-model-2\n",
      "\u001b[36malgo-1-71m4l_1  |\u001b[0m 2020-08-31 13:59:57,892 [INFO ] W-9000-model-stdout com.amazonaws.ml.mms.wlm.WorkerLifeCycle - Using CPU\n",
      "\u001b[36malgo-1-71m4l_1  |\u001b[0m 2020-08-31 13:59:57,926 [INFO ] W-9000-model-stdout com.amazonaws.ml.mms.wlm.WorkerLifeCycle - model was loaded successfully\n",
      "\u001b[36malgo-1-71m4l_1  |\u001b[0m 2020-08-31 13:59:57,927 [INFO ] W-9000-model-stdout com.amazonaws.ml.mms.wlm.WorkerLifeCycle - Model model loaded io_fd=0242acfffe120002-0000004b-00000003-fe4279ae13542d01-043e78a7\n",
      "\u001b[36malgo-1-71m4l_1  |\u001b[0m 2020-08-31 13:59:57,928 [INFO ] W-9000-model com.amazonaws.ml.mms.wlm.WorkerThread - Backend response time: 4450\n",
      "\u001b[36malgo-1-71m4l_1  |\u001b[0m 2020-08-31 13:59:57,929 [WARN ] W-9000-model com.amazonaws.ml.mms.wlm.WorkerLifeCycle - attachIOStreams() threadName=W-model-3\n",
      "\u001b[36malgo-1-71m4l_1  |\u001b[0m 2020-08-31 13:59:57,942 [INFO ] W-9000-model-stdout com.amazonaws.ml.mms.wlm.WorkerLifeCycle - Using CPU\n",
      "\u001b[36malgo-1-71m4l_1  |\u001b[0m 2020-08-31 13:59:57,960 [INFO ] W-9000-model-stdout com.amazonaws.ml.mms.wlm.WorkerLifeCycle - Using CPU\n",
      "\u001b[36malgo-1-71m4l_1  |\u001b[0m 2020-08-31 13:59:57,965 [INFO ] W-9000-model-stdout com.amazonaws.ml.mms.wlm.WorkerLifeCycle - model was loaded successfully\n",
      "\u001b[36malgo-1-71m4l_1  |\u001b[0m 2020-08-31 13:59:57,966 [INFO ] W-9000-model-stdout com.amazonaws.ml.mms.wlm.WorkerLifeCycle - Model model loaded io_fd=0242acfffe120002-0000004b-00000004-3a3cf9ae13542d01-ac044aa1\n",
      "\u001b[36malgo-1-71m4l_1  |\u001b[0m 2020-08-31 13:59:57,966 [INFO ] W-9000-model com.amazonaws.ml.mms.wlm.WorkerThread - Backend response time: 4469\n",
      "\u001b[36malgo-1-71m4l_1  |\u001b[0m 2020-08-31 13:59:57,966 [WARN ] W-9000-model com.amazonaws.ml.mms.wlm.WorkerLifeCycle - attachIOStreams() threadName=W-model-4\n",
      "\u001b[36malgo-1-71m4l_1  |\u001b[0m 2020-08-31 13:59:57,986 [INFO ] W-9000-model-stdout com.amazonaws.ml.mms.wlm.WorkerLifeCycle - model was loaded successfully\n",
      "\u001b[36malgo-1-71m4l_1  |\u001b[0m 2020-08-31 13:59:57,986 [INFO ] W-9000-model-stdout com.amazonaws.ml.mms.wlm.WorkerLifeCycle - Model model loaded io_fd=0242acfffe120002-0000004b-00000000-ccfcb9ae13542d00-4b5b3c05\n",
      "\u001b[36malgo-1-71m4l_1  |\u001b[0m 2020-08-31 13:59:57,986 [INFO ] W-9000-model com.amazonaws.ml.mms.wlm.WorkerThread - Backend response time: 4489\n",
      "\u001b[36malgo-1-71m4l_1  |\u001b[0m 2020-08-31 13:59:57,987 [WARN ] W-9000-model com.amazonaws.ml.mms.wlm.WorkerLifeCycle - attachIOStreams() threadName=W-model-1\n"
     ]
    }
   ],
   "source": [
    "local_model = MXNetModel(model_data=local_model_path,\n",
    "                         role=role,\n",
    "                         source_dir='src',\n",
    "                         entry_point='inference.py',\n",
    "                         framework_version='1.6.0',\n",
    "                         py_version='py3')\n",
    "\n",
    "predictor = local_model.deploy(instance_type='local', \n",
    "                           initial_instance_count=1, \n",
    "                           endpoint_name=endpoint_name,\n",
    "                           wait=True)"
   ]
  },
  {
   "cell_type": "markdown",
   "metadata": {},
   "source": [
    "로컬에서 컨테이너를 배포했기 때문에 컨테이너가 현재 실행 중임을 확인할 수 있습니다."
   ]
  },
  {
   "cell_type": "code",
   "execution_count": 7,
   "metadata": {},
   "outputs": [
    {
     "name": "stdout",
     "output_type": "stream",
     "text": [
      "CONTAINER ID        IMAGE                                                                        COMMAND                  CREATED             STATUS              PORTS                              NAMES\r\n",
      "20691673ebd5        763104351884.dkr.ecr.us-east-1.amazonaws.com/mxnet-inference:1.6.0-cpu-py3   \"python /usr/local/b…\"   32 seconds ago      Up 30 seconds       0.0.0.0:8080->8080/tcp, 8081/tcp   tmpr4ropmh6_algo-1-71m4l_1\r\n"
     ]
    }
   ],
   "source": [
    "!docker ps"
   ]
  },
  {
   "cell_type": "markdown",
   "metadata": {},
   "source": [
    "### Inference using SageMaker SDK\n",
    "\n",
    "SageMaker SDK의 `predict()` 메서드로 쉽게 추론을 수행할 수 있습니다. "
   ]
  },
  {
   "cell_type": "code",
   "execution_count": 8,
   "metadata": {},
   "outputs": [
    {
     "name": "stdout",
     "output_type": "stream",
     "text": [
      "\u001b[36malgo-1-71m4l_1  |\u001b[0m 2020-08-31 14:00:17,993 [INFO ] W-9000-model com.amazonaws.ml.mms.wlm.WorkerThread - Backend response time: 27\r\n",
      "\u001b[36malgo-1-71m4l_1  |\u001b[0m 2020-08-31 14:00:17,993 [INFO ] W-9000-model ACCESS_LOG - /172.18.0.1:47066 \"POST /invocations HTTP/1.1\" 200 31\r\n"
     ]
    }
   ],
   "source": [
    "outputs = predictor.predict(input_data)"
   ]
  },
  {
   "cell_type": "code",
   "execution_count": 9,
   "metadata": {},
   "outputs": [
    {
     "name": "stdout",
     "output_type": "stream",
     "text": [
      "{'out': [557.2713012695312, 603.84033203125, 355.400146484375, 594.2640380859375, 1020.9503173828125, 2260.816162109375, 5223.166015625, 5095.93505859375, 4293.2744140625, 4693.7001953125, 4462.06982421875, 4440.93359375, 4481.41357421875, 4553.86474609375, 5249.0595703125, 7149.01611328125, 7378.599609375, 6582.26708984375, 5148.14111328125, 3448.327392578125, 2328.8837890625, 2421.5009765625, 1240.4501953125, 969.880615234375, 356.9651184082031, 410.36956787109375, 498.94891357421875, 158.7935333251953, 1257.3603515625, 3725.76708984375, 5771.56884765625, 5695.4775390625, 6722.8544921875, 6037.232421875, 5852.5419921875, 5543.31884765625, 5279.06396484375, 5672.81005859375, 6319.203125, 6904.9619140625, 7132.4091796875, 6256.390625, 5089.92626953125, 4232.19677734375, 3371.488037109375, 2257.2646484375, 1664.7923583984375, 810.7589721679688, 543.8692016601562, 282.5393981933594, -6.813086032867432, 215.09780883789062, 1100.72509765625, 3266.2685546875, 5211.52978515625, 5998.22607421875, 7464.0380859375, 8073.083984375, 6637.0107421875, 5925.21630859375, 5770.76123046875, 5740.10009765625, 6109.14208984375, 6785.1787109375, 7507.34423828125, 6825.861328125, 6084.79296875, 4160.82080078125, 3137.7587890625, 2606.157470703125, 1442.1839599609375, 931.4528198242188, 354.201904296875, -76.64693450927734, -32.01240921020508, 526.4503784179688, 1634.121826171875, 3987.26904296875, 6245.24267578125, 5980.09619140625, 6213.689453125, 6356.4619140625, 6125.30859375, 5528.20751953125, 5456.02978515625, 5630.37548828125, 6446.60693359375, 7408.02685546875, 7946.37255859375, 7067.251953125, 6159.5595703125, 5581.34521484375, 3495.7275390625, 2749.764404296875, 1748.4267578125, 1064.4197998046875, 585.579345703125, 489.22723388671875, 640.9361572265625, 532.7991943359375, 1600.56787109375, 2714.27783203125, 5693.67626953125, 5639.42626953125, 5983.94921875, 5686.23876953125, 5130.71044921875, 5000.78271484375, 5010.77880859375, 5500.89453125, 6069.12939453125, 6210.3408203125, 6913.64013671875, 6321.43994140625, 5378.9306640625, 4386.41357421875, 3639.422119140625, 2755.7080078125, 2498.275390625, 1584.19873046875, 1471.3575439453125, 1021.59521484375, 732.95947265625, 543.1265258789062, 571.065673828125, 1897.305908203125, 2740.97900390625, 4382.529296875, 4744.15283203125, 4621.37109375, 5177.6181640625, 4794.56298828125, 4859.2607421875, 5093.763671875, 5161.9609375, 5445.3486328125, 5509.41748046875, 5157.72509765625, 4247.64892578125, 4156.54541015625, 2949.861328125, 2561.62646484375, 2360.72021484375, 2216.85400390625, 1556.35400390625, 815.2011108398438, 561.6026000976562, 473.53961181640625, 782.2679443359375, 1868.35888671875, 1935.625, 3396.093994140625, 3707.65771484375, 4077.054931640625, 4241.78466796875, 4080.216796875, 4654.4296875, 4880.796875, 5555.8251953125, 5894.94384765625, 5781.5263671875, 2956.811767578125, 4531.41796875, 3605.1630859375, 3314.921142578125, 2224.883056640625, 1858.4859619140625, 1541.99365234375]}\n"
     ]
    }
   ],
   "source": [
    "print(outputs)"
   ]
  },
  {
   "cell_type": "markdown",
   "metadata": {},
   "source": [
    "### Inference using Boto3 SDK\n",
    "\n",
    "SageMaker SDK의 `predict()` 메서드로 추론을 수행할 수도 있지만, 이번에는 boto3의 `invoke_endpoint()` 메서드로 추론을 수행해 보겠습니다.<br>\n",
    "Boto3는 서비스 레벨의 low-level SDK로, ML 실험에 초점을 맞춰 일부 기능들이 추상화된 high-level SDK인 SageMaker SDK와 달리\n",
    "SageMaker API를 완벽하게 제어할 수 있습으며, 프로덕션 및 자동화 작업에 적합합니다.\n",
    "\n",
    "참고로 `invoke_endpoint()` 호출을 위한 런타임 클라이언트 인스턴스 생성 시, 로컬 배포 모드에서는 `sagemaker.local.LocalSagemakerRuntimeClient()`를 호출해야 합니다."
   ]
  },
  {
   "cell_type": "code",
   "execution_count": 10,
   "metadata": {},
   "outputs": [
    {
     "name": "stdout",
     "output_type": "stream",
     "text": [
      "\u001b[36malgo-1-71m4l_1  |\u001b[0m 2020-08-31 14:00:26,995 [INFO ] W-9000-model com.amazonaws.ml.mms.wlm.WorkerThread - Backend response time: 26\r\n",
      "\u001b[36malgo-1-71m4l_1  |\u001b[0m 2020-08-31 14:00:26,995 [INFO ] W-9000-model ACCESS_LOG - /172.18.0.1:47072 \"POST /invocations HTTP/1.1\" 200 28\r\n"
     ]
    }
   ],
   "source": [
    "client = sagemaker.local.LocalSagemakerClient()\n",
    "runtime_client = sagemaker.local.LocalSagemakerRuntimeClient()\n",
    "endpoint_name = local_model.endpoint_name\n",
    "\n",
    "response = runtime_client.invoke_endpoint(\n",
    "    EndpointName=endpoint_name, \n",
    "    ContentType='application/json',\n",
    "    Accept='application/json',\n",
    "    Body=json.dumps(input_data)\n",
    "    )\n",
    "outputs = json.loads(response['Body'].read().decode())"
   ]
  },
  {
   "cell_type": "code",
   "execution_count": 11,
   "metadata": {},
   "outputs": [
    {
     "name": "stdout",
     "output_type": "stream",
     "text": [
      "{'out': [557.2713012695312, 603.84033203125, 355.400146484375, 594.2640380859375, 1020.9503173828125, 2260.816162109375, 5223.166015625, 5095.93505859375, 4293.2744140625, 4693.7001953125, 4462.06982421875, 4440.93359375, 4481.41357421875, 4553.86474609375, 5249.0595703125, 7149.01611328125, 7378.599609375, 6582.26708984375, 5148.14111328125, 3448.327392578125, 2328.8837890625, 2421.5009765625, 1240.4501953125, 969.880615234375, 356.9651184082031, 410.36956787109375, 498.94891357421875, 158.7935333251953, 1257.3603515625, 3725.76708984375, 5771.56884765625, 5695.4775390625, 6722.8544921875, 6037.232421875, 5852.5419921875, 5543.31884765625, 5279.06396484375, 5672.81005859375, 6319.203125, 6904.9619140625, 7132.4091796875, 6256.390625, 5089.92626953125, 4232.19677734375, 3371.488037109375, 2257.2646484375, 1664.7923583984375, 810.7589721679688, 543.8692016601562, 282.5393981933594, -6.813086032867432, 215.09780883789062, 1100.72509765625, 3266.2685546875, 5211.52978515625, 5998.22607421875, 7464.0380859375, 8073.083984375, 6637.0107421875, 5925.21630859375, 5770.76123046875, 5740.10009765625, 6109.14208984375, 6785.1787109375, 7507.34423828125, 6825.861328125, 6084.79296875, 4160.82080078125, 3137.7587890625, 2606.157470703125, 1442.1839599609375, 931.4528198242188, 354.201904296875, -76.64693450927734, -32.01240921020508, 526.4503784179688, 1634.121826171875, 3987.26904296875, 6245.24267578125, 5980.09619140625, 6213.689453125, 6356.4619140625, 6125.30859375, 5528.20751953125, 5456.02978515625, 5630.37548828125, 6446.60693359375, 7408.02685546875, 7946.37255859375, 7067.251953125, 6159.5595703125, 5581.34521484375, 3495.7275390625, 2749.764404296875, 1748.4267578125, 1064.4197998046875, 585.579345703125, 489.22723388671875, 640.9361572265625, 532.7991943359375, 1600.56787109375, 2714.27783203125, 5693.67626953125, 5639.42626953125, 5983.94921875, 5686.23876953125, 5130.71044921875, 5000.78271484375, 5010.77880859375, 5500.89453125, 6069.12939453125, 6210.3408203125, 6913.64013671875, 6321.43994140625, 5378.9306640625, 4386.41357421875, 3639.422119140625, 2755.7080078125, 2498.275390625, 1584.19873046875, 1471.3575439453125, 1021.59521484375, 732.95947265625, 543.1265258789062, 571.065673828125, 1897.305908203125, 2740.97900390625, 4382.529296875, 4744.15283203125, 4621.37109375, 5177.6181640625, 4794.56298828125, 4859.2607421875, 5093.763671875, 5161.9609375, 5445.3486328125, 5509.41748046875, 5157.72509765625, 4247.64892578125, 4156.54541015625, 2949.861328125, 2561.62646484375, 2360.72021484375, 2216.85400390625, 1556.35400390625, 815.2011108398438, 561.6026000976562, 473.53961181640625, 782.2679443359375, 1868.35888671875, 1935.625, 3396.093994140625, 3707.65771484375, 4077.054931640625, 4241.78466796875, 4080.216796875, 4654.4296875, 4880.796875, 5555.8251953125, 5894.94384765625, 5781.5263671875, 2956.811767578125, 4531.41796875, 3605.1630859375, 3314.921142578125, 2224.883056640625, 1858.4859619140625, 1541.99365234375]}\n"
     ]
    }
   ],
   "source": [
    "print(outputs)"
   ]
  },
  {
   "cell_type": "markdown",
   "metadata": {},
   "source": [
    "### Local Mode Endpoint Clean-up\n",
    "\n",
    "엔드포인트를 계속 사용하지 않는다면, 엔드포인트를 삭제해야 합니다. \n",
    "SageMaker SDK에서는 `delete_endpoint()` 메소드로 간단히 삭제할 수 있습니다."
   ]
  },
  {
   "cell_type": "code",
   "execution_count": 12,
   "metadata": {},
   "outputs": [
    {
     "name": "stdout",
     "output_type": "stream",
     "text": [
      "Gracefully stopping... (press Ctrl+C again to force)\n",
      "--- Deleted model: mxnet-inference-2020-08-31-13-59-38-831\n",
      "--- Deleted endpoint: local-endpoint-traffic-volume-forecast-1598882374\n",
      "--- Deleted endpoint_config: local-endpoint-traffic-volume-forecast-1598882374\n"
     ]
    }
   ],
   "source": [
    "def delete_endpoint(client, endpoint_name):\n",
    "    response = client.describe_endpoint_config(EndpointConfigName=endpoint_name)\n",
    "    model_name = response['ProductionVariants'][0]['ModelName']\n",
    "\n",
    "    client.delete_model(ModelName=model_name)    \n",
    "    client.delete_endpoint(EndpointName=endpoint_name)\n",
    "    client.delete_endpoint_config(EndpointConfigName=endpoint_name)    \n",
    "    \n",
    "    print(f'--- Deleted model: {model_name}')\n",
    "    print(f'--- Deleted endpoint: {endpoint_name}')\n",
    "    print(f'--- Deleted endpoint_config: {endpoint_name}')    \n",
    "delete_endpoint(client, endpoint_name)"
   ]
  },
  {
   "cell_type": "markdown",
   "metadata": {},
   "source": [
    "<br>\n",
    "\n",
    "## 4. SageMaker Hosted Endpoint Inference\n",
    "---\n",
    "\n",
    "이제 실제 운영 환경에 엔드포인트 배포를 수행해 보겠습니다. 로컬 모드 엔드포인트와 대부분의 코드가 동일하며, 모델 아티팩트 경로(`model_data`)와 인스턴스 유형(`instance_type`)만 변경해 주시면 됩니다. SageMaker가 관리하는 배포 클러스터를 프로비저닝하는 시간이 소요되기 때문에 추론 서비스를 시작하는 데에는 약 5~10분 정도 소요됩니다."
   ]
  },
  {
   "cell_type": "code",
   "execution_count": 13,
   "metadata": {},
   "outputs": [],
   "source": [
    "import os\n",
    "import boto3\n",
    "import sagemaker\n",
    "from sagemaker.mxnet import MXNet\n",
    "\n",
    "boto_session = boto3.Session()\n",
    "sagemaker_session = sagemaker.Session(boto_session=boto_session)\n",
    "role = sagemaker.get_execution_role()\n",
    "bucket = sagemaker.Session().default_bucket()"
   ]
  },
  {
   "cell_type": "code",
   "execution_count": 14,
   "metadata": {},
   "outputs": [],
   "source": [
    "model_path = os.path.join(s3_model_dir, \"model.tar.gz\")\n",
    "endpoint_name = \"endpoint-traffic-volume-forecast-{}\".format(int(time.time()))"
   ]
  },
  {
   "cell_type": "code",
   "execution_count": 15,
   "metadata": {},
   "outputs": [
    {
     "name": "stderr",
     "output_type": "stream",
     "text": [
      "Parameter image will be renamed to image_uri in SageMaker Python SDK v2.\n",
      "'create_image_uri' will be deprecated in favor of 'ImageURIProvider' class in SageMaker Python SDK v2.\n"
     ]
    },
    {
     "name": "stdout",
     "output_type": "stream",
     "text": [
      "-------------!"
     ]
    }
   ],
   "source": [
    "model = MXNetModel(model_data=model_path,\n",
    "                         role=role,\n",
    "                         source_dir='src',\n",
    "                         entry_point='inference.py',\n",
    "                         framework_version='1.6.0',\n",
    "                         py_version='py3')\n",
    "\n",
    "predictor = model.deploy(instance_type=\"ml.c5.large\", \n",
    "                         initial_instance_count=1, \n",
    "                         endpoint_name=endpoint_name,\n",
    "                         wait=True)"
   ]
  },
  {
   "cell_type": "markdown",
   "metadata": {},
   "source": [
    "추론을 수행합니다. 로컬 모드의 코드와 동일합니다."
   ]
  },
  {
   "cell_type": "code",
   "execution_count": 16,
   "metadata": {},
   "outputs": [],
   "source": [
    "import boto3\n",
    "client = boto3.client('sagemaker')\n",
    "runtime_client = boto3.client('sagemaker-runtime')\n",
    "endpoint_name = model.endpoint_name"
   ]
  },
  {
   "cell_type": "code",
   "execution_count": 17,
   "metadata": {},
   "outputs": [],
   "source": [
    "response = runtime_client.invoke_endpoint(\n",
    "    EndpointName=endpoint_name, \n",
    "    ContentType='application/json',\n",
    "    Accept='application/json',\n",
    "    Body=json.dumps(input_data)\n",
    "    )\n",
    "outputs = json.loads(response['Body'].read().decode())"
   ]
  },
  {
   "cell_type": "code",
   "execution_count": 18,
   "metadata": {},
   "outputs": [
    {
     "data": {
      "text/plain": [
       "{'out': [557.2713012695312,\n",
       "  603.84033203125,\n",
       "  355.400146484375,\n",
       "  594.2640380859375,\n",
       "  1020.9503173828125,\n",
       "  2260.816162109375,\n",
       "  5223.166015625,\n",
       "  5095.93505859375,\n",
       "  4293.2744140625,\n",
       "  4693.7001953125,\n",
       "  4462.06982421875,\n",
       "  4440.93359375,\n",
       "  4481.41357421875,\n",
       "  4553.86474609375,\n",
       "  5249.0595703125,\n",
       "  7149.01611328125,\n",
       "  7378.599609375,\n",
       "  6582.26708984375,\n",
       "  5148.14111328125,\n",
       "  3448.327392578125,\n",
       "  2328.8837890625,\n",
       "  2421.5009765625,\n",
       "  1240.4501953125,\n",
       "  969.880615234375,\n",
       "  356.9651184082031,\n",
       "  410.36956787109375,\n",
       "  498.94891357421875,\n",
       "  158.7935333251953,\n",
       "  1257.3603515625,\n",
       "  3725.76708984375,\n",
       "  5771.56884765625,\n",
       "  5695.4775390625,\n",
       "  6722.8544921875,\n",
       "  6037.232421875,\n",
       "  5852.5419921875,\n",
       "  5543.31884765625,\n",
       "  5279.06396484375,\n",
       "  5672.81005859375,\n",
       "  6319.203125,\n",
       "  6904.9619140625,\n",
       "  7132.4091796875,\n",
       "  6256.390625,\n",
       "  5089.92626953125,\n",
       "  4232.19677734375,\n",
       "  3371.488037109375,\n",
       "  2257.2646484375,\n",
       "  1664.7923583984375,\n",
       "  810.7589721679688,\n",
       "  543.8692016601562,\n",
       "  282.5393981933594,\n",
       "  -6.813086032867432,\n",
       "  215.09780883789062,\n",
       "  1100.72509765625,\n",
       "  3266.2685546875,\n",
       "  5211.52978515625,\n",
       "  5998.22607421875,\n",
       "  7464.0380859375,\n",
       "  8073.083984375,\n",
       "  6637.0107421875,\n",
       "  5925.21630859375,\n",
       "  5770.76123046875,\n",
       "  5740.10009765625,\n",
       "  6109.14208984375,\n",
       "  6785.1787109375,\n",
       "  7507.34423828125,\n",
       "  6825.861328125,\n",
       "  6084.79296875,\n",
       "  4160.82080078125,\n",
       "  3137.7587890625,\n",
       "  2606.157470703125,\n",
       "  1442.1839599609375,\n",
       "  931.4528198242188,\n",
       "  354.201904296875,\n",
       "  -76.64693450927734,\n",
       "  -32.01240921020508,\n",
       "  526.4503784179688,\n",
       "  1634.121826171875,\n",
       "  3987.26904296875,\n",
       "  6245.24267578125,\n",
       "  5980.09619140625,\n",
       "  6213.689453125,\n",
       "  6356.4619140625,\n",
       "  6125.30859375,\n",
       "  5528.20751953125,\n",
       "  5456.02978515625,\n",
       "  5630.37548828125,\n",
       "  6446.60693359375,\n",
       "  7408.02685546875,\n",
       "  7946.37255859375,\n",
       "  7067.251953125,\n",
       "  6159.5595703125,\n",
       "  5581.34521484375,\n",
       "  3495.7275390625,\n",
       "  2749.764404296875,\n",
       "  1748.4267578125,\n",
       "  1064.4197998046875,\n",
       "  585.579345703125,\n",
       "  489.22723388671875,\n",
       "  640.9361572265625,\n",
       "  532.7991943359375,\n",
       "  1600.56787109375,\n",
       "  2714.27783203125,\n",
       "  5693.67626953125,\n",
       "  5639.42626953125,\n",
       "  5983.94921875,\n",
       "  5686.23876953125,\n",
       "  5130.71044921875,\n",
       "  5000.78271484375,\n",
       "  5010.77880859375,\n",
       "  5500.89453125,\n",
       "  6069.12939453125,\n",
       "  6210.3408203125,\n",
       "  6913.64013671875,\n",
       "  6321.43994140625,\n",
       "  5378.9306640625,\n",
       "  4386.41357421875,\n",
       "  3639.422119140625,\n",
       "  2755.7080078125,\n",
       "  2498.275390625,\n",
       "  1584.19873046875,\n",
       "  1471.3575439453125,\n",
       "  1021.59521484375,\n",
       "  732.95947265625,\n",
       "  543.1265258789062,\n",
       "  571.065673828125,\n",
       "  1897.305908203125,\n",
       "  2740.97900390625,\n",
       "  4382.529296875,\n",
       "  4744.15283203125,\n",
       "  4621.37109375,\n",
       "  5177.6181640625,\n",
       "  4794.56298828125,\n",
       "  4859.2607421875,\n",
       "  5093.763671875,\n",
       "  5161.9609375,\n",
       "  5445.3486328125,\n",
       "  5509.41748046875,\n",
       "  5157.72509765625,\n",
       "  4247.64892578125,\n",
       "  4156.54541015625,\n",
       "  2949.861328125,\n",
       "  2561.62646484375,\n",
       "  2360.72021484375,\n",
       "  2216.85400390625,\n",
       "  1556.35400390625,\n",
       "  815.2011108398438,\n",
       "  561.6026000976562,\n",
       "  473.53961181640625,\n",
       "  782.2679443359375,\n",
       "  1868.35888671875,\n",
       "  1935.625,\n",
       "  3396.093994140625,\n",
       "  3707.65771484375,\n",
       "  4077.054931640625,\n",
       "  4241.78466796875,\n",
       "  4080.216796875,\n",
       "  4654.4296875,\n",
       "  4880.796875,\n",
       "  5555.8251953125,\n",
       "  5894.94384765625,\n",
       "  5781.5263671875,\n",
       "  2956.811767578125,\n",
       "  4531.41796875,\n",
       "  3605.1630859375,\n",
       "  3314.921142578125,\n",
       "  2224.883056640625,\n",
       "  1858.4859619140625,\n",
       "  1541.99365234375]}"
      ]
     },
     "execution_count": 18,
     "metadata": {},
     "output_type": "execute_result"
    }
   ],
   "source": [
    "outputs"
   ]
  },
  {
   "cell_type": "markdown",
   "metadata": {},
   "source": [
    "### SageMaker Hosted Endpoint Clean-up\n",
    "\n",
    "엔드포인트를 계속 사용하지 않는다면, 불필요한 과금을 피하기 위해 엔드포인트를 삭제해야 합니다. \n",
    "SageMaker SDK에서는 `delete_endpoint()` 메소드로 간단히 삭제할 수 있으며, UI에서도 쉽게 삭제할 수 있습니다."
   ]
  },
  {
   "cell_type": "code",
   "execution_count": 19,
   "metadata": {},
   "outputs": [
    {
     "name": "stdout",
     "output_type": "stream",
     "text": [
      "--- Deleted model: mxnet-inference-2020-08-31-14-00-58-618\n",
      "--- Deleted endpoint: endpoint-traffic-volume-forecast-1598882453\n",
      "--- Deleted endpoint_config: endpoint-traffic-volume-forecast-1598882453\n"
     ]
    }
   ],
   "source": [
    "delete_endpoint(client, endpoint_name)"
   ]
  }
 ],
 "metadata": {
  "kernelspec": {
   "display_name": "conda_mxnet_p36",
   "language": "python",
   "name": "conda_mxnet_p36"
  },
  "language_info": {
   "codemirror_mode": {
    "name": "ipython",
    "version": 3
   },
   "file_extension": ".py",
   "mimetype": "text/x-python",
   "name": "python",
   "nbconvert_exporter": "python",
   "pygments_lexer": "ipython3",
   "version": "3.6.10"
  }
 },
 "nbformat": 4,
 "nbformat_minor": 4
}
