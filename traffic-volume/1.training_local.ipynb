{
 "cells": [
  {
   "cell_type": "markdown",
   "metadata": {},
   "source": [
    "\n",
    "# Module 1. Training from Local Environment using GluonTS\n",
    "---\n",
    "\n",
    "본 모듈에서는 GluonTS를 사용한 시계열 데이터에 대한 학습 및 추론을 수행해 보겠습니다.\n",
    "여러분께서 어느 정도 시계열 데이터을 다루는 데 익숙하고, SageMaker 학습 및 배포 핸즈온이 필요하다면 이 모듈를 대충 훓어보고 다음 모듈로 넘어가시면 됩니다.\n",
    "\n",
    "본 데이터셋은 미국 미네아폴리스 서쪽 방향 고속도로(I-94)의 2012년~2018년 차량 통행량을 **시간 단위**로 예측하는 데이터셋입니다. store-item-demand 데이터셋과 달리 결측 시계열들이 있고 연관 시계열 데이터도 존재하기 때문에 간단한 데이터 전처리를 수행 후에 `target time series` 와 `related time series` 로 훈련 및 예측을 수행하겠습니다.\n",
    "\n",
    "### References\n",
    "- Dataset description: https://archive.ics.uci.edu/ml/datasets/Metro+Interstate+Traffic+Volume\n",
    "- Amazon Forecast 핸즈온: https://github.com/chrisking/ForecastPOC\n",
    "- Amazon Forecast 핸즈온(한국어): https://github.com/gonsoomoon-ml/Forecast/tree/master/TrafficVolume"
   ]
  },
  {
   "cell_type": "markdown",
   "metadata": {},
   "source": [
    "## 1. Setup\n",
    "---\n",
    "만약 MXNet과 GluonTS가 인스톨되어 있지 않다면, 아래 코드 셀의 주석을 해제하고 코드 셀을 실행시켜 주세요."
   ]
  },
  {
   "cell_type": "code",
   "execution_count": 1,
   "metadata": {},
   "outputs": [],
   "source": [
    "#! pip install mxnet==1.6.0\n",
    "#! pip install gluonts==0.5.1"
   ]
  },
  {
   "cell_type": "markdown",
   "metadata": {},
   "source": [
    "### Import Libraries\n",
    "표준 Python 라이브러리를 가져옵니다."
   ]
  },
  {
   "cell_type": "code",
   "execution_count": 2,
   "metadata": {},
   "outputs": [],
   "source": [
    "import os\n",
    "import pandas as pd\n",
    "import gluonts \n",
    "import numpy as np\n",
    "import argparse\n",
    "import json\n",
    "import pathlib\n",
    "from mxnet import gpu, cpu\n",
    "from mxnet.context import num_gpus\n",
    "import matplotlib.pyplot as plt\n",
    "\n",
    "from gluonts.dataset.util import to_pandas\n",
    "from gluonts.distribution import DistributionOutput, StudentTOutput, NegativeBinomialOutput, GaussianOutput\n",
    "from gluonts.model.deepar import DeepAREstimator\n",
    "from gluonts.trainer import Trainer\n",
    "from gluonts.evaluation import Evaluator\n",
    "from gluonts.evaluation.backtest import make_evaluation_predictions, backtest_metrics\n",
    "from gluonts.model.predictor import Predictor\n",
    "from gluonts.dataset.field_names import FieldName\n",
    "from gluonts.dataset.common import ListDataset"
   ]
  },
  {
   "cell_type": "markdown",
   "metadata": {},
   "source": [
    "<br>\n",
    "\n",
    "## 2. Data Loading & Checking\n",
    "---\n",
    "\n",
    "판매 데이터를 판다스 데이터프레임으로 로딩합니다. 데이터프레임 로딩 후, 날짜 컬럼을 `datetime` 포맷의 컬럼으로 변경합니다. 본 예제는 데이터 사이즈가 크지 않기에 차이를 느끼기 어렵겠지만, 수천 만개의 행을 그대로 `datetime` 으로 변환하면 모든 행을 순회해야 하기에 시간이 오래 소요됩니다. 따라서, 고유한 날짜만 `datetime`으로 변환하여 `map()`으로 그룹 매핑하면 빠르게 변환할 수 있습니다."
   ]
  },
  {
   "cell_type": "code",
   "execution_count": 3,
   "metadata": {},
   "outputs": [
    {
     "name": "stdout",
     "output_type": "stream",
     "text": [
      "--2020-08-27 13:23:45--  https://archive.ics.uci.edu/ml/machine-learning-databases/00492/Metro_Interstate_Traffic_Volume.csv.gz\n",
      "Resolving archive.ics.uci.edu (archive.ics.uci.edu)... 128.195.10.252\n",
      "Connecting to archive.ics.uci.edu (archive.ics.uci.edu)|128.195.10.252|:443... connected.\n",
      "HTTP request sent, awaiting response... 200 OK\n",
      "Length: 405373 (396K) [application/x-httpd-php]\n",
      "Saving to: ‘Metro_Interstate_Traffic_Volume.csv.gz’\n",
      "\n",
      "Metro_Interstate_Tr 100%[===================>] 395.87K  1.45MB/s    in 0.3s    \n",
      "\n",
      "2020-08-27 13:23:46 (1.45 MB/s) - ‘Metro_Interstate_Traffic_Volume.csv.gz’ saved [405373/405373]\n",
      "\n"
     ]
    }
   ],
   "source": [
    "data_dir = \"data\"\n",
    "os.makedirs(data_dir, exist_ok=True)\n",
    "!cd $data_dir && wget https://archive.ics.uci.edu/ml/machine-learning-databases/00492/Metro_Interstate_Traffic_Volume.csv.gz\n",
    "!gunzip -f $data_dir/Metro_Interstate_Traffic_Volume.csv.gz #-f means not to ask Yes or No\n",
    "original_data = pd.read_csv(data_dir + '/Metro_Interstate_Traffic_Volume.csv')"
   ]
  },
  {
   "cell_type": "markdown",
   "metadata": {},
   "source": [
    "데이터셋 각 컬럼의 의미는 아래와 같습니다.\n",
    "- `holiday` : 미국 공휴일 및 지역별 공휴일, 미네소타 주 박람회\n",
    "- `rain_1h` : 한 시간 내에 발생한 강우량 (mm)\n",
    "- `snow_1h` : 한 시간 내에 발생한 강설량 (mm)\n",
    "- `clouds_all` : 구름량의 백분율\n",
    "- `weather_main` : 현재 날씨 (범주형)\n",
    "- `weather_description` : 현재 날씨에 대한 설명 (범주형)\n",
    "- `date_time` : 현지 CST 시간으로 수집 된 데이터의 시간\n",
    "- `traffic_volume` : 교통량"
   ]
  },
  {
   "cell_type": "code",
   "execution_count": 4,
   "metadata": {},
   "outputs": [
    {
     "data": {
      "text/html": [
       "<div>\n",
       "<style scoped>\n",
       "    .dataframe tbody tr th:only-of-type {\n",
       "        vertical-align: middle;\n",
       "    }\n",
       "\n",
       "    .dataframe tbody tr th {\n",
       "        vertical-align: top;\n",
       "    }\n",
       "\n",
       "    .dataframe thead th {\n",
       "        text-align: right;\n",
       "    }\n",
       "</style>\n",
       "<table border=\"1\" class=\"dataframe\">\n",
       "  <thead>\n",
       "    <tr style=\"text-align: right;\">\n",
       "      <th></th>\n",
       "      <th>holiday</th>\n",
       "      <th>temp</th>\n",
       "      <th>rain_1h</th>\n",
       "      <th>snow_1h</th>\n",
       "      <th>clouds_all</th>\n",
       "      <th>weather_main</th>\n",
       "      <th>weather_description</th>\n",
       "      <th>date_time</th>\n",
       "      <th>traffic_volume</th>\n",
       "    </tr>\n",
       "  </thead>\n",
       "  <tbody>\n",
       "    <tr>\n",
       "      <th>0</th>\n",
       "      <td>None</td>\n",
       "      <td>288.28</td>\n",
       "      <td>0.0</td>\n",
       "      <td>0.0</td>\n",
       "      <td>40</td>\n",
       "      <td>Clouds</td>\n",
       "      <td>scattered clouds</td>\n",
       "      <td>2012-10-02 09:00:00</td>\n",
       "      <td>5545</td>\n",
       "    </tr>\n",
       "    <tr>\n",
       "      <th>1</th>\n",
       "      <td>None</td>\n",
       "      <td>289.36</td>\n",
       "      <td>0.0</td>\n",
       "      <td>0.0</td>\n",
       "      <td>75</td>\n",
       "      <td>Clouds</td>\n",
       "      <td>broken clouds</td>\n",
       "      <td>2012-10-02 10:00:00</td>\n",
       "      <td>4516</td>\n",
       "    </tr>\n",
       "    <tr>\n",
       "      <th>2</th>\n",
       "      <td>None</td>\n",
       "      <td>289.58</td>\n",
       "      <td>0.0</td>\n",
       "      <td>0.0</td>\n",
       "      <td>90</td>\n",
       "      <td>Clouds</td>\n",
       "      <td>overcast clouds</td>\n",
       "      <td>2012-10-02 11:00:00</td>\n",
       "      <td>4767</td>\n",
       "    </tr>\n",
       "    <tr>\n",
       "      <th>3</th>\n",
       "      <td>None</td>\n",
       "      <td>290.13</td>\n",
       "      <td>0.0</td>\n",
       "      <td>0.0</td>\n",
       "      <td>90</td>\n",
       "      <td>Clouds</td>\n",
       "      <td>overcast clouds</td>\n",
       "      <td>2012-10-02 12:00:00</td>\n",
       "      <td>5026</td>\n",
       "    </tr>\n",
       "    <tr>\n",
       "      <th>4</th>\n",
       "      <td>None</td>\n",
       "      <td>291.14</td>\n",
       "      <td>0.0</td>\n",
       "      <td>0.0</td>\n",
       "      <td>75</td>\n",
       "      <td>Clouds</td>\n",
       "      <td>broken clouds</td>\n",
       "      <td>2012-10-02 13:00:00</td>\n",
       "      <td>4918</td>\n",
       "    </tr>\n",
       "    <tr>\n",
       "      <th>5</th>\n",
       "      <td>None</td>\n",
       "      <td>291.72</td>\n",
       "      <td>0.0</td>\n",
       "      <td>0.0</td>\n",
       "      <td>1</td>\n",
       "      <td>Clear</td>\n",
       "      <td>sky is clear</td>\n",
       "      <td>2012-10-02 14:00:00</td>\n",
       "      <td>5181</td>\n",
       "    </tr>\n",
       "    <tr>\n",
       "      <th>6</th>\n",
       "      <td>None</td>\n",
       "      <td>293.17</td>\n",
       "      <td>0.0</td>\n",
       "      <td>0.0</td>\n",
       "      <td>1</td>\n",
       "      <td>Clear</td>\n",
       "      <td>sky is clear</td>\n",
       "      <td>2012-10-02 15:00:00</td>\n",
       "      <td>5584</td>\n",
       "    </tr>\n",
       "    <tr>\n",
       "      <th>7</th>\n",
       "      <td>None</td>\n",
       "      <td>293.86</td>\n",
       "      <td>0.0</td>\n",
       "      <td>0.0</td>\n",
       "      <td>1</td>\n",
       "      <td>Clear</td>\n",
       "      <td>sky is clear</td>\n",
       "      <td>2012-10-02 16:00:00</td>\n",
       "      <td>6015</td>\n",
       "    </tr>\n",
       "    <tr>\n",
       "      <th>8</th>\n",
       "      <td>None</td>\n",
       "      <td>294.14</td>\n",
       "      <td>0.0</td>\n",
       "      <td>0.0</td>\n",
       "      <td>20</td>\n",
       "      <td>Clouds</td>\n",
       "      <td>few clouds</td>\n",
       "      <td>2012-10-02 17:00:00</td>\n",
       "      <td>5791</td>\n",
       "    </tr>\n",
       "    <tr>\n",
       "      <th>9</th>\n",
       "      <td>None</td>\n",
       "      <td>293.10</td>\n",
       "      <td>0.0</td>\n",
       "      <td>0.0</td>\n",
       "      <td>20</td>\n",
       "      <td>Clouds</td>\n",
       "      <td>few clouds</td>\n",
       "      <td>2012-10-02 18:00:00</td>\n",
       "      <td>4770</td>\n",
       "    </tr>\n",
       "  </tbody>\n",
       "</table>\n",
       "</div>"
      ],
      "text/plain": [
       "  holiday    temp  rain_1h  snow_1h  clouds_all weather_main  \\\n",
       "0    None  288.28      0.0      0.0          40       Clouds   \n",
       "1    None  289.36      0.0      0.0          75       Clouds   \n",
       "2    None  289.58      0.0      0.0          90       Clouds   \n",
       "3    None  290.13      0.0      0.0          90       Clouds   \n",
       "4    None  291.14      0.0      0.0          75       Clouds   \n",
       "5    None  291.72      0.0      0.0           1        Clear   \n",
       "6    None  293.17      0.0      0.0           1        Clear   \n",
       "7    None  293.86      0.0      0.0           1        Clear   \n",
       "8    None  294.14      0.0      0.0          20       Clouds   \n",
       "9    None  293.10      0.0      0.0          20       Clouds   \n",
       "\n",
       "  weather_description            date_time  traffic_volume  \n",
       "0    scattered clouds  2012-10-02 09:00:00            5545  \n",
       "1       broken clouds  2012-10-02 10:00:00            4516  \n",
       "2     overcast clouds  2012-10-02 11:00:00            4767  \n",
       "3     overcast clouds  2012-10-02 12:00:00            5026  \n",
       "4       broken clouds  2012-10-02 13:00:00            4918  \n",
       "5        sky is clear  2012-10-02 14:00:00            5181  \n",
       "6        sky is clear  2012-10-02 15:00:00            5584  \n",
       "7        sky is clear  2012-10-02 16:00:00            6015  \n",
       "8          few clouds  2012-10-02 17:00:00            5791  \n",
       "9          few clouds  2012-10-02 18:00:00            4770  "
      ]
     },
     "metadata": {},
     "output_type": "display_data"
    },
    {
     "name": "stdout",
     "output_type": "stream",
     "text": [
      "(48204, 9)\n"
     ]
    }
   ],
   "source": [
    "display(original_data.head(10))\n",
    "print(original_data.shape)"
   ]
  },
  {
   "cell_type": "code",
   "execution_count": 5,
   "metadata": {},
   "outputs": [
    {
     "name": "stdout",
     "output_type": "stream",
     "text": [
      "Start Date:  2012-10-02 09:00:00\n",
      "End Date:  2018-09-30 23:00:00\n"
     ]
    },
    {
     "data": {
      "image/png": "[encoded data removed]",
      "text/plain": [
       "<Figure size 432x288 with 1 Axes>"
      ]
     },
     "metadata": {
      "needs_background": "light"
     },
     "output_type": "display_data"
    }
   ],
   "source": [
    "df = original_data.copy()\n",
    "df.plot()\n",
    "print(\"Start Date: \", min(df['date_time']))\n",
    "print(\"End Date: \", max(df['date_time']))"
   ]
  },
  {
   "cell_type": "markdown",
   "metadata": {},
   "source": [
    "상기 코드 셀에서 2012년 10월부터 2018년 10월까지의 시간별 데이터를 확인할 수 있으며, 일부 시계열 데이터가 누락된 것을 확인할 수 있습니다. (1년에 약 8700시간이 있다는 점을 감안할 때 약 52,000개의 시계얼 데이터가 있어야 하므로)"
   ]
  },
  {
   "cell_type": "code",
   "execution_count": 6,
   "metadata": {},
   "outputs": [
    {
     "data": {
      "text/plain": [
       "(52537, 0)"
      ]
     },
     "execution_count": 6,
     "metadata": {},
     "output_type": "execute_result"
    }
   ],
   "source": [
    "total_days = 2190\n",
    "# Build the index first\n",
    "idx = pd.date_range(start='10/02/2012', end='09/30/2018', freq='H')\n",
    "full_df = pd.DataFrame(index=idx)\n",
    "full_df.shape"
   ]
  },
  {
   "cell_type": "code",
   "execution_count": 7,
   "metadata": {},
   "outputs": [
    {
     "name": "stdout",
     "output_type": "stream",
     "text": [
      "<class 'pandas.core.frame.DataFrame'>\n",
      "Index: 48175 entries, 2012-10-02 09:00:00 to 2018-09-30 23:00:00\n",
      "Data columns (total 8 columns):\n",
      " #   Column               Non-Null Count  Dtype  \n",
      "---  ------               --------------  -----  \n",
      " 0   holiday              48175 non-null  object \n",
      " 1   temp                 48175 non-null  float64\n",
      " 2   rain_1h              48175 non-null  float64\n",
      " 3   snow_1h              48175 non-null  float64\n",
      " 4   clouds_all           48175 non-null  int64  \n",
      " 5   weather_main         48175 non-null  object \n",
      " 6   weather_description  48175 non-null  object \n",
      " 7   traffic_volume       48175 non-null  int64  \n",
      "dtypes: float64(3), int64(2), object(3)\n",
      "memory usage: 3.3+ MB\n"
     ]
    }
   ],
   "source": [
    "df.set_index('date_time', inplace=True)\n",
    "df = df.drop_duplicates(keep ='first')\n",
    "df.info()"
   ]
  },
  {
   "cell_type": "code",
   "execution_count": 8,
   "metadata": {},
   "outputs": [
    {
     "name": "stdout",
     "output_type": "stream",
     "text": [
      "2012-10-02 00:00:00\n",
      "2018-09-30 23:00:00\n"
     ]
    }
   ],
   "source": [
    "# Now perform the join\n",
    "full_historical_df = full_df.join(df, how='outer')\n",
    "print (full_historical_df.index.min())\n",
    "print (full_historical_df.index.max())"
   ]
  },
  {
   "cell_type": "markdown",
   "metadata": {},
   "source": [
    "데이터를 살펴 보면 2014년 말부터 2016년 중반까지 시계열 데이터가 누락되어 있습니다."
   ]
  },
  {
   "cell_type": "code",
   "execution_count": 9,
   "metadata": {},
   "outputs": [
    {
     "data": {
      "text/plain": [
       "<matplotlib.axes._subplots.AxesSubplot at 0x7f04ac84c9b0>"
      ]
     },
     "execution_count": 9,
     "metadata": {},
     "output_type": "execute_result"
    },
    {
     "data": {
      "image/png": "[encoded data removed]",
      "text/plain": [
       "<Figure size 432x288 with 1 Axes>"
      ]
     },
     "metadata": {
      "needs_background": "light"
     },
     "output_type": "display_data"
    }
   ],
   "source": [
    "full_historical_df.plot()"
   ]
  },
  {
   "cell_type": "code",
   "execution_count": 10,
   "metadata": {},
   "outputs": [
    {
     "data": {
      "text/html": [
       "<div>\n",
       "<style scoped>\n",
       "    .dataframe tbody tr th:only-of-type {\n",
       "        vertical-align: middle;\n",
       "    }\n",
       "\n",
       "    .dataframe tbody tr th {\n",
       "        vertical-align: top;\n",
       "    }\n",
       "\n",
       "    .dataframe thead th {\n",
       "        text-align: right;\n",
       "    }\n",
       "</style>\n",
       "<table border=\"1\" class=\"dataframe\">\n",
       "  <thead>\n",
       "    <tr style=\"text-align: right;\">\n",
       "      <th></th>\n",
       "      <th>holiday</th>\n",
       "      <th>temp</th>\n",
       "      <th>rain_1h</th>\n",
       "      <th>snow_1h</th>\n",
       "      <th>clouds_all</th>\n",
       "      <th>weather_main</th>\n",
       "      <th>weather_description</th>\n",
       "      <th>traffic_volume</th>\n",
       "    </tr>\n",
       "  </thead>\n",
       "  <tbody>\n",
       "    <tr>\n",
       "      <th>2017-09-25 19:00:00</th>\n",
       "      <td>None</td>\n",
       "      <td>288.48</td>\n",
       "      <td>0.0</td>\n",
       "      <td>0.0</td>\n",
       "      <td>90.0</td>\n",
       "      <td>Clouds</td>\n",
       "      <td>overcast clouds</td>\n",
       "      <td>3004.0</td>\n",
       "    </tr>\n",
       "    <tr>\n",
       "      <th>2018-02-03 08:00:00</th>\n",
       "      <td>None</td>\n",
       "      <td>262.30</td>\n",
       "      <td>0.0</td>\n",
       "      <td>0.0</td>\n",
       "      <td>90.0</td>\n",
       "      <td>Snow</td>\n",
       "      <td>light snow</td>\n",
       "      <td>2552.0</td>\n",
       "    </tr>\n",
       "    <tr>\n",
       "      <th>2016-06-12 10:00:00</th>\n",
       "      <td>None</td>\n",
       "      <td>294.26</td>\n",
       "      <td>0.0</td>\n",
       "      <td>0.0</td>\n",
       "      <td>32.0</td>\n",
       "      <td>Rain</td>\n",
       "      <td>light rain</td>\n",
       "      <td>3446.0</td>\n",
       "    </tr>\n",
       "    <tr>\n",
       "      <th>2017-03-16 04:00:00</th>\n",
       "      <td>None</td>\n",
       "      <td>267.64</td>\n",
       "      <td>0.0</td>\n",
       "      <td>0.0</td>\n",
       "      <td>75.0</td>\n",
       "      <td>Clouds</td>\n",
       "      <td>broken clouds</td>\n",
       "      <td>1057.0</td>\n",
       "    </tr>\n",
       "    <tr>\n",
       "      <th>2017-07-21 20:00:00</th>\n",
       "      <td>None</td>\n",
       "      <td>299.80</td>\n",
       "      <td>0.0</td>\n",
       "      <td>0.0</td>\n",
       "      <td>75.0</td>\n",
       "      <td>Clouds</td>\n",
       "      <td>broken clouds</td>\n",
       "      <td>3321.0</td>\n",
       "    </tr>\n",
       "    <tr>\n",
       "      <th>2015-03-28 01:00:00</th>\n",
       "      <td>NaN</td>\n",
       "      <td>NaN</td>\n",
       "      <td>NaN</td>\n",
       "      <td>NaN</td>\n",
       "      <td>NaN</td>\n",
       "      <td>NaN</td>\n",
       "      <td>NaN</td>\n",
       "      <td>NaN</td>\n",
       "    </tr>\n",
       "    <tr>\n",
       "      <th>2014-02-24 20:00:00</th>\n",
       "      <td>None</td>\n",
       "      <td>260.11</td>\n",
       "      <td>0.0</td>\n",
       "      <td>0.0</td>\n",
       "      <td>90.0</td>\n",
       "      <td>Clouds</td>\n",
       "      <td>overcast clouds</td>\n",
       "      <td>2398.0</td>\n",
       "    </tr>\n",
       "    <tr>\n",
       "      <th>2015-09-30 02:00:00</th>\n",
       "      <td>None</td>\n",
       "      <td>277.54</td>\n",
       "      <td>0.0</td>\n",
       "      <td>0.0</td>\n",
       "      <td>1.0</td>\n",
       "      <td>Clear</td>\n",
       "      <td>sky is clear</td>\n",
       "      <td>273.0</td>\n",
       "    </tr>\n",
       "    <tr>\n",
       "      <th>2016-09-23 22:00:00</th>\n",
       "      <td>None</td>\n",
       "      <td>290.23</td>\n",
       "      <td>0.0</td>\n",
       "      <td>0.0</td>\n",
       "      <td>92.0</td>\n",
       "      <td>Clouds</td>\n",
       "      <td>overcast clouds</td>\n",
       "      <td>2304.0</td>\n",
       "    </tr>\n",
       "    <tr>\n",
       "      <th>2013-12-23 11:00:00</th>\n",
       "      <td>None</td>\n",
       "      <td>255.38</td>\n",
       "      <td>0.0</td>\n",
       "      <td>0.0</td>\n",
       "      <td>64.0</td>\n",
       "      <td>Clouds</td>\n",
       "      <td>broken clouds</td>\n",
       "      <td>4792.0</td>\n",
       "    </tr>\n",
       "  </tbody>\n",
       "</table>\n",
       "</div>"
      ],
      "text/plain": [
       "                    holiday    temp  rain_1h  snow_1h  clouds_all  \\\n",
       "2017-09-25 19:00:00    None  288.48      0.0      0.0        90.0   \n",
       "2018-02-03 08:00:00    None  262.30      0.0      0.0        90.0   \n",
       "2016-06-12 10:00:00    None  294.26      0.0      0.0        32.0   \n",
       "2017-03-16 04:00:00    None  267.64      0.0      0.0        75.0   \n",
       "2017-07-21 20:00:00    None  299.80      0.0      0.0        75.0   \n",
       "2015-03-28 01:00:00     NaN     NaN      NaN      NaN         NaN   \n",
       "2014-02-24 20:00:00    None  260.11      0.0      0.0        90.0   \n",
       "2015-09-30 02:00:00    None  277.54      0.0      0.0         1.0   \n",
       "2016-09-23 22:00:00    None  290.23      0.0      0.0        92.0   \n",
       "2013-12-23 11:00:00    None  255.38      0.0      0.0        64.0   \n",
       "\n",
       "                    weather_main weather_description  traffic_volume  \n",
       "2017-09-25 19:00:00       Clouds     overcast clouds          3004.0  \n",
       "2018-02-03 08:00:00         Snow          light snow          2552.0  \n",
       "2016-06-12 10:00:00         Rain          light rain          3446.0  \n",
       "2017-03-16 04:00:00       Clouds       broken clouds          1057.0  \n",
       "2017-07-21 20:00:00       Clouds       broken clouds          3321.0  \n",
       "2015-03-28 01:00:00          NaN                 NaN             NaN  \n",
       "2014-02-24 20:00:00       Clouds     overcast clouds          2398.0  \n",
       "2015-09-30 02:00:00        Clear        sky is clear           273.0  \n",
       "2016-09-23 22:00:00       Clouds     overcast clouds          2304.0  \n",
       "2013-12-23 11:00:00       Clouds       broken clouds          4792.0  "
      ]
     },
     "execution_count": 10,
     "metadata": {},
     "output_type": "execute_result"
    }
   ],
   "source": [
    "# Take a look at 10 random entries\n",
    "full_historical_df.sample(10)"
   ]
  },
  {
   "cell_type": "markdown",
   "metadata": {},
   "source": [
    "자세한 내용은 생략하였지만 간단하게 EDA를 수행해 보면, 2013년과 2016년에도 일부 누락된 시계열이 있습니다. \n",
    "\n",
    "물론 전체 데이터로 다 훈련을 수행할 수도 있지만, 최근 1-2년치 데이터로 훈련하는 것이 충분한 경우가 많고 2017~2018년의 시계열은 안정적으로 분포되어 있기 때문에 본 예제에서는 2017년 1월 1일 데이터부터 사용하겠습니다."
   ]
  },
  {
   "cell_type": "markdown",
   "metadata": {},
   "source": [
    "<br>\n",
    "\n",
    "## 3. Data Wrangling\n",
    "---\n",
    "\n",
    "Amazon Forecast는 csv 파일을 입력데이터로 지원하지만, 대부분의 경우 raw 데이터를 그대로 사용할 수 없습니다. Forecast 뿐만 아니라, SageMaker built-in DeepAR이나 GluonTS도 마찬가지이므로 전처리 작업은 필수입니다. 대표적인 데이터 전처리 예시들은 아래와 같습니다.\n",
    "\n",
    "- 중복 제거\n",
    "- 이상치 제거 or padding (예: 수량 예측 시 0보다 작은 값이 포함된 경우 0으로 padding)\n",
    "- Daily/Weekly Aggregation (Mean, Sum, Min, Max 등)\n",
    "- Missing date padding \n",
    "- Missing data imputation\n",
    "- 범주형 데이터의 label ncoding, one-hot encoding\n",
    "\n",
    "본 데이터셋은 Aggregation, Missing date padding, label encoding으로 간단한 전처리를 수행합니다."
   ]
  },
  {
   "cell_type": "code",
   "execution_count": 11,
   "metadata": {},
   "outputs": [
    {
     "name": "stdout",
     "output_type": "stream",
     "text": [
      "2017-01-01 00:00:00\n",
      "2018-09-30 23:00:00\n"
     ]
    }
   ],
   "source": [
    "# Create a copy\n",
    "df = full_historical_df.copy()\n",
    "# Slice to only 2017 onward\n",
    "df = df.loc['2017-01-01':]\n",
    "# Validate the dates\n",
    "print (df.index.min())\n",
    "print (df.index.max())"
   ]
  },
  {
   "cell_type": "markdown",
   "metadata": {},
   "source": [
    "여전히 일부 누락된 데이터가 있기 때문에 backward filling과 forward filling으로 결측치를 보충해 줍니다."
   ]
  },
  {
   "cell_type": "code",
   "execution_count": 12,
   "metadata": {},
   "outputs": [
    {
     "data": {
      "text/html": [
       "<div>\n",
       "<style scoped>\n",
       "    .dataframe tbody tr th:only-of-type {\n",
       "        vertical-align: middle;\n",
       "    }\n",
       "\n",
       "    .dataframe tbody tr th {\n",
       "        vertical-align: top;\n",
       "    }\n",
       "\n",
       "    .dataframe thead th {\n",
       "        text-align: right;\n",
       "    }\n",
       "</style>\n",
       "<table border=\"1\" class=\"dataframe\">\n",
       "  <thead>\n",
       "    <tr style=\"text-align: right;\">\n",
       "      <th></th>\n",
       "      <th>holiday</th>\n",
       "      <th>temp</th>\n",
       "      <th>rain_1h</th>\n",
       "      <th>snow_1h</th>\n",
       "      <th>clouds_all</th>\n",
       "      <th>weather_main</th>\n",
       "      <th>weather_description</th>\n",
       "      <th>traffic_volume</th>\n",
       "    </tr>\n",
       "  </thead>\n",
       "  <tbody>\n",
       "    <tr>\n",
       "      <th>2017-01-01 00:00:00</th>\n",
       "      <td>None</td>\n",
       "      <td>269.75</td>\n",
       "      <td>0.0</td>\n",
       "      <td>0.0</td>\n",
       "      <td>75.0</td>\n",
       "      <td>Clouds</td>\n",
       "      <td>broken clouds</td>\n",
       "      <td>1848.0</td>\n",
       "    </tr>\n",
       "    <tr>\n",
       "      <th>2017-01-01 01:00:00</th>\n",
       "      <td>None</td>\n",
       "      <td>269.95</td>\n",
       "      <td>0.0</td>\n",
       "      <td>0.0</td>\n",
       "      <td>1.0</td>\n",
       "      <td>Clear</td>\n",
       "      <td>sky is clear</td>\n",
       "      <td>1806.0</td>\n",
       "    </tr>\n",
       "    <tr>\n",
       "      <th>2017-01-01 02:00:00</th>\n",
       "      <td>None</td>\n",
       "      <td>269.75</td>\n",
       "      <td>0.0</td>\n",
       "      <td>0.0</td>\n",
       "      <td>1.0</td>\n",
       "      <td>Clear</td>\n",
       "      <td>sky is clear</td>\n",
       "      <td>1211.0</td>\n",
       "    </tr>\n",
       "    <tr>\n",
       "      <th>2017-01-01 03:00:00</th>\n",
       "      <td>None</td>\n",
       "      <td>269.65</td>\n",
       "      <td>0.0</td>\n",
       "      <td>0.0</td>\n",
       "      <td>40.0</td>\n",
       "      <td>Clouds</td>\n",
       "      <td>scattered clouds</td>\n",
       "      <td>794.0</td>\n",
       "    </tr>\n",
       "    <tr>\n",
       "      <th>2017-01-01 04:00:00</th>\n",
       "      <td>None</td>\n",
       "      <td>269.48</td>\n",
       "      <td>0.0</td>\n",
       "      <td>0.0</td>\n",
       "      <td>1.0</td>\n",
       "      <td>Clear</td>\n",
       "      <td>sky is clear</td>\n",
       "      <td>500.0</td>\n",
       "    </tr>\n",
       "    <tr>\n",
       "      <th>...</th>\n",
       "      <td>...</td>\n",
       "      <td>...</td>\n",
       "      <td>...</td>\n",
       "      <td>...</td>\n",
       "      <td>...</td>\n",
       "      <td>...</td>\n",
       "      <td>...</td>\n",
       "      <td>...</td>\n",
       "    </tr>\n",
       "    <tr>\n",
       "      <th>2018-09-30 19:00:00</th>\n",
       "      <td>None</td>\n",
       "      <td>283.45</td>\n",
       "      <td>0.0</td>\n",
       "      <td>0.0</td>\n",
       "      <td>75.0</td>\n",
       "      <td>Clouds</td>\n",
       "      <td>broken clouds</td>\n",
       "      <td>3543.0</td>\n",
       "    </tr>\n",
       "    <tr>\n",
       "      <th>2018-09-30 20:00:00</th>\n",
       "      <td>None</td>\n",
       "      <td>282.76</td>\n",
       "      <td>0.0</td>\n",
       "      <td>0.0</td>\n",
       "      <td>90.0</td>\n",
       "      <td>Clouds</td>\n",
       "      <td>overcast clouds</td>\n",
       "      <td>2781.0</td>\n",
       "    </tr>\n",
       "    <tr>\n",
       "      <th>2018-09-30 21:00:00</th>\n",
       "      <td>None</td>\n",
       "      <td>282.73</td>\n",
       "      <td>0.0</td>\n",
       "      <td>0.0</td>\n",
       "      <td>90.0</td>\n",
       "      <td>Thunderstorm</td>\n",
       "      <td>proximity thunderstorm</td>\n",
       "      <td>2159.0</td>\n",
       "    </tr>\n",
       "    <tr>\n",
       "      <th>2018-09-30 22:00:00</th>\n",
       "      <td>None</td>\n",
       "      <td>282.09</td>\n",
       "      <td>0.0</td>\n",
       "      <td>0.0</td>\n",
       "      <td>90.0</td>\n",
       "      <td>Clouds</td>\n",
       "      <td>overcast clouds</td>\n",
       "      <td>1450.0</td>\n",
       "    </tr>\n",
       "    <tr>\n",
       "      <th>2018-09-30 23:00:00</th>\n",
       "      <td>None</td>\n",
       "      <td>282.12</td>\n",
       "      <td>0.0</td>\n",
       "      <td>0.0</td>\n",
       "      <td>90.0</td>\n",
       "      <td>Clouds</td>\n",
       "      <td>overcast clouds</td>\n",
       "      <td>954.0</td>\n",
       "    </tr>\n",
       "  </tbody>\n",
       "</table>\n",
       "<p>18609 rows × 8 columns</p>\n",
       "</div>"
      ],
      "text/plain": [
       "                    holiday    temp  rain_1h  snow_1h  clouds_all  \\\n",
       "2017-01-01 00:00:00    None  269.75      0.0      0.0        75.0   \n",
       "2017-01-01 01:00:00    None  269.95      0.0      0.0         1.0   \n",
       "2017-01-01 02:00:00    None  269.75      0.0      0.0         1.0   \n",
       "2017-01-01 03:00:00    None  269.65      0.0      0.0        40.0   \n",
       "2017-01-01 04:00:00    None  269.48      0.0      0.0         1.0   \n",
       "...                     ...     ...      ...      ...         ...   \n",
       "2018-09-30 19:00:00    None  283.45      0.0      0.0        75.0   \n",
       "2018-09-30 20:00:00    None  282.76      0.0      0.0        90.0   \n",
       "2018-09-30 21:00:00    None  282.73      0.0      0.0        90.0   \n",
       "2018-09-30 22:00:00    None  282.09      0.0      0.0        90.0   \n",
       "2018-09-30 23:00:00    None  282.12      0.0      0.0        90.0   \n",
       "\n",
       "                     weather_main     weather_description  traffic_volume  \n",
       "2017-01-01 00:00:00        Clouds           broken clouds          1848.0  \n",
       "2017-01-01 01:00:00         Clear            sky is clear          1806.0  \n",
       "2017-01-01 02:00:00         Clear            sky is clear          1211.0  \n",
       "2017-01-01 03:00:00        Clouds        scattered clouds           794.0  \n",
       "2017-01-01 04:00:00         Clear            sky is clear           500.0  \n",
       "...                           ...                     ...             ...  \n",
       "2018-09-30 19:00:00        Clouds           broken clouds          3543.0  \n",
       "2018-09-30 20:00:00        Clouds         overcast clouds          2781.0  \n",
       "2018-09-30 21:00:00  Thunderstorm  proximity thunderstorm          2159.0  \n",
       "2018-09-30 22:00:00        Clouds         overcast clouds          1450.0  \n",
       "2018-09-30 23:00:00        Clouds         overcast clouds           954.0  \n",
       "\n",
       "[18609 rows x 8 columns]"
      ]
     },
     "execution_count": 12,
     "metadata": {},
     "output_type": "execute_result"
    }
   ],
   "source": [
    "# Fill in any missing data with the method ffill\n",
    "df.bfill(inplace=True)\n",
    "df.ffill()"
   ]
  },
  {
   "cell_type": "markdown",
   "metadata": {},
   "source": [
    "### Label Encoding\n",
    "\n",
    "범주형 데이터를 수치형으로 변환해줍니다."
   ]
  },
  {
   "cell_type": "code",
   "execution_count": 13,
   "metadata": {},
   "outputs": [],
   "source": [
    "cat_dict = {}\n",
    "cat_cols = ['holiday', 'weather_main', 'weather_description']\n",
    "for c in cat_cols:\n",
    "    df[c], cat_dict[c] = pd.factorize(df[c]) "
   ]
  },
  {
   "cell_type": "markdown",
   "metadata": {},
   "source": [
    "### Create Target time-series and Related time-series"
   ]
  },
  {
   "cell_type": "code",
   "execution_count": 14,
   "metadata": {},
   "outputs": [],
   "source": [
    "FREQ = 'H'\n",
    "df = df.resample(FREQ).sum()\n",
    "target_col = 'traffic_volume'\n",
    "related_cols = ['holiday', 'temp', 'rain_1h', 'snow_1h', 'clouds_all', 'weather_main', 'weather_description']\n",
    "target_df = df[[target_col]]\n",
    "related_df = df[related_cols]"
   ]
  },
  {
   "cell_type": "code",
   "execution_count": 15,
   "metadata": {},
   "outputs": [
    {
     "data": {
      "text/html": [
       "<div>\n",
       "<style scoped>\n",
       "    .dataframe tbody tr th:only-of-type {\n",
       "        vertical-align: middle;\n",
       "    }\n",
       "\n",
       "    .dataframe tbody tr th {\n",
       "        vertical-align: top;\n",
       "    }\n",
       "\n",
       "    .dataframe thead th {\n",
       "        text-align: right;\n",
       "    }\n",
       "</style>\n",
       "<table border=\"1\" class=\"dataframe\">\n",
       "  <thead>\n",
       "    <tr style=\"text-align: right;\">\n",
       "      <th></th>\n",
       "      <th>traffic_volume</th>\n",
       "    </tr>\n",
       "  </thead>\n",
       "  <tbody>\n",
       "    <tr>\n",
       "      <th>2017-01-01 00:00:00</th>\n",
       "      <td>1848.0</td>\n",
       "    </tr>\n",
       "    <tr>\n",
       "      <th>2017-01-01 01:00:00</th>\n",
       "      <td>1806.0</td>\n",
       "    </tr>\n",
       "    <tr>\n",
       "      <th>2017-01-01 02:00:00</th>\n",
       "      <td>1211.0</td>\n",
       "    </tr>\n",
       "    <tr>\n",
       "      <th>2017-01-01 03:00:00</th>\n",
       "      <td>794.0</td>\n",
       "    </tr>\n",
       "    <tr>\n",
       "      <th>2017-01-01 04:00:00</th>\n",
       "      <td>500.0</td>\n",
       "    </tr>\n",
       "  </tbody>\n",
       "</table>\n",
       "</div>"
      ],
      "text/plain": [
       "                     traffic_volume\n",
       "2017-01-01 00:00:00          1848.0\n",
       "2017-01-01 01:00:00          1806.0\n",
       "2017-01-01 02:00:00          1211.0\n",
       "2017-01-01 03:00:00           794.0\n",
       "2017-01-01 04:00:00           500.0"
      ]
     },
     "execution_count": 15,
     "metadata": {},
     "output_type": "execute_result"
    }
   ],
   "source": [
    "target_df.head()"
   ]
  },
  {
   "cell_type": "code",
   "execution_count": 16,
   "metadata": {},
   "outputs": [],
   "source": [
    "target_train_df = target_df.loc['2017-01-01':'2018-07-31']\n",
    "target_test_df = target_df.loc['2018-08-01':]\n",
    "\n",
    "related_train_df = related_df.loc['2017-01-01':'2018-07-31']\n",
    "related_test_df = related_df.loc['2018-08-01':]"
   ]
  },
  {
   "cell_type": "code",
   "execution_count": 17,
   "metadata": {},
   "outputs": [
    {
     "data": {
      "text/plain": [
       "<matplotlib.axes._subplots.AxesSubplot at 0x7f04ac3c1d30>"
      ]
     },
     "execution_count": 17,
     "metadata": {},
     "output_type": "execute_result"
    },
    {
     "data": {
      "image/png": "[encoded data removed]",
      "text/plain": [
       "<Figure size 720x360 with 1 Axes>"
      ]
     },
     "metadata": {
      "needs_background": "light"
     },
     "output_type": "display_data"
    }
   ],
   "source": [
    "target_train_df['2017-12-01':'2017-12-31']['traffic_volume'].resample('H').sum().plot(title=\"Hourly Traffic Volume in Dec 2017\", figsize=(10,5))"
   ]
  },
  {
   "cell_type": "markdown",
   "metadata": {},
   "source": [
    "### Save preprocessed data\n",
    "\n",
    "전처리가 완료된 데이터를 다음 모듈에서 그대로 활용하기 위해 csv로 저장합니다."
   ]
  },
  {
   "cell_type": "code",
   "execution_count": 18,
   "metadata": {},
   "outputs": [],
   "source": [
    "target_train_df.to_csv(f'{data_dir}/target_train.csv', index=True)\n",
    "target_test_df.to_csv(f'{data_dir}/target_test.csv', index=True)\n",
    "\n",
    "related_train_df.to_csv(f'{data_dir}/related_train.csv', index=True)\n",
    "related_test_df.to_csv(f'{data_dir}/related_test.csv', index=True)"
   ]
  },
  {
   "cell_type": "markdown",
   "metadata": {},
   "source": [
    "<br>\n",
    "\n",
    "## 4. Preparing GlounTS Dataset\n",
    "---\n",
    "\n",
    "7일치 데이터(24 x 7 = 168)를 예측 구간으로 설정합니다."
   ]
  },
  {
   "cell_type": "code",
   "execution_count": 19,
   "metadata": {},
   "outputs": [],
   "source": [
    "num_steps, num_series = target_train_df.shape\n",
    "target = target_train_df.values\n",
    "\n",
    "pred_length = 24*7 \n",
    "start_train_dt = '2017-01-01 00:00:00'\n",
    "custom_ds_metadata = {'num_series': num_series,\n",
    "                      'num_steps': num_steps,\n",
    "                      'prediction_length': pred_length,\n",
    "                      'freq': FREQ,\n",
    "                      'start': start_train_dt\n",
    "                     }"
   ]
  },
  {
   "cell_type": "markdown",
   "metadata": {},
   "source": [
    "### Create GluonTS Dataset\n",
    "\n",
    "GluonTS Dataset을 생성하기 위해서는 `FieldName.TARGET`과 `FieldName.START` 키에 해당하는 값들이 반드시 포함되어야 하며, 나머지 FieldName에 대해서는 선택적으로 포함할 수 있습니다.\n",
    " \n",
    "그리고, 일반적인 ML 알고리즘과 달리 GlounTS의 테스트 데이터셋은 훈련 데이터 전부를 포함합니다.\n",
    "예를 들어 100일치 시계열을 대상으로, 마지막 20일치 데이터에 대해 테스트가 필요한 경우(80일 훈련, 20일 테스트), \n",
    "시작일부터 80일치까지의 시계열을 훈련 데이터로 지정하고 100일치의 모든 데이터를 그대로 테스트 데이터셋으로 지정하시면 됩니다. 전체 시계열이 필요한 이유는\n",
    "Evaluator 클래스를 통해 metric 및 plotting을 한 줄의 코드로 간단하게 수행하기 위함이고, 실제 내부 로직에서는 테스트 시계열에서 예측 시계열 길이만큼의(예: 20일치) 데이터를 잘라내어 추론을 수행합니다."
   ]
  },
  {
   "cell_type": "code",
   "execution_count": 20,
   "metadata": {},
   "outputs": [],
   "source": [
    "related_list = [related_train_df[c].values for c in related_cols]\n",
    "train_lst = []\n",
    "\n",
    "target_vec = target[:-pred_length].squeeze()\n",
    "related_vecs = [related[:-pred_length].squeeze() for related in related_list]\n",
    "dic = {FieldName.TARGET: target_vec, \n",
    "       FieldName.START: start_train_dt,\n",
    "       FieldName.FEAT_DYNAMIC_REAL: related_vecs\n",
    "      } \n",
    "train_lst.append(dic)\n",
    "\n",
    "test_lst = []\n",
    "\n",
    "target_vec = target.squeeze()\n",
    "related_vecs = [related.squeeze() for related in related_list]\n",
    "dic = {FieldName.TARGET: target_vec, \n",
    "       FieldName.START: start_train_dt,\n",
    "       FieldName.FEAT_DYNAMIC_REAL: related_vecs\n",
    "      } \n",
    "test_lst.append(dic)\n",
    "\n",
    "train_ds = ListDataset(train_lst, freq=FREQ)\n",
    "test_ds = ListDataset(test_lst, freq=FREQ)  "
   ]
  },
  {
   "cell_type": "markdown",
   "metadata": {},
   "source": [
    "<br>\n",
    "\n",
    "## 5. Baseline Training and Evaluation (Seasonal naïve)\n",
    "---\n",
    "\n",
    "머신러닝의 첫번째 iteration은 baseline 모델을 만들어 보는 것입니다. baseline을 통해 모델이 예측하는 하한선(lower bound)을 알 수 있으며, 특히 복잡한 패턴들이 많은 시계열 데이터에서는 baseline이 매우 잘 동작합니다. \n",
    "\n",
    "Seasonal naïve는 이전 데이터의 통계치를 반영하는 모델로, 과거 관측치를 복사하기 때문에 복잡한 훈련 과정 수행 없이 곧바로 추론이 가능하다는 장점이 있습니다."
   ]
  },
  {
   "cell_type": "code",
   "execution_count": 21,
   "metadata": {},
   "outputs": [],
   "source": [
    "from gluonts.model.seasonal_naive import *\n",
    "from gluonts.evaluation import Evaluator\n",
    "\n",
    "naive_predictor = SeasonalNaivePredictor(freq=custom_ds_metadata['freq'], \n",
    "                                         prediction_length=pred_length,\n",
    "                                         season_length=24)"
   ]
  },
  {
   "cell_type": "code",
   "execution_count": 22,
   "metadata": {},
   "outputs": [],
   "source": [
    "from pylab import rcParams\n",
    "from itertools import islice\n",
    "from gluonts.evaluation.backtest import make_evaluation_predictions\n",
    "\n",
    "rcParams['figure.figsize'] = 15, 8\n",
    "    \n",
    "def plot_forecasts(tss, forecasts, past_length=40, num_plots=2):\n",
    "    for target, forecast in islice(zip(tss, forecasts), num_plots):\n",
    "        ax = target[-past_length:].plot(figsize=(12, 5), linewidth=2)\n",
    "        forecast.plot(color='g')\n",
    "        plt.grid(which='both')\n",
    "        plt.legend([\"observations\", \"median prediction\", \"90% confidence interval\", \"50% confidence interval\"])\n",
    "        plt.show()\n",
    "        \n",
    "        \n",
    "def get_metrics(tss, forecasts, num_series, verbose=1):\n",
    "    evaluator = Evaluator(num_workers=os.cpu_count())\n",
    "    agg_metrics, item_metrics = evaluator(iter(tss), iter(forecasts), num_series=num_series)\n",
    "    metrics = ['RMSE', 'MAPE', 'wQuantileLoss[0.1]', 'wQuantileLoss[0.5]', 'wQuantileLoss[0.9]', 'mean_wQuantileLoss']\n",
    "    metrics_dic = dict((key,value) for key, value in agg_metrics.items() if key in metrics)\n",
    "    if verbose == 1:\n",
    "        print(json.dumps(metrics_dic, indent=4))\n",
    "    return metrics_dic"
   ]
  },
  {
   "cell_type": "code",
   "execution_count": 23,
   "metadata": {},
   "outputs": [],
   "source": [
    "forecast_it_baseline, ts_it_baseline = make_evaluation_predictions(test_ds, naive_predictor, num_samples=1)\n",
    "forecasts_baseline = list(forecast_it_baseline)\n",
    "tss_baseline = list(ts_it_baseline)"
   ]
  },
  {
   "cell_type": "markdown",
   "metadata": {},
   "source": [
    "Seasonal naïve도 전반적인 추이를 잘 예측하지만, 갑작스럽게 급증하는 교통량에 대한 예측 능력이 부족합니다. 이를 아래에서 개선해 보겠습니다."
   ]
  },
  {
   "cell_type": "code",
   "execution_count": 24,
   "metadata": {},
   "outputs": [
    {
     "data": {
      "image/png": "[encoded data removed]",
      "text/plain": [
       "<Figure size 864x360 with 1 Axes>"
      ]
     },
     "metadata": {
      "needs_background": "light"
     },
     "output_type": "display_data"
    }
   ],
   "source": [
    "plot_forecasts(tss_baseline, forecasts_baseline, past_length=300, num_plots=1)"
   ]
  },
  {
   "cell_type": "code",
   "execution_count": 25,
   "metadata": {},
   "outputs": [
    {
     "name": "stderr",
     "output_type": "stream",
     "text": [
      "Running evaluation: 100%|██████████| 1/1 [00:00<00:00, 38.70it/s]"
     ]
    },
    {
     "name": "stdout",
     "output_type": "stream",
     "text": [
      "{\n",
      "    \"MAPE\": 0.24857417424711042,\n",
      "    \"RMSE\": 1673.5405866718904,\n",
      "    \"wQuantileLoss[0.1]\": 0.18636299230348113,\n",
      "    \"wQuantileLoss[0.5]\": 0.20017550639229703,\n",
      "    \"wQuantileLoss[0.9]\": 0.21398802048111293,\n",
      "    \"mean_wQuantileLoss\": 0.20017550639229706\n",
      "}\n"
     ]
    },
    {
     "name": "stderr",
     "output_type": "stream",
     "text": [
      "\n"
     ]
    }
   ],
   "source": [
    "metrics_baseline = get_metrics(tss_baseline, forecasts_baseline, len(test_ds))"
   ]
  },
  {
   "cell_type": "markdown",
   "metadata": {},
   "source": [
    "<br>\n",
    "\n",
    "## 6. Training and Evaluation (SimpleFeedForwardEstimator)\n",
    "---\n",
    "\n",
    "SimpleFeedForwardEstimator로 예측을 수행해 보겠습니다.\n",
    "\n",
    "### Training"
   ]
  },
  {
   "cell_type": "code",
   "execution_count": 26,
   "metadata": {},
   "outputs": [],
   "source": [
    "device = 'gpu' if num_gpus() > 0 else \"cpu\"\n",
    "trainer = Trainer(\n",
    "    ctx=device,\n",
    "    epochs=10,\n",
    "    learning_rate=0.001,\n",
    "    num_batches_per_epoch=20\n",
    ")"
   ]
  },
  {
   "cell_type": "code",
   "execution_count": 27,
   "metadata": {},
   "outputs": [],
   "source": [
    "from gluonts.model.simple_feedforward import SimpleFeedForwardEstimator\n",
    "\n",
    "mlp_estimator = SimpleFeedForwardEstimator(\n",
    "    num_hidden_dimensions=[50],\n",
    "    prediction_length=custom_ds_metadata['prediction_length'],\n",
    "    context_length=2*custom_ds_metadata['prediction_length'],\n",
    "    freq=custom_ds_metadata['freq'],\n",
    "    trainer=trainer\n",
    ")"
   ]
  },
  {
   "cell_type": "code",
   "execution_count": 28,
   "metadata": {},
   "outputs": [
    {
     "name": "stderr",
     "output_type": "stream",
     "text": [
      "\r",
      "  0%|          | 0/20 [00:00<?, ?it/s]"
     ]
    },
    {
     "name": "stdout",
     "output_type": "stream",
     "text": [
      "learning rate from ``lr_scheduler`` has been overwritten by ``learning_rate`` in optimizer.\n"
     ]
    },
    {
     "name": "stderr",
     "output_type": "stream",
     "text": [
      "100%|██████████| 20/20 [00:01<00:00, 19.06it/s, epoch=1/10, avg_epoch_loss=10.3]\n",
      "100%|██████████| 20/20 [00:00<00:00, 21.85it/s, epoch=2/10, avg_epoch_loss=9.52]\n",
      "100%|██████████| 20/20 [00:00<00:00, 21.53it/s, epoch=3/10, avg_epoch_loss=9.13]\n",
      "100%|██████████| 20/20 [00:00<00:00, 22.33it/s, epoch=4/10, avg_epoch_loss=8.99]\n",
      "100%|██████████| 20/20 [00:00<00:00, 22.49it/s, epoch=5/10, avg_epoch_loss=8.94]\n",
      "100%|██████████| 20/20 [00:00<00:00, 22.84it/s, epoch=6/10, avg_epoch_loss=8.86]\n",
      "100%|██████████| 20/20 [00:00<00:00, 22.22it/s, epoch=7/10, avg_epoch_loss=8.81]\n",
      "100%|██████████| 20/20 [00:00<00:00, 22.49it/s, epoch=8/10, avg_epoch_loss=8.76]\n",
      "100%|██████████| 20/20 [00:00<00:00, 22.94it/s, epoch=9/10, avg_epoch_loss=8.71]\n",
      "100%|██████████| 20/20 [00:00<00:00, 22.51it/s, epoch=10/10, avg_epoch_loss=8.7]\n"
     ]
    }
   ],
   "source": [
    "mlp_predictor = mlp_estimator.train(train_ds)"
   ]
  },
  {
   "cell_type": "markdown",
   "metadata": {},
   "source": [
    "### Evaluation\n",
    "\n",
    "아래 코드 셀에서는 `gluonts.evaluation.Evaluator()`를 사용하여 훈련된 모델의 지표(metirc)들을 생성합니다. 지표들은\n",
    "딕셔너리와 판다스 데이터프레임의 두 가지 형태들로 반환하며, Evaluator 생성자 호출 시에 필요한 지표들만 명시적으로 지정할 수도 있습니다. \n",
    "\n",
    "참고로, 딥러닝 기반 모델은 점예측이 아닌 모수 예측을 통한 샘플링이기 때문에 `make_evaluation_predictions` 함수의 `num_samples`는 자유롭게 부여하시면 됩니다."
   ]
  },
  {
   "cell_type": "code",
   "execution_count": 29,
   "metadata": {},
   "outputs": [
    {
     "name": "stdout",
     "output_type": "stream",
     "text": [
      "CPU times: user 16.6 ms, sys: 51 µs, total: 16.6 ms\n",
      "Wall time: 15.7 ms\n"
     ]
    }
   ],
   "source": [
    "%%time\n",
    "forecast_it, ts_it = make_evaluation_predictions( \n",
    "                     dataset=test_ds,  # test dataset\n",
    "                     predictor=mlp_predictor, # predictor\n",
    "                     num_samples=100) # number of sample paths we want for evaluation\n",
    "forecasts = list(forecast_it)\n",
    "tss = list(ts_it)"
   ]
  },
  {
   "cell_type": "code",
   "execution_count": 30,
   "metadata": {},
   "outputs": [
    {
     "data": {
      "image/png": "[encoded data removed]",
      "text/plain": [
       "<Figure size 864x360 with 1 Axes>"
      ]
     },
     "metadata": {
      "needs_background": "light"
     },
     "output_type": "display_data"
    }
   ],
   "source": [
    "plot_forecasts(tss, forecasts, past_length=300, num_plots=1)"
   ]
  },
  {
   "cell_type": "code",
   "execution_count": 31,
   "metadata": {},
   "outputs": [
    {
     "name": "stderr",
     "output_type": "stream",
     "text": [
      "Running evaluation: 100%|██████████| 1/1 [00:00<00:00, 36.23it/s]"
     ]
    },
    {
     "name": "stdout",
     "output_type": "stream",
     "text": [
      "{\n",
      "    \"MAPE\": 0.3690883131055962,\n",
      "    \"RMSE\": 1881.387937515432,\n",
      "    \"wQuantileLoss[0.1]\": 0.12390105611517195,\n",
      "    \"wQuantileLoss[0.5]\": 0.2759732598932577,\n",
      "    \"wQuantileLoss[0.9]\": 0.21657298392267982,\n",
      "    \"mean_wQuantileLoss\": 0.23438170101653721\n",
      "}\n"
     ]
    },
    {
     "name": "stderr",
     "output_type": "stream",
     "text": [
      "\n"
     ]
    }
   ],
   "source": [
    "metrics = get_metrics(tss, forecasts, len(test_ds))"
   ]
  },
  {
   "cell_type": "markdown",
   "metadata": {},
   "source": [
    "### Compare with two models\n",
    "\n",
    "Baseline 모델과 MLP 모델의 성능을 확인해 보겠습니다."
   ]
  },
  {
   "cell_type": "code",
   "execution_count": 32,
   "metadata": {},
   "outputs": [
    {
     "data": {
      "text/html": [
       "<div>\n",
       "<style scoped>\n",
       "    .dataframe tbody tr th:only-of-type {\n",
       "        vertical-align: middle;\n",
       "    }\n",
       "\n",
       "    .dataframe tbody tr th {\n",
       "        vertical-align: top;\n",
       "    }\n",
       "\n",
       "    .dataframe thead th {\n",
       "        text-align: right;\n",
       "    }\n",
       "</style>\n",
       "<table border=\"1\" class=\"dataframe\">\n",
       "  <thead>\n",
       "    <tr style=\"text-align: right;\">\n",
       "      <th></th>\n",
       "      <th>Baseline</th>\n",
       "      <th>DeepAR</th>\n",
       "    </tr>\n",
       "  </thead>\n",
       "  <tbody>\n",
       "    <tr>\n",
       "      <th>MAPE</th>\n",
       "      <td>0.248574</td>\n",
       "      <td>0.369088</td>\n",
       "    </tr>\n",
       "    <tr>\n",
       "      <th>RMSE</th>\n",
       "      <td>1673.540587</td>\n",
       "      <td>1881.387938</td>\n",
       "    </tr>\n",
       "    <tr>\n",
       "      <th>wQuantileLoss[0.1]</th>\n",
       "      <td>0.186363</td>\n",
       "      <td>0.123901</td>\n",
       "    </tr>\n",
       "    <tr>\n",
       "      <th>wQuantileLoss[0.5]</th>\n",
       "      <td>0.200176</td>\n",
       "      <td>0.275973</td>\n",
       "    </tr>\n",
       "    <tr>\n",
       "      <th>wQuantileLoss[0.9]</th>\n",
       "      <td>0.213988</td>\n",
       "      <td>0.216573</td>\n",
       "    </tr>\n",
       "    <tr>\n",
       "      <th>mean_wQuantileLoss</th>\n",
       "      <td>0.200176</td>\n",
       "      <td>0.234382</td>\n",
       "    </tr>\n",
       "  </tbody>\n",
       "</table>\n",
       "</div>"
      ],
      "text/plain": [
       "                       Baseline       DeepAR\n",
       "MAPE                   0.248574     0.369088\n",
       "RMSE                1673.540587  1881.387938\n",
       "wQuantileLoss[0.1]     0.186363     0.123901\n",
       "wQuantileLoss[0.5]     0.200176     0.275973\n",
       "wQuantileLoss[0.9]     0.213988     0.216573\n",
       "mean_wQuantileLoss     0.200176     0.234382"
      ]
     },
     "metadata": {},
     "output_type": "display_data"
    }
   ],
   "source": [
    "metrics_df = pd.concat([pd.Series(metrics_baseline), pd.Series(metrics)], axis=1)\n",
    "metrics_df.columns=['Baseline', 'MLP']\n",
    "display(metrics_df)"
   ]
  },
  {
   "cell_type": "markdown",
   "metadata": {},
   "source": [
    "<br>\n",
    "\n",
    "## (Optional) Miscellaneous\n",
    "\n",
    "### Save the model\n",
    "\n",
    "모델을 저장합니다. 저장된 모델은 deserialize하여 로딩 가능합니다."
   ]
  },
  {
   "cell_type": "code",
   "execution_count": 33,
   "metadata": {},
   "outputs": [
    {
     "name": "stderr",
     "output_type": "stream",
     "text": [
      "WARNING:root:Serializing RepresentableBlockPredictor instances does not save the prediction network structure in a backwards-compatible manner. Be careful not to use this method in production.\n"
     ]
    }
   ],
   "source": [
    "model_dir = 'model'\n",
    "!rm -rf $model_dir\n",
    "os.makedirs(model_dir, exist_ok=True)\n",
    "mlp_predictor.serialize(pathlib.Path(model_dir))"
   ]
  }
 ],
 "metadata": {
  "kernelspec": {
   "display_name": "conda_mxnet_p36",
   "language": "python",
   "name": "conda_mxnet_p36"
  },
  "language_info": {
   "codemirror_mode": {
    "name": "ipython",
    "version": 3
   },
   "file_extension": ".py",
   "mimetype": "text/x-python",
   "name": "python",
   "nbconvert_exporter": "python",
   "pygments_lexer": "ipython3",
   "version": "3.6.10"
  }
 },
 "nbformat": 4,
 "nbformat_minor": 4
}
