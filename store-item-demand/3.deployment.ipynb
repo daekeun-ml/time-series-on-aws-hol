{
 "cells": [
  {
   "cell_type": "markdown",
   "metadata": {},
   "source": [
    "# Module 3. Deployment on MMS(Multi Model Server)\n",
    "---\n",
    "\n",
    "본 모듈에서는 모델의 배포(deployment)를 수행합니다. 노트북 실행에는 약 15분 가량 소요되며, 핸즈온 실습 시에는 25분을 권장드립니다.\n",
    "\n",
    "<br>\n",
    "\n",
    "## 1. Inference script\n",
    "---\n",
    "\n",
    "아래 코드 셀은 `src` 디렉토리에 SageMaker 추론 스크립트인 `inference.py`를 저장합니다.<br>\n",
    "\n",
    "이 스크립트는 SageMaker 상에서 MMS(Multi Model Server)를 쉽고 편하게 배포할 수 이는 high-level 툴킷인 SageMaker inference toolkit의 인터페이스를\n",
    "사용하고 있으며, 여러분께서는 인터페이스에 정의된 핸들러(handler) 함수들만 구현하시면 됩니다.\n",
    "\n",
    "#### MMS(Multi Model Server)란?\n",
    "- [https://github.com/awslabs/multi-model-server](https://github.com/awslabs/multi-model-server) (2017년 12월 초 MXNet 1.0 릴리스 시 최초 공개, MXNet용 모델 서버로 시작)\n",
    "- Prerequisites: Java 8, MXNet (단, MXNet 사용 시에만)\n",
    "- MMS는 프레임워크에 구애받지 않도록 설계되었기 때문에, 모든 프레임워크의 백엔드 엔진 역할을 할 수 있는 충분한 유연성을 제공합니다.\n",
    "- SageMaker MXNet 추론 컨테이너와 PyTorch 추론 컨테이너는 SageMaker inference toolkit으로 MMS를 래핑하여 사용합니다.\n",
    "    - 2020년 4월 말 PyTorch용 배포 웹 서비스인 torchserve가 출시되면서, 향후 PyTorch 추론 컨테이너는 MMS 기반에서 torchserve 기반으로 마이그레이션될 예정입니다. "
   ]
  },
  {
   "cell_type": "code",
   "execution_count": 1,
   "metadata": {},
   "outputs": [
    {
     "name": "stdout",
     "output_type": "stream",
     "text": [
      "Overwriting ./src/inference.py\n"
     ]
    }
   ],
   "source": [
    "%%writefile ./src/inference.py\n",
    "\n",
    "import os\n",
    "import pandas as pd\n",
    "import gluonts \n",
    "import numpy as np\n",
    "import argparse\n",
    "import json\n",
    "import pathlib\n",
    "from mxnet import gpu, cpu\n",
    "from mxnet.context import num_gpus\n",
    "import matplotlib.pyplot as plt\n",
    "\n",
    "from gluonts.dataset.util import to_pandas\n",
    "from gluonts.distribution import DistributionOutput, StudentTOutput, NegativeBinomialOutput, GaussianOutput\n",
    "from gluonts.model.deepar import DeepAREstimator\n",
    "from gluonts.trainer import Trainer\n",
    "from gluonts.evaluation import Evaluator\n",
    "from gluonts.evaluation.backtest import make_evaluation_predictions, backtest_metrics\n",
    "from gluonts.model.predictor import Predictor\n",
    "from gluonts.dataset.field_names import FieldName\n",
    "from gluonts.dataset.common import ListDataset\n",
    "\n",
    "\n",
    "def model_fn(model_dir):\n",
    "    path = pathlib.Path(model_dir)   \n",
    "    predictor = Predictor.deserialize(path)\n",
    "    print(\"model was loaded successfully\")\n",
    "    return predictor\n",
    "\n",
    "\n",
    "def transform_fn(model, request_body, content_type='application/json', accept_type='application/json'):\n",
    "\n",
    "    data = json.loads(request_body)\n",
    "    target_test_df = pd.DataFrame(data['value'], index=data['timestamp'])\n",
    "    target = target_test_df.values\n",
    "    num_series = target_test_df.shape[1]\n",
    "    start_dt = target_test_df.index[0]\n",
    "    test_lst = []\n",
    "    \n",
    "    for i in range(0, num_series):\n",
    "        target_vec = target[:, i]\n",
    "        dic = {FieldName.TARGET: target_vec, \n",
    "               FieldName.START: start_dt} \n",
    "        test_lst.append(dic)\n",
    "        \n",
    "    test_ds = ListDataset(test_lst, freq='1D')\n",
    "    \n",
    "    response_body = {}\n",
    "    forecast_it = model.predict(test_ds)\n",
    "    for idx, f in enumerate(forecast_it):\n",
    "        response_body[f'item_{idx}'] = f.samples.mean(axis=0).tolist()\n",
    "\n",
    "    return json.dumps(response_body)"
   ]
  },
  {
   "cell_type": "markdown",
   "metadata": {},
   "source": [
    "<br>\n",
    "\n",
    "## 2. Test Inference code \n",
    "---\n",
    "\n",
    "엔드포인트 배포 전, 추론 스크립트를 검증합니다. "
   ]
  },
  {
   "cell_type": "code",
   "execution_count": 2,
   "metadata": {},
   "outputs": [],
   "source": [
    "%store -r"
   ]
  },
  {
   "cell_type": "code",
   "execution_count": 3,
   "metadata": {},
   "outputs": [
    {
     "name": "stdout",
     "output_type": "stream",
     "text": [
      "model was loaded successfully\n",
      "[13.770057678222656, 16.68670654296875, 17.044038772583008, 18.174997329711914, 20.137741088867188, 20.506511688232422, 21.528583526611328, 14.461799621582031, 16.67385482788086, 16.653356552124023, 17.966821670532227, 19.51350212097168, 20.650901794433594, 21.450462341308594, 14.042078018188477, 16.574562072753906, 17.086204528808594, 17.647796630859375, 19.783123016357422, 19.981788635253906, 20.694074630737305]\n"
     ]
    }
   ],
   "source": [
    "from src.inference import model_fn, transform_fn\n",
    "import json\n",
    "import numpy as np\n",
    "import pandas as pd\n",
    "\n",
    "# Prepare test data\n",
    "target_test_df = pd.read_csv(\"data/target_train.csv\")\n",
    "target_test_df.set_index(target_test_df.columns[0], inplace=True)\n",
    "num_series = 2\n",
    "pred_length = 21\n",
    "target_test_df = target_test_df.iloc[pred_length:,:num_series]\n",
    "input_data = {'value': target_test_df.values.tolist(), 'timestamp': target_test_df.index.tolist()}\n",
    "request_body = json.dumps(input_data)\n",
    "\n",
    "# Test inference script \n",
    "model = model_fn('./model')\n",
    "response = transform_fn(model, request_body)\n",
    "outputs = json.loads(response)\n",
    "print(outputs['item_0'])"
   ]
  },
  {
   "cell_type": "markdown",
   "metadata": {},
   "source": [
    "<br>\n",
    "\n",
    "## 3. Local Endpoint Inference\n",
    "---\n",
    "\n",
    "충분한 검증 및 테스트 없이 훈련된 모델을 곧바로 실제 운영 환경에 배포하기에는 많은 위험 요소들이 있습니다. 따라서, 로컬 모드를 사용하여 실제 운영 환경에 배포하기 위한 추론 인스턴스를 시작하기 전에 노트북 인스턴스의 로컬 환경에서 모델을 배포하는 것을 권장합니다. 이를 로컬 모드 엔드포인트(Local Mode Endpoint)라고 합니다."
   ]
  },
  {
   "cell_type": "code",
   "execution_count": 4,
   "metadata": {},
   "outputs": [],
   "source": [
    "import os\n",
    "import time\n",
    "import sagemaker\n",
    "from sagemaker.mxnet import MXNetModel\n",
    "role = sagemaker.get_execution_role()"
   ]
  },
  {
   "cell_type": "code",
   "execution_count": 5,
   "metadata": {},
   "outputs": [],
   "source": [
    "local_model_path = f'file://{os.getcwd()}/model/model.tar.gz'\n",
    "endpoint_name = \"local-endpoint-store-item-demand-forecast-{}\".format(int(time.time()))"
   ]
  },
  {
   "cell_type": "markdown",
   "metadata": {},
   "source": [
    "\n",
    "아래 코드 셀을 실행 후, 로그를 확인해 보세요. MMS에 대한 세팅값들을 확인하실 수 있습니다.\n",
    "\n",
    "```bash\n",
    "algo-1-u3xwd_1  | MMS Home: /usr/local/lib/python3.6/site-packages\n",
    "algo-1-u3xwd_1  | Current directory: /\n",
    "algo-1-u3xwd_1  | Temp directory: /home/model-server/tmp\n",
    "algo-1-u3xwd_1  | Number of GPUs: 0\n",
    "algo-1-u3xwd_1  | Number of CPUs: 2\n",
    "algo-1-u3xwd_1  | Max heap size: 878 M\n",
    "algo-1-u3xwd_1  | Python executable: /usr/local/bin/python3.6\n",
    "algo-1-u3xwd_1  | Config file: /etc/sagemaker-mms.properties\n",
    "algo-1-u3xwd_1  | Inference address: http://0.0.0.0:8080\n",
    "algo-1-u3xwd_1  | Management address: http://0.0.0.0:8080\n",
    "algo-1-u3xwd_1  | Model Store: /.sagemaker/mms/models\n",
    "...\n",
    "```"
   ]
  },
  {
   "cell_type": "code",
   "execution_count": 6,
   "metadata": {},
   "outputs": [
    {
     "name": "stderr",
     "output_type": "stream",
     "text": [
      "Parameter image will be renamed to image_uri in SageMaker Python SDK v2.\n",
      "'create_image_uri' will be deprecated in favor of 'ImageURIProvider' class in SageMaker Python SDK v2.\n"
     ]
    },
    {
     "name": "stdout",
     "output_type": "stream",
     "text": [
      "Attaching to tmp65wkqgnh_algo-1-su6vt_1\n",
      "\u001b[36malgo-1-su6vt_1  |\u001b[0m Collecting pandas==1.0.0\n",
      "\u001b[36malgo-1-su6vt_1  |\u001b[0m   Downloading pandas-1.0.0-cp36-cp36m-manylinux1_x86_64.whl (10.1 MB)\n",
      "\u001b[K     |████████████████████████████████| 10.1 MB 16.7 MB/s eta 0:00:01\n",
      "\u001b[36malgo-1-su6vt_1  |\u001b[0m \u001b[?25hCollecting gluonts==0.5.1\n",
      "\u001b[36malgo-1-su6vt_1  |\u001b[0m   Downloading gluonts-0.5.1-py3-none-any.whl (419 kB)\n",
      "\u001b[K     |████████████████████████████████| 419 kB 43.7 MB/s eta 0:00:01\n",
      "\u001b[36malgo-1-su6vt_1  |\u001b[0m \u001b[?25hRequirement already satisfied: python-dateutil>=2.6.1 in /usr/local/lib/python3.6/site-packages (from pandas==1.0.0->-r /opt/ml/model/code/requirements.txt (line 1)) (2.8.1)\n",
      "\u001b[36malgo-1-su6vt_1  |\u001b[0m Requirement already satisfied: numpy>=1.13.3 in /usr/local/lib/python3.6/site-packages (from pandas==1.0.0->-r /opt/ml/model/code/requirements.txt (line 1)) (1.17.4)\n",
      "\u001b[36malgo-1-su6vt_1  |\u001b[0m Collecting pytz>=2017.2\n",
      "\u001b[36malgo-1-su6vt_1  |\u001b[0m   Downloading pytz-2020.1-py2.py3-none-any.whl (510 kB)\n",
      "\u001b[K     |████████████████████████████████| 510 kB 38.1 MB/s eta 0:00:01\n",
      "\u001b[36malgo-1-su6vt_1  |\u001b[0m \u001b[?25hRequirement already satisfied: matplotlib~=3.0 in /usr/local/lib/python3.6/site-packages (from gluonts==0.5.1->-r /opt/ml/model/code/requirements.txt (line 2)) (3.3.1)\n",
      "\u001b[36malgo-1-su6vt_1  |\u001b[0m Collecting ujson~=1.35\n",
      "\u001b[36malgo-1-su6vt_1  |\u001b[0m   Downloading ujson-1.35.tar.gz (192 kB)\n",
      "\u001b[K     |████████████████████████████████| 192 kB 40.6 MB/s eta 0:00:01\n",
      "\u001b[36malgo-1-su6vt_1  |\u001b[0m \u001b[?25hRequirement already satisfied: tqdm~=4.23 in /usr/local/lib/python3.6/site-packages (from gluonts==0.5.1->-r /opt/ml/model/code/requirements.txt (line 2)) (4.48.2)\n",
      "\u001b[36malgo-1-su6vt_1  |\u001b[0m Collecting pydantic~=1.1\n",
      "\u001b[36malgo-1-su6vt_1  |\u001b[0m   Downloading pydantic-1.6.1-cp36-cp36m-manylinux2014_x86_64.whl (8.7 MB)\n",
      "\u001b[K     |████████████████████████████████| 8.7 MB 30.2 MB/s eta 0:00:01\n",
      "\u001b[36malgo-1-su6vt_1  |\u001b[0m \u001b[?25hCollecting holidays<0.10,>=0.9\n",
      "\u001b[36malgo-1-su6vt_1  |\u001b[0m   Downloading holidays-0.9.12.tar.gz (85 kB)\n",
      "\u001b[K     |████████████████████████████████| 85 kB 6.4 MB/s  eta 0:00:01\n",
      "\u001b[36malgo-1-su6vt_1  |\u001b[0m \u001b[?25hRequirement already satisfied: six>=1.5 in /usr/local/lib/python3.6/site-packages (from python-dateutil>=2.6.1->pandas==1.0.0->-r /opt/ml/model/code/requirements.txt (line 1)) (1.15.0)\n",
      "\u001b[36malgo-1-su6vt_1  |\u001b[0m Requirement already satisfied: pillow>=6.2.0 in /usr/local/lib/python3.6/site-packages (from matplotlib~=3.0->gluonts==0.5.1->-r /opt/ml/model/code/requirements.txt (line 2)) (7.2.0)\n",
      "\u001b[36malgo-1-su6vt_1  |\u001b[0m Requirement already satisfied: pyparsing!=2.0.4,!=2.1.2,!=2.1.6,>=2.0.3 in /usr/local/lib/python3.6/site-packages (from matplotlib~=3.0->gluonts==0.5.1->-r /opt/ml/model/code/requirements.txt (line 2)) (2.4.7)\n",
      "\u001b[36malgo-1-su6vt_1  |\u001b[0m Requirement already satisfied: certifi>=2020.06.20 in /usr/local/lib/python3.6/site-packages (from matplotlib~=3.0->gluonts==0.5.1->-r /opt/ml/model/code/requirements.txt (line 2)) (2020.6.20)\n",
      "\u001b[36malgo-1-su6vt_1  |\u001b[0m Requirement already satisfied: kiwisolver>=1.0.1 in /usr/local/lib/python3.6/site-packages (from matplotlib~=3.0->gluonts==0.5.1->-r /opt/ml/model/code/requirements.txt (line 2)) (1.2.0)\n",
      "\u001b[36malgo-1-su6vt_1  |\u001b[0m Requirement already satisfied: cycler>=0.10 in /usr/local/lib/python3.6/site-packages (from matplotlib~=3.0->gluonts==0.5.1->-r /opt/ml/model/code/requirements.txt (line 2)) (0.10.0)\n",
      "\u001b[36malgo-1-su6vt_1  |\u001b[0m Collecting dataclasses>=0.6; python_version < \"3.7\"\n",
      "\u001b[36malgo-1-su6vt_1  |\u001b[0m   Downloading dataclasses-0.7-py3-none-any.whl (18 kB)\n",
      "\u001b[36malgo-1-su6vt_1  |\u001b[0m Using legacy 'setup.py install' for ujson, since package 'wheel' is not installed.\n",
      "\u001b[36malgo-1-su6vt_1  |\u001b[0m Using legacy 'setup.py install' for holidays, since package 'wheel' is not installed.\n",
      "\u001b[36malgo-1-su6vt_1  |\u001b[0m Installing collected packages: pytz, pandas, ujson, dataclasses, pydantic, holidays, gluonts\n",
      "\u001b[36malgo-1-su6vt_1  |\u001b[0m     Running setup.py install for ujson ... \u001b[?25ldone\n",
      "\u001b[36malgo-1-su6vt_1  |\u001b[0m \u001b[?25h    Running setup.py install for holidays ... \u001b[?25ldone\n",
      "\u001b[36malgo-1-su6vt_1  |\u001b[0m \u001b[?25hSuccessfully installed dataclasses-0.7 gluonts-0.5.1 holidays-0.9.12 pandas-1.0.0 pydantic-1.6.1 pytz-2020.1 ujson-1.35\n",
      "\u001b[36malgo-1-su6vt_1  |\u001b[0m Warning: Calling MMS with mxnet-model-server. Please move to multi-model-server.\n",
      "\u001b[36malgo-1-su6vt_1  |\u001b[0m 2020-08-31 13:50:28,139 [INFO ] main com.amazonaws.ml.mms.ModelServer - \n",
      "\u001b[36malgo-1-su6vt_1  |\u001b[0m MMS Home: /usr/local/lib/python3.6/site-packages\n",
      "\u001b[36malgo-1-su6vt_1  |\u001b[0m Current directory: /\n",
      "\u001b[36malgo-1-su6vt_1  |\u001b[0m Temp directory: /home/model-server/tmp\n",
      "\u001b[36malgo-1-su6vt_1  |\u001b[0m Number of GPUs: 0\n",
      "\u001b[36malgo-1-su6vt_1  |\u001b[0m Number of CPUs: 4\n",
      "\u001b[36malgo-1-su6vt_1  |\u001b[0m Max heap size: 13646 M\n",
      "\u001b[36malgo-1-su6vt_1  |\u001b[0m Python executable: /usr/local/bin/python3.6\n",
      "\u001b[36malgo-1-su6vt_1  |\u001b[0m Config file: /etc/sagemaker-mms.properties\n",
      "\u001b[36malgo-1-su6vt_1  |\u001b[0m Inference address: http://0.0.0.0:8080\n",
      "\u001b[36malgo-1-su6vt_1  |\u001b[0m Management address: http://0.0.0.0:8080\n",
      "\u001b[36malgo-1-su6vt_1  |\u001b[0m Model Store: /.sagemaker/mms/models\n",
      "\u001b[36malgo-1-su6vt_1  |\u001b[0m Initial Models: ALL\n",
      "\u001b[36malgo-1-su6vt_1  |\u001b[0m Log dir: /logs\n",
      "\u001b[36malgo-1-su6vt_1  |\u001b[0m Metrics dir: /logs\n",
      "\u001b[36malgo-1-su6vt_1  |\u001b[0m Netty threads: 0\n",
      "\u001b[36malgo-1-su6vt_1  |\u001b[0m Netty client threads: 0\n",
      "\u001b[36malgo-1-su6vt_1  |\u001b[0m Default workers per model: 4\n",
      "\u001b[36malgo-1-su6vt_1  |\u001b[0m Blacklist Regex: N/A\n",
      "\u001b[36malgo-1-su6vt_1  |\u001b[0m Maximum Response Size: 6553500\n",
      "\u001b[36malgo-1-su6vt_1  |\u001b[0m Maximum Request Size: 6553500\n",
      "\u001b[36malgo-1-su6vt_1  |\u001b[0m Preload model: false\n",
      "\u001b[36malgo-1-su6vt_1  |\u001b[0m Prefer direct buffer: false\n",
      "\u001b[36malgo-1-su6vt_1  |\u001b[0m 2020-08-31 13:50:28,237 [WARN ] W-9000-model com.amazonaws.ml.mms.wlm.WorkerLifeCycle - attachIOStreams() threadName=W-9000-model\n",
      "\u001b[36malgo-1-su6vt_1  |\u001b[0m 2020-08-31 13:50:28,393 [INFO ] W-9000-model-stdout com.amazonaws.ml.mms.wlm.WorkerLifeCycle - model_service_worker started with args: --sock-type unix --sock-name /home/model-server/tmp/.mms.sock.9000 --handler sagemaker_mxnet_serving_container.handler_service --model-path /.sagemaker/mms/models/model --model-name model --preload-model false --tmp-dir /home/model-server/tmp\n",
      "\u001b[36malgo-1-su6vt_1  |\u001b[0m 2020-08-31 13:50:28,394 [INFO ] W-9000-model-stdout com.amazonaws.ml.mms.wlm.WorkerLifeCycle - Listening on port: /home/model-server/tmp/.mms.sock.9000\n",
      "\u001b[36malgo-1-su6vt_1  |\u001b[0m 2020-08-31 13:50:28,395 [INFO ] W-9000-model-stdout com.amazonaws.ml.mms.wlm.WorkerLifeCycle - [PID] 93\n",
      "\u001b[36malgo-1-su6vt_1  |\u001b[0m 2020-08-31 13:50:28,395 [INFO ] W-9000-model-stdout com.amazonaws.ml.mms.wlm.WorkerLifeCycle - MMS worker started.\n",
      "\u001b[36malgo-1-su6vt_1  |\u001b[0m 2020-08-31 13:50:28,395 [INFO ] W-9000-model-stdout com.amazonaws.ml.mms.wlm.WorkerLifeCycle - Python runtime: 3.6.10\n",
      "\u001b[36malgo-1-su6vt_1  |\u001b[0m 2020-08-31 13:50:28,396 [INFO ] main com.amazonaws.ml.mms.wlm.ModelManager - Model model loaded.\n",
      "\u001b[36malgo-1-su6vt_1  |\u001b[0m 2020-08-31 13:50:28,404 [INFO ] main com.amazonaws.ml.mms.ModelServer - Initialize Inference server with: EpollServerSocketChannel.\n",
      "\u001b[36malgo-1-su6vt_1  |\u001b[0m 2020-08-31 13:50:28,417 [INFO ] W-9000-model com.amazonaws.ml.mms.wlm.WorkerThread - Connecting to: /home/model-server/tmp/.mms.sock.9000\n",
      "\u001b[36malgo-1-su6vt_1  |\u001b[0m 2020-08-31 13:50:28,417 [INFO ] W-9000-model com.amazonaws.ml.mms.wlm.WorkerThread - Connecting to: /home/model-server/tmp/.mms.sock.9000\n",
      "\u001b[36malgo-1-su6vt_1  |\u001b[0m 2020-08-31 13:50:28,420 [INFO ] W-9000-model com.amazonaws.ml.mms.wlm.WorkerThread - Connecting to: /home/model-server/tmp/.mms.sock.9000\n",
      "\u001b[36malgo-1-su6vt_1  |\u001b[0m 2020-08-31 13:50:28,420 [INFO ] W-9000-model com.amazonaws.ml.mms.wlm.WorkerThread - Connecting to: /home/model-server/tmp/.mms.sock.9000\n",
      "\u001b[36malgo-1-su6vt_1  |\u001b[0m 2020-08-31 13:50:28,496 [INFO ] main com.amazonaws.ml.mms.ModelServer - Inference API bind to: http://0.0.0.0:8080\n",
      "\u001b[36malgo-1-su6vt_1  |\u001b[0m 2020-08-31 13:50:28,498 [INFO ] W-9000-model-stdout com.amazonaws.ml.mms.wlm.WorkerLifeCycle - Connection accepted: /home/model-server/tmp/.mms.sock.9000.\n",
      "\u001b[36malgo-1-su6vt_1  |\u001b[0m 2020-08-31 13:50:28,502 [INFO ] W-9000-model-stdout com.amazonaws.ml.mms.wlm.WorkerLifeCycle - Connection accepted: /home/model-server/tmp/.mms.sock.9000.\n",
      "\u001b[36malgo-1-su6vt_1  |\u001b[0m Model server started.\n",
      "\u001b[36malgo-1-su6vt_1  |\u001b[0m 2020-08-31 13:50:28,503 [INFO ] W-9000-model-stdout com.amazonaws.ml.mms.wlm.WorkerLifeCycle - Connection accepted: /home/model-server/tmp/.mms.sock.9000.\n",
      "\u001b[36malgo-1-su6vt_1  |\u001b[0m 2020-08-31 13:50:28,506 [INFO ] W-9000-model-stdout com.amazonaws.ml.mms.wlm.WorkerLifeCycle - Connection accepted: /home/model-server/tmp/.mms.sock.9000.\n",
      "\u001b[36malgo-1-su6vt_1  |\u001b[0m 2020-08-31 13:50:28,518 [WARN ] pool-2-thread-1 com.amazonaws.ml.mms.metrics.MetricCollector - worker pid is not available yet.\n"
     ]
    },
    {
     "name": "stdout",
     "output_type": "stream",
     "text": [
      "\u001b[36malgo-1-su6vt_1  |\u001b[0m 2020-08-31 13:50:30,212 [INFO ] pool-1-thread-6 ACCESS_LOG - /172.18.0.1:40730 \"GET /ping HTTP/1.1\" 200 38\n",
      "!\u001b[36malgo-1-su6vt_1  |\u001b[0m 2020-08-31 13:50:31,888 [INFO ] W-9000-model-stdout com.amazonaws.ml.mms.wlm.WorkerLifeCycle - Generating new fontManager, this may take some time...\n",
      "\u001b[36malgo-1-su6vt_1  |\u001b[0m 2020-08-31 13:50:31,906 [INFO ] W-9000-model-stdout com.amazonaws.ml.mms.wlm.WorkerLifeCycle - Generating new fontManager, this may take some time...\n",
      "\u001b[36malgo-1-su6vt_1  |\u001b[0m 2020-08-31 13:50:31,927 [INFO ] W-9000-model-stdout com.amazonaws.ml.mms.wlm.WorkerLifeCycle - Generating new fontManager, this may take some time...\n",
      "\u001b[36malgo-1-su6vt_1  |\u001b[0m 2020-08-31 13:50:31,942 [INFO ] W-9000-model-stdout com.amazonaws.ml.mms.wlm.WorkerLifeCycle - Generating new fontManager, this may take some time...\n",
      "\u001b[36malgo-1-su6vt_1  |\u001b[0m 2020-08-31 13:50:33,030 [INFO ] W-9000-model-stdout com.amazonaws.ml.mms.wlm.WorkerLifeCycle - Using CPU\n",
      "\u001b[36malgo-1-su6vt_1  |\u001b[0m 2020-08-31 13:50:33,045 [INFO ] W-9000-model-stdout com.amazonaws.ml.mms.wlm.WorkerLifeCycle - Using CPU\n",
      "\u001b[36malgo-1-su6vt_1  |\u001b[0m 2020-08-31 13:50:33,061 [INFO ] W-9000-model-stdout com.amazonaws.ml.mms.wlm.WorkerLifeCycle - model was loaded successfully\n",
      "\u001b[36malgo-1-su6vt_1  |\u001b[0m 2020-08-31 13:50:33,062 [INFO ] W-9000-model-stdout com.amazonaws.ml.mms.wlm.WorkerLifeCycle - Model model loaded io_fd=0242acfffe120002-0000004c-00000000-5fb217bf224d8e4b-f098fc7a\n",
      "\u001b[36malgo-1-su6vt_1  |\u001b[0m 2020-08-31 13:50:33,064 [INFO ] W-9000-model com.amazonaws.ml.mms.wlm.WorkerThread - Backend response time: 4478\n",
      "\u001b[36malgo-1-su6vt_1  |\u001b[0m 2020-08-31 13:50:33,066 [WARN ] W-9000-model com.amazonaws.ml.mms.wlm.WorkerLifeCycle - attachIOStreams() threadName=W-model-3\n",
      "\u001b[36malgo-1-su6vt_1  |\u001b[0m 2020-08-31 13:50:33,071 [INFO ] W-9000-model-stdout com.amazonaws.ml.mms.wlm.WorkerLifeCycle - Using CPU\n",
      "\u001b[36malgo-1-su6vt_1  |\u001b[0m 2020-08-31 13:50:33,078 [INFO ] W-9000-model-stdout com.amazonaws.ml.mms.wlm.WorkerLifeCycle - model was loaded successfully\n",
      "\u001b[36malgo-1-su6vt_1  |\u001b[0m 2020-08-31 13:50:33,079 [INFO ] W-9000-model-stdout com.amazonaws.ml.mms.wlm.WorkerLifeCycle - Model model loaded io_fd=0242acfffe120002-0000004c-00000002-ed1897bf224d8e4b-eb41b1f6\n",
      "\u001b[36malgo-1-su6vt_1  |\u001b[0m 2020-08-31 13:50:33,080 [INFO ] W-9000-model com.amazonaws.ml.mms.wlm.WorkerThread - Backend response time: 4489\n",
      "\u001b[36malgo-1-su6vt_1  |\u001b[0m 2020-08-31 13:50:33,080 [WARN ] W-9000-model com.amazonaws.ml.mms.wlm.WorkerLifeCycle - attachIOStreams() threadName=W-model-2\n",
      "\u001b[36malgo-1-su6vt_1  |\u001b[0m 2020-08-31 13:50:33,092 [INFO ] W-9000-model-stdout com.amazonaws.ml.mms.wlm.WorkerLifeCycle - model was loaded successfully\n",
      "\u001b[36malgo-1-su6vt_1  |\u001b[0m 2020-08-31 13:50:33,092 [INFO ] W-9000-model-stdout com.amazonaws.ml.mms.wlm.WorkerLifeCycle - Model model loaded io_fd=0242acfffe120002-0000004c-00000003-ef9197bf224d8e4b-7cf2fe66\n",
      "\u001b[36malgo-1-su6vt_1  |\u001b[0m 2020-08-31 13:50:33,092 [INFO ] W-9000-model com.amazonaws.ml.mms.wlm.WorkerThread - Backend response time: 4512\n",
      "\u001b[36malgo-1-su6vt_1  |\u001b[0m 2020-08-31 13:50:33,093 [WARN ] W-9000-model com.amazonaws.ml.mms.wlm.WorkerLifeCycle - attachIOStreams() threadName=W-model-4\n",
      "\u001b[36malgo-1-su6vt_1  |\u001b[0m 2020-08-31 13:50:33,111 [INFO ] W-9000-model-stdout com.amazonaws.ml.mms.wlm.WorkerLifeCycle - Using CPU\n",
      "\u001b[36malgo-1-su6vt_1  |\u001b[0m 2020-08-31 13:50:33,127 [INFO ] W-9000-model-stdout com.amazonaws.ml.mms.wlm.WorkerLifeCycle - model was loaded successfully\n",
      "\u001b[36malgo-1-su6vt_1  |\u001b[0m 2020-08-31 13:50:33,128 [INFO ] W-9000-model-stdout com.amazonaws.ml.mms.wlm.WorkerLifeCycle - Model model loaded io_fd=0242acfffe120002-0000004c-00000004-983257bf224d8e4b-483aec6b\n",
      "\u001b[36malgo-1-su6vt_1  |\u001b[0m 2020-08-31 13:50:33,128 [INFO ] W-9000-model com.amazonaws.ml.mms.wlm.WorkerThread - Backend response time: 4550\n",
      "\u001b[36malgo-1-su6vt_1  |\u001b[0m 2020-08-31 13:50:33,128 [WARN ] W-9000-model com.amazonaws.ml.mms.wlm.WorkerLifeCycle - attachIOStreams() threadName=W-model-1\n"
     ]
    }
   ],
   "source": [
    "local_model = MXNetModel(model_data=local_model_path,\n",
    "                         role=role,\n",
    "                         source_dir='src',\n",
    "                         entry_point='inference.py',\n",
    "                         framework_version='1.6.0',\n",
    "                         py_version='py3')\n",
    "\n",
    "predictor = local_model.deploy(instance_type='local', \n",
    "                           initial_instance_count=1, \n",
    "                           endpoint_name=endpoint_name,\n",
    "                           wait=True)"
   ]
  },
  {
   "cell_type": "markdown",
   "metadata": {},
   "source": [
    "로컬에서 컨테이너를 배포했기 때문에 컨테이너가 현재 실행 중임을 확인할 수 있습니다."
   ]
  },
  {
   "cell_type": "code",
   "execution_count": 7,
   "metadata": {},
   "outputs": [
    {
     "name": "stdout",
     "output_type": "stream",
     "text": [
      "CONTAINER ID        IMAGE                                                                        COMMAND                  CREATED              STATUS              PORTS                              NAMES\r\n",
      "62870f41de84        763104351884.dkr.ecr.us-east-1.amazonaws.com/mxnet-inference:1.6.0-cpu-py3   \"python /usr/local/b…\"   About a minute ago   Up About a minute   0.0.0.0:8080->8080/tcp, 8081/tcp   tmp65wkqgnh_algo-1-su6vt_1\r\n"
     ]
    }
   ],
   "source": [
    "!docker ps"
   ]
  },
  {
   "cell_type": "markdown",
   "metadata": {},
   "source": [
    "### Inference using SageMaker SDK\n",
    "\n",
    "SageMaker SDK의 `predict()` 메서드로 쉽게 추론을 수행할 수 있습니다. "
   ]
  },
  {
   "cell_type": "code",
   "execution_count": 8,
   "metadata": {},
   "outputs": [
    {
     "name": "stdout",
     "output_type": "stream",
     "text": [
      "\u001b[36malgo-1-su6vt_1  |\u001b[0m 2020-08-31 13:51:49,344 [INFO ] W-9000-model com.amazonaws.ml.mms.wlm.WorkerThread - Backend response time: 231\r\n",
      "\u001b[36malgo-1-su6vt_1  |\u001b[0m 2020-08-31 13:51:49,345 [INFO ] W-9000-model ACCESS_LOG - /172.18.0.1:40792 \"POST /invocations HTTP/1.1\" 200 235\r\n"
     ]
    }
   ],
   "source": [
    "outputs = predictor.predict(input_data)"
   ]
  },
  {
   "cell_type": "code",
   "execution_count": 9,
   "metadata": {},
   "outputs": [
    {
     "name": "stdout",
     "output_type": "stream",
     "text": [
      "{'item_0': [14.163518905639648, 16.821189880371094, 17.345623016357422, 18.332263946533203, 19.786230087280273, 20.85190200805664, 21.709440231323242, 14.616772651672363, 16.98798370361328, 17.16689109802246, 18.095056533813477, 19.661399841308594, 20.651142120361328, 21.328493118286133, 14.188490867614746, 16.60407066345215, 16.65607261657715, 17.947124481201172, 19.911487579345703, 20.073078155517578, 20.56958770751953], 'item_1': [36.81255340576172, 45.031005859375, 46.132381439208984, 48.175514221191406, 52.2011604309082, 55.74961471557617, 58.72719192504883, 39.19926834106445, 45.59088897705078, 45.85310363769531, 47.93359375, 52.64041519165039, 54.37112808227539, 58.041770935058594, 37.91728210449219, 43.920860290527344, 44.90949249267578, 47.97834014892578, 51.413307189941406, 54.659767150878906, 57.35679244995117]}\n"
     ]
    }
   ],
   "source": [
    "print(outputs)"
   ]
  },
  {
   "cell_type": "markdown",
   "metadata": {},
   "source": [
    "### Inference using Boto3 SDK\n",
    "\n",
    "SageMaker SDK의 `predict()` 메서드로 추론을 수행할 수도 있지만, 이번에는 boto3의 `invoke_endpoint()` 메서드로 추론을 수행해 보겠습니다.<br>\n",
    "Boto3는 서비스 레벨의 low-level SDK로, ML 실험에 초점을 맞춰 일부 기능들이 추상화된 high-level SDK인 SageMaker SDK와 달리\n",
    "SageMaker API를 완벽하게 제어할 수 있습으며, 프로덕션 및 자동화 작업에 적합합니다.\n",
    "\n",
    "참고로 `invoke_endpoint()` 호출을 위한 런타임 클라이언트 인스턴스 생성 시, 로컬 배포 모드에서는 `sagemaker.local.LocalSagemakerRuntimeClient()`를 호출해야 합니다."
   ]
  },
  {
   "cell_type": "code",
   "execution_count": 10,
   "metadata": {},
   "outputs": [
    {
     "name": "stdout",
     "output_type": "stream",
     "text": [
      "\u001b[36malgo-1-su6vt_1  |\u001b[0m 2020-08-31 13:51:51,739 [INFO ] W-9000-model com.amazonaws.ml.mms.wlm.WorkerThread - Backend response time: 209\r\n",
      "\u001b[36malgo-1-su6vt_1  |\u001b[0m 2020-08-31 13:51:51,740 [INFO ] W-9000-model ACCESS_LOG - /172.18.0.1:40796 \"POST /invocations HTTP/1.1\" 200 211\r\n"
     ]
    }
   ],
   "source": [
    "client = sagemaker.local.LocalSagemakerClient()\n",
    "runtime_client = sagemaker.local.LocalSagemakerRuntimeClient()\n",
    "endpoint_name = local_model.endpoint_name\n",
    "\n",
    "response = runtime_client.invoke_endpoint(\n",
    "    EndpointName=endpoint_name, \n",
    "    ContentType='application/json',\n",
    "    Accept='application/x-npy',\n",
    "    Body=json.dumps(input_data)\n",
    "    )\n",
    "outputs = response['Body'].read().decode()"
   ]
  },
  {
   "cell_type": "code",
   "execution_count": 11,
   "metadata": {},
   "outputs": [
    {
     "data": {
      "text/plain": [
       "'{\"item_0\": [14.163518905639648, 16.821189880371094, 17.345623016357422, 18.332263946533203, 19.786230087280273, 20.85190200805664, 21.709440231323242, 14.616772651672363, 16.98798370361328, 17.16689109802246, 18.095056533813477, 19.661399841308594, 20.651142120361328, 21.328493118286133, 14.188490867614746, 16.60407066345215, 16.65607261657715, 17.947124481201172, 19.911487579345703, 20.073078155517578, 20.56958770751953], \"item_1\": [36.81255340576172, 45.031005859375, 46.132381439208984, 48.175514221191406, 52.2011604309082, 55.74961471557617, 58.72719192504883, 39.19926834106445, 45.59088897705078, 45.85310363769531, 47.93359375, 52.64041519165039, 54.37112808227539, 58.041770935058594, 37.91728210449219, 43.920860290527344, 44.90949249267578, 47.97834014892578, 51.413307189941406, 54.659767150878906, 57.35679244995117]}'"
      ]
     },
     "execution_count": 11,
     "metadata": {},
     "output_type": "execute_result"
    }
   ],
   "source": [
    "outputs"
   ]
  },
  {
   "cell_type": "markdown",
   "metadata": {},
   "source": [
    "### Local Mode Endpoint Clean-up\n",
    "\n",
    "엔드포인트를 계속 사용하지 않는다면, 엔드포인트를 삭제해야 합니다. \n",
    "SageMaker SDK에서는 `delete_endpoint()` 메소드로 간단히 삭제할 수 있습니다."
   ]
  },
  {
   "cell_type": "code",
   "execution_count": 12,
   "metadata": {},
   "outputs": [
    {
     "name": "stdout",
     "output_type": "stream",
     "text": [
      "Gracefully stopping... (press Ctrl+C again to force)\n",
      "--- Deleted model: mxnet-inference-2020-08-31-13-50-13-777\n",
      "--- Deleted endpoint: local-endpoint-store-item-demand-forecast-1598881809\n",
      "--- Deleted endpoint_config: local-endpoint-store-item-demand-forecast-1598881809\n"
     ]
    }
   ],
   "source": [
    "def delete_endpoint(client, endpoint_name):\n",
    "    response = client.describe_endpoint_config(EndpointConfigName=endpoint_name)\n",
    "    model_name = response['ProductionVariants'][0]['ModelName']\n",
    "\n",
    "    client.delete_model(ModelName=model_name)    \n",
    "    client.delete_endpoint(EndpointName=endpoint_name)\n",
    "    client.delete_endpoint_config(EndpointConfigName=endpoint_name)    \n",
    "    \n",
    "    print(f'--- Deleted model: {model_name}')\n",
    "    print(f'--- Deleted endpoint: {endpoint_name}')\n",
    "    print(f'--- Deleted endpoint_config: {endpoint_name}')    \n",
    "delete_endpoint(client, endpoint_name)"
   ]
  },
  {
   "cell_type": "markdown",
   "metadata": {},
   "source": [
    "<br>\n",
    "\n",
    "## 4. SageMaker Hosted Endpoint Inference\n",
    "---\n",
    "\n",
    "이제 실제 운영 환경에 엔드포인트 배포를 수행해 보겠습니다. 로컬 모드 엔드포인트와 대부분의 코드가 동일하며, 모델 아티팩트 경로(`model_data`)와 인스턴스 유형(`instance_type`)만 변경해 주시면 됩니다. SageMaker가 관리하는 배포 클러스터를 프로비저닝하는 시간이 소요되기 때문에 추론 서비스를 시작하는 데에는 약 5~10분 정도 소요됩니다."
   ]
  },
  {
   "cell_type": "code",
   "execution_count": 13,
   "metadata": {},
   "outputs": [],
   "source": [
    "import os\n",
    "import boto3\n",
    "import sagemaker\n",
    "from sagemaker.mxnet import MXNet\n",
    "\n",
    "boto_session = boto3.Session()\n",
    "sagemaker_session = sagemaker.Session(boto_session=boto_session)\n",
    "role = sagemaker.get_execution_role()\n",
    "bucket = sagemaker.Session().default_bucket()"
   ]
  },
  {
   "cell_type": "code",
   "execution_count": 14,
   "metadata": {},
   "outputs": [],
   "source": [
    "model_path = os.path.join(s3_model_dir, \"model.tar.gz\")\n",
    "endpoint_name = \"endpoint-store-item-demand-forecast-{}\".format(int(time.time()))"
   ]
  },
  {
   "cell_type": "code",
   "execution_count": 15,
   "metadata": {},
   "outputs": [
    {
     "name": "stderr",
     "output_type": "stream",
     "text": [
      "Parameter image will be renamed to image_uri in SageMaker Python SDK v2.\n",
      "'create_image_uri' will be deprecated in favor of 'ImageURIProvider' class in SageMaker Python SDK v2.\n"
     ]
    },
    {
     "name": "stdout",
     "output_type": "stream",
     "text": [
      "-------------!"
     ]
    }
   ],
   "source": [
    "model = MXNetModel(model_data=model_path,\n",
    "                         role=role,\n",
    "                         source_dir='src',\n",
    "                         entry_point='inference.py',\n",
    "                         framework_version='1.6.0',\n",
    "                         py_version='py3')\n",
    "\n",
    "predictor = model.deploy(instance_type=\"ml.c5.large\", \n",
    "                         initial_instance_count=1, \n",
    "                         endpoint_name=endpoint_name,\n",
    "                         wait=True)"
   ]
  },
  {
   "cell_type": "markdown",
   "metadata": {},
   "source": [
    "추론을 수행합니다. 로컬 모드의 코드와 동일합니다."
   ]
  },
  {
   "cell_type": "code",
   "execution_count": 16,
   "metadata": {},
   "outputs": [
    {
     "name": "stdout",
     "output_type": "stream",
     "text": [
      "{'item_0': [14.163518905639648, 16.821189880371094, 17.345624923706055, 18.332263946533203, 19.786231994628906, 20.85190200805664, 21.70943832397461, 14.616772651672363, 16.987985610961914, 17.16689109802246, 18.09505844116211, 19.661399841308594, 20.651142120361328, 21.3284912109375, 14.188492774963379, 16.60407066345215, 16.656070709228516, 17.94712257385254, 19.911489486694336, 20.073078155517578, 20.56958770751953], 'item_1': [36.81254959106445, 45.031009674072266, 46.13237762451172, 48.175514221191406, 52.2011604309082, 55.74961471557617, 58.72719192504883, 39.19926452636719, 45.59089279174805, 45.85310363769531, 47.933597564697266, 52.64041519165039, 54.371124267578125, 58.041770935058594, 37.91728210449219, 43.920860290527344, 44.90949249267578, 47.97834014892578, 51.413299560546875, 54.65977478027344, 57.35679244995117]}\n"
     ]
    }
   ],
   "source": [
    "outputs = predictor.predict(input_data)\n",
    "print(outputs)"
   ]
  },
  {
   "cell_type": "code",
   "execution_count": 17,
   "metadata": {},
   "outputs": [],
   "source": [
    "import boto3\n",
    "client = boto3.client('sagemaker')\n",
    "runtime_client = boto3.client('sagemaker-runtime')\n",
    "endpoint_name = model.endpoint_name"
   ]
  },
  {
   "cell_type": "code",
   "execution_count": 18,
   "metadata": {},
   "outputs": [],
   "source": [
    "response = runtime_client.invoke_endpoint(\n",
    "    EndpointName=endpoint_name, \n",
    "    ContentType='application/json',\n",
    "    Accept='application/json',\n",
    "    Body=json.dumps(input_data)\n",
    "    )\n",
    "outputs = response['Body'].read().decode()"
   ]
  },
  {
   "cell_type": "code",
   "execution_count": 19,
   "metadata": {},
   "outputs": [
    {
     "data": {
      "text/plain": [
       "'{\"item_0\": [14.207303047180176, 16.919790267944336, 17.345754623413086, 18.348861694335938, 19.965818405151367, 20.748655319213867, 21.590065002441406, 14.480704307556152, 16.978944778442383, 16.658592224121094, 18.25176429748535, 19.607223510742188, 20.795198440551758, 21.353797912597656, 14.0289888381958, 16.48247718811035, 16.907812118530273, 17.71446990966797, 19.946365356445312, 20.2979736328125, 20.792892456054688], \"item_1\": [36.48078155517578, 44.30986404418945, 45.861942291259766, 48.04996109008789, 52.20718765258789, 56.05976104736328, 58.393402099609375, 38.8161735534668, 45.91603088378906, 45.5969352722168, 47.952693939208984, 52.254703521728516, 53.863525390625, 56.945255279541016, 37.448265075683594, 44.1944580078125, 44.1426887512207, 47.769264221191406, 51.138206481933594, 54.509674072265625, 57.06270980834961]}'"
      ]
     },
     "execution_count": 19,
     "metadata": {},
     "output_type": "execute_result"
    }
   ],
   "source": [
    "outputs"
   ]
  },
  {
   "cell_type": "markdown",
   "metadata": {},
   "source": [
    "### SageMaker Hosted Endpoint Clean-up\n",
    "\n",
    "엔드포인트를 계속 사용하지 않는다면, 불필요한 과금을 피하기 위해 엔드포인트를 삭제해야 합니다. \n",
    "SageMaker SDK에서는 `delete_endpoint()` 메소드로 간단히 삭제할 수 있으며, UI에서도 쉽게 삭제할 수 있습니다."
   ]
  },
  {
   "cell_type": "code",
   "execution_count": 20,
   "metadata": {},
   "outputs": [
    {
     "name": "stdout",
     "output_type": "stream",
     "text": [
      "--- Deleted model: mxnet-inference-2020-08-31-13-52-41-698\n",
      "--- Deleted endpoint: endpoint-store-item-demand-forecast-1598881931\n",
      "--- Deleted endpoint_config: endpoint-store-item-demand-forecast-1598881931\n"
     ]
    }
   ],
   "source": [
    "delete_endpoint(client, endpoint_name)"
   ]
  }
 ],
 "metadata": {
  "kernelspec": {
   "display_name": "conda_mxnet_p36",
   "language": "python",
   "name": "conda_mxnet_p36"
  },
  "language_info": {
   "codemirror_mode": {
    "name": "ipython",
    "version": 3
   },
   "file_extension": ".py",
   "mimetype": "text/x-python",
   "name": "python",
   "nbconvert_exporter": "python",
   "pygments_lexer": "ipython3",
   "version": "3.6.10"
  }
 },
 "nbformat": 4,
 "nbformat_minor": 4
}
