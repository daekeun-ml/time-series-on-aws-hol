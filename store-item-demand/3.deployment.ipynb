{
 "cells": [
  {
   "cell_type": "markdown",
   "metadata": {},
   "source": [
    "# Module 3. Deployment on MMS(Multi Model Server)\n",
    "---\n",
    "\n",
    "본 모듈에서는 모델의 배포(deployment)를 수행합니다. 노트북 실행에는 약 15분 가량 소요되며, 핸즈온 실습 시에는 25분을 권장드립니다.\n",
    "\n",
    "<br>\n",
    "\n",
    "## 1. Inference script\n",
    "---\n",
    "\n",
    "아래 코드 셀은 `src` 디렉토리에 SageMaker 추론 스크립트인 `inference.py`를 저장합니다.<br>\n",
    "\n",
    "이 스크립트는 SageMaker 상에서 MMS(Multi Model Server)를 쉽고 편하게 배포할 수 이는 high-level 툴킷인 SageMaker inference toolkit의 인터페이스를\n",
    "사용하고 있으며, 여러분께서는 인터페이스에 정의된 핸들러(handler) 함수들만 구현하시면 됩니다.\n",
    "\n",
    "#### MMS(Multi Model Server)란?\n",
    "- [https://github.com/awslabs/multi-model-server](https://github.com/awslabs/multi-model-server) (2017년 12월 초 MXNet 1.0 릴리스 시 최초 공개, MXNet용 모델 서버로 시작)\n",
    "- Prerequisites: Java 8, MXNet (단, MXNet 사용 시에만)\n",
    "- MMS는 프레임워크에 구애받지 않도록 설계되었기 때문에, 모든 프레임워크의 백엔드 엔진 역할을 할 수 있는 충분한 유연성을 제공합니다.\n",
    "- SageMaker MXNet 추론 컨테이너는 SageMaker inference toolkit으로 MMS를 래핑하여 사용합니다."
   ]
  },
  {
   "cell_type": "code",
   "execution_count": 1,
   "metadata": {},
   "outputs": [
    {
     "name": "stdout",
     "output_type": "stream",
     "text": [
      "Overwriting ./src/inference.py\n"
     ]
    }
   ],
   "source": [
    "%%writefile ./src/inference.py\n",
    "\n",
    "import os\n",
    "import pandas as pd\n",
    "import gluonts \n",
    "import numpy as np\n",
    "import argparse\n",
    "import json\n",
    "import pathlib\n",
    "from mxnet import gpu, cpu\n",
    "from mxnet.context import num_gpus\n",
    "import matplotlib.pyplot as plt\n",
    "\n",
    "from gluonts.dataset.util import to_pandas\n",
    "from gluonts.mx.distribution import DistributionOutput, StudentTOutput, NegativeBinomialOutput, GaussianOutput\n",
    "from gluonts.model.deepar import DeepAREstimator\n",
    "from gluonts.mx.trainer import Trainer\n",
    "from gluonts.evaluation import Evaluator\n",
    "from gluonts.evaluation.backtest import make_evaluation_predictions, backtest_metrics\n",
    "from gluonts.model.predictor import Predictor\n",
    "from gluonts.dataset.field_names import FieldName\n",
    "from gluonts.dataset.common import ListDataset\n",
    "\n",
    "\n",
    "def model_fn(model_dir):\n",
    "    path = pathlib.Path(model_dir)   \n",
    "    predictor = Predictor.deserialize(path)\n",
    "    print(\"model was loaded successfully\")\n",
    "    return predictor\n",
    "\n",
    "\n",
    "def transform_fn(model, request_body, content_type='application/json', accept_type='application/json'):\n",
    "\n",
    "    data = json.loads(request_body)\n",
    "    target_test_df = pd.DataFrame(data['value'], index=data['timestamp'])\n",
    "    target = target_test_df.values\n",
    "    num_series = target_test_df.shape[1]\n",
    "    start_dt = target_test_df.index[0]\n",
    "    test_lst = []\n",
    "    \n",
    "    for i in range(0, num_series):\n",
    "        target_vec = target[:, i]\n",
    "        dic = {FieldName.TARGET: target_vec, \n",
    "               FieldName.START: start_dt} \n",
    "        test_lst.append(dic)\n",
    "        \n",
    "    test_ds = ListDataset(test_lst, freq='1D')\n",
    "    \n",
    "    response_body = {}\n",
    "    forecast_it = model.predict(test_ds)\n",
    "    for idx, f in enumerate(forecast_it):\n",
    "        response_body[f'item_{idx}'] = f.samples.mean(axis=0).tolist()\n",
    "\n",
    "    return json.dumps(response_body)"
   ]
  },
  {
   "cell_type": "markdown",
   "metadata": {},
   "source": [
    "<br>\n",
    "\n",
    "## 2. Test Inference code \n",
    "---\n",
    "\n",
    "엔드포인트 배포 전, 추론 스크립트를 검증합니다. "
   ]
  },
  {
   "cell_type": "code",
   "execution_count": 2,
   "metadata": {},
   "outputs": [],
   "source": [
    "%store -r"
   ]
  },
  {
   "cell_type": "code",
   "execution_count": 3,
   "metadata": {},
   "outputs": [
    {
     "name": "stdout",
     "output_type": "stream",
     "text": [
      "model was loaded successfully\n",
      "[13.779692649841309, 16.831052780151367, 17.169921875, 18.444971084594727, 20.433433532714844, 20.80752944946289, 21.781984329223633, 14.678018569946289, 16.983680725097656, 16.961782455444336, 18.321735382080078, 19.852739334106445, 20.979887008666992, 21.757274627685547, 14.305449485778809, 16.792940139770508, 17.346654891967773, 18.061120986938477, 20.07729721069336, 20.284381866455078, 20.880613327026367]\n"
     ]
    }
   ],
   "source": [
    "from src.inference import model_fn, transform_fn\n",
    "import json\n",
    "import numpy as np\n",
    "import pandas as pd\n",
    "\n",
    "# Prepare test data\n",
    "target_test_df = pd.read_csv(\"data/target_train.csv\")\n",
    "target_test_df.set_index(target_test_df.columns[0], inplace=True)\n",
    "num_series = 2\n",
    "pred_length = 21\n",
    "target_test_df = target_test_df.iloc[pred_length:,:num_series]\n",
    "input_data = {'value': target_test_df.values.tolist(), 'timestamp': target_test_df.index.tolist()}\n",
    "request_body = json.dumps(input_data)\n",
    "\n",
    "# Test inference script \n",
    "model = model_fn('./model')\n",
    "response = transform_fn(model, request_body)\n",
    "outputs = json.loads(response)\n",
    "print(outputs['item_0'])"
   ]
  },
  {
   "cell_type": "markdown",
   "metadata": {},
   "source": [
    "<br>\n",
    "\n",
    "## 3. Local Endpoint Inference\n",
    "---\n",
    "\n",
    "충분한 검증 및 테스트 없이 훈련된 모델을 곧바로 실제 운영 환경에 배포하기에는 많은 위험 요소들이 있습니다. 따라서, 로컬 모드를 사용하여 실제 운영 환경에 배포하기 위한 추론 인스턴스를 시작하기 전에 노트북 인스턴스의 로컬 환경에서 모델을 배포하는 것을 권장합니다. 이를 로컬 모드 엔드포인트(Local Mode Endpoint)라고 합니다."
   ]
  },
  {
   "cell_type": "code",
   "execution_count": 4,
   "metadata": {},
   "outputs": [],
   "source": [
    "import os\n",
    "import time\n",
    "import sagemaker\n",
    "from sagemaker.mxnet import MXNetModel\n",
    "role = sagemaker.get_execution_role()"
   ]
  },
  {
   "cell_type": "code",
   "execution_count": 5,
   "metadata": {},
   "outputs": [],
   "source": [
    "local_model_path = f'file://{os.getcwd()}/model/model.tar.gz'\n",
    "endpoint_name = \"local-endpoint-store-item-demand-forecast-{}\".format(int(time.time()))"
   ]
  },
  {
   "cell_type": "markdown",
   "metadata": {},
   "source": [
    "\n",
    "아래 코드 셀을 실행 후, 로그를 확인해 보세요. MMS에 대한 세팅값들을 확인하실 수 있습니다.\n",
    "\n",
    "```bash\n",
    "algo-1-u3xwd_1  | MMS Home: /usr/local/lib/python3.6/site-packages\n",
    "algo-1-u3xwd_1  | Current directory: /\n",
    "algo-1-u3xwd_1  | Temp directory: /home/model-server/tmp\n",
    "algo-1-u3xwd_1  | Number of GPUs: 0\n",
    "algo-1-u3xwd_1  | Number of CPUs: 2\n",
    "algo-1-u3xwd_1  | Max heap size: 878 M\n",
    "algo-1-u3xwd_1  | Python executable: /usr/local/bin/python3.6\n",
    "algo-1-u3xwd_1  | Config file: /etc/sagemaker-mms.properties\n",
    "algo-1-u3xwd_1  | Inference address: http://0.0.0.0:8080\n",
    "algo-1-u3xwd_1  | Management address: http://0.0.0.0:8080\n",
    "algo-1-u3xwd_1  | Model Store: /.sagemaker/mms/models\n",
    "...\n",
    "```"
   ]
  },
  {
   "cell_type": "code",
   "execution_count": 6,
   "metadata": {},
   "outputs": [
    {
     "name": "stdout",
     "output_type": "stream",
     "text": [
      "Attaching to gd6rep7zhp-algo-1-vi9h3\n",
      "\u001b[36mgd6rep7zhp-algo-1-vi9h3 |\u001b[0m Collecting pandas==1.1.5\n",
      "\u001b[36mgd6rep7zhp-algo-1-vi9h3 |\u001b[0m   Downloading pandas-1.1.5-cp36-cp36m-manylinux1_x86_64.whl (9.5 MB)\n",
      "\u001b[K     |████████████████████████████████| 9.5 MB 20.5 MB/s eta 0:00:01\n",
      "\u001b[36mgd6rep7zhp-algo-1-vi9h3 |\u001b[0m \u001b[?25hCollecting gluonts==0.6.7\n",
      "\u001b[36mgd6rep7zhp-algo-1-vi9h3 |\u001b[0m   Downloading gluonts-0.6.7-py3-none-any.whl (569 kB)\n",
      "\u001b[K     |████████████████████████████████| 569 kB 57.9 MB/s eta 0:00:01\n",
      "\u001b[36mgd6rep7zhp-algo-1-vi9h3 |\u001b[0m \u001b[?25hCollecting toolz~=0.10\n",
      "\u001b[36mgd6rep7zhp-algo-1-vi9h3 |\u001b[0m   Downloading toolz-0.11.1-py3-none-any.whl (55 kB)\n",
      "\u001b[K     |████████████████████████████████| 55 kB 6.8 MB/s  eta 0:00:01\n",
      "\u001b[36mgd6rep7zhp-algo-1-vi9h3 |\u001b[0m \u001b[?25hCollecting ujson~=1.35\n",
      "\u001b[36mgd6rep7zhp-algo-1-vi9h3 |\u001b[0m   Downloading ujson-1.35.tar.gz (192 kB)\n",
      "\u001b[K     |████████████████████████████████| 192 kB 48.3 MB/s eta 0:00:01\n",
      "\u001b[36mgd6rep7zhp-algo-1-vi9h3 |\u001b[0m \u001b[?25hRequirement already satisfied: matplotlib~=3.0 in /usr/local/lib/python3.6/site-packages (from gluonts==0.6.7->-r /opt/ml/model/code/requirements.txt (line 2)) (3.3.4)\n",
      "\u001b[36mgd6rep7zhp-algo-1-vi9h3 |\u001b[0m Collecting holidays>=0.9\n",
      "\u001b[36mgd6rep7zhp-algo-1-vi9h3 |\u001b[0m   Downloading holidays-0.11.1-py3-none-any.whl (133 kB)\n",
      "\u001b[K     |████████████████████████████████| 133 kB 53.2 MB/s eta 0:00:01\n",
      "\u001b[36mgd6rep7zhp-algo-1-vi9h3 |\u001b[0m \u001b[?25hRequirement already satisfied: numpy~=1.16 in /usr/local/lib/python3.6/site-packages (from gluonts==0.6.7->-r /opt/ml/model/code/requirements.txt (line 2)) (1.17.4)\n",
      "\u001b[36mgd6rep7zhp-algo-1-vi9h3 |\u001b[0m Requirement already satisfied: tqdm~=4.23 in /usr/local/lib/python3.6/site-packages (from gluonts==0.6.7->-r /opt/ml/model/code/requirements.txt (line 2)) (4.58.0)\n",
      "\u001b[36mgd6rep7zhp-algo-1-vi9h3 |\u001b[0m Collecting pydantic<1.7,~=1.1\n",
      "\u001b[36mgd6rep7zhp-algo-1-vi9h3 |\u001b[0m   Downloading pydantic-1.6.1-cp36-cp36m-manylinux2014_x86_64.whl (8.7 MB)\n",
      "\u001b[K     |████████████████████████████████| 8.7 MB 1.2 MB/s eta 0:00:01\n",
      "\u001b[36mgd6rep7zhp-algo-1-vi9h3 |\u001b[0m \u001b[?25hRequirement already satisfied: python-dateutil>=2.7.3 in /usr/local/lib/python3.6/site-packages (from pandas==1.1.5->-r /opt/ml/model/code/requirements.txt (line 1)) (2.8.1)\n",
      "\u001b[36mgd6rep7zhp-algo-1-vi9h3 |\u001b[0m Collecting pytz>=2017.2\n",
      "\u001b[36mgd6rep7zhp-algo-1-vi9h3 |\u001b[0m   Downloading pytz-2021.1-py2.py3-none-any.whl (510 kB)\n",
      "\u001b[K     |████████████████████████████████| 510 kB 53.6 MB/s eta 0:00:01\n",
      "\u001b[36mgd6rep7zhp-algo-1-vi9h3 |\u001b[0m \u001b[?25hRequirement already satisfied: six in /usr/local/lib/python3.6/site-packages (from holidays>=0.9->gluonts==0.6.7->-r /opt/ml/model/code/requirements.txt (line 2)) (1.15.0)\n",
      "\u001b[36mgd6rep7zhp-algo-1-vi9h3 |\u001b[0m Collecting korean-lunar-calendar\n",
      "\u001b[36mgd6rep7zhp-algo-1-vi9h3 |\u001b[0m   Downloading korean_lunar_calendar-0.2.1-py3-none-any.whl (8.0 kB)\n",
      "\u001b[36mgd6rep7zhp-algo-1-vi9h3 |\u001b[0m Collecting convertdate>=2.3.0\n",
      "\u001b[36mgd6rep7zhp-algo-1-vi9h3 |\u001b[0m   Downloading convertdate-2.3.2-py3-none-any.whl (47 kB)\n",
      "\u001b[K     |████████████████████████████████| 47 kB 8.2 MB/s  eta 0:00:01\n",
      "\u001b[36mgd6rep7zhp-algo-1-vi9h3 |\u001b[0m \u001b[?25hCollecting hijri-converter\n",
      "\u001b[36mgd6rep7zhp-algo-1-vi9h3 |\u001b[0m   Downloading hijri_converter-2.1.1-py3-none-any.whl (14 kB)\n",
      "\u001b[36mgd6rep7zhp-algo-1-vi9h3 |\u001b[0m Collecting pymeeus<=1,>=0.3.13\n",
      "\u001b[36mgd6rep7zhp-algo-1-vi9h3 |\u001b[0m   Downloading PyMeeus-0.5.11.tar.gz (5.4 MB)\n",
      "\u001b[K     |████████████████████████████████| 5.4 MB 27.4 MB/s eta 0:00:01\n",
      "\u001b[36mgd6rep7zhp-algo-1-vi9h3 |\u001b[0m \u001b[?25hRequirement already satisfied: kiwisolver>=1.0.1 in /usr/local/lib/python3.6/site-packages (from matplotlib~=3.0->gluonts==0.6.7->-r /opt/ml/model/code/requirements.txt (line 2)) (1.3.1)\n",
      "\u001b[36mgd6rep7zhp-algo-1-vi9h3 |\u001b[0m Requirement already satisfied: pyparsing!=2.0.4,!=2.1.2,!=2.1.6,>=2.0.3 in /usr/local/lib/python3.6/site-packages (from matplotlib~=3.0->gluonts==0.6.7->-r /opt/ml/model/code/requirements.txt (line 2)) (2.4.7)\n",
      "\u001b[36mgd6rep7zhp-algo-1-vi9h3 |\u001b[0m Requirement already satisfied: cycler>=0.10 in /usr/local/lib/python3.6/site-packages (from matplotlib~=3.0->gluonts==0.6.7->-r /opt/ml/model/code/requirements.txt (line 2)) (0.10.0)\n",
      "\u001b[36mgd6rep7zhp-algo-1-vi9h3 |\u001b[0m Requirement already satisfied: pillow>=6.2.0 in /usr/local/lib/python3.6/site-packages (from matplotlib~=3.0->gluonts==0.6.7->-r /opt/ml/model/code/requirements.txt (line 2)) (8.1.1)\n",
      "\u001b[36mgd6rep7zhp-algo-1-vi9h3 |\u001b[0m Collecting dataclasses>=0.6\n",
      "\u001b[36mgd6rep7zhp-algo-1-vi9h3 |\u001b[0m   Downloading dataclasses-0.8-py3-none-any.whl (19 kB)\n",
      "\u001b[36mgd6rep7zhp-algo-1-vi9h3 |\u001b[0m Using legacy 'setup.py install' for pymeeus, since package 'wheel' is not installed.\n",
      "\u001b[36mgd6rep7zhp-algo-1-vi9h3 |\u001b[0m Using legacy 'setup.py install' for ujson, since package 'wheel' is not installed.\n",
      "\u001b[36mgd6rep7zhp-algo-1-vi9h3 |\u001b[0m Installing collected packages: pytz, pymeeus, korean-lunar-calendar, hijri-converter, dataclasses, convertdate, ujson, toolz, pydantic, pandas, holidays, gluonts\n",
      "\u001b[36mgd6rep7zhp-algo-1-vi9h3 |\u001b[0m     Running setup.py install for pymeeus ... \u001b[?25ldone\n",
      "\u001b[36mgd6rep7zhp-algo-1-vi9h3 |\u001b[0m \u001b[?25h    Running setup.py install for ujson ... \u001b[?25ldone\n",
      "\u001b[36mgd6rep7zhp-algo-1-vi9h3 |\u001b[0m \u001b[?25hSuccessfully installed convertdate-2.3.2 dataclasses-0.8 gluonts-0.6.7 hijri-converter-2.1.1 holidays-0.11.1 korean-lunar-calendar-0.2.1 pandas-1.1.5 pydantic-1.6.1 pymeeus-0.5.11 pytz-2021.1 toolz-0.11.1 ujson-1.35\n",
      "\u001b[36mgd6rep7zhp-algo-1-vi9h3 |\u001b[0m Warning: Calling MMS with mxnet-model-server. Please move to multi-model-server.\n",
      "\u001b[36mgd6rep7zhp-algo-1-vi9h3 |\u001b[0m 2021-04-07 05:28:59,690 [INFO ] main com.amazonaws.ml.mms.ModelServer - \n",
      "\u001b[36mgd6rep7zhp-algo-1-vi9h3 |\u001b[0m MMS Home: /usr/local/lib/python3.6/site-packages\n",
      "\u001b[36mgd6rep7zhp-algo-1-vi9h3 |\u001b[0m Current directory: /\n",
      "\u001b[36mgd6rep7zhp-algo-1-vi9h3 |\u001b[0m Temp directory: /home/model-server/tmp\n",
      "\u001b[36mgd6rep7zhp-algo-1-vi9h3 |\u001b[0m Number of GPUs: 0\n",
      "\u001b[36mgd6rep7zhp-algo-1-vi9h3 |\u001b[0m Number of CPUs: 8\n",
      "\u001b[36mgd6rep7zhp-algo-1-vi9h3 |\u001b[0m Max heap size: 13646 M\n",
      "\u001b[36mgd6rep7zhp-algo-1-vi9h3 |\u001b[0m Python executable: /usr/local/bin/python3.6\n",
      "\u001b[36mgd6rep7zhp-algo-1-vi9h3 |\u001b[0m Config file: /etc/sagemaker-mms.properties\n",
      "\u001b[36mgd6rep7zhp-algo-1-vi9h3 |\u001b[0m Inference address: http://0.0.0.0:8080\n",
      "\u001b[36mgd6rep7zhp-algo-1-vi9h3 |\u001b[0m Management address: http://0.0.0.0:8080\n",
      "\u001b[36mgd6rep7zhp-algo-1-vi9h3 |\u001b[0m Model Store: /.sagemaker/mms/models\n",
      "\u001b[36mgd6rep7zhp-algo-1-vi9h3 |\u001b[0m Initial Models: ALL\n",
      "\u001b[36mgd6rep7zhp-algo-1-vi9h3 |\u001b[0m Log dir: /logs\n",
      "\u001b[36mgd6rep7zhp-algo-1-vi9h3 |\u001b[0m Metrics dir: /logs\n",
      "\u001b[36mgd6rep7zhp-algo-1-vi9h3 |\u001b[0m Netty threads: 0\n",
      "\u001b[36mgd6rep7zhp-algo-1-vi9h3 |\u001b[0m Netty client threads: 0\n",
      "\u001b[36mgd6rep7zhp-algo-1-vi9h3 |\u001b[0m Default workers per model: 8\n",
      "\u001b[36mgd6rep7zhp-algo-1-vi9h3 |\u001b[0m Blacklist Regex: N/A\n",
      "\u001b[36mgd6rep7zhp-algo-1-vi9h3 |\u001b[0m Maximum Response Size: 6553500\n",
      "\u001b[36mgd6rep7zhp-algo-1-vi9h3 |\u001b[0m Maximum Request Size: 6553500\n",
      "\u001b[36mgd6rep7zhp-algo-1-vi9h3 |\u001b[0m Preload model: false\n",
      "\u001b[36mgd6rep7zhp-algo-1-vi9h3 |\u001b[0m Prefer direct buffer: false\n",
      "\u001b[36mgd6rep7zhp-algo-1-vi9h3 |\u001b[0m 2021-04-07 05:28:59,792 [WARN ] W-9000-model com.amazonaws.ml.mms.wlm.WorkerLifeCycle - attachIOStreams() threadName=W-9000-model\n",
      "\u001b[36mgd6rep7zhp-algo-1-vi9h3 |\u001b[0m 2021-04-07 05:28:59,910 [INFO ] W-9000-model-stdout com.amazonaws.ml.mms.wlm.WorkerLifeCycle - model_service_worker started with args: --sock-type unix --sock-name /home/model-server/tmp/.mms.sock.9000 --handler sagemaker_mxnet_serving_container.handler_service --model-path /.sagemaker/mms/models/model --model-name model --preload-model false --tmp-dir /home/model-server/tmp\n",
      "\u001b[36mgd6rep7zhp-algo-1-vi9h3 |\u001b[0m 2021-04-07 05:28:59,911 [INFO ] W-9000-model-stdout com.amazonaws.ml.mms.wlm.WorkerLifeCycle - Listening on port: /home/model-server/tmp/.mms.sock.9000\n",
      "\u001b[36mgd6rep7zhp-algo-1-vi9h3 |\u001b[0m 2021-04-07 05:28:59,912 [INFO ] W-9000-model-stdout com.amazonaws.ml.mms.wlm.WorkerLifeCycle - [PID] 107\n",
      "\u001b[36mgd6rep7zhp-algo-1-vi9h3 |\u001b[0m 2021-04-07 05:28:59,912 [INFO ] W-9000-model-stdout com.amazonaws.ml.mms.wlm.WorkerLifeCycle - MMS worker started.\n",
      "\u001b[36mgd6rep7zhp-algo-1-vi9h3 |\u001b[0m 2021-04-07 05:28:59,912 [INFO ] W-9000-model-stdout com.amazonaws.ml.mms.wlm.WorkerLifeCycle - Python runtime: 3.6.13\n",
      "\u001b[36mgd6rep7zhp-algo-1-vi9h3 |\u001b[0m 2021-04-07 05:28:59,913 [INFO ] main com.amazonaws.ml.mms.wlm.ModelManager - Model model loaded.\n",
      "\u001b[36mgd6rep7zhp-algo-1-vi9h3 |\u001b[0m 2021-04-07 05:28:59,919 [INFO ] main com.amazonaws.ml.mms.ModelServer - Initialize Inference server with: EpollServerSocketChannel.\n",
      "\u001b[36mgd6rep7zhp-algo-1-vi9h3 |\u001b[0m 2021-04-07 05:28:59,931 [INFO ] W-9000-model com.amazonaws.ml.mms.wlm.WorkerThread - Connecting to: /home/model-server/tmp/.mms.sock.9000\n",
      "\u001b[36mgd6rep7zhp-algo-1-vi9h3 |\u001b[0m 2021-04-07 05:28:59,931 [INFO ] W-9000-model com.amazonaws.ml.mms.wlm.WorkerThread - Connecting to: /home/model-server/tmp/.mms.sock.9000\n",
      "\u001b[36mgd6rep7zhp-algo-1-vi9h3 |\u001b[0m 2021-04-07 05:28:59,931 [INFO ] W-9000-model com.amazonaws.ml.mms.wlm.WorkerThread - Connecting to: /home/model-server/tmp/.mms.sock.9000\n",
      "\u001b[36mgd6rep7zhp-algo-1-vi9h3 |\u001b[0m 2021-04-07 05:28:59,931 [INFO ] W-9000-model com.amazonaws.ml.mms.wlm.WorkerThread - Connecting to: /home/model-server/tmp/.mms.sock.9000\n",
      "\u001b[36mgd6rep7zhp-algo-1-vi9h3 |\u001b[0m 2021-04-07 05:28:59,931 [INFO ] W-9000-model com.amazonaws.ml.mms.wlm.WorkerThread - Connecting to: /home/model-server/tmp/.mms.sock.9000\n",
      "\u001b[36mgd6rep7zhp-algo-1-vi9h3 |\u001b[0m 2021-04-07 05:28:59,932 [INFO ] W-9000-model com.amazonaws.ml.mms.wlm.WorkerThread - Connecting to: /home/model-server/tmp/.mms.sock.9000\n",
      "\u001b[36mgd6rep7zhp-algo-1-vi9h3 |\u001b[0m 2021-04-07 05:28:59,932 [INFO ] W-9000-model com.amazonaws.ml.mms.wlm.WorkerThread - Connecting to: /home/model-server/tmp/.mms.sock.9000\n",
      "\u001b[36mgd6rep7zhp-algo-1-vi9h3 |\u001b[0m 2021-04-07 05:28:59,932 [INFO ] W-9000-model com.amazonaws.ml.mms.wlm.WorkerThread - Connecting to: /home/model-server/tmp/.mms.sock.9000\n",
      "\u001b[36mgd6rep7zhp-algo-1-vi9h3 |\u001b[0m 2021-04-07 05:29:00,002 [INFO ] main com.amazonaws.ml.mms.ModelServer - Inference API bind to: http://0.0.0.0:8080\n",
      "\u001b[36mgd6rep7zhp-algo-1-vi9h3 |\u001b[0m Model server started.\n",
      "\u001b[36mgd6rep7zhp-algo-1-vi9h3 |\u001b[0m 2021-04-07 05:29:00,006 [WARN ] pool-2-thread-1 com.amazonaws.ml.mms.metrics.MetricCollector - worker pid is not available yet.\n",
      "\u001b[36mgd6rep7zhp-algo-1-vi9h3 |\u001b[0m 2021-04-07 05:29:00,008 [INFO ] W-9000-model-stdout com.amazonaws.ml.mms.wlm.WorkerLifeCycle - Connection accepted: /home/model-server/tmp/.mms.sock.9000.\n",
      "\u001b[36mgd6rep7zhp-algo-1-vi9h3 |\u001b[0m 2021-04-07 05:29:00,013 [INFO ] W-9000-model-stdout com.amazonaws.ml.mms.wlm.WorkerLifeCycle - Connection accepted: /home/model-server/tmp/.mms.sock.9000.\n",
      "\u001b[36mgd6rep7zhp-algo-1-vi9h3 |\u001b[0m 2021-04-07 05:29:00,014 [INFO ] W-9000-model-stdout com.amazonaws.ml.mms.wlm.WorkerLifeCycle - Connection accepted: /home/model-server/tmp/.mms.sock.9000.\n",
      "\u001b[36mgd6rep7zhp-algo-1-vi9h3 |\u001b[0m 2021-04-07 05:29:00,016 [INFO ] W-9000-model-stdout com.amazonaws.ml.mms.wlm.WorkerLifeCycle - Connection accepted: /home/model-server/tmp/.mms.sock.9000.\n",
      "\u001b[36mgd6rep7zhp-algo-1-vi9h3 |\u001b[0m 2021-04-07 05:29:00,018 [INFO ] W-9000-model-stdout com.amazonaws.ml.mms.wlm.WorkerLifeCycle - Connection accepted: /home/model-server/tmp/.mms.sock.9000.\n",
      "\u001b[36mgd6rep7zhp-algo-1-vi9h3 |\u001b[0m 2021-04-07 05:29:00,020 [INFO ] W-9000-model-stdout com.amazonaws.ml.mms.wlm.WorkerLifeCycle - Connection accepted: /home/model-server/tmp/.mms.sock.9000.\n",
      "\u001b[36mgd6rep7zhp-algo-1-vi9h3 |\u001b[0m 2021-04-07 05:29:00,021 [INFO ] W-9000-model-stdout com.amazonaws.ml.mms.wlm.WorkerLifeCycle - Connection accepted: /home/model-server/tmp/.mms.sock.9000.\n",
      "\u001b[36mgd6rep7zhp-algo-1-vi9h3 |\u001b[0m 2021-04-07 05:29:00,023 [INFO ] W-9000-model-stdout com.amazonaws.ml.mms.wlm.WorkerLifeCycle - Connection accepted: /home/model-server/tmp/.mms.sock.9000.\n"
     ]
    },
    {
     "name": "stdout",
     "output_type": "stream",
     "text": [
      "\u001b[36mgd6rep7zhp-algo-1-vi9h3 |\u001b[0m 2021-04-07 05:29:00,179 [INFO ] pool-1-thread-10 ACCESS_LOG - /172.18.0.1:47946 \"GET /ping HTTP/1.1\" 200 26\r\n",
      "!"
     ]
    }
   ],
   "source": [
    "local_model = MXNetModel(model_data=local_model_path,\n",
    "                         role=role,\n",
    "                         source_dir='src',\n",
    "                         entry_point='inference.py',\n",
    "                         framework_version='1.6.0',\n",
    "                         py_version='py3')\n",
    "\n",
    "predictor = local_model.deploy(instance_type='local', \n",
    "                           initial_instance_count=1, \n",
    "                           endpoint_name=endpoint_name,\n",
    "                           wait=True)"
   ]
  },
  {
   "cell_type": "markdown",
   "metadata": {},
   "source": [
    "로컬에서 컨테이너를 배포했기 때문에 컨테이너가 현재 실행 중임을 확인할 수 있습니다."
   ]
  },
  {
   "cell_type": "code",
   "execution_count": 7,
   "metadata": {},
   "outputs": [
    {
     "name": "stdout",
     "output_type": "stream",
     "text": [
      "CONTAINER ID        IMAGE                                                                        COMMAND                  CREATED             STATUS              PORTS                              NAMES\r\n",
      "1f993fbfe488        763104351884.dkr.ecr.us-east-1.amazonaws.com/mxnet-inference:1.6.0-cpu-py3   \"python /usr/local/b…\"   15 seconds ago      Up 13 seconds       0.0.0.0:8080->8080/tcp, 8081/tcp   gd6rep7zhp-algo-1-vi9h3\r\n"
     ]
    }
   ],
   "source": [
    "!docker ps"
   ]
  },
  {
   "cell_type": "markdown",
   "metadata": {},
   "source": [
    "### Inference using SageMaker SDK\n",
    "\n",
    "SageMaker SDK의 `predict()` 메서드로 쉽게 추론을 수행할 수 있습니다. "
   ]
  },
  {
   "cell_type": "code",
   "execution_count": 8,
   "metadata": {},
   "outputs": [
    {
     "name": "stdout",
     "output_type": "stream",
     "text": [
      "\u001b[36mgd6rep7zhp-algo-1-vi9h3 |\u001b[0m 2021-04-07 05:29:03,449 [INFO ] W-9000-model-stdout com.amazonaws.ml.mms.wlm.WorkerLifeCycle - Generating new fontManager, this may take some time...\n",
      "\u001b[36mgd6rep7zhp-algo-1-vi9h3 |\u001b[0m 2021-04-07 05:29:03,484 [INFO ] W-9000-model-stdout com.amazonaws.ml.mms.wlm.WorkerLifeCycle - Generating new fontManager, this may take some time...\n",
      "\u001b[36mgd6rep7zhp-algo-1-vi9h3 |\u001b[0m 2021-04-07 05:29:03,518 [INFO ] W-9000-model-stdout com.amazonaws.ml.mms.wlm.WorkerLifeCycle - Generating new fontManager, this may take some time...\n",
      "\u001b[36mgd6rep7zhp-algo-1-vi9h3 |\u001b[0m 2021-04-07 05:29:03,542 [INFO ] W-9000-model-stdout com.amazonaws.ml.mms.wlm.WorkerLifeCycle - Generating new fontManager, this may take some time...\n",
      "\u001b[36mgd6rep7zhp-algo-1-vi9h3 |\u001b[0m 2021-04-07 05:29:03,588 [INFO ] W-9000-model-stdout com.amazonaws.ml.mms.wlm.WorkerLifeCycle - Generating new fontManager, this may take some time...\n",
      "\u001b[36mgd6rep7zhp-algo-1-vi9h3 |\u001b[0m 2021-04-07 05:29:03,594 [INFO ] W-9000-model-stdout com.amazonaws.ml.mms.wlm.WorkerLifeCycle - Generating new fontManager, this may take some time...\n",
      "\u001b[36mgd6rep7zhp-algo-1-vi9h3 |\u001b[0m 2021-04-07 05:29:03,600 [INFO ] W-9000-model-stdout com.amazonaws.ml.mms.wlm.WorkerLifeCycle - Generating new fontManager, this may take some time...\n",
      "\u001b[36mgd6rep7zhp-algo-1-vi9h3 |\u001b[0m 2021-04-07 05:29:03,674 [INFO ] W-9000-model-stdout com.amazonaws.ml.mms.wlm.WorkerLifeCycle - Generating new fontManager, this may take some time...\n",
      "\u001b[36mgd6rep7zhp-algo-1-vi9h3 |\u001b[0m 2021-04-07 05:29:04,607 [INFO ] W-9000-model-stdout com.amazonaws.ml.mms.wlm.WorkerLifeCycle - Using CPU\n",
      "\u001b[36mgd6rep7zhp-algo-1-vi9h3 |\u001b[0m 2021-04-07 05:29:04,637 [INFO ] W-9000-model-stdout com.amazonaws.ml.mms.wlm.WorkerLifeCycle - model was loaded successfully\n",
      "\u001b[36mgd6rep7zhp-algo-1-vi9h3 |\u001b[0m 2021-04-07 05:29:04,638 [INFO ] W-9000-model-stdout com.amazonaws.ml.mms.wlm.WorkerLifeCycle - Model model loaded io_fd=0242acfffe120002-00000055-00000002-3936a819dc826524-d98f5b30\n",
      "\u001b[36mgd6rep7zhp-algo-1-vi9h3 |\u001b[0m 2021-04-07 05:29:04,640 [INFO ] W-9000-model com.amazonaws.ml.mms.wlm.WorkerThread - Backend response time: 4518\n",
      "\u001b[36mgd6rep7zhp-algo-1-vi9h3 |\u001b[0m 2021-04-07 05:29:04,643 [WARN ] W-9000-model com.amazonaws.ml.mms.wlm.WorkerLifeCycle - attachIOStreams() threadName=W-model-3\n",
      "\u001b[36mgd6rep7zhp-algo-1-vi9h3 |\u001b[0m 2021-04-07 05:29:04,657 [INFO ] W-9000-model-stdout com.amazonaws.ml.mms.wlm.WorkerLifeCycle - Using CPU\n",
      "\u001b[36mgd6rep7zhp-algo-1-vi9h3 |\u001b[0m 2021-04-07 05:29:04,674 [INFO ] W-9000-model-stdout com.amazonaws.ml.mms.wlm.WorkerLifeCycle - Using CPU\n",
      "\u001b[36mgd6rep7zhp-algo-1-vi9h3 |\u001b[0m 2021-04-07 05:29:04,688 [INFO ] W-9000-model-stdout com.amazonaws.ml.mms.wlm.WorkerLifeCycle - model was loaded successfully\n",
      "\u001b[36mgd6rep7zhp-algo-1-vi9h3 |\u001b[0m 2021-04-07 05:29:04,689 [INFO ] W-9000-model-stdout com.amazonaws.ml.mms.wlm.WorkerLifeCycle - Model model loaded io_fd=0242acfffe120002-00000055-00000008-8d29e819dc826524-cbacd3e3\n",
      "\u001b[36mgd6rep7zhp-algo-1-vi9h3 |\u001b[0m 2021-04-07 05:29:04,689 [INFO ] W-9000-model com.amazonaws.ml.mms.wlm.WorkerThread - Backend response time: 4567\n",
      "\u001b[36mgd6rep7zhp-algo-1-vi9h3 |\u001b[0m 2021-04-07 05:29:04,689 [WARN ] W-9000-model com.amazonaws.ml.mms.wlm.WorkerLifeCycle - attachIOStreams() threadName=W-model-8\n",
      "\u001b[36mgd6rep7zhp-algo-1-vi9h3 |\u001b[0m 2021-04-07 05:29:04,704 [INFO ] W-9000-model-stdout com.amazonaws.ml.mms.wlm.WorkerLifeCycle - Using CPU\n",
      "\u001b[36mgd6rep7zhp-algo-1-vi9h3 |\u001b[0m 2021-04-07 05:29:04,706 [INFO ] W-9000-model-stdout com.amazonaws.ml.mms.wlm.WorkerLifeCycle - Using CPU\n",
      "\u001b[36mgd6rep7zhp-algo-1-vi9h3 |\u001b[0m 2021-04-07 05:29:04,709 [INFO ] W-9000-model-stdout com.amazonaws.ml.mms.wlm.WorkerLifeCycle - model was loaded successfully\n",
      "\u001b[36mgd6rep7zhp-algo-1-vi9h3 |\u001b[0m 2021-04-07 05:29:04,709 [INFO ] W-9000-model-stdout com.amazonaws.ml.mms.wlm.WorkerLifeCycle - Model model loaded io_fd=0242acfffe120002-00000055-00000006-b984e819dc826524-dd8d210d\n",
      "\u001b[36mgd6rep7zhp-algo-1-vi9h3 |\u001b[0m 2021-04-07 05:29:04,710 [INFO ] W-9000-model com.amazonaws.ml.mms.wlm.WorkerThread - Backend response time: 4588\n",
      "\u001b[36mgd6rep7zhp-algo-1-vi9h3 |\u001b[0m 2021-04-07 05:29:04,711 [WARN ] W-9000-model com.amazonaws.ml.mms.wlm.WorkerLifeCycle - attachIOStreams() threadName=W-model-7\n",
      "\u001b[36mgd6rep7zhp-algo-1-vi9h3 |\u001b[0m 2021-04-07 05:29:04,735 [INFO ] W-9000-model-stdout com.amazonaws.ml.mms.wlm.WorkerLifeCycle - model was loaded successfully\n",
      "\u001b[36mgd6rep7zhp-algo-1-vi9h3 |\u001b[0m 2021-04-07 05:29:04,735 [INFO ] W-9000-model-stdout com.amazonaws.ml.mms.wlm.WorkerLifeCycle - Model model loaded io_fd=0242acfffe120002-00000055-00000003-beb06819dc826524-97751c49\n",
      "\u001b[36mgd6rep7zhp-algo-1-vi9h3 |\u001b[0m 2021-04-07 05:29:04,736 [INFO ] W-9000-model com.amazonaws.ml.mms.wlm.WorkerThread - Backend response time: 4595\n",
      "\u001b[36mgd6rep7zhp-algo-1-vi9h3 |\u001b[0m 2021-04-07 05:29:04,736 [WARN ] W-9000-model com.amazonaws.ml.mms.wlm.WorkerLifeCycle - attachIOStreams() threadName=W-model-2\n",
      "\u001b[36mgd6rep7zhp-algo-1-vi9h3 |\u001b[0m 2021-04-07 05:29:04,740 [INFO ] W-9000-model-stdout com.amazonaws.ml.mms.wlm.WorkerLifeCycle - model was loaded successfully\n",
      "\u001b[36mgd6rep7zhp-algo-1-vi9h3 |\u001b[0m 2021-04-07 05:29:04,741 [INFO ] W-9000-model-stdout com.amazonaws.ml.mms.wlm.WorkerLifeCycle - Model model loaded io_fd=0242acfffe120002-00000055-00000004-aeda6819dc826524-9f550abe\n",
      "\u001b[36mgd6rep7zhp-algo-1-vi9h3 |\u001b[0m 2021-04-07 05:29:04,741 [INFO ] W-9000-model com.amazonaws.ml.mms.wlm.WorkerThread - Backend response time: 4618\n",
      "\u001b[36mgd6rep7zhp-algo-1-vi9h3 |\u001b[0m 2021-04-07 05:29:04,741 [WARN ] W-9000-model com.amazonaws.ml.mms.wlm.WorkerLifeCycle - attachIOStreams() threadName=W-model-6\n",
      "\u001b[36mgd6rep7zhp-algo-1-vi9h3 |\u001b[0m 2021-04-07 05:29:04,789 [INFO ] W-9000-model-stdout com.amazonaws.ml.mms.wlm.WorkerLifeCycle - Using CPU\n",
      "\u001b[36mgd6rep7zhp-algo-1-vi9h3 |\u001b[0m 2021-04-07 05:29:04,804 [INFO ] W-9000-model-stdout com.amazonaws.ml.mms.wlm.WorkerLifeCycle - Using CPU\n",
      "\u001b[36mgd6rep7zhp-algo-1-vi9h3 |\u001b[0m 2021-04-07 05:29:04,808 [INFO ] W-9000-model-stdout com.amazonaws.ml.mms.wlm.WorkerLifeCycle - model was loaded successfully\n",
      "\u001b[36mgd6rep7zhp-algo-1-vi9h3 |\u001b[0m 2021-04-07 05:29:04,809 [INFO ] W-9000-model-stdout com.amazonaws.ml.mms.wlm.WorkerLifeCycle - Model model loaded io_fd=0242acfffe120002-00000055-00000000-212b2819dc826524-0130e1f8\n",
      "\u001b[36mgd6rep7zhp-algo-1-vi9h3 |\u001b[0m 2021-04-07 05:29:04,809 [INFO ] W-9000-model com.amazonaws.ml.mms.wlm.WorkerThread - Backend response time: 4686\n",
      "\u001b[36mgd6rep7zhp-algo-1-vi9h3 |\u001b[0m 2021-04-07 05:29:04,810 [WARN ] W-9000-model com.amazonaws.ml.mms.wlm.WorkerLifeCycle - attachIOStreams() threadName=W-model-4\n",
      "\u001b[36mgd6rep7zhp-algo-1-vi9h3 |\u001b[0m 2021-04-07 05:29:04,824 [INFO ] W-9000-model-stdout com.amazonaws.ml.mms.wlm.WorkerLifeCycle - model was loaded successfully\n",
      "\u001b[36mgd6rep7zhp-algo-1-vi9h3 |\u001b[0m 2021-04-07 05:29:04,824 [INFO ] W-9000-model-stdout com.amazonaws.ml.mms.wlm.WorkerLifeCycle - Model model loaded io_fd=0242acfffe120002-00000055-00000005-bf8d6819dc826524-cbcbd996\n",
      "\u001b[36mgd6rep7zhp-algo-1-vi9h3 |\u001b[0m 2021-04-07 05:29:04,824 [INFO ] W-9000-model com.amazonaws.ml.mms.wlm.WorkerThread - Backend response time: 4692\n",
      "\u001b[36mgd6rep7zhp-algo-1-vi9h3 |\u001b[0m 2021-04-07 05:29:04,824 [WARN ] W-9000-model com.amazonaws.ml.mms.wlm.WorkerLifeCycle - attachIOStreams() threadName=W-model-5\n",
      "\u001b[36mgd6rep7zhp-algo-1-vi9h3 |\u001b[0m 2021-04-07 05:29:04,850 [INFO ] W-9000-model-stdout com.amazonaws.ml.mms.wlm.WorkerLifeCycle - Using CPU\n",
      "\u001b[36mgd6rep7zhp-algo-1-vi9h3 |\u001b[0m 2021-04-07 05:29:04,868 [INFO ] W-9000-model-stdout com.amazonaws.ml.mms.wlm.WorkerLifeCycle - model was loaded successfully\n",
      "\u001b[36mgd6rep7zhp-algo-1-vi9h3 |\u001b[0m 2021-04-07 05:29:04,868 [INFO ] W-9000-model-stdout com.amazonaws.ml.mms.wlm.WorkerLifeCycle - Model model loaded io_fd=0242acfffe120002-00000055-00000007-b881e819dc826524-2e27f36f\n",
      "\u001b[36mgd6rep7zhp-algo-1-vi9h3 |\u001b[0m 2021-04-07 05:29:04,869 [INFO ] W-9000-model com.amazonaws.ml.mms.wlm.WorkerThread - Backend response time: 4737\n",
      "\u001b[36mgd6rep7zhp-algo-1-vi9h3 |\u001b[0m 2021-04-07 05:29:04,869 [WARN ] W-9000-model com.amazonaws.ml.mms.wlm.WorkerLifeCycle - attachIOStreams() threadName=W-model-1\n",
      "\u001b[36mgd6rep7zhp-algo-1-vi9h3 |\u001b[0m 2021-04-07 05:29:04,907 [INFO ] W-9000-model com.amazonaws.ml.mms.wlm.WorkerThread - Backend response time: 249\n",
      "\u001b[36mgd6rep7zhp-algo-1-vi9h3 |\u001b[0m 2021-04-07 05:29:04,907 [INFO ] W-9000-model ACCESS_LOG - /172.18.0.1:47954 \"POST /invocations HTTP/1.1\" 200 4398\n",
      "{'item_0': [14.173724174499512, 16.966928482055664, 17.466144561767578, 18.601024627685547, 20.091693878173828, 21.141592025756836, 21.955942153930664, 14.829607963562012, 17.287033081054688, 17.25757598876953, 18.471174240112305, 19.975059509277344, 20.952308654785156, 21.624500274658203, 14.430057525634766, 16.90169906616211, 16.915874481201172, 18.294790267944336, 20.201583862304688, 20.36090850830078, 20.75102996826172], 'item_1': [36.88957595825195, 45.34449768066406, 46.399715423583984, 48.66847229003906, 52.84553146362305, 56.37529754638672, 59.38008117675781, 39.7441291809082, 46.44867706298828, 46.605247497558594, 48.831932067871094, 53.474056243896484, 55.164127349853516, 58.720394134521484, 38.64341354370117, 45.084049224853516, 45.72357940673828, 48.84552764892578, 52.25189971923828, 55.30583190917969, 57.92888641357422]}\n"
     ]
    }
   ],
   "source": [
    "outputs = predictor.predict(input_data)\n",
    "print(outputs)"
   ]
  },
  {
   "cell_type": "markdown",
   "metadata": {},
   "source": [
    "### Inference using Boto3 SDK\n",
    "\n",
    "SageMaker SDK의 `predict()` 메서드로 추론을 수행할 수도 있지만, 이번에는 boto3의 `invoke_endpoint()` 메서드로 추론을 수행해 보겠습니다.<br>\n",
    "Boto3는 서비스 레벨의 low-level SDK로, ML 실험에 초점을 맞춰 일부 기능들이 추상화된 high-level SDK인 SageMaker SDK와 달리\n",
    "SageMaker API를 완벽하게 제어할 수 있습으며, 프로덕션 및 자동화 작업에 적합합니다.\n",
    "\n",
    "참고로 `invoke_endpoint()` 호출을 위한 런타임 클라이언트 인스턴스 생성 시, 로컬 배포 모드에서는 `sagemaker.local.LocalSagemakerRuntimeClient()`를 호출해야 합니다."
   ]
  },
  {
   "cell_type": "code",
   "execution_count": 9,
   "metadata": {},
   "outputs": [
    {
     "name": "stdout",
     "output_type": "stream",
     "text": [
      "\u001b[36mgd6rep7zhp-algo-1-vi9h3 |\u001b[0m 2021-04-07 05:29:05,144 [INFO ] W-9000-model com.amazonaws.ml.mms.wlm.WorkerThread - Backend response time: 206\r\n",
      "\u001b[36mgd6rep7zhp-algo-1-vi9h3 |\u001b[0m 2021-04-07 05:29:05,145 [INFO ] W-9000-model ACCESS_LOG - /172.18.0.1:48026 \"POST /invocations HTTP/1.1\" 200 208\r\n"
     ]
    }
   ],
   "source": [
    "client = sagemaker.local.LocalSagemakerClient()\n",
    "runtime_client = sagemaker.local.LocalSagemakerRuntimeClient()\n",
    "endpoint_name = local_model.endpoint_name\n",
    "\n",
    "response = runtime_client.invoke_endpoint(\n",
    "    EndpointName=endpoint_name, \n",
    "    ContentType='application/json',\n",
    "    Accept='application/x-npy',\n",
    "    Body=json.dumps(input_data)\n",
    "    )\n",
    "outputs = response['Body'].read().decode()"
   ]
  },
  {
   "cell_type": "code",
   "execution_count": 10,
   "metadata": {},
   "outputs": [
    {
     "data": {
      "text/plain": [
       "'{\"item_0\": [14.173724174499512, 16.966928482055664, 17.466144561767578, 18.601024627685547, 20.091693878173828, 21.141592025756836, 21.955942153930664, 14.829607963562012, 17.287033081054688, 17.25757598876953, 18.471174240112305, 19.975059509277344, 20.952308654785156, 21.624500274658203, 14.430057525634766, 16.90169906616211, 16.915874481201172, 18.294790267944336, 20.201583862304688, 20.36090850830078, 20.75102996826172], \"item_1\": [36.88957595825195, 45.34449768066406, 46.399715423583984, 48.66847229003906, 52.84553146362305, 56.37529754638672, 59.38008117675781, 39.7441291809082, 46.44867706298828, 46.605247497558594, 48.831932067871094, 53.474056243896484, 55.164127349853516, 58.720394134521484, 38.64341354370117, 45.084049224853516, 45.72357940673828, 48.84552764892578, 52.25189971923828, 55.30583190917969, 57.92888641357422]}'"
      ]
     },
     "execution_count": 10,
     "metadata": {},
     "output_type": "execute_result"
    }
   ],
   "source": [
    "outputs"
   ]
  },
  {
   "cell_type": "markdown",
   "metadata": {},
   "source": [
    "### Local Mode Endpoint Clean-up\n",
    "\n",
    "엔드포인트를 계속 사용하지 않는다면, 엔드포인트를 삭제해야 합니다. \n",
    "SageMaker SDK에서는 `delete_endpoint()` 메소드로 간단히 삭제할 수 있습니다."
   ]
  },
  {
   "cell_type": "code",
   "execution_count": 11,
   "metadata": {},
   "outputs": [
    {
     "name": "stdout",
     "output_type": "stream",
     "text": [
      "Gracefully stopping... (press Ctrl+C again to force)\n",
      "--- Deleted model: mxnet-inference-2021-04-07-05-28-44-752\n",
      "--- Deleted endpoint: local-endpoint-store-item-demand-forecast-1617773324\n",
      "--- Deleted endpoint_config: local-endpoint-store-item-demand-forecast-1617773324\n"
     ]
    }
   ],
   "source": [
    "def delete_endpoint(client, endpoint_name):\n",
    "    response = client.describe_endpoint_config(EndpointConfigName=endpoint_name)\n",
    "    model_name = response['ProductionVariants'][0]['ModelName']\n",
    "\n",
    "    client.delete_model(ModelName=model_name)    \n",
    "    client.delete_endpoint(EndpointName=endpoint_name)\n",
    "    client.delete_endpoint_config(EndpointConfigName=endpoint_name)    \n",
    "    \n",
    "    print(f'--- Deleted model: {model_name}')\n",
    "    print(f'--- Deleted endpoint: {endpoint_name}')\n",
    "    print(f'--- Deleted endpoint_config: {endpoint_name}')    \n",
    "delete_endpoint(client, endpoint_name)"
   ]
  },
  {
   "cell_type": "markdown",
   "metadata": {},
   "source": [
    "<br>\n",
    "\n",
    "## 4. SageMaker Hosted Endpoint Inference\n",
    "---\n",
    "\n",
    "이제 실제 운영 환경에 엔드포인트 배포를 수행해 보겠습니다. 로컬 모드 엔드포인트와 대부분의 코드가 동일하며, 모델 아티팩트 경로(`model_data`)와 인스턴스 유형(`instance_type`)만 변경해 주시면 됩니다. SageMaker가 관리하는 배포 클러스터를 프로비저닝하는 시간이 소요되기 때문에 추론 서비스를 시작하는 데에는 약 5~10분 정도 소요됩니다."
   ]
  },
  {
   "cell_type": "code",
   "execution_count": 12,
   "metadata": {},
   "outputs": [],
   "source": [
    "import os\n",
    "import boto3\n",
    "import sagemaker\n",
    "from sagemaker.mxnet import MXNet\n",
    "\n",
    "boto_session = boto3.Session()\n",
    "sagemaker_session = sagemaker.Session(boto_session=boto_session)\n",
    "role = sagemaker.get_execution_role()\n",
    "bucket = sagemaker.Session().default_bucket()"
   ]
  },
  {
   "cell_type": "code",
   "execution_count": 13,
   "metadata": {},
   "outputs": [],
   "source": [
    "model_path = os.path.join(s3_model_dir, \"model.tar.gz\")\n",
    "endpoint_name = \"endpoint-store-item-demand-forecast-{}\".format(int(time.time()))"
   ]
  },
  {
   "cell_type": "code",
   "execution_count": 14,
   "metadata": {},
   "outputs": [
    {
     "name": "stdout",
     "output_type": "stream",
     "text": [
      "-----------!"
     ]
    }
   ],
   "source": [
    "model = MXNetModel(model_data=model_path,\n",
    "                         role=role,\n",
    "                         source_dir='src',\n",
    "                         entry_point='inference.py',\n",
    "                         framework_version='1.6.0',\n",
    "                         py_version='py3')\n",
    "\n",
    "predictor = model.deploy(instance_type=\"ml.c5.large\", \n",
    "                         initial_instance_count=1, \n",
    "                         endpoint_name=endpoint_name,\n",
    "                         wait=True)"
   ]
  },
  {
   "cell_type": "markdown",
   "metadata": {},
   "source": [
    "추론을 수행합니다. 로컬 모드의 코드와 동일합니다."
   ]
  },
  {
   "cell_type": "code",
   "execution_count": 15,
   "metadata": {},
   "outputs": [
    {
     "name": "stdout",
     "output_type": "stream",
     "text": [
      "{'item_0': [14.173725128173828, 16.966930389404297, 17.466144561767578, 18.601022720336914, 20.091691970825195, 21.141592025756836, 21.95594024658203, 14.829608917236328, 17.287033081054688, 17.25757598876953, 18.471172332763672, 19.97505760192871, 20.952306747436523, 21.624502182006836, 14.430057525634766, 16.901700973510742, 16.91587257385254, 18.294790267944336, 20.201581954956055, 20.360910415649414, 20.75102996826172], 'item_1': [36.88957977294922, 45.34449768066406, 46.399715423583984, 48.6684684753418, 52.84553146362305, 56.37529754638672, 59.380088806152344, 39.7441291809082, 46.44867706298828, 46.605247497558594, 48.831939697265625, 53.474056243896484, 55.164127349853516, 58.720394134521484, 38.64341354370117, 45.084049224853516, 45.72357940673828, 48.845523834228516, 52.25190353393555, 55.30583572387695, 57.92888259887695]}\n"
     ]
    }
   ],
   "source": [
    "outputs = predictor.predict(input_data)\n",
    "print(outputs)"
   ]
  },
  {
   "cell_type": "code",
   "execution_count": 16,
   "metadata": {},
   "outputs": [],
   "source": [
    "import boto3\n",
    "client = boto3.client('sagemaker')\n",
    "runtime_client = boto3.client('sagemaker-runtime')\n",
    "endpoint_name = model.endpoint_name"
   ]
  },
  {
   "cell_type": "code",
   "execution_count": 17,
   "metadata": {},
   "outputs": [],
   "source": [
    "response = runtime_client.invoke_endpoint(\n",
    "    EndpointName=endpoint_name, \n",
    "    ContentType='application/json',\n",
    "    Accept='application/json',\n",
    "    Body=json.dumps(input_data)\n",
    "    )\n",
    "outputs = response['Body'].read().decode()"
   ]
  },
  {
   "cell_type": "code",
   "execution_count": 18,
   "metadata": {},
   "outputs": [
    {
     "data": {
      "text/plain": [
       "'{\"item_0\": [14.213187217712402, 17.065452575683594, 17.46732521057129, 18.617515563964844, 20.265504837036133, 21.041406631469727, 21.84316635131836, 14.703466415405273, 17.2779483795166, 16.960163116455078, 18.597017288208008, 19.943065643310547, 21.116111755371094, 21.65890121459961, 14.287104606628418, 16.797958374023438, 17.18313217163086, 18.074817657470703, 20.24350929260254, 20.58819580078125, 20.979265213012695], \"item_1\": [36.503841400146484, 44.464195251464844, 46.19575500488281, 48.420433044433594, 53.023963928222656, 56.451480865478516, 59.3340950012207, 39.41472625732422, 46.63825225830078, 46.637428283691406, 48.9912109375, 53.266822814941406, 54.93186569213867, 58.12149429321289, 37.74271011352539, 44.54322814941406, 44.97233581542969, 48.78057098388672, 51.787471771240234, 54.63759231567383, 57.266326904296875]}'"
      ]
     },
     "execution_count": 18,
     "metadata": {},
     "output_type": "execute_result"
    }
   ],
   "source": [
    "outputs"
   ]
  },
  {
   "cell_type": "markdown",
   "metadata": {},
   "source": [
    "### SageMaker Hosted Endpoint Clean-up\n",
    "\n",
    "엔드포인트를 계속 사용하지 않는다면, 불필요한 과금을 피하기 위해 엔드포인트를 삭제해야 합니다. \n",
    "SageMaker SDK에서는 `delete_endpoint()` 메소드로 간단히 삭제할 수 있으며, UI에서도 쉽게 삭제할 수 있습니다."
   ]
  },
  {
   "cell_type": "code",
   "execution_count": 19,
   "metadata": {},
   "outputs": [
    {
     "name": "stdout",
     "output_type": "stream",
     "text": [
      "--- Deleted model: mxnet-inference-2021-04-07-05-29-16-818\n",
      "--- Deleted endpoint: endpoint-store-item-demand-forecast-1617773356\n",
      "--- Deleted endpoint_config: endpoint-store-item-demand-forecast-1617773356\n"
     ]
    }
   ],
   "source": [
    "delete_endpoint(client, endpoint_name)"
   ]
  }
 ],
 "metadata": {
  "kernelspec": {
   "display_name": "conda_mxnet_p36",
   "language": "python",
   "name": "conda_mxnet_p36"
  },
  "language_info": {
   "codemirror_mode": {
    "name": "ipython",
    "version": 3
   },
   "file_extension": ".py",
   "mimetype": "text/x-python",
   "name": "python",
   "nbconvert_exporter": "python",
   "pygments_lexer": "ipython3",
   "version": "3.6.13"
  }
 },
 "nbformat": 4,
 "nbformat_minor": 4
}
