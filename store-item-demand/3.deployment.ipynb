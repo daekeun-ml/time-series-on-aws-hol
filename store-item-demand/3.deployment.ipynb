{
 "cells": [
  {
   "cell_type": "markdown",
   "metadata": {},
   "source": [
    "# Module 3. Deployment on MMS(Multi Model Server)\n",
    "---\n",
    "\n",
    "본 모듈에서는 모델의 배포(deployment)를 수행합니다. 노트북 실행에는 약 15분 가량 소요되며, 핸즈온 실습 시에는 25분을 권장드립니다.\n",
    "\n",
    "<br>\n",
    "\n",
    "## 1. Inference script\n",
    "---\n",
    "\n",
    "아래 코드 셀은 `src` 디렉토리에 SageMaker 추론 스크립트인 `inference.py`를 저장합니다.<br>\n",
    "\n",
    "이 스크립트는 SageMaker 상에서 MMS(Multi Model Server)를 쉽고 편하게 배포할 수 이는 high-level 툴킷인 SageMaker inference toolkit의 인터페이스를\n",
    "사용하고 있으며, 여러분께서는 인터페이스에 정의된 핸들러(handler) 함수들만 구현하시면 됩니다.\n",
    "\n",
    "#### MMS(Multi Model Server)란?\n",
    "- [https://github.com/awslabs/multi-model-server](https://github.com/awslabs/multi-model-server) (2017년 12월 초 MXNet 1.0 릴리스 시 최초 공개, MXNet용 모델 서버로 시작)\n",
    "- Prerequisites: Java 8, MXNet (단, MXNet 사용 시에만)\n",
    "- MMS는 프레임워크에 구애받지 않도록 설계되었기 때문에, 모든 프레임워크의 백엔드 엔진 역할을 할 수 있는 충분한 유연성을 제공합니다.\n",
    "- SageMaker MXNet 추론 컨테이너는 SageMaker inference toolkit으로 MMS를 래핑하여 사용합니다."
   ]
  },
  {
   "cell_type": "code",
   "execution_count": 1,
   "metadata": {},
   "outputs": [],
   "source": [
    "%load_ext autoreload\n",
    "%autoreload 2"
   ]
  },
  {
   "cell_type": "code",
   "execution_count": 16,
   "metadata": {},
   "outputs": [
    {
     "name": "stdout",
     "output_type": "stream",
     "text": [
      "Overwriting ./src/inference.py\n"
     ]
    }
   ],
   "source": [
    "%%writefile ./src/inference.py\n",
    "\n",
    "import os\n",
    "import pandas as pd\n",
    "import gluonts \n",
    "import numpy as np\n",
    "import argparse\n",
    "import json\n",
    "import pathlib\n",
    "from mxnet import gpu, cpu\n",
    "from mxnet.context import num_gpus\n",
    "import matplotlib.pyplot as plt\n",
    "\n",
    "from gluonts.dataset.util import to_pandas\n",
    "from gluonts.mx.distribution import DistributionOutput, StudentTOutput, NegativeBinomialOutput, GaussianOutput\n",
    "from gluonts.model.deepar import DeepAREstimator\n",
    "from gluonts.mx.trainer import Trainer\n",
    "from gluonts.evaluation import Evaluator\n",
    "from gluonts.evaluation.backtest import make_evaluation_predictions, backtest_metrics\n",
    "from gluonts.model.predictor import Predictor\n",
    "from gluonts.dataset.field_names import FieldName\n",
    "from gluonts.dataset.common import ListDataset\n",
    "\n",
    "\n",
    "def model_fn(model_dir):\n",
    "    path = pathlib.Path(model_dir)   \n",
    "    predictor = Predictor.deserialize(path)\n",
    "    print(\"model was loaded successfully\")\n",
    "    return predictor\n",
    "\n",
    "\n",
    "def transform_fn(model, request_body, content_type='application/json', accept_type='application/json'):\n",
    "\n",
    "    data = json.loads(request_body)\n",
    "    target_test_df = pd.DataFrame(data['value'], index=data['timestamp'])\n",
    "        \n",
    "    target = target_test_df.values\n",
    "    num_series = target_test_df.shape[1]\n",
    "    start_dt = target_test_df.index[0]\n",
    "    print(f\"num_series: {num_series}, start_dt: {start_dt}\")\n",
    "    test_lst = []\n",
    "    \n",
    "    for i in range(0, num_series):\n",
    "        target_vec = target[:, i]\n",
    "        dic = {FieldName.TARGET: target_vec, \n",
    "               FieldName.START: start_dt} \n",
    "        test_lst.append(dic)\n",
    "        \n",
    "    print(\"test_lst: \\n\", test_lst)\n",
    "    test_ds = ListDataset(test_lst, freq='1D')\n",
    "\n",
    "    \n",
    "    response_body = {}\n",
    "    forecast_it = model.predict(test_ds)\n",
    "    for idx, f in enumerate(forecast_it):\n",
    "        response_body[f'item_{idx}'] = f.samples.mean(axis=0).tolist()\n",
    "\n",
    "    return json.dumps(response_body)"
   ]
  },
  {
   "cell_type": "markdown",
   "metadata": {},
   "source": [
    "<br>\n",
    "\n",
    "## 2. Test Inference code \n",
    "---\n",
    "\n",
    "엔드포인트 배포 전, 추론 스크립트를 검증합니다. "
   ]
  },
  {
   "cell_type": "code",
   "execution_count": 17,
   "metadata": {},
   "outputs": [],
   "source": [
    "%store -r"
   ]
  },
  {
   "cell_type": "markdown",
   "metadata": {},
   "source": [
    "### 2.1. 테스트 데이터 준비"
   ]
  },
  {
   "cell_type": "code",
   "execution_count": 18,
   "metadata": {},
   "outputs": [
    {
     "name": "stdout",
     "output_type": "stream",
     "text": [
      "request_body: \n",
      " {\"value\": [[12.7, 35.6, 26.1], [17.3, 45.8, 24.8], [17.7, 49.4, 29.4], [16.2, 47.7, 29.7], [19.1, 55.4, 33.6], [23.4, 58.1, 36.3], [22.4, 57.4, 38.4], [15.0, 41.3, 26.0], [17.3, 41.4, 28.3], [16.2, 48.6, 28.7], [18.9, 49.0, 31.5], [19.8, 56.4, 35.3], [21.3, 56.9, 36.6], [21.5, 60.0, 36.6], [15.8, 37.5, 28.1], [16.2, 42.2, 30.4], [16.5, 44.0, 28.6], [17.8, 48.8, 31.4], [19.7, 54.7, 35.8], [19.0, 57.0, 33.1], [23.4, 55.5, 34.2], [13.6, 42.8, 24.6], [16.5, 49.8, 30.0], [15.4, 50.0, 28.2], [17.8, 49.5, 29.8], [20.7, 51.5, 33.2], [23.6, 53.8, 34.2], [22.7, 63.4, 40.2]], \"timestamp\": [\"2017-12-04\", \"2017-12-05\", \"2017-12-06\", \"2017-12-07\", \"2017-12-08\", \"2017-12-09\", \"2017-12-10\", \"2017-12-11\", \"2017-12-12\", \"2017-12-13\", \"2017-12-14\", \"2017-12-15\", \"2017-12-16\", \"2017-12-17\", \"2017-12-18\", \"2017-12-19\", \"2017-12-20\", \"2017-12-21\", \"2017-12-22\", \"2017-12-23\", \"2017-12-24\", \"2017-12-25\", \"2017-12-26\", \"2017-12-27\", \"2017-12-28\", \"2017-12-29\", \"2017-12-30\", \"2017-12-31\"]}\n"
     ]
    }
   ],
   "source": [
    "from src.inference import model_fn, transform_fn\n",
    "import json\n",
    "import numpy as np\n",
    "import pandas as pd\n",
    "\n",
    "# Prepare test data\n",
    "target_test_df = pd.read_csv(\"data/target_train.csv\")\n",
    "target_test_df.set_index(target_test_df.columns[0], inplace=True)\n",
    "\n",
    "\n",
    "num_series = 3\n",
    "pred_length = 28\n",
    "target_test_df = target_test_df.iloc[-pred_length:,:num_series]\n",
    "input_data = {'value': target_test_df.values.tolist(), \n",
    "              'timestamp': target_test_df.index.tolist()}\n",
    "\n",
    "\n",
    "# print(\"input_data: \\n\", input_data)\n",
    "\n",
    "request_body = json.dumps(input_data)\n",
    "\n",
    "print(\"request_body: \\n\", request_body)\n",
    "\n"
   ]
  },
  {
   "cell_type": "markdown",
   "metadata": {},
   "source": [
    "### 2.2. 모델 로딩 함수 테스트"
   ]
  },
  {
   "cell_type": "code",
   "execution_count": 19,
   "metadata": {},
   "outputs": [
    {
     "name": "stdout",
     "output_type": "stream",
     "text": [
      "model was loaded successfully\n"
     ]
    }
   ],
   "source": [
    "# Test inference script \n",
    "model = model_fn('./model')\n"
   ]
  },
  {
   "cell_type": "markdown",
   "metadata": {},
   "source": [
    "### 2.3. 모델 추론 함수 테스트"
   ]
  },
  {
   "cell_type": "code",
   "execution_count": 21,
   "metadata": {},
   "outputs": [
    {
     "name": "stdout",
     "output_type": "stream",
     "text": [
      "num_series: 3, start_dt: 2017-12-04\n",
      "test_lst: \n",
      " [{'target': array([12.7, 17.3, 17.7, 16.2, 19.1, 23.4, 22.4, 15. , 17.3, 16.2, 18.9,\n",
      "       19.8, 21.3, 21.5, 15.8, 16.2, 16.5, 17.8, 19.7, 19. , 23.4, 13.6,\n",
      "       16.5, 15.4, 17.8, 20.7, 23.6, 22.7]), 'start': '2017-12-04'}, {'target': array([35.6, 45.8, 49.4, 47.7, 55.4, 58.1, 57.4, 41.3, 41.4, 48.6, 49. ,\n",
      "       56.4, 56.9, 60. , 37.5, 42.2, 44. , 48.8, 54.7, 57. , 55.5, 42.8,\n",
      "       49.8, 50. , 49.5, 51.5, 53.8, 63.4]), 'start': '2017-12-04'}, {'target': array([26.1, 24.8, 29.4, 29.7, 33.6, 36.3, 38.4, 26. , 28.3, 28.7, 31.5,\n",
      "       35.3, 36.6, 36.6, 28.1, 30.4, 28.6, 31.4, 35.8, 33.1, 34.2, 24.6,\n",
      "       30. , 28.2, 29.8, 33.2, 34.2, 40.2]), 'start': '2017-12-04'}]\n"
     ]
    }
   ],
   "source": [
    "response = transform_fn(model, request_body)\n"
   ]
  },
  {
   "cell_type": "code",
   "execution_count": 24,
   "metadata": {},
   "outputs": [
    {
     "name": "stdout",
     "output_type": "stream",
     "text": [
      "[16.444486618041992, 19.705787658691406, 19.8192081451416, 21.79358673095703, 23.132600784301758, 24.98563003540039, 25.902881622314453, 17.588369369506836, 20.195985794067383, 20.150680541992188, 21.783811569213867, 22.881406784057617, 24.798629760742188, 25.934206008911133, 17.154808044433594, 19.984914779663086, 19.66559600830078, 21.007383346557617, 22.369077682495117, 23.784221649169922, 25.097583770751953, 16.612205505371094, 19.1953067779541, 18.974210739135742, 20.82592010498047, 21.745948791503906, 23.698139190673828, 24.192283630371094]\n"
     ]
    }
   ],
   "source": [
    "outputs = json.loads(response)\n",
    "print(outputs['item_0'])"
   ]
  },
  {
   "cell_type": "markdown",
   "metadata": {},
   "source": [
    "<br>\n",
    "\n",
    "## 3. Local Endpoint Inference\n",
    "---\n",
    "\n",
    "충분한 검증 및 테스트 없이 훈련된 모델을 곧바로 실제 운영 환경에 배포하기에는 많은 위험 요소들이 있습니다. 따라서, 로컬 모드를 사용하여 실제 운영 환경에 배포하기 위한 추론 인스턴스를 시작하기 전에 노트북 인스턴스의 로컬 환경에서 모델을 배포하는 것을 권장합니다. 이를 로컬 모드 엔드포인트(Local Mode Endpoint)라고 합니다."
   ]
  },
  {
   "cell_type": "code",
   "execution_count": 25,
   "metadata": {},
   "outputs": [],
   "source": [
    "import os\n",
    "import time\n",
    "import sagemaker\n",
    "from sagemaker.mxnet import MXNetModel\n",
    "role = sagemaker.get_execution_role()"
   ]
  },
  {
   "cell_type": "code",
   "execution_count": 26,
   "metadata": {},
   "outputs": [],
   "source": [
    "local_model_path = f'file://{os.getcwd()}/model/model.tar.gz'\n",
    "endpoint_name = \"local-endpoint-store-item-demand-forecast-{}\".format(int(time.time()))"
   ]
  },
  {
   "cell_type": "markdown",
   "metadata": {},
   "source": [
    "\n",
    "아래 코드 셀을 실행 후, 로그를 확인해 보세요. MMS에 대한 세팅값들을 확인하실 수 있습니다.\n",
    "\n",
    "```bash\n",
    "algo-1-u3xwd_1  | MMS Home: /usr/local/lib/python3.6/site-packages\n",
    "algo-1-u3xwd_1  | Current directory: /\n",
    "algo-1-u3xwd_1  | Temp directory: /home/model-server/tmp\n",
    "algo-1-u3xwd_1  | Number of GPUs: 0\n",
    "algo-1-u3xwd_1  | Number of CPUs: 2\n",
    "algo-1-u3xwd_1  | Max heap size: 878 M\n",
    "algo-1-u3xwd_1  | Python executable: /usr/local/bin/python3.6\n",
    "algo-1-u3xwd_1  | Config file: /etc/sagemaker-mms.properties\n",
    "algo-1-u3xwd_1  | Inference address: http://0.0.0.0:8080\n",
    "algo-1-u3xwd_1  | Management address: http://0.0.0.0:8080\n",
    "algo-1-u3xwd_1  | Model Store: /.sagemaker/mms/models\n",
    "...\n",
    "```"
   ]
  },
  {
   "cell_type": "code",
   "execution_count": 27,
   "metadata": {},
   "outputs": [
    {
     "name": "stdout",
     "output_type": "stream",
     "text": [
      "Attaching to p5ye4je5hi-algo-1-8mv2q\n",
      "\u001b[36mp5ye4je5hi-algo-1-8mv2q |\u001b[0m Collecting pandas==1.1.5\n",
      "\u001b[36mp5ye4je5hi-algo-1-8mv2q |\u001b[0m   Downloading pandas-1.1.5-cp36-cp36m-manylinux1_x86_64.whl (9.5 MB)\n",
      "\u001b[K     |████████████████████████████████| 9.5 MB 22.4 MB/s eta 0:00:01\n",
      "\u001b[36mp5ye4je5hi-algo-1-8mv2q |\u001b[0m \u001b[?25hCollecting gluonts==0.6.7\n",
      "\u001b[36mp5ye4je5hi-algo-1-8mv2q |\u001b[0m   Downloading gluonts-0.6.7-py3-none-any.whl (569 kB)\n",
      "\u001b[K     |████████████████████████████████| 569 kB 60.3 MB/s eta 0:00:01\n",
      "\u001b[36mp5ye4je5hi-algo-1-8mv2q |\u001b[0m \u001b[?25hCollecting toolz~=0.10\n",
      "\u001b[36mp5ye4je5hi-algo-1-8mv2q |\u001b[0m   Downloading toolz-0.12.0-py3-none-any.whl (55 kB)\n",
      "\u001b[K     |████████████████████████████████| 55 kB 7.2 MB/s  eta 0:00:01\n",
      "\u001b[36mp5ye4je5hi-algo-1-8mv2q |\u001b[0m \u001b[?25hRequirement already satisfied: numpy~=1.16 in /usr/local/lib/python3.6/site-packages (from gluonts==0.6.7->-r /opt/ml/model/code/requirements.txt (line 2)) (1.17.4)\n",
      "\u001b[36mp5ye4je5hi-algo-1-8mv2q |\u001b[0m Collecting holidays>=0.9\n",
      "\u001b[36mp5ye4je5hi-algo-1-8mv2q |\u001b[0m   Downloading holidays-0.13-py3-none-any.whl (172 kB)\n",
      "\u001b[K     |████████████████████████████████| 172 kB 65.2 MB/s eta 0:00:01\n",
      "\u001b[36mp5ye4je5hi-algo-1-8mv2q |\u001b[0m \u001b[?25hCollecting ujson~=1.35\n",
      "\u001b[36mp5ye4je5hi-algo-1-8mv2q |\u001b[0m   Downloading ujson-1.35.tar.gz (192 kB)\n",
      "\u001b[K     |████████████████████████████████| 192 kB 63.7 MB/s eta 0:00:01\n",
      "\u001b[36mp5ye4je5hi-algo-1-8mv2q |\u001b[0m \u001b[?25hRequirement already satisfied: matplotlib~=3.0 in /usr/local/lib/python3.6/site-packages (from gluonts==0.6.7->-r /opt/ml/model/code/requirements.txt (line 2)) (3.3.4)\n",
      "\u001b[36mp5ye4je5hi-algo-1-8mv2q |\u001b[0m Collecting pydantic<1.7,~=1.1\n",
      "\u001b[36mp5ye4je5hi-algo-1-8mv2q |\u001b[0m   Downloading pydantic-1.6.2-cp36-cp36m-manylinux2014_x86_64.whl (8.7 MB)\n",
      "\u001b[K     |████████████████████████████████| 8.7 MB 57.8 MB/s eta 0:00:01\n",
      "\u001b[36mp5ye4je5hi-algo-1-8mv2q |\u001b[0m \u001b[?25hRequirement already satisfied: tqdm~=4.23 in /usr/local/lib/python3.6/site-packages (from gluonts==0.6.7->-r /opt/ml/model/code/requirements.txt (line 2)) (4.58.0)\n",
      "\u001b[36mp5ye4je5hi-algo-1-8mv2q |\u001b[0m Collecting pytz>=2017.2\n",
      "\u001b[36mp5ye4je5hi-algo-1-8mv2q |\u001b[0m   Downloading pytz-2022.1-py2.py3-none-any.whl (503 kB)\n",
      "\u001b[K     |████████████████████████████████| 503 kB 60.2 MB/s eta 0:00:01\n",
      "\u001b[36mp5ye4je5hi-algo-1-8mv2q |\u001b[0m \u001b[?25hRequirement already satisfied: python-dateutil>=2.7.3 in /usr/local/lib/python3.6/site-packages (from pandas==1.1.5->-r /opt/ml/model/code/requirements.txt (line 1)) (2.8.1)\n",
      "\u001b[36mp5ye4je5hi-algo-1-8mv2q |\u001b[0m Collecting korean-lunar-calendar\n",
      "\u001b[36mp5ye4je5hi-algo-1-8mv2q |\u001b[0m   Downloading korean_lunar_calendar-0.2.1-py3-none-any.whl (8.0 kB)\n",
      "\u001b[36mp5ye4je5hi-algo-1-8mv2q |\u001b[0m Collecting hijri-converter\n",
      "\u001b[36mp5ye4je5hi-algo-1-8mv2q |\u001b[0m   Downloading hijri_converter-2.2.4-py3-none-any.whl (14 kB)\n",
      "\u001b[36mp5ye4je5hi-algo-1-8mv2q |\u001b[0m Collecting convertdate>=2.3.0\n",
      "\u001b[36mp5ye4je5hi-algo-1-8mv2q |\u001b[0m   Downloading convertdate-2.3.2-py3-none-any.whl (47 kB)\n",
      "\u001b[K     |████████████████████████████████| 47 kB 8.3 MB/s  eta 0:00:01\n",
      "\u001b[36mp5ye4je5hi-algo-1-8mv2q |\u001b[0m \u001b[?25hCollecting pymeeus<=1,>=0.3.13\n",
      "\u001b[36mp5ye4je5hi-algo-1-8mv2q |\u001b[0m   Downloading PyMeeus-0.5.11.tar.gz (5.4 MB)\n",
      "\u001b[K     |████████████████████████████████| 5.4 MB 62.6 MB/s eta 0:00:01\n",
      "\u001b[36mp5ye4je5hi-algo-1-8mv2q |\u001b[0m \u001b[?25hRequirement already satisfied: pyparsing!=2.0.4,!=2.1.2,!=2.1.6,>=2.0.3 in /usr/local/lib/python3.6/site-packages (from matplotlib~=3.0->gluonts==0.6.7->-r /opt/ml/model/code/requirements.txt (line 2)) (2.4.7)\n",
      "\u001b[36mp5ye4je5hi-algo-1-8mv2q |\u001b[0m Requirement already satisfied: pillow>=6.2.0 in /usr/local/lib/python3.6/site-packages (from matplotlib~=3.0->gluonts==0.6.7->-r /opt/ml/model/code/requirements.txt (line 2)) (8.1.1)\n",
      "\u001b[36mp5ye4je5hi-algo-1-8mv2q |\u001b[0m Requirement already satisfied: cycler>=0.10 in /usr/local/lib/python3.6/site-packages (from matplotlib~=3.0->gluonts==0.6.7->-r /opt/ml/model/code/requirements.txt (line 2)) (0.10.0)\n",
      "\u001b[36mp5ye4je5hi-algo-1-8mv2q |\u001b[0m Requirement already satisfied: kiwisolver>=1.0.1 in /usr/local/lib/python3.6/site-packages (from matplotlib~=3.0->gluonts==0.6.7->-r /opt/ml/model/code/requirements.txt (line 2)) (1.3.1)\n",
      "\u001b[36mp5ye4je5hi-algo-1-8mv2q |\u001b[0m Requirement already satisfied: six in /usr/local/lib/python3.6/site-packages (from cycler>=0.10->matplotlib~=3.0->gluonts==0.6.7->-r /opt/ml/model/code/requirements.txt (line 2)) (1.15.0)\n",
      "\u001b[36mp5ye4je5hi-algo-1-8mv2q |\u001b[0m Collecting dataclasses>=0.6\n",
      "\u001b[36mp5ye4je5hi-algo-1-8mv2q |\u001b[0m   Downloading dataclasses-0.8-py3-none-any.whl (19 kB)\n",
      "\u001b[36mp5ye4je5hi-algo-1-8mv2q |\u001b[0m Using legacy 'setup.py install' for pymeeus, since package 'wheel' is not installed.\n",
      "\u001b[36mp5ye4je5hi-algo-1-8mv2q |\u001b[0m Using legacy 'setup.py install' for ujson, since package 'wheel' is not installed.\n",
      "\u001b[36mp5ye4je5hi-algo-1-8mv2q |\u001b[0m Installing collected packages: pytz, pymeeus, korean-lunar-calendar, hijri-converter, dataclasses, convertdate, ujson, toolz, pydantic, pandas, holidays, gluonts\n",
      "\u001b[36mp5ye4je5hi-algo-1-8mv2q |\u001b[0m     Running setup.py install for pymeeus ... \u001b[?25ldone\n",
      "\u001b[36mp5ye4je5hi-algo-1-8mv2q |\u001b[0m \u001b[?25h    Running setup.py install for ujson ... \u001b[?25ldone\n",
      "\u001b[36mp5ye4je5hi-algo-1-8mv2q |\u001b[0m \u001b[?25hSuccessfully installed convertdate-2.3.2 dataclasses-0.8 gluonts-0.6.7 hijri-converter-2.2.4 holidays-0.13 korean-lunar-calendar-0.2.1 pandas-1.1.5 pydantic-1.6.2 pymeeus-0.5.11 pytz-2022.1 toolz-0.12.0 ujson-1.35\n",
      "\u001b[36mp5ye4je5hi-algo-1-8mv2q |\u001b[0m \u001b[33mWARNING: You are using pip version 21.0.1; however, version 21.3.1 is available.\n",
      "\u001b[36mp5ye4je5hi-algo-1-8mv2q |\u001b[0m You should consider upgrading via the '/usr/local/bin/python -m pip install --upgrade pip' command.\u001b[0m\n",
      "\u001b[36mp5ye4je5hi-algo-1-8mv2q |\u001b[0m Warning: Calling MMS with mxnet-model-server. Please move to multi-model-server.\n",
      "\u001b[36mp5ye4je5hi-algo-1-8mv2q |\u001b[0m 2022-07-17 08:26:26,817 [INFO ] main com.amazonaws.ml.mms.ModelServer - \n",
      "\u001b[36mp5ye4je5hi-algo-1-8mv2q |\u001b[0m MMS Home: /usr/local/lib/python3.6/site-packages\n",
      "\u001b[36mp5ye4je5hi-algo-1-8mv2q |\u001b[0m Current directory: /\n",
      "\u001b[36mp5ye4je5hi-algo-1-8mv2q |\u001b[0m Temp directory: /home/model-server/tmp\n",
      "\u001b[36mp5ye4je5hi-algo-1-8mv2q |\u001b[0m Number of GPUs: 0\n",
      "\u001b[36mp5ye4je5hi-algo-1-8mv2q |\u001b[0m Number of CPUs: 32\n",
      "\u001b[36mp5ye4je5hi-algo-1-8mv2q |\u001b[0m Max heap size: 27305 M\n",
      "\u001b[36mp5ye4je5hi-algo-1-8mv2q |\u001b[0m Python executable: /usr/local/bin/python3.6\n",
      "\u001b[36mp5ye4je5hi-algo-1-8mv2q |\u001b[0m Config file: /etc/sagemaker-mms.properties\n",
      "\u001b[36mp5ye4je5hi-algo-1-8mv2q |\u001b[0m Inference address: http://0.0.0.0:8080\n",
      "\u001b[36mp5ye4je5hi-algo-1-8mv2q |\u001b[0m Management address: http://0.0.0.0:8080\n",
      "\u001b[36mp5ye4je5hi-algo-1-8mv2q |\u001b[0m Model Store: /.sagemaker/mms/models\n",
      "\u001b[36mp5ye4je5hi-algo-1-8mv2q |\u001b[0m Initial Models: ALL\n",
      "\u001b[36mp5ye4je5hi-algo-1-8mv2q |\u001b[0m Log dir: /logs\n",
      "\u001b[36mp5ye4je5hi-algo-1-8mv2q |\u001b[0m Metrics dir: /logs\n",
      "\u001b[36mp5ye4je5hi-algo-1-8mv2q |\u001b[0m Netty threads: 0\n",
      "\u001b[36mp5ye4je5hi-algo-1-8mv2q |\u001b[0m Netty client threads: 0\n",
      "\u001b[36mp5ye4je5hi-algo-1-8mv2q |\u001b[0m Default workers per model: 32\n",
      "\u001b[36mp5ye4je5hi-algo-1-8mv2q |\u001b[0m Blacklist Regex: N/A\n",
      "\u001b[36mp5ye4je5hi-algo-1-8mv2q |\u001b[0m Maximum Response Size: 6553500\n",
      "\u001b[36mp5ye4je5hi-algo-1-8mv2q |\u001b[0m Maximum Request Size: 6553500\n",
      "\u001b[36mp5ye4je5hi-algo-1-8mv2q |\u001b[0m Preload model: false\n",
      "\u001b[36mp5ye4je5hi-algo-1-8mv2q |\u001b[0m Prefer direct buffer: false\n",
      "\u001b[36mp5ye4je5hi-algo-1-8mv2q |\u001b[0m 2022-07-17 08:26:26,894 [WARN ] W-9000-model com.amazonaws.ml.mms.wlm.WorkerLifeCycle - attachIOStreams() threadName=W-9000-model\n",
      "\u001b[36mp5ye4je5hi-algo-1-8mv2q |\u001b[0m 2022-07-17 08:26:27,009 [INFO ] W-9000-model-stdout com.amazonaws.ml.mms.wlm.WorkerLifeCycle - model_service_worker started with args: --sock-type unix --sock-name /home/model-server/tmp/.mms.sock.9000 --handler sagemaker_mxnet_serving_container.handler_service --model-path /.sagemaker/mms/models/model --model-name model --preload-model false --tmp-dir /home/model-server/tmp\n",
      "\u001b[36mp5ye4je5hi-algo-1-8mv2q |\u001b[0m 2022-07-17 08:26:27,010 [INFO ] W-9000-model-stdout com.amazonaws.ml.mms.wlm.WorkerLifeCycle - Listening on port: /home/model-server/tmp/.mms.sock.9000\n",
      "\u001b[36mp5ye4je5hi-algo-1-8mv2q |\u001b[0m 2022-07-17 08:26:27,010 [INFO ] W-9000-model-stdout com.amazonaws.ml.mms.wlm.WorkerLifeCycle - [PID] 194\n",
      "\u001b[36mp5ye4je5hi-algo-1-8mv2q |\u001b[0m 2022-07-17 08:26:27,010 [INFO ] W-9000-model-stdout com.amazonaws.ml.mms.wlm.WorkerLifeCycle - MMS worker started.\n",
      "\u001b[36mp5ye4je5hi-algo-1-8mv2q |\u001b[0m 2022-07-17 08:26:27,010 [INFO ] W-9000-model-stdout com.amazonaws.ml.mms.wlm.WorkerLifeCycle - Python runtime: 3.6.13\n",
      "\u001b[36mp5ye4je5hi-algo-1-8mv2q |\u001b[0m 2022-07-17 08:26:27,011 [INFO ] main com.amazonaws.ml.mms.wlm.ModelManager - Model model loaded.\n",
      "\u001b[36mp5ye4je5hi-algo-1-8mv2q |\u001b[0m 2022-07-17 08:26:27,019 [INFO ] main com.amazonaws.ml.mms.ModelServer - Initialize Inference server with: EpollServerSocketChannel.\n",
      "\u001b[36mp5ye4je5hi-algo-1-8mv2q |\u001b[0m 2022-07-17 08:26:27,027 [INFO ] W-9000-model com.amazonaws.ml.mms.wlm.WorkerThread - Connecting to: /home/model-server/tmp/.mms.sock.9000\n",
      "\u001b[36mp5ye4je5hi-algo-1-8mv2q |\u001b[0m 2022-07-17 08:26:27,028 [INFO ] W-9000-model com.amazonaws.ml.mms.wlm.WorkerThread - Connecting to: /home/model-server/tmp/.mms.sock.9000\n",
      "\u001b[36mp5ye4je5hi-algo-1-8mv2q |\u001b[0m 2022-07-17 08:26:27,028 [INFO ] W-9000-model com.amazonaws.ml.mms.wlm.WorkerThread - Connecting to: /home/model-server/tmp/.mms.sock.9000\n",
      "\u001b[36mp5ye4je5hi-algo-1-8mv2q |\u001b[0m 2022-07-17 08:26:27,028 [INFO ] W-9000-model com.amazonaws.ml.mms.wlm.WorkerThread - Connecting to: /home/model-server/tmp/.mms.sock.9000\n",
      "\u001b[36mp5ye4je5hi-algo-1-8mv2q |\u001b[0m 2022-07-17 08:26:27,028 [INFO ] W-9000-model com.amazonaws.ml.mms.wlm.WorkerThread - Connecting to: /home/model-server/tmp/.mms.sock.9000\n",
      "\u001b[36mp5ye4je5hi-algo-1-8mv2q |\u001b[0m 2022-07-17 08:26:27,028 [INFO ] W-9000-model com.amazonaws.ml.mms.wlm.WorkerThread - Connecting to: /home/model-server/tmp/.mms.sock.9000\n",
      "\u001b[36mp5ye4je5hi-algo-1-8mv2q |\u001b[0m 2022-07-17 08:26:27,028 [INFO ] W-9000-model com.amazonaws.ml.mms.wlm.WorkerThread - Connecting to: /home/model-server/tmp/.mms.sock.9000\n",
      "\u001b[36mp5ye4je5hi-algo-1-8mv2q |\u001b[0m 2022-07-17 08:26:27,028 [INFO ] W-9000-model com.amazonaws.ml.mms.wlm.WorkerThread - Connecting to: /home/model-server/tmp/.mms.sock.9000\n",
      "\u001b[36mp5ye4je5hi-algo-1-8mv2q |\u001b[0m 2022-07-17 08:26:27,028 [INFO ] W-9000-model com.amazonaws.ml.mms.wlm.WorkerThread - Connecting to: /home/model-server/tmp/.mms.sock.9000\n",
      "\u001b[36mp5ye4je5hi-algo-1-8mv2q |\u001b[0m 2022-07-17 08:26:27,028 [INFO ] W-9000-model com.amazonaws.ml.mms.wlm.WorkerThread - Connecting to: /home/model-server/tmp/.mms.sock.9000\n",
      "\u001b[36mp5ye4je5hi-algo-1-8mv2q |\u001b[0m 2022-07-17 08:26:27,028 [INFO ] W-9000-model com.amazonaws.ml.mms.wlm.WorkerThread - Connecting to: /home/model-server/tmp/.mms.sock.9000\n",
      "\u001b[36mp5ye4je5hi-algo-1-8mv2q |\u001b[0m 2022-07-17 08:26:27,028 [INFO ] W-9000-model com.amazonaws.ml.mms.wlm.WorkerThread - Connecting to: /home/model-server/tmp/.mms.sock.9000\n",
      "\u001b[36mp5ye4je5hi-algo-1-8mv2q |\u001b[0m 2022-07-17 08:26:27,028 [INFO ] W-9000-model com.amazonaws.ml.mms.wlm.WorkerThread - Connecting to: /home/model-server/tmp/.mms.sock.9000\n",
      "\u001b[36mp5ye4je5hi-algo-1-8mv2q |\u001b[0m 2022-07-17 08:26:27,028 [INFO ] W-9000-model com.amazonaws.ml.mms.wlm.WorkerThread - Connecting to: /home/model-server/tmp/.mms.sock.9000\n",
      "\u001b[36mp5ye4je5hi-algo-1-8mv2q |\u001b[0m 2022-07-17 08:26:27,027 [INFO ] W-9000-model com.amazonaws.ml.mms.wlm.WorkerThread - Connecting to: /home/model-server/tmp/.mms.sock.9000\n",
      "\u001b[36mp5ye4je5hi-algo-1-8mv2q |\u001b[0m 2022-07-17 08:26:27,028 [INFO ] W-9000-model com.amazonaws.ml.mms.wlm.WorkerThread - Connecting to: /home/model-server/tmp/.mms.sock.9000\n",
      "\u001b[36mp5ye4je5hi-algo-1-8mv2q |\u001b[0m 2022-07-17 08:26:27,027 [INFO ] W-9000-model com.amazonaws.ml.mms.wlm.WorkerThread - Connecting to: /home/model-server/tmp/.mms.sock.9000\n",
      "\u001b[36mp5ye4je5hi-algo-1-8mv2q |\u001b[0m 2022-07-17 08:26:27,027 [INFO ] W-9000-model com.amazonaws.ml.mms.wlm.WorkerThread - Connecting to: /home/model-server/tmp/.mms.sock.9000\n",
      "\u001b[36mp5ye4je5hi-algo-1-8mv2q |\u001b[0m 2022-07-17 08:26:27,028 [INFO ] W-9000-model com.amazonaws.ml.mms.wlm.WorkerThread - Connecting to: /home/model-server/tmp/.mms.sock.9000\n",
      "\u001b[36mp5ye4je5hi-algo-1-8mv2q |\u001b[0m 2022-07-17 08:26:27,028 [INFO ] W-9000-model com.amazonaws.ml.mms.wlm.WorkerThread - Connecting to: /home/model-server/tmp/.mms.sock.9000\n",
      "\u001b[36mp5ye4je5hi-algo-1-8mv2q |\u001b[0m 2022-07-17 08:26:27,027 [INFO ] W-9000-model com.amazonaws.ml.mms.wlm.WorkerThread - Connecting to: /home/model-server/tmp/.mms.sock.9000\n",
      "\u001b[36mp5ye4je5hi-algo-1-8mv2q |\u001b[0m 2022-07-17 08:26:27,028 [INFO ] W-9000-model com.amazonaws.ml.mms.wlm.WorkerThread - Connecting to: /home/model-server/tmp/.mms.sock.9000\n",
      "\u001b[36mp5ye4je5hi-algo-1-8mv2q |\u001b[0m 2022-07-17 08:26:27,028 [INFO ] W-9000-model com.amazonaws.ml.mms.wlm.WorkerThread - Connecting to: /home/model-server/tmp/.mms.sock.9000\n",
      "\u001b[36mp5ye4je5hi-algo-1-8mv2q |\u001b[0m 2022-07-17 08:26:27,027 [INFO ] W-9000-model com.amazonaws.ml.mms.wlm.WorkerThread - Connecting to: /home/model-server/tmp/.mms.sock.9000\n",
      "\u001b[36mp5ye4je5hi-algo-1-8mv2q |\u001b[0m 2022-07-17 08:26:27,027 [INFO ] W-9000-model com.amazonaws.ml.mms.wlm.WorkerThread - Connecting to: /home/model-server/tmp/.mms.sock.9000\n",
      "\u001b[36mp5ye4je5hi-algo-1-8mv2q |\u001b[0m 2022-07-17 08:26:27,028 [INFO ] W-9000-model com.amazonaws.ml.mms.wlm.WorkerThread - Connecting to: /home/model-server/tmp/.mms.sock.9000\n",
      "\u001b[36mp5ye4je5hi-algo-1-8mv2q |\u001b[0m 2022-07-17 08:26:27,027 [INFO ] W-9000-model com.amazonaws.ml.mms.wlm.WorkerThread - Connecting to: /home/model-server/tmp/.mms.sock.9000\n",
      "\u001b[36mp5ye4je5hi-algo-1-8mv2q |\u001b[0m 2022-07-17 08:26:27,028 [INFO ] W-9000-model com.amazonaws.ml.mms.wlm.WorkerThread - Connecting to: /home/model-server/tmp/.mms.sock.9000\n",
      "\u001b[36mp5ye4je5hi-algo-1-8mv2q |\u001b[0m 2022-07-17 08:26:27,028 [INFO ] W-9000-model com.amazonaws.ml.mms.wlm.WorkerThread - Connecting to: /home/model-server/tmp/.mms.sock.9000\n",
      "\u001b[36mp5ye4je5hi-algo-1-8mv2q |\u001b[0m 2022-07-17 08:26:27,028 [INFO ] W-9000-model com.amazonaws.ml.mms.wlm.WorkerThread - Connecting to: /home/model-server/tmp/.mms.sock.9000\n",
      "\u001b[36mp5ye4je5hi-algo-1-8mv2q |\u001b[0m 2022-07-17 08:26:27,028 [INFO ] W-9000-model com.amazonaws.ml.mms.wlm.WorkerThread - Connecting to: /home/model-server/tmp/.mms.sock.9000\n",
      "\u001b[36mp5ye4je5hi-algo-1-8mv2q |\u001b[0m 2022-07-17 08:26:27,028 [INFO ] W-9000-model com.amazonaws.ml.mms.wlm.WorkerThread - Connecting to: /home/model-server/tmp/.mms.sock.9000\n",
      "\u001b[36mp5ye4je5hi-algo-1-8mv2q |\u001b[0m 2022-07-17 08:26:27,112 [INFO ] main com.amazonaws.ml.mms.ModelServer - Inference API bind to: http://0.0.0.0:8080\n",
      "\u001b[36mp5ye4je5hi-algo-1-8mv2q |\u001b[0m Model server started.\n",
      "\u001b[36mp5ye4je5hi-algo-1-8mv2q |\u001b[0m 2022-07-17 08:26:27,114 [INFO ] W-9000-model-stdout com.amazonaws.ml.mms.wlm.WorkerLifeCycle - Connection accepted: /home/model-server/tmp/.mms.sock.9000.\n",
      "\u001b[36mp5ye4je5hi-algo-1-8mv2q |\u001b[0m 2022-07-17 08:26:27,117 [WARN ] pool-2-thread-1 com.amazonaws.ml.mms.metrics.MetricCollector - worker pid is not available yet.\n",
      "\u001b[36mp5ye4je5hi-algo-1-8mv2q |\u001b[0m 2022-07-17 08:26:27,117 [INFO ] W-9000-model-stdout com.amazonaws.ml.mms.wlm.WorkerLifeCycle - Connection accepted: /home/model-server/tmp/.mms.sock.9000.\n",
      "\u001b[36mp5ye4je5hi-algo-1-8mv2q |\u001b[0m 2022-07-17 08:26:27,118 [INFO ] W-9000-model-stdout com.amazonaws.ml.mms.wlm.WorkerLifeCycle - Connection accepted: /home/model-server/tmp/.mms.sock.9000.\n",
      "\u001b[36mp5ye4je5hi-algo-1-8mv2q |\u001b[0m 2022-07-17 08:26:27,120 [INFO ] W-9000-model-stdout com.amazonaws.ml.mms.wlm.WorkerLifeCycle - Connection accepted: /home/model-server/tmp/.mms.sock.9000.\n",
      "\u001b[36mp5ye4je5hi-algo-1-8mv2q |\u001b[0m 2022-07-17 08:26:27,121 [INFO ] W-9000-model-stdout com.amazonaws.ml.mms.wlm.WorkerLifeCycle - Connection accepted: /home/model-server/tmp/.mms.sock.9000.\n",
      "\u001b[36mp5ye4je5hi-algo-1-8mv2q |\u001b[0m 2022-07-17 08:26:27,123 [INFO ] W-9000-model-stdout com.amazonaws.ml.mms.wlm.WorkerLifeCycle - Connection accepted: /home/model-server/tmp/.mms.sock.9000.\n",
      "\u001b[36mp5ye4je5hi-algo-1-8mv2q |\u001b[0m 2022-07-17 08:26:27,124 [INFO ] W-9000-model-stdout com.amazonaws.ml.mms.wlm.WorkerLifeCycle - Connection accepted: /home/model-server/tmp/.mms.sock.9000.\n",
      "\u001b[36mp5ye4je5hi-algo-1-8mv2q |\u001b[0m 2022-07-17 08:26:27,125 [INFO ] W-9000-model-stdout com.amazonaws.ml.mms.wlm.WorkerLifeCycle - Connection accepted: /home/model-server/tmp/.mms.sock.9000.\n",
      "\u001b[36mp5ye4je5hi-algo-1-8mv2q |\u001b[0m 2022-07-17 08:26:27,127 [INFO ] W-9000-model-stdout com.amazonaws.ml.mms.wlm.WorkerLifeCycle - Connection accepted: /home/model-server/tmp/.mms.sock.9000.\n",
      "\u001b[36mp5ye4je5hi-algo-1-8mv2q |\u001b[0m 2022-07-17 08:26:27,128 [INFO ] W-9000-model-stdout com.amazonaws.ml.mms.wlm.WorkerLifeCycle - Connection accepted: /home/model-server/tmp/.mms.sock.9000.\n",
      "\u001b[36mp5ye4je5hi-algo-1-8mv2q |\u001b[0m 2022-07-17 08:26:27,130 [INFO ] W-9000-model-stdout com.amazonaws.ml.mms.wlm.WorkerLifeCycle - Connection accepted: /home/model-server/tmp/.mms.sock.9000.\n",
      "\u001b[36mp5ye4je5hi-algo-1-8mv2q |\u001b[0m 2022-07-17 08:26:27,131 [INFO ] W-9000-model-stdout com.amazonaws.ml.mms.wlm.WorkerLifeCycle - Connection accepted: /home/model-server/tmp/.mms.sock.9000.\n",
      "\u001b[36mp5ye4je5hi-algo-1-8mv2q |\u001b[0m 2022-07-17 08:26:27,132 [INFO ] W-9000-model-stdout com.amazonaws.ml.mms.wlm.WorkerLifeCycle - Connection accepted: /home/model-server/tmp/.mms.sock.9000.\n",
      "\u001b[36mp5ye4je5hi-algo-1-8mv2q |\u001b[0m 2022-07-17 08:26:27,134 [INFO ] W-9000-model-stdout com.amazonaws.ml.mms.wlm.WorkerLifeCycle - Connection accepted: /home/model-server/tmp/.mms.sock.9000.\n",
      "\u001b[36mp5ye4je5hi-algo-1-8mv2q |\u001b[0m 2022-07-17 08:26:27,136 [INFO ] W-9000-model-stdout com.amazonaws.ml.mms.wlm.WorkerLifeCycle - Connection accepted: /home/model-server/tmp/.mms.sock.9000.\n",
      "\u001b[36mp5ye4je5hi-algo-1-8mv2q |\u001b[0m 2022-07-17 08:26:27,137 [INFO ] W-9000-model-stdout com.amazonaws.ml.mms.wlm.WorkerLifeCycle - Connection accepted: /home/model-server/tmp/.mms.sock.9000.\n",
      "\u001b[36mp5ye4je5hi-algo-1-8mv2q |\u001b[0m 2022-07-17 08:26:27,138 [INFO ] W-9000-model-stdout com.amazonaws.ml.mms.wlm.WorkerLifeCycle - Connection accepted: /home/model-server/tmp/.mms.sock.9000.\n",
      "\u001b[36mp5ye4je5hi-algo-1-8mv2q |\u001b[0m 2022-07-17 08:26:27,140 [INFO ] W-9000-model-stdout com.amazonaws.ml.mms.wlm.WorkerLifeCycle - Connection accepted: /home/model-server/tmp/.mms.sock.9000.\n",
      "\u001b[36mp5ye4je5hi-algo-1-8mv2q |\u001b[0m 2022-07-17 08:26:27,141 [INFO ] W-9000-model-stdout com.amazonaws.ml.mms.wlm.WorkerLifeCycle - Connection accepted: /home/model-server/tmp/.mms.sock.9000.\n",
      "\u001b[36mp5ye4je5hi-algo-1-8mv2q |\u001b[0m 2022-07-17 08:26:27,143 [INFO ] W-9000-model-stdout com.amazonaws.ml.mms.wlm.WorkerLifeCycle - Connection accepted: /home/model-server/tmp/.mms.sock.9000.\n",
      "\u001b[36mp5ye4je5hi-algo-1-8mv2q |\u001b[0m 2022-07-17 08:26:27,144 [INFO ] W-9000-model-stdout com.amazonaws.ml.mms.wlm.WorkerLifeCycle - Connection accepted: /home/model-server/tmp/.mms.sock.9000.\n",
      "\u001b[36mp5ye4je5hi-algo-1-8mv2q |\u001b[0m 2022-07-17 08:26:27,146 [INFO ] W-9000-model-stdout com.amazonaws.ml.mms.wlm.WorkerLifeCycle - Connection accepted: /home/model-server/tmp/.mms.sock.9000.\n",
      "\u001b[36mp5ye4je5hi-algo-1-8mv2q |\u001b[0m 2022-07-17 08:26:27,147 [INFO ] W-9000-model-stdout com.amazonaws.ml.mms.wlm.WorkerLifeCycle - Connection accepted: /home/model-server/tmp/.mms.sock.9000.\n",
      "\u001b[36mp5ye4je5hi-algo-1-8mv2q |\u001b[0m 2022-07-17 08:26:27,194 [INFO ] W-9000-model-stdout com.amazonaws.ml.mms.wlm.WorkerLifeCycle - Connection accepted: /home/model-server/tmp/.mms.sock.9000.\n",
      "\u001b[36mp5ye4je5hi-algo-1-8mv2q |\u001b[0m 2022-07-17 08:26:27,194 [INFO ] W-9000-model-stdout com.amazonaws.ml.mms.wlm.WorkerLifeCycle - Connection accepted: /home/model-server/tmp/.mms.sock.9000.\n",
      "\u001b[36mp5ye4je5hi-algo-1-8mv2q |\u001b[0m 2022-07-17 08:26:27,195 [INFO ] W-9000-model-stdout com.amazonaws.ml.mms.wlm.WorkerLifeCycle - Connection accepted: /home/model-server/tmp/.mms.sock.9000.\n",
      "\u001b[36mp5ye4je5hi-algo-1-8mv2q |\u001b[0m 2022-07-17 08:26:27,195 [INFO ] W-9000-model-stdout com.amazonaws.ml.mms.wlm.WorkerLifeCycle - Connection accepted: /home/model-server/tmp/.mms.sock.9000.\n",
      "\u001b[36mp5ye4je5hi-algo-1-8mv2q |\u001b[0m 2022-07-17 08:26:27,195 [INFO ] W-9000-model-stdout com.amazonaws.ml.mms.wlm.WorkerLifeCycle - Connection accepted: /home/model-server/tmp/.mms.sock.9000.\n",
      "\u001b[36mp5ye4je5hi-algo-1-8mv2q |\u001b[0m 2022-07-17 08:26:27,195 [INFO ] W-9000-model-stdout com.amazonaws.ml.mms.wlm.WorkerLifeCycle - Connection accepted: /home/model-server/tmp/.mms.sock.9000.\n",
      "\u001b[36mp5ye4je5hi-algo-1-8mv2q |\u001b[0m 2022-07-17 08:26:27,195 [INFO ] W-9000-model-stdout com.amazonaws.ml.mms.wlm.WorkerLifeCycle - Connection accepted: /home/model-server/tmp/.mms.sock.9000.\n",
      "\u001b[36mp5ye4je5hi-algo-1-8mv2q |\u001b[0m 2022-07-17 08:26:27,195 [INFO ] W-9000-model-stdout com.amazonaws.ml.mms.wlm.WorkerLifeCycle - Connection accepted: /home/model-server/tmp/.mms.sock.9000.\n",
      "\u001b[36mp5ye4je5hi-algo-1-8mv2q |\u001b[0m 2022-07-17 08:26:27,196 [INFO ] W-9000-model-stdout com.amazonaws.ml.mms.wlm.WorkerLifeCycle - Connection accepted: /home/model-server/tmp/.mms.sock.9000.\n",
      "\u001b[36mp5ye4je5hi-algo-1-8mv2q |\u001b[0m 2022-07-17 08:26:27,697 [INFO ] pool-1-thread-34 ACCESS_LOG - /172.18.0.1:37484 \"GET /ping HTTP/1.1\" 200 23\n",
      "!"
     ]
    }
   ],
   "source": [
    "local_model = MXNetModel(model_data=local_model_path,\n",
    "                         role=role,\n",
    "                         source_dir='src',\n",
    "                         entry_point='inference.py',\n",
    "                         framework_version='1.6.0',\n",
    "                         py_version='py3')\n",
    "\n",
    "predictor = local_model.deploy(instance_type='local', \n",
    "                           initial_instance_count=1, \n",
    "                           endpoint_name=endpoint_name,\n",
    "                           wait=True)"
   ]
  },
  {
   "cell_type": "markdown",
   "metadata": {},
   "source": [
    "로컬에서 컨테이너를 배포했기 때문에 컨테이너가 현재 실행 중임을 확인할 수 있습니다."
   ]
  },
  {
   "cell_type": "code",
   "execution_count": 28,
   "metadata": {},
   "outputs": [
    {
     "name": "stdout",
     "output_type": "stream",
     "text": [
      "CONTAINER ID   IMAGE                                                                        COMMAND                  CREATED          STATUS          PORTS                                                 NAMES\n",
      "cd80da375711   763104351884.dkr.ecr.us-east-1.amazonaws.com/mxnet-inference:1.6.0-cpu-py3   \"python /usr/local/b…\"   15 seconds ago   Up 14 seconds   0.0.0.0:8080->8080/tcp, :::8080->8080/tcp, 8081/tcp   p5ye4je5hi-algo-1-8mv2q\n",
      "\u001b[36mp5ye4je5hi-algo-1-8mv2q |\u001b[0m 2022-07-17 08:26:30,525 [INFO ] W-9000-model-stdout com.amazonaws.ml.mms.wlm.WorkerLifeCycle - Generating new fontManager, this may take some time...\n",
      "\u001b[36mp5ye4je5hi-algo-1-8mv2q |\u001b[0m 2022-07-17 08:26:30,531 [INFO ] W-9000-model-stdout com.amazonaws.ml.mms.wlm.WorkerLifeCycle - Generating new fontManager, this may take some time...\n",
      "\u001b[36mp5ye4je5hi-algo-1-8mv2q |\u001b[0m 2022-07-17 08:26:30,540 [INFO ] W-9000-model-stdout com.amazonaws.ml.mms.wlm.WorkerLifeCycle - Generating new fontManager, this may take some time...\n",
      "\u001b[36mp5ye4je5hi-algo-1-8mv2q |\u001b[0m 2022-07-17 08:26:30,560 [INFO ] W-9000-model-stdout com.amazonaws.ml.mms.wlm.WorkerLifeCycle - Generating new fontManager, this may take some time...\n",
      "\u001b[36mp5ye4je5hi-algo-1-8mv2q |\u001b[0m 2022-07-17 08:26:30,601 [INFO ] W-9000-model-stdout com.amazonaws.ml.mms.wlm.WorkerLifeCycle - Generating new fontManager, this may take some time...\n",
      "\u001b[36mp5ye4je5hi-algo-1-8mv2q |\u001b[0m 2022-07-17 08:26:30,609 [INFO ] W-9000-model-stdout com.amazonaws.ml.mms.wlm.WorkerLifeCycle - Generating new fontManager, this may take some time...\n",
      "\u001b[36mp5ye4je5hi-algo-1-8mv2q |\u001b[0m 2022-07-17 08:26:30,616 [INFO ] W-9000-model-stdout com.amazonaws.ml.mms.wlm.WorkerLifeCycle - Generating new fontManager, this may take some time...\n",
      "\u001b[36mp5ye4je5hi-algo-1-8mv2q |\u001b[0m 2022-07-17 08:26:30,628 [INFO ] W-9000-model-stdout com.amazonaws.ml.mms.wlm.WorkerLifeCycle - Generating new fontManager, this may take some time...\n",
      "\u001b[36mp5ye4je5hi-algo-1-8mv2q |\u001b[0m 2022-07-17 08:26:30,634 [INFO ] W-9000-model-stdout com.amazonaws.ml.mms.wlm.WorkerLifeCycle - Generating new fontManager, this may take some time...\n",
      "\u001b[36mp5ye4je5hi-algo-1-8mv2q |\u001b[0m 2022-07-17 08:26:30,661 [INFO ] W-9000-model-stdout com.amazonaws.ml.mms.wlm.WorkerLifeCycle - Generating new fontManager, this may take some time...\n",
      "\u001b[36mp5ye4je5hi-algo-1-8mv2q |\u001b[0m 2022-07-17 08:26:30,665 [INFO ] W-9000-model-stdout com.amazonaws.ml.mms.wlm.WorkerLifeCycle - Generating new fontManager, this may take some time...\n",
      "\u001b[36mp5ye4je5hi-algo-1-8mv2q |\u001b[0m 2022-07-17 08:26:30,681 [INFO ] W-9000-model-stdout com.amazonaws.ml.mms.wlm.WorkerLifeCycle - Generating new fontManager, this may take some time...\n",
      "\u001b[36mp5ye4je5hi-algo-1-8mv2q |\u001b[0m 2022-07-17 08:26:30,687 [INFO ] W-9000-model-stdout com.amazonaws.ml.mms.wlm.WorkerLifeCycle - Generating new fontManager, this may take some time...\n",
      "\u001b[36mp5ye4je5hi-algo-1-8mv2q |\u001b[0m 2022-07-17 08:26:30,694 [INFO ] W-9000-model-stdout com.amazonaws.ml.mms.wlm.WorkerLifeCycle - Generating new fontManager, this may take some time...\n",
      "\u001b[36mp5ye4je5hi-algo-1-8mv2q |\u001b[0m 2022-07-17 08:26:30,701 [INFO ] W-9000-model-stdout com.amazonaws.ml.mms.wlm.WorkerLifeCycle - Generating new fontManager, this may take some time...\n",
      "\u001b[36mp5ye4je5hi-algo-1-8mv2q |\u001b[0m 2022-07-17 08:26:30,725 [INFO ] W-9000-model-stdout com.amazonaws.ml.mms.wlm.WorkerLifeCycle - Generating new fontManager, this may take some time...\n",
      "\u001b[36mp5ye4je5hi-algo-1-8mv2q |\u001b[0m 2022-07-17 08:26:30,726 [INFO ] W-9000-model-stdout com.amazonaws.ml.mms.wlm.WorkerLifeCycle - Generating new fontManager, this may take some time...\n",
      "\u001b[36mp5ye4je5hi-algo-1-8mv2q |\u001b[0m 2022-07-17 08:26:30,748 [INFO ] W-9000-model-stdout com.amazonaws.ml.mms.wlm.WorkerLifeCycle - Generating new fontManager, this may take some time...\n",
      "\u001b[36mp5ye4je5hi-algo-1-8mv2q |\u001b[0m 2022-07-17 08:26:30,756 [INFO ] W-9000-model-stdout com.amazonaws.ml.mms.wlm.WorkerLifeCycle - Generating new fontManager, this may take some time...\n",
      "\u001b[36mp5ye4je5hi-algo-1-8mv2q |\u001b[0m 2022-07-17 08:26:30,774 [INFO ] W-9000-model-stdout com.amazonaws.ml.mms.wlm.WorkerLifeCycle - Generating new fontManager, this may take some time...\n",
      "\u001b[36mp5ye4je5hi-algo-1-8mv2q |\u001b[0m 2022-07-17 08:26:30,787 [INFO ] W-9000-model-stdout com.amazonaws.ml.mms.wlm.WorkerLifeCycle - Generating new fontManager, this may take some time...\n",
      "\u001b[36mp5ye4je5hi-algo-1-8mv2q |\u001b[0m 2022-07-17 08:26:30,796 [INFO ] W-9000-model-stdout com.amazonaws.ml.mms.wlm.WorkerLifeCycle - Generating new fontManager, this may take some time...\n",
      "\u001b[36mp5ye4je5hi-algo-1-8mv2q |\u001b[0m 2022-07-17 08:26:30,799 [INFO ] W-9000-model-stdout com.amazonaws.ml.mms.wlm.WorkerLifeCycle - Generating new fontManager, this may take some time...\n",
      "\u001b[36mp5ye4je5hi-algo-1-8mv2q |\u001b[0m 2022-07-17 08:26:30,811 [INFO ] W-9000-model-stdout com.amazonaws.ml.mms.wlm.WorkerLifeCycle - Generating new fontManager, this may take some time...\n",
      "\u001b[36mp5ye4je5hi-algo-1-8mv2q |\u001b[0m 2022-07-17 08:26:30,830 [INFO ] W-9000-model-stdout com.amazonaws.ml.mms.wlm.WorkerLifeCycle - Generating new fontManager, this may take some time...\n",
      "\u001b[36mp5ye4je5hi-algo-1-8mv2q |\u001b[0m 2022-07-17 08:26:30,843 [INFO ] W-9000-model-stdout com.amazonaws.ml.mms.wlm.WorkerLifeCycle - Generating new fontManager, this may take some time...\n",
      "\u001b[36mp5ye4je5hi-algo-1-8mv2q |\u001b[0m 2022-07-17 08:26:30,847 [INFO ] W-9000-model-stdout com.amazonaws.ml.mms.wlm.WorkerLifeCycle - Generating new fontManager, this may take some time...\n",
      "\u001b[36mp5ye4je5hi-algo-1-8mv2q |\u001b[0m 2022-07-17 08:26:30,867 [INFO ] W-9000-model-stdout com.amazonaws.ml.mms.wlm.WorkerLifeCycle - Generating new fontManager, this may take some time...\n",
      "\u001b[36mp5ye4je5hi-algo-1-8mv2q |\u001b[0m 2022-07-17 08:26:30,870 [INFO ] W-9000-model-stdout com.amazonaws.ml.mms.wlm.WorkerLifeCycle - Generating new fontManager, this may take some time...\n",
      "\u001b[36mp5ye4je5hi-algo-1-8mv2q |\u001b[0m 2022-07-17 08:26:30,910 [INFO ] W-9000-model-stdout com.amazonaws.ml.mms.wlm.WorkerLifeCycle - Generating new fontManager, this may take some time...\n",
      "\u001b[36mp5ye4je5hi-algo-1-8mv2q |\u001b[0m 2022-07-17 08:26:30,927 [INFO ] W-9000-model-stdout com.amazonaws.ml.mms.wlm.WorkerLifeCycle - Generating new fontManager, this may take some time...\n",
      "\u001b[36mp5ye4je5hi-algo-1-8mv2q |\u001b[0m 2022-07-17 08:26:31,010 [INFO ] W-9000-model-stdout com.amazonaws.ml.mms.wlm.WorkerLifeCycle - Generating new fontManager, this may take some time...\n",
      "\u001b[36mp5ye4je5hi-algo-1-8mv2q |\u001b[0m 2022-07-17 08:26:31,713 [INFO ] W-9000-model-stdout com.amazonaws.ml.mms.wlm.WorkerLifeCycle - Using CPU\n",
      "\u001b[36mp5ye4je5hi-algo-1-8mv2q |\u001b[0m 2022-07-17 08:26:31,739 [INFO ] W-9000-model-stdout com.amazonaws.ml.mms.wlm.WorkerLifeCycle - model was loaded successfully\n",
      "\u001b[36mp5ye4je5hi-algo-1-8mv2q |\u001b[0m 2022-07-17 08:26:31,740 [INFO ] W-9000-model-stdout com.amazonaws.ml.mms.wlm.WorkerLifeCycle - Model model loaded io_fd=0242acfffe120002-00000092-0000000b-b536f675751b035c-74e895c4\n",
      "\u001b[36mp5ye4je5hi-algo-1-8mv2q |\u001b[0m 2022-07-17 08:26:31,740 [INFO ] W-9000-model-stdout com.amazonaws.ml.mms.wlm.WorkerLifeCycle - Using CPU\n",
      "\u001b[36mp5ye4je5hi-algo-1-8mv2q |\u001b[0m 2022-07-17 08:26:31,742 [INFO ] W-9000-model com.amazonaws.ml.mms.wlm.WorkerThread - Backend response time: 4519\n",
      "\u001b[36mp5ye4je5hi-algo-1-8mv2q |\u001b[0m 2022-07-17 08:26:31,744 [INFO ] W-9000-model-stdout com.amazonaws.ml.mms.wlm.WorkerLifeCycle - Using CPU\n",
      "\u001b[36mp5ye4je5hi-algo-1-8mv2q |\u001b[0m 2022-07-17 08:26:31,745 [WARN ] W-9000-model com.amazonaws.ml.mms.wlm.WorkerLifeCycle - attachIOStreams() threadName=W-model-14\n",
      "\u001b[36mp5ye4je5hi-algo-1-8mv2q |\u001b[0m 2022-07-17 08:26:31,764 [INFO ] W-9000-model-stdout com.amazonaws.ml.mms.wlm.WorkerLifeCycle - Using CPU\n",
      "\u001b[36mp5ye4je5hi-algo-1-8mv2q |\u001b[0m 2022-07-17 08:26:31,771 [INFO ] W-9000-model-stdout com.amazonaws.ml.mms.wlm.WorkerLifeCycle - model was loaded successfully\n",
      "\u001b[36mp5ye4je5hi-algo-1-8mv2q |\u001b[0m 2022-07-17 08:26:31,771 [INFO ] W-9000-model-stdout com.amazonaws.ml.mms.wlm.WorkerLifeCycle - Model model loaded io_fd=0242acfffe120002-00000092-0000001c-8a11ae75751b035c-853d6c99\n",
      "\u001b[36mp5ye4je5hi-algo-1-8mv2q |\u001b[0m 2022-07-17 08:26:31,771 [INFO ] W-9000-model com.amazonaws.ml.mms.wlm.WorkerThread - Backend response time: 4565\n",
      "\u001b[36mp5ye4je5hi-algo-1-8mv2q |\u001b[0m 2022-07-17 08:26:31,771 [WARN ] W-9000-model com.amazonaws.ml.mms.wlm.WorkerLifeCycle - attachIOStreams() threadName=W-model-8\n",
      "\u001b[36mp5ye4je5hi-algo-1-8mv2q |\u001b[0m 2022-07-17 08:26:31,774 [INFO ] W-9000-model-stdout com.amazonaws.ml.mms.wlm.WorkerLifeCycle - model was loaded successfully\n",
      "\u001b[36mp5ye4je5hi-algo-1-8mv2q |\u001b[0m 2022-07-17 08:26:31,775 [INFO ] W-9000-model-stdout com.amazonaws.ml.mms.wlm.WorkerLifeCycle - Model model loaded io_fd=0242acfffe120002-00000092-00000001-2a35d675751b035c-3c5ec061\n",
      "\u001b[36mp5ye4je5hi-algo-1-8mv2q |\u001b[0m 2022-07-17 08:26:31,776 [INFO ] W-9000-model com.amazonaws.ml.mms.wlm.WorkerThread - Backend response time: 4549\n",
      "\u001b[36mp5ye4je5hi-algo-1-8mv2q |\u001b[0m 2022-07-17 08:26:31,776 [WARN ] W-9000-model com.amazonaws.ml.mms.wlm.WorkerLifeCycle - attachIOStreams() threadName=W-model-25\n",
      "\u001b[36mp5ye4je5hi-algo-1-8mv2q |\u001b[0m 2022-07-17 08:26:31,795 [INFO ] W-9000-model-stdout com.amazonaws.ml.mms.wlm.WorkerLifeCycle - model was loaded successfully\n",
      "\u001b[36mp5ye4je5hi-algo-1-8mv2q |\u001b[0m 2022-07-17 08:26:31,795 [INFO ] W-9000-model-stdout com.amazonaws.ml.mms.wlm.WorkerLifeCycle - Model model loaded io_fd=0242acfffe120002-00000092-00000013-4b1a4e75751b035c-b2e1a27d\n",
      "\u001b[36mp5ye4je5hi-algo-1-8mv2q |\u001b[0m 2022-07-17 08:26:31,797 [INFO ] W-9000-model com.amazonaws.ml.mms.wlm.WorkerThread - Backend response time: 4591\n",
      "\u001b[36mp5ye4je5hi-algo-1-8mv2q |\u001b[0m 2022-07-17 08:26:31,797 [WARN ] W-9000-model com.amazonaws.ml.mms.wlm.WorkerLifeCycle - attachIOStreams() threadName=W-model-31\n",
      "\u001b[36mp5ye4je5hi-algo-1-8mv2q |\u001b[0m 2022-07-17 08:26:31,807 [INFO ] W-9000-model-stdout com.amazonaws.ml.mms.wlm.WorkerLifeCycle - Using CPU\n",
      "\u001b[36mp5ye4je5hi-algo-1-8mv2q |\u001b[0m 2022-07-17 08:26:31,823 [INFO ] W-9000-model-stdout com.amazonaws.ml.mms.wlm.WorkerLifeCycle - Using CPU\n",
      "\u001b[36mp5ye4je5hi-algo-1-8mv2q |\u001b[0m 2022-07-17 08:26:31,829 [INFO ] W-9000-model-stdout com.amazonaws.ml.mms.wlm.WorkerLifeCycle - Using CPU\n",
      "\u001b[36mp5ye4je5hi-algo-1-8mv2q |\u001b[0m 2022-07-17 08:26:31,838 [INFO ] W-9000-model-stdout com.amazonaws.ml.mms.wlm.WorkerLifeCycle - model was loaded successfully\n",
      "\u001b[36mp5ye4je5hi-algo-1-8mv2q |\u001b[0m 2022-07-17 08:26:31,838 [INFO ] W-9000-model-stdout com.amazonaws.ml.mms.wlm.WorkerLifeCycle - Model model loaded io_fd=0242acfffe120002-00000092-00000015-f6b74e75751b035c-e72675e5\n",
      "\u001b[36mp5ye4je5hi-algo-1-8mv2q |\u001b[0m 2022-07-17 08:26:31,839 [INFO ] W-9000-model com.amazonaws.ml.mms.wlm.WorkerThread - Backend response time: 4634\n",
      "\u001b[36mp5ye4je5hi-algo-1-8mv2q |\u001b[0m 2022-07-17 08:26:31,839 [WARN ] W-9000-model com.amazonaws.ml.mms.wlm.WorkerLifeCycle - attachIOStreams() threadName=W-model-26\n",
      "\u001b[36mp5ye4je5hi-algo-1-8mv2q |\u001b[0m 2022-07-17 08:26:31,843 [INFO ] W-9000-model-stdout com.amazonaws.ml.mms.wlm.WorkerLifeCycle - Using CPU\n",
      "\u001b[36mp5ye4je5hi-algo-1-8mv2q |\u001b[0m 2022-07-17 08:26:31,846 [INFO ] W-9000-model-stdout com.amazonaws.ml.mms.wlm.WorkerLifeCycle - Using CPU\n",
      "\u001b[36mp5ye4je5hi-algo-1-8mv2q |\u001b[0m 2022-07-17 08:26:31,846 [INFO ] W-9000-model-stdout com.amazonaws.ml.mms.wlm.WorkerLifeCycle - model was loaded successfully\n",
      "\u001b[36mp5ye4je5hi-algo-1-8mv2q |\u001b[0m 2022-07-17 08:26:31,846 [INFO ] W-9000-model-stdout com.amazonaws.ml.mms.wlm.WorkerLifeCycle - Using CPU\n",
      "\u001b[36mp5ye4je5hi-algo-1-8mv2q |\u001b[0m 2022-07-17 08:26:31,846 [INFO ] W-9000-model-stdout com.amazonaws.ml.mms.wlm.WorkerLifeCycle - Model model loaded io_fd=0242acfffe120002-00000092-0000000d-d3600e75751b035c-5babe4d8\n",
      "\u001b[36mp5ye4je5hi-algo-1-8mv2q |\u001b[0m 2022-07-17 08:26:31,846 [INFO ] W-9000-model com.amazonaws.ml.mms.wlm.WorkerThread - Backend response time: 4603\n",
      "\u001b[36mp5ye4je5hi-algo-1-8mv2q |\u001b[0m 2022-07-17 08:26:31,847 [WARN ] W-9000-model com.amazonaws.ml.mms.wlm.WorkerLifeCycle - attachIOStreams() threadName=W-model-17\n",
      "\u001b[36mp5ye4je5hi-algo-1-8mv2q |\u001b[0m 2022-07-17 08:26:31,858 [INFO ] W-9000-model-stdout com.amazonaws.ml.mms.wlm.WorkerLifeCycle - Using CPU\n",
      "\u001b[36mp5ye4je5hi-algo-1-8mv2q |\u001b[0m 2022-07-17 08:26:31,860 [INFO ] W-9000-model-stdout com.amazonaws.ml.mms.wlm.WorkerLifeCycle - model was loaded successfully\n",
      "\u001b[36mp5ye4je5hi-algo-1-8mv2q |\u001b[0m 2022-07-17 08:26:31,860 [INFO ] W-9000-model-stdout com.amazonaws.ml.mms.wlm.WorkerLifeCycle - Model model loaded io_fd=0242acfffe120002-00000092-0000001b-0cb0ae75751b035c-15aa54c3\n",
      "\u001b[36mp5ye4je5hi-algo-1-8mv2q |\u001b[0m 2022-07-17 08:26:31,861 [INFO ] W-9000-model com.amazonaws.ml.mms.wlm.WorkerThread - Backend response time: 4634\n",
      "\u001b[36mp5ye4je5hi-algo-1-8mv2q |\u001b[0m 2022-07-17 08:26:31,861 [WARN ] W-9000-model com.amazonaws.ml.mms.wlm.WorkerLifeCycle - attachIOStreams() threadName=W-model-24\n",
      "\u001b[36mp5ye4je5hi-algo-1-8mv2q |\u001b[0m 2022-07-17 08:26:31,871 [INFO ] W-9000-model-stdout com.amazonaws.ml.mms.wlm.WorkerLifeCycle - Using CPU\n",
      "\u001b[36mp5ye4je5hi-algo-1-8mv2q |\u001b[0m 2022-07-17 08:26:31,872 [INFO ] W-9000-model-stdout com.amazonaws.ml.mms.wlm.WorkerLifeCycle - model was loaded successfully\n",
      "\u001b[36mp5ye4je5hi-algo-1-8mv2q |\u001b[0m 2022-07-17 08:26:31,872 [INFO ] W-9000-model-stdout com.amazonaws.ml.mms.wlm.WorkerLifeCycle - Model model loaded io_fd=0242acfffe120002-00000092-00000012-cbf04e75751b035c-ecb31082\n",
      "\u001b[36mp5ye4je5hi-algo-1-8mv2q |\u001b[0m 2022-07-17 08:26:31,873 [INFO ] W-9000-model com.amazonaws.ml.mms.wlm.WorkerThread - Backend response time: 4666\n",
      "\u001b[36mp5ye4je5hi-algo-1-8mv2q |\u001b[0m 2022-07-17 08:26:31,873 [WARN ] W-9000-model com.amazonaws.ml.mms.wlm.WorkerLifeCycle - attachIOStreams() threadName=W-model-6\n",
      "\u001b[36mp5ye4je5hi-algo-1-8mv2q |\u001b[0m 2022-07-17 08:26:31,876 [INFO ] W-9000-model-stdout com.amazonaws.ml.mms.wlm.WorkerLifeCycle - model was loaded successfully\n",
      "\u001b[36mp5ye4je5hi-algo-1-8mv2q |\u001b[0m 2022-07-17 08:26:31,876 [INFO ] W-9000-model-stdout com.amazonaws.ml.mms.wlm.WorkerLifeCycle - Model model loaded io_fd=0242acfffe120002-00000092-00000007-8d907675751b035c-1cda3353\n",
      "\u001b[36mp5ye4je5hi-algo-1-8mv2q |\u001b[0m 2022-07-17 08:26:31,876 [INFO ] W-9000-model-stdout com.amazonaws.ml.mms.wlm.WorkerLifeCycle - model was loaded successfully\n",
      "\u001b[36mp5ye4je5hi-algo-1-8mv2q |\u001b[0m 2022-07-17 08:26:31,877 [INFO ] W-9000-model-stdout com.amazonaws.ml.mms.wlm.WorkerLifeCycle - Model model loaded io_fd=0242acfffe120002-00000092-00000009-96957675751b035c-6b5e4cff\n",
      "\u001b[36mp5ye4je5hi-algo-1-8mv2q |\u001b[0m 2022-07-17 08:26:31,877 [INFO ] W-9000-model com.amazonaws.ml.mms.wlm.WorkerThread - Backend response time: 4670\n",
      "\u001b[36mp5ye4je5hi-algo-1-8mv2q |\u001b[0m 2022-07-17 08:26:31,877 [INFO ] W-9000-model com.amazonaws.ml.mms.wlm.WorkerThread - Backend response time: 4650\n",
      "\u001b[36mp5ye4je5hi-algo-1-8mv2q |\u001b[0m 2022-07-17 08:26:31,877 [WARN ] W-9000-model com.amazonaws.ml.mms.wlm.WorkerLifeCycle - attachIOStreams() threadName=W-model-1\n",
      "\u001b[36mp5ye4je5hi-algo-1-8mv2q |\u001b[0m 2022-07-17 08:26:31,877 [WARN ] W-9000-model com.amazonaws.ml.mms.wlm.WorkerLifeCycle - attachIOStreams() threadName=W-model-23\n",
      "\u001b[36mp5ye4je5hi-algo-1-8mv2q |\u001b[0m 2022-07-17 08:26:31,884 [INFO ] W-9000-model-stdout com.amazonaws.ml.mms.wlm.WorkerLifeCycle - model was loaded successfully\n",
      "\u001b[36mp5ye4je5hi-algo-1-8mv2q |\u001b[0m 2022-07-17 08:26:31,884 [INFO ] W-9000-model-stdout com.amazonaws.ml.mms.wlm.WorkerLifeCycle - Model model loaded io_fd=0242acfffe120002-00000092-0000000f-515b0e75751b035c-21955aff\n",
      "\u001b[36mp5ye4je5hi-algo-1-8mv2q |\u001b[0m 2022-07-17 08:26:31,885 [INFO ] W-9000-model com.amazonaws.ml.mms.wlm.WorkerThread - Backend response time: 4677\n",
      "\u001b[36mp5ye4je5hi-algo-1-8mv2q |\u001b[0m 2022-07-17 08:26:31,885 [INFO ] W-9000-model-stdout com.amazonaws.ml.mms.wlm.WorkerLifeCycle - Using CPU\n",
      "\u001b[36mp5ye4je5hi-algo-1-8mv2q |\u001b[0m 2022-07-17 08:26:31,885 [WARN ] W-9000-model com.amazonaws.ml.mms.wlm.WorkerLifeCycle - attachIOStreams() threadName=W-model-4\n",
      "\u001b[36mp5ye4je5hi-algo-1-8mv2q |\u001b[0m 2022-07-17 08:26:31,903 [INFO ] W-9000-model-stdout com.amazonaws.ml.mms.wlm.WorkerLifeCycle - model was loaded successfully\n",
      "\u001b[36mp5ye4je5hi-algo-1-8mv2q |\u001b[0m 2022-07-17 08:26:31,903 [INFO ] W-9000-model-stdout com.amazonaws.ml.mms.wlm.WorkerLifeCycle - Model model loaded io_fd=0242acfffe120002-00000092-00000014-3d054e75751b035c-070c9307\n",
      "\u001b[36mp5ye4je5hi-algo-1-8mv2q |\u001b[0m 2022-07-17 08:26:31,903 [INFO ] W-9000-model com.amazonaws.ml.mms.wlm.WorkerThread - Backend response time: 4684\n",
      "\u001b[36mp5ye4je5hi-algo-1-8mv2q |\u001b[0m 2022-07-17 08:26:31,904 [WARN ] W-9000-model com.amazonaws.ml.mms.wlm.WorkerLifeCycle - attachIOStreams() threadName=W-model-30\n",
      "\u001b[36mp5ye4je5hi-algo-1-8mv2q |\u001b[0m 2022-07-17 08:26:31,915 [INFO ] W-9000-model-stdout com.amazonaws.ml.mms.wlm.WorkerLifeCycle - model was loaded successfully\n",
      "\u001b[36mp5ye4je5hi-algo-1-8mv2q |\u001b[0m 2022-07-17 08:26:31,915 [INFO ] W-9000-model-stdout com.amazonaws.ml.mms.wlm.WorkerLifeCycle - Model model loaded io_fd=0242acfffe120002-00000092-00000002-a2803675751b035c-da7a39d6\n",
      "\u001b[36mp5ye4je5hi-algo-1-8mv2q |\u001b[0m 2022-07-17 08:26:31,915 [INFO ] W-9000-model com.amazonaws.ml.mms.wlm.WorkerThread - Backend response time: 4686\n",
      "\u001b[36mp5ye4je5hi-algo-1-8mv2q |\u001b[0m 2022-07-17 08:26:31,916 [WARN ] W-9000-model com.amazonaws.ml.mms.wlm.WorkerLifeCycle - attachIOStreams() threadName=W-model-32\n",
      "\u001b[36mp5ye4je5hi-algo-1-8mv2q |\u001b[0m 2022-07-17 08:26:31,917 [INFO ] W-9000-model-stdout com.amazonaws.ml.mms.wlm.WorkerLifeCycle - Using CPU\n",
      "\u001b[36mp5ye4je5hi-algo-1-8mv2q |\u001b[0m 2022-07-17 08:26:31,948 [INFO ] W-9000-model-stdout com.amazonaws.ml.mms.wlm.WorkerLifeCycle - model was loaded successfully\n",
      "\u001b[36mp5ye4je5hi-algo-1-8mv2q |\u001b[0m 2022-07-17 08:26:31,948 [INFO ] W-9000-model-stdout com.amazonaws.ml.mms.wlm.WorkerLifeCycle - Model model loaded io_fd=0242acfffe120002-00000092-00000020-edd2ee75751b035c-7fb338ad\n",
      "\u001b[36mp5ye4je5hi-algo-1-8mv2q |\u001b[0m 2022-07-17 08:26:31,949 [INFO ] W-9000-model com.amazonaws.ml.mms.wlm.WorkerThread - Backend response time: 4743\n",
      "\u001b[36mp5ye4je5hi-algo-1-8mv2q |\u001b[0m 2022-07-17 08:26:31,949 [WARN ] W-9000-model com.amazonaws.ml.mms.wlm.WorkerLifeCycle - attachIOStreams() threadName=W-model-27\n",
      "\u001b[36mp5ye4je5hi-algo-1-8mv2q |\u001b[0m 2022-07-17 08:26:31,949 [INFO ] W-9000-model-stdout com.amazonaws.ml.mms.wlm.WorkerLifeCycle - Using CPU\n",
      "\u001b[36mp5ye4je5hi-algo-1-8mv2q |\u001b[0m 2022-07-17 08:26:31,969 [INFO ] W-9000-model-stdout com.amazonaws.ml.mms.wlm.WorkerLifeCycle - model was loaded successfully\n",
      "\u001b[36mp5ye4je5hi-algo-1-8mv2q |\u001b[0m 2022-07-17 08:26:31,970 [INFO ] W-9000-model-stdout com.amazonaws.ml.mms.wlm.WorkerLifeCycle - Model model loaded io_fd=0242acfffe120002-00000092-0000001f-62766e75751b035c-83e44632\n",
      "\u001b[36mp5ye4je5hi-algo-1-8mv2q |\u001b[0m 2022-07-17 08:26:31,970 [INFO ] W-9000-model com.amazonaws.ml.mms.wlm.WorkerThread - Backend response time: 4735\n",
      "\u001b[36mp5ye4je5hi-algo-1-8mv2q |\u001b[0m 2022-07-17 08:26:31,970 [WARN ] W-9000-model com.amazonaws.ml.mms.wlm.WorkerLifeCycle - attachIOStreams() threadName=W-model-18\n",
      "\u001b[36mp5ye4je5hi-algo-1-8mv2q |\u001b[0m 2022-07-17 08:26:31,998 [INFO ] W-9000-model-stdout com.amazonaws.ml.mms.wlm.WorkerLifeCycle - Using CPU\n",
      "\u001b[36mp5ye4je5hi-algo-1-8mv2q |\u001b[0m 2022-07-17 08:26:32,006 [INFO ] W-9000-model-stdout com.amazonaws.ml.mms.wlm.WorkerLifeCycle - Using CPU\n",
      "\u001b[36mp5ye4je5hi-algo-1-8mv2q |\u001b[0m 2022-07-17 08:26:32,013 [INFO ] W-9000-model-stdout com.amazonaws.ml.mms.wlm.WorkerLifeCycle - Using CPU\n",
      "\u001b[36mp5ye4je5hi-algo-1-8mv2q |\u001b[0m 2022-07-17 08:26:32,016 [INFO ] W-9000-model-stdout com.amazonaws.ml.mms.wlm.WorkerLifeCycle - Using CPU\n",
      "\u001b[36mp5ye4je5hi-algo-1-8mv2q |\u001b[0m 2022-07-17 08:26:32,017 [INFO ] W-9000-model-stdout com.amazonaws.ml.mms.wlm.WorkerLifeCycle - model was loaded successfully\n",
      "\u001b[36mp5ye4je5hi-algo-1-8mv2q |\u001b[0m 2022-07-17 08:26:32,017 [INFO ] W-9000-model-stdout com.amazonaws.ml.mms.wlm.WorkerLifeCycle - Model model loaded io_fd=0242acfffe120002-00000092-00000010-07728e75751b035c-3bbe2771\n",
      "\u001b[36mp5ye4je5hi-algo-1-8mv2q |\u001b[0m 2022-07-17 08:26:32,017 [INFO ] W-9000-model com.amazonaws.ml.mms.wlm.WorkerThread - Backend response time: 4815\n",
      "\u001b[36mp5ye4je5hi-algo-1-8mv2q |\u001b[0m 2022-07-17 08:26:32,017 [WARN ] W-9000-model com.amazonaws.ml.mms.wlm.WorkerLifeCycle - attachIOStreams() threadName=W-model-7\n",
      "\u001b[36mp5ye4je5hi-algo-1-8mv2q |\u001b[0m 2022-07-17 08:26:32,025 [INFO ] W-9000-model-stdout com.amazonaws.ml.mms.wlm.WorkerLifeCycle - model was loaded successfully\n",
      "\u001b[36mp5ye4je5hi-algo-1-8mv2q |\u001b[0m 2022-07-17 08:26:32,025 [INFO ] W-9000-model-stdout com.amazonaws.ml.mms.wlm.WorkerLifeCycle - Model model loaded io_fd=0242acfffe120002-00000092-0000001d-f4f5ae75751b035c-72412f0e\n",
      "\u001b[36mp5ye4je5hi-algo-1-8mv2q |\u001b[0m 2022-07-17 08:26:32,026 [INFO ] W-9000-model com.amazonaws.ml.mms.wlm.WorkerThread - Backend response time: 4824\n",
      "\u001b[36mp5ye4je5hi-algo-1-8mv2q |\u001b[0m 2022-07-17 08:26:32,026 [WARN ] W-9000-model com.amazonaws.ml.mms.wlm.WorkerLifeCycle - attachIOStreams() threadName=W-model-11\n",
      "\u001b[36mp5ye4je5hi-algo-1-8mv2q |\u001b[0m 2022-07-17 08:26:32,034 [INFO ] W-9000-model-stdout com.amazonaws.ml.mms.wlm.WorkerLifeCycle - Using CPU\n",
      "\u001b[36mp5ye4je5hi-algo-1-8mv2q |\u001b[0m 2022-07-17 08:26:32,044 [INFO ] W-9000-model-stdout com.amazonaws.ml.mms.wlm.WorkerLifeCycle - model was loaded successfully\n",
      "\u001b[36mp5ye4je5hi-algo-1-8mv2q |\u001b[0m 2022-07-17 08:26:32,044 [INFO ] W-9000-model-stdout com.amazonaws.ml.mms.wlm.WorkerLifeCycle - Model model loaded io_fd=0242acfffe120002-00000092-00000005-9468b675751b035c-c22deb90\n",
      "\u001b[36mp5ye4je5hi-algo-1-8mv2q |\u001b[0m 2022-07-17 08:26:32,045 [INFO ] W-9000-model com.amazonaws.ml.mms.wlm.WorkerThread - Backend response time: 4839\n",
      "\u001b[36mp5ye4je5hi-algo-1-8mv2q |\u001b[0m 2022-07-17 08:26:32,045 [WARN ] W-9000-model com.amazonaws.ml.mms.wlm.WorkerLifeCycle - attachIOStreams() threadName=W-model-2\n",
      "\u001b[36mp5ye4je5hi-algo-1-8mv2q |\u001b[0m 2022-07-17 08:26:32,047 [INFO ] W-9000-model-stdout com.amazonaws.ml.mms.wlm.WorkerLifeCycle - model was loaded successfully\n",
      "\u001b[36mp5ye4je5hi-algo-1-8mv2q |\u001b[0m 2022-07-17 08:26:32,047 [INFO ] W-9000-model-stdout com.amazonaws.ml.mms.wlm.WorkerLifeCycle - Model model loaded io_fd=0242acfffe120002-00000092-00000017-82fdce75751b035c-43591b2a\n",
      "\u001b[36mp5ye4je5hi-algo-1-8mv2q |\u001b[0m 2022-07-17 08:26:32,047 [INFO ] W-9000-model com.amazonaws.ml.mms.wlm.WorkerThread - Backend response time: 4841\n",
      "\u001b[36mp5ye4je5hi-algo-1-8mv2q |\u001b[0m 2022-07-17 08:26:32,048 [WARN ] W-9000-model com.amazonaws.ml.mms.wlm.WorkerLifeCycle - attachIOStreams() threadName=W-model-21\n",
      "\u001b[36mp5ye4je5hi-algo-1-8mv2q |\u001b[0m 2022-07-17 08:26:32,051 [INFO ] W-9000-model-stdout com.amazonaws.ml.mms.wlm.WorkerLifeCycle - Using CPU\n",
      "\u001b[36mp5ye4je5hi-algo-1-8mv2q |\u001b[0m 2022-07-17 08:26:32,051 [INFO ] W-9000-model-stdout com.amazonaws.ml.mms.wlm.WorkerLifeCycle - Using CPU\n",
      "\u001b[36mp5ye4je5hi-algo-1-8mv2q |\u001b[0m 2022-07-17 08:26:32,053 [INFO ] W-9000-model-stdout com.amazonaws.ml.mms.wlm.WorkerLifeCycle - model was loaded successfully\n",
      "\u001b[36mp5ye4je5hi-algo-1-8mv2q |\u001b[0m 2022-07-17 08:26:32,053 [INFO ] W-9000-model-stdout com.amazonaws.ml.mms.wlm.WorkerLifeCycle - Model model loaded io_fd=0242acfffe120002-00000092-00000011-98dd8e75751b035c-1f1ff1e3\n",
      "\u001b[36mp5ye4je5hi-algo-1-8mv2q |\u001b[0m 2022-07-17 08:26:32,054 [INFO ] W-9000-model-stdout com.amazonaws.ml.mms.wlm.WorkerLifeCycle - Using CPU\n",
      "\u001b[36mp5ye4je5hi-algo-1-8mv2q |\u001b[0m 2022-07-17 08:26:32,054 [INFO ] W-9000-model com.amazonaws.ml.mms.wlm.WorkerThread - Backend response time: 4846\n",
      "\u001b[36mp5ye4je5hi-algo-1-8mv2q |\u001b[0m 2022-07-17 08:26:32,054 [WARN ] W-9000-model com.amazonaws.ml.mms.wlm.WorkerLifeCycle - attachIOStreams() threadName=W-model-15\n",
      "\u001b[36mp5ye4je5hi-algo-1-8mv2q |\u001b[0m 2022-07-17 08:26:32,055 [INFO ] W-9000-model-stdout com.amazonaws.ml.mms.wlm.WorkerLifeCycle - Using CPU\n",
      "\u001b[36mp5ye4je5hi-algo-1-8mv2q |\u001b[0m 2022-07-17 08:26:32,069 [INFO ] W-9000-model-stdout com.amazonaws.ml.mms.wlm.WorkerLifeCycle - model was loaded successfully\n",
      "\u001b[36mp5ye4je5hi-algo-1-8mv2q |\u001b[0m 2022-07-17 08:26:32,069 [INFO ] W-9000-model-stdout com.amazonaws.ml.mms.wlm.WorkerLifeCycle - Model model loaded io_fd=0242acfffe120002-00000092-0000001a-d05b2e75751b035c-c39fc885\n",
      "\u001b[36mp5ye4je5hi-algo-1-8mv2q |\u001b[0m 2022-07-17 08:26:32,070 [INFO ] W-9000-model com.amazonaws.ml.mms.wlm.WorkerThread - Backend response time: 4850\n",
      "\u001b[36mp5ye4je5hi-algo-1-8mv2q |\u001b[0m 2022-07-17 08:26:32,070 [WARN ] W-9000-model com.amazonaws.ml.mms.wlm.WorkerLifeCycle - attachIOStreams() threadName=W-model-12\n",
      "\u001b[36mp5ye4je5hi-algo-1-8mv2q |\u001b[0m 2022-07-17 08:26:32,070 [INFO ] W-9000-model-stdout com.amazonaws.ml.mms.wlm.WorkerLifeCycle - model was loaded successfully\n",
      "\u001b[36mp5ye4je5hi-algo-1-8mv2q |\u001b[0m 2022-07-17 08:26:32,071 [INFO ] W-9000-model-stdout com.amazonaws.ml.mms.wlm.WorkerLifeCycle - Model model loaded io_fd=0242acfffe120002-00000092-00000006-483eb675751b035c-95712c81\n",
      "\u001b[36mp5ye4je5hi-algo-1-8mv2q |\u001b[0m 2022-07-17 08:26:32,071 [INFO ] W-9000-model com.amazonaws.ml.mms.wlm.WorkerThread - Backend response time: 4866\n",
      "\u001b[36mp5ye4je5hi-algo-1-8mv2q |\u001b[0m 2022-07-17 08:26:32,071 [WARN ] W-9000-model com.amazonaws.ml.mms.wlm.WorkerLifeCycle - attachIOStreams() threadName=W-model-19\n",
      "\u001b[36mp5ye4je5hi-algo-1-8mv2q |\u001b[0m 2022-07-17 08:26:32,073 [INFO ] W-9000-model-stdout com.amazonaws.ml.mms.wlm.WorkerLifeCycle - model was loaded successfully\n",
      "\u001b[36mp5ye4je5hi-algo-1-8mv2q |\u001b[0m 2022-07-17 08:26:32,073 [INFO ] W-9000-model-stdout com.amazonaws.ml.mms.wlm.WorkerLifeCycle - Model model loaded io_fd=0242acfffe120002-00000092-00000016-779ace75751b035c-662aadf9\n",
      "\u001b[36mp5ye4je5hi-algo-1-8mv2q |\u001b[0m 2022-07-17 08:26:32,073 [INFO ] W-9000-model com.amazonaws.ml.mms.wlm.WorkerThread - Backend response time: 4846\n",
      "\u001b[36mp5ye4je5hi-algo-1-8mv2q |\u001b[0m 2022-07-17 08:26:32,074 [WARN ] W-9000-model com.amazonaws.ml.mms.wlm.WorkerLifeCycle - attachIOStreams() threadName=W-model-10\n",
      "\u001b[36mp5ye4je5hi-algo-1-8mv2q |\u001b[0m 2022-07-17 08:26:32,075 [INFO ] W-9000-model-stdout com.amazonaws.ml.mms.wlm.WorkerLifeCycle - model was loaded successfully\n",
      "\u001b[36mp5ye4je5hi-algo-1-8mv2q |\u001b[0m 2022-07-17 08:26:32,075 [INFO ] W-9000-model-stdout com.amazonaws.ml.mms.wlm.WorkerLifeCycle - Model model loaded io_fd=0242acfffe120002-00000092-0000001e-70f46e75751b035c-4ad2875b\n",
      "\u001b[36mp5ye4je5hi-algo-1-8mv2q |\u001b[0m 2022-07-17 08:26:32,075 [INFO ] W-9000-model com.amazonaws.ml.mms.wlm.WorkerThread - Backend response time: 4870\n",
      "\u001b[36mp5ye4je5hi-algo-1-8mv2q |\u001b[0m 2022-07-17 08:26:32,075 [WARN ] W-9000-model com.amazonaws.ml.mms.wlm.WorkerLifeCycle - attachIOStreams() threadName=W-model-3\n",
      "\u001b[36mp5ye4je5hi-algo-1-8mv2q |\u001b[0m 2022-07-17 08:26:32,089 [INFO ] W-9000-model-stdout com.amazonaws.ml.mms.wlm.WorkerLifeCycle - Using CPU\n",
      "\u001b[36mp5ye4je5hi-algo-1-8mv2q |\u001b[0m 2022-07-17 08:26:32,107 [INFO ] W-9000-model-stdout com.amazonaws.ml.mms.wlm.WorkerLifeCycle - Using CPU\n",
      "\u001b[36mp5ye4je5hi-algo-1-8mv2q |\u001b[0m 2022-07-17 08:26:32,115 [INFO ] W-9000-model-stdout com.amazonaws.ml.mms.wlm.WorkerLifeCycle - Using CPU\n",
      "\u001b[36mp5ye4je5hi-algo-1-8mv2q |\u001b[0m 2022-07-17 08:26:32,119 [INFO ] W-9000-model-stdout com.amazonaws.ml.mms.wlm.WorkerLifeCycle - model was loaded successfully\n",
      "\u001b[36mp5ye4je5hi-algo-1-8mv2q |\u001b[0m 2022-07-17 08:26:32,119 [INFO ] W-9000-model-stdout com.amazonaws.ml.mms.wlm.WorkerLifeCycle - Model model loaded io_fd=0242acfffe120002-00000092-0000000e-dd8e0e75751b035c-1bc878da\n",
      "\u001b[36mp5ye4je5hi-algo-1-8mv2q |\u001b[0m 2022-07-17 08:26:32,119 [INFO ] W-9000-model com.amazonaws.ml.mms.wlm.WorkerThread - Backend response time: 4913\n",
      "\u001b[36mp5ye4je5hi-algo-1-8mv2q |\u001b[0m 2022-07-17 08:26:32,119 [WARN ] W-9000-model com.amazonaws.ml.mms.wlm.WorkerLifeCycle - attachIOStreams() threadName=W-model-9\n",
      "\u001b[36mp5ye4je5hi-algo-1-8mv2q |\u001b[0m 2022-07-17 08:26:32,126 [INFO ] W-9000-model-stdout com.amazonaws.ml.mms.wlm.WorkerLifeCycle - model was loaded successfully\n",
      "\u001b[36mp5ye4je5hi-algo-1-8mv2q |\u001b[0m 2022-07-17 08:26:32,126 [INFO ] W-9000-model-stdout com.amazonaws.ml.mms.wlm.WorkerLifeCycle - Model model loaded io_fd=0242acfffe120002-00000092-00000003-3cea3675751b035c-ea912ee0\n",
      "\u001b[36mp5ye4je5hi-algo-1-8mv2q |\u001b[0m 2022-07-17 08:26:32,126 [INFO ] W-9000-model com.amazonaws.ml.mms.wlm.WorkerThread - Backend response time: 4899\n",
      "\u001b[36mp5ye4je5hi-algo-1-8mv2q |\u001b[0m 2022-07-17 08:26:32,127 [WARN ] W-9000-model com.amazonaws.ml.mms.wlm.WorkerLifeCycle - attachIOStreams() threadName=W-model-28\n",
      "\u001b[36mp5ye4je5hi-algo-1-8mv2q |\u001b[0m 2022-07-17 08:26:32,134 [INFO ] W-9000-model-stdout com.amazonaws.ml.mms.wlm.WorkerLifeCycle - model was loaded successfully\n",
      "\u001b[36mp5ye4je5hi-algo-1-8mv2q |\u001b[0m 2022-07-17 08:26:32,134 [INFO ] W-9000-model-stdout com.amazonaws.ml.mms.wlm.WorkerLifeCycle - Model model loaded io_fd=0242acfffe120002-00000092-00000019-69f22e75751b035c-c635a1f8\n",
      "\u001b[36mp5ye4je5hi-algo-1-8mv2q |\u001b[0m 2022-07-17 08:26:32,134 [INFO ] W-9000-model com.amazonaws.ml.mms.wlm.WorkerThread - Backend response time: 4927\n",
      "\u001b[36mp5ye4je5hi-algo-1-8mv2q |\u001b[0m 2022-07-17 08:26:32,136 [INFO ] W-9000-model-stdout com.amazonaws.ml.mms.wlm.WorkerLifeCycle - Using CPU\n",
      "\u001b[36mp5ye4je5hi-algo-1-8mv2q |\u001b[0m 2022-07-17 08:26:32,155 [INFO ] W-9000-model-stdout com.amazonaws.ml.mms.wlm.WorkerLifeCycle - model was loaded successfully\n",
      "\u001b[36mp5ye4je5hi-algo-1-8mv2q |\u001b[0m 2022-07-17 08:26:32,155 [INFO ] W-9000-model-stdout com.amazonaws.ml.mms.wlm.WorkerLifeCycle - Model model loaded io_fd=0242acfffe120002-00000092-00000000-46a1d675751b035c-602f1f5a\n",
      "\u001b[36mp5ye4je5hi-algo-1-8mv2q |\u001b[0m 2022-07-17 08:26:32,155 [INFO ] W-9000-model com.amazonaws.ml.mms.wlm.WorkerThread - Backend response time: 4928\n",
      "\u001b[36mp5ye4je5hi-algo-1-8mv2q |\u001b[0m 2022-07-17 08:26:32,159 [WARN ] W-9000-model com.amazonaws.ml.mms.wlm.WorkerLifeCycle - attachIOStreams() threadName=W-model-22\n",
      "\u001b[36mp5ye4je5hi-algo-1-8mv2q |\u001b[0m 2022-07-17 08:26:32,159 [WARN ] W-9000-model com.amazonaws.ml.mms.wlm.WorkerLifeCycle - attachIOStreams() threadName=W-model-29\n",
      "\u001b[36mp5ye4je5hi-algo-1-8mv2q |\u001b[0m 2022-07-17 08:26:32,212 [INFO ] W-9000-model-stdout com.amazonaws.ml.mms.wlm.WorkerLifeCycle - Using CPU\n",
      "\u001b[36mp5ye4je5hi-algo-1-8mv2q |\u001b[0m 2022-07-17 08:26:32,230 [INFO ] W-9000-model-stdout com.amazonaws.ml.mms.wlm.WorkerLifeCycle - model was loaded successfully\n",
      "\u001b[36mp5ye4je5hi-algo-1-8mv2q |\u001b[0m 2022-07-17 08:26:32,230 [INFO ] W-9000-model-stdout com.amazonaws.ml.mms.wlm.WorkerLifeCycle - Model model loaded io_fd=0242acfffe120002-00000092-00000018-00502e75751b035c-61572080\n",
      "\u001b[36mp5ye4je5hi-algo-1-8mv2q |\u001b[0m 2022-07-17 08:26:32,230 [INFO ] W-9000-model-stdout com.amazonaws.ml.mms.wlm.WorkerLifeCycle - Using CPU\n",
      "\u001b[36mp5ye4je5hi-algo-1-8mv2q |\u001b[0m 2022-07-17 08:26:32,230 [INFO ] W-9000-model com.amazonaws.ml.mms.wlm.WorkerThread - Backend response time: 5027\n",
      "\u001b[36mp5ye4je5hi-algo-1-8mv2q |\u001b[0m 2022-07-17 08:26:32,230 [WARN ] W-9000-model com.amazonaws.ml.mms.wlm.WorkerLifeCycle - attachIOStreams() threadName=W-model-13\n",
      "\u001b[36mp5ye4je5hi-algo-1-8mv2q |\u001b[0m 2022-07-17 08:26:32,248 [INFO ] W-9000-model-stdout com.amazonaws.ml.mms.wlm.WorkerLifeCycle - model was loaded successfully\n",
      "\u001b[36mp5ye4je5hi-algo-1-8mv2q |\u001b[0m 2022-07-17 08:26:32,248 [INFO ] W-9000-model-stdout com.amazonaws.ml.mms.wlm.WorkerLifeCycle - Model model loaded io_fd=0242acfffe120002-00000092-0000000c-c79df675751b035c-78582108\n",
      "\u001b[36mp5ye4je5hi-algo-1-8mv2q |\u001b[0m 2022-07-17 08:26:32,248 [INFO ] W-9000-model com.amazonaws.ml.mms.wlm.WorkerThread - Backend response time: 5046\n",
      "\u001b[36mp5ye4je5hi-algo-1-8mv2q |\u001b[0m 2022-07-17 08:26:32,248 [WARN ] W-9000-model com.amazonaws.ml.mms.wlm.WorkerLifeCycle - attachIOStreams() threadName=W-model-16\n",
      "\u001b[36mp5ye4je5hi-algo-1-8mv2q |\u001b[0m 2022-07-17 08:26:32,284 [INFO ] W-9000-model-stdout com.amazonaws.ml.mms.wlm.WorkerLifeCycle - Using CPU\n",
      "\u001b[36mp5ye4je5hi-algo-1-8mv2q |\u001b[0m 2022-07-17 08:26:32,298 [INFO ] W-9000-model-stdout com.amazonaws.ml.mms.wlm.WorkerLifeCycle - Using CPU\n",
      "\u001b[36mp5ye4je5hi-algo-1-8mv2q |\u001b[0m 2022-07-17 08:26:32,302 [INFO ] W-9000-model-stdout com.amazonaws.ml.mms.wlm.WorkerLifeCycle - model was loaded successfully\n",
      "\u001b[36mp5ye4je5hi-algo-1-8mv2q |\u001b[0m 2022-07-17 08:26:32,302 [INFO ] W-9000-model-stdout com.amazonaws.ml.mms.wlm.WorkerLifeCycle - Model model loaded io_fd=0242acfffe120002-00000092-0000000a-4be8f675751b035c-92e97e3b\n",
      "\u001b[36mp5ye4je5hi-algo-1-8mv2q |\u001b[0m 2022-07-17 08:26:32,302 [INFO ] W-9000-model com.amazonaws.ml.mms.wlm.WorkerThread - Backend response time: 5096\n",
      "\u001b[36mp5ye4je5hi-algo-1-8mv2q |\u001b[0m 2022-07-17 08:26:32,302 [WARN ] W-9000-model com.amazonaws.ml.mms.wlm.WorkerLifeCycle - attachIOStreams() threadName=W-model-20\n",
      "\u001b[36mp5ye4je5hi-algo-1-8mv2q |\u001b[0m 2022-07-17 08:26:32,315 [INFO ] W-9000-model-stdout com.amazonaws.ml.mms.wlm.WorkerLifeCycle - model was loaded successfully\n",
      "\u001b[36mp5ye4je5hi-algo-1-8mv2q |\u001b[0m 2022-07-17 08:26:32,316 [INFO ] W-9000-model-stdout com.amazonaws.ml.mms.wlm.WorkerLifeCycle - Model model loaded io_fd=0242acfffe120002-00000092-00000008-a63c7675751b035c-3f6ca915\n",
      "\u001b[36mp5ye4je5hi-algo-1-8mv2q |\u001b[0m 2022-07-17 08:26:32,316 [INFO ] W-9000-model com.amazonaws.ml.mms.wlm.WorkerThread - Backend response time: 5111\n",
      "\u001b[36mp5ye4je5hi-algo-1-8mv2q |\u001b[0m 2022-07-17 08:26:32,316 [WARN ] W-9000-model com.amazonaws.ml.mms.wlm.WorkerLifeCycle - attachIOStreams() threadName=W-model-5\n"
     ]
    }
   ],
   "source": [
    "!docker ps"
   ]
  },
  {
   "cell_type": "markdown",
   "metadata": {},
   "source": [
    "### Inference using SageMaker SDK\n",
    "\n",
    "SageMaker SDK의 `predict()` 메서드로 쉽게 추론을 수행할 수 있습니다. "
   ]
  },
  {
   "cell_type": "code",
   "execution_count": 29,
   "metadata": {},
   "outputs": [
    {
     "name": "stdout",
     "output_type": "stream",
     "text": [
      "\u001b[36mp5ye4je5hi-algo-1-8mv2q |\u001b[0m 2022-07-17 08:26:57,205 [INFO ] W-model-14-stdout com.amazonaws.ml.mms.wlm.WorkerLifeCycle - num_series: 3, start_dt: 2017-12-04\n",
      "\u001b[36mp5ye4je5hi-algo-1-8mv2q |\u001b[0m 2022-07-17 08:26:57,206 [INFO ] W-model-14-stdout com.amazonaws.ml.mms.wlm.WorkerLifeCycle - test_lst: \n",
      "\u001b[36mp5ye4je5hi-algo-1-8mv2q |\u001b[0m 2022-07-17 08:26:57,206 [INFO ] W-model-14-stdout com.amazonaws.ml.mms.wlm.WorkerLifeCycle -  [{'target': array([12.7, 17.3, 17.7, 16.2, 19.1, 23.4, 22.4, 15. , 17.3, 16.2, 18.9,\n",
      "\u001b[36mp5ye4je5hi-algo-1-8mv2q |\u001b[0m 2022-07-17 08:26:57,206 [INFO ] W-model-14-stdout com.amazonaws.ml.mms.wlm.WorkerLifeCycle -        19.8, 21.3, 21.5, 15.8, 16.2, 16.5, 17.8, 19.7, 19. , 23.4, 13.6,\n",
      "\u001b[36mp5ye4je5hi-algo-1-8mv2q |\u001b[0m 2022-07-17 08:26:57,207 [INFO ] W-model-14-stdout com.amazonaws.ml.mms.wlm.WorkerLifeCycle -        16.5, 15.4, 17.8, 20.7, 23.6, 22.7]), 'start': '2017-12-04'}, {'target': array([35.6, 45.8, 49.4, 47.7, 55.4, 58.1, 57.4, 41.3, 41.4, 48.6, 49. ,\n",
      "\u001b[36mp5ye4je5hi-algo-1-8mv2q |\u001b[0m 2022-07-17 08:26:57,207 [INFO ] W-model-14-stdout com.amazonaws.ml.mms.wlm.WorkerLifeCycle -        56.4, 56.9, 60. , 37.5, 42.2, 44. , 48.8, 54.7, 57. , 55.5, 42.8,\n",
      "\u001b[36mp5ye4je5hi-algo-1-8mv2q |\u001b[0m 2022-07-17 08:26:57,207 [INFO ] W-model-14-stdout com.amazonaws.ml.mms.wlm.WorkerLifeCycle -        49.8, 50. , 49.5, 51.5, 53.8, 63.4]), 'start': '2017-12-04'}, {'target': array([26.1, 24.8, 29.4, 29.7, 33.6, 36.3, 38.4, 26. , 28.3, 28.7, 31.5,\n",
      "\u001b[36mp5ye4je5hi-algo-1-8mv2q |\u001b[0m 2022-07-17 08:26:57,207 [INFO ] W-model-14-stdout com.amazonaws.ml.mms.wlm.WorkerLifeCycle -        35.3, 36.6, 36.6, 28.1, 30.4, 28.6, 31.4, 35.8, 33.1, 34.2, 24.6,\n",
      "\u001b[36mp5ye4je5hi-algo-1-8mv2q |\u001b[0m 2022-07-17 08:26:57,207 [INFO ] W-model-14-stdout com.amazonaws.ml.mms.wlm.WorkerLifeCycle -        30. , 28.2, 29.8, 33.2, 34.2, 40.2]), 'start': '2017-12-04'}]\n",
      "\u001b[36mp5ye4je5hi-algo-1-8mv2q |\u001b[0m 2022-07-17 08:26:57,505 [INFO ] W-9000-model com.amazonaws.ml.mms.wlm.WorkerThread - Backend response time: 303\n",
      "\u001b[36mp5ye4je5hi-algo-1-8mv2q |\u001b[0m 2022-07-17 08:26:57,506 [INFO ] W-9000-model ACCESS_LOG - /172.18.0.1:58678 \"POST /invocations HTTP/1.1\" 200 307\n",
      "{'item_0': [16.57381820678711, 19.485475540161133, 20.022624969482422, 21.5930233001709, 23.302013397216797, 25.1539249420166, 25.836524963378906, 17.183427810668945, 20.263813018798828, 20.109722137451172, 22.046316146850586, 22.884986877441406, 24.5477352142334, 25.728002548217773, 17.03057289123535, 19.898099899291992, 19.560701370239258, 21.239347457885742, 22.5848388671875, 23.70880699157715, 25.67095184326172, 16.704727172851562, 19.436874389648438, 19.222536087036133, 20.789386749267578, 22.20077133178711, 23.557828903198242, 24.341289520263672], 'item_1': [44.26552200317383, 52.46006393432617, 54.20823669433594, 58.337764739990234, 61.993202209472656, 64.77264404296875, 68.71761322021484, 46.06790542602539, 52.786376953125, 53.58518981933594, 56.71074676513672, 60.79315948486328, 63.52743148803711, 67.9822006225586, 44.5804443359375, 52.165836334228516, 51.97383117675781, 55.43089294433594, 58.21323776245117, 61.984745025634766, 64.7683334350586, 43.30618667602539, 50.221378326416016, 49.51301193237305, 52.87257766723633, 55.660308837890625, 59.56661605834961, 62.972652435302734], 'item_2': [28.440685272216797, 32.6129150390625, 34.182106018066406, 36.813392639160156, 39.23234558105469, 41.0505256652832, 43.46332931518555, 29.478384017944336, 33.5858039855957, 33.83454513549805, 36.418907165527344, 38.52590560913086, 40.76995849609375, 43.142669677734375, 28.840688705444336, 33.42390441894531, 32.972190856933594, 35.39073944091797, 37.434566497802734, 39.354164123535156, 42.104286193847656, 27.548276901245117, 32.091522216796875, 31.86089515686035, 34.41233444213867, 36.53211212158203, 38.71239471435547, 40.68842315673828]}\n"
     ]
    }
   ],
   "source": [
    "outputs = predictor.predict(input_data)\n",
    "print(outputs)"
   ]
  },
  {
   "cell_type": "markdown",
   "metadata": {},
   "source": [
    "### Inference using Boto3 SDK\n",
    "\n",
    "SageMaker SDK의 `predict()` 메서드로 추론을 수행할 수도 있지만, 이번에는 boto3의 `invoke_endpoint()` 메서드로 추론을 수행해 보겠습니다.<br>\n",
    "Boto3는 서비스 레벨의 low-level SDK로, ML 실험에 초점을 맞춰 일부 기능들이 추상화된 high-level SDK인 SageMaker SDK와 달리\n",
    "SageMaker API를 완벽하게 제어할 수 있습으며, 프로덕션 및 자동화 작업에 적합합니다.\n",
    "\n",
    "참고로 `invoke_endpoint()` 호출을 위한 런타임 클라이언트 인스턴스 생성 시, 로컬 배포 모드에서는 `sagemaker.local.LocalSagemakerRuntimeClient()`를 호출해야 합니다."
   ]
  },
  {
   "cell_type": "code",
   "execution_count": 30,
   "metadata": {},
   "outputs": [
    {
     "name": "stdout",
     "output_type": "stream",
     "text": [
      "\u001b[36mp5ye4je5hi-algo-1-8mv2q |\u001b[0m 2022-07-17 08:27:53,500 [INFO ] W-model-8-stdout com.amazonaws.ml.mms.wlm.WorkerLifeCycle - num_series: 3, start_dt: 2017-12-04\n",
      "\u001b[36mp5ye4je5hi-algo-1-8mv2q |\u001b[0m 2022-07-17 08:27:53,501 [INFO ] W-model-8-stdout com.amazonaws.ml.mms.wlm.WorkerLifeCycle - test_lst: \n",
      "\u001b[36mp5ye4je5hi-algo-1-8mv2q |\u001b[0m 2022-07-17 08:27:53,502 [INFO ] W-model-8-stdout com.amazonaws.ml.mms.wlm.WorkerLifeCycle -  [{'target': array([12.7, 17.3, 17.7, 16.2, 19.1, 23.4, 22.4, 15. , 17.3, 16.2, 18.9,\n",
      "\u001b[36mp5ye4je5hi-algo-1-8mv2q |\u001b[0m 2022-07-17 08:27:53,502 [INFO ] W-model-8-stdout com.amazonaws.ml.mms.wlm.WorkerLifeCycle -        19.8, 21.3, 21.5, 15.8, 16.2, 16.5, 17.8, 19.7, 19. , 23.4, 13.6,\n",
      "\u001b[36mp5ye4je5hi-algo-1-8mv2q |\u001b[0m 2022-07-17 08:27:53,502 [INFO ] W-model-8-stdout com.amazonaws.ml.mms.wlm.WorkerLifeCycle -        16.5, 15.4, 17.8, 20.7, 23.6, 22.7]), 'start': '2017-12-04'}, {'target': array([35.6, 45.8, 49.4, 47.7, 55.4, 58.1, 57.4, 41.3, 41.4, 48.6, 49. ,\n",
      "\u001b[36mp5ye4je5hi-algo-1-8mv2q |\u001b[0m 2022-07-17 08:27:53,502 [INFO ] W-model-8-stdout com.amazonaws.ml.mms.wlm.WorkerLifeCycle -        56.4, 56.9, 60. , 37.5, 42.2, 44. , 48.8, 54.7, 57. , 55.5, 42.8,\n",
      "\u001b[36mp5ye4je5hi-algo-1-8mv2q |\u001b[0m 2022-07-17 08:27:53,502 [INFO ] W-model-8-stdout com.amazonaws.ml.mms.wlm.WorkerLifeCycle -        49.8, 50. , 49.5, 51.5, 53.8, 63.4]), 'start': '2017-12-04'}, {'target': array([26.1, 24.8, 29.4, 29.7, 33.6, 36.3, 38.4, 26. , 28.3, 28.7, 31.5,\n",
      "\u001b[36mp5ye4je5hi-algo-1-8mv2q |\u001b[0m 2022-07-17 08:27:53,502 [INFO ] W-model-8-stdout com.amazonaws.ml.mms.wlm.WorkerLifeCycle -        35.3, 36.6, 36.6, 28.1, 30.4, 28.6, 31.4, 35.8, 33.1, 34.2, 24.6,\n",
      "\u001b[36mp5ye4je5hi-algo-1-8mv2q |\u001b[0m 2022-07-17 08:27:53,502 [INFO ] W-model-8-stdout com.amazonaws.ml.mms.wlm.WorkerLifeCycle -        30. , 28.2, 29.8, 33.2, 34.2, 40.2]), 'start': '2017-12-04'}]\n",
      "\u001b[36mp5ye4je5hi-algo-1-8mv2q |\u001b[0m 2022-07-17 08:27:53,772 [INFO ] W-9000-model com.amazonaws.ml.mms.wlm.WorkerThread - Backend response time: 275\n",
      "\u001b[36mp5ye4je5hi-algo-1-8mv2q |\u001b[0m 2022-07-17 08:27:53,773 [INFO ] W-9000-model ACCESS_LOG - /172.18.0.1:42074 \"POST /invocations HTTP/1.1\" 200 276\n"
     ]
    }
   ],
   "source": [
    "client = sagemaker.local.LocalSagemakerClient()\n",
    "runtime_client = sagemaker.local.LocalSagemakerRuntimeClient()\n",
    "endpoint_name = local_model.endpoint_name\n",
    "\n",
    "response = runtime_client.invoke_endpoint(\n",
    "    EndpointName=endpoint_name, \n",
    "    ContentType='application/json',\n",
    "    Accept='application/x-npy',\n",
    "    Body=json.dumps(input_data)\n",
    "    )\n",
    "outputs = response['Body'].read().decode()"
   ]
  },
  {
   "cell_type": "code",
   "execution_count": 31,
   "metadata": {},
   "outputs": [
    {
     "data": {
      "text/plain": [
       "'{\"item_0\": [16.57381820678711, 19.485475540161133, 20.022624969482422, 21.5930233001709, 23.302013397216797, 25.1539249420166, 25.836524963378906, 17.183427810668945, 20.263813018798828, 20.109722137451172, 22.046316146850586, 22.884986877441406, 24.5477352142334, 25.728002548217773, 17.03057289123535, 19.898099899291992, 19.560701370239258, 21.239347457885742, 22.5848388671875, 23.70880699157715, 25.67095184326172, 16.704727172851562, 19.436874389648438, 19.222536087036133, 20.789386749267578, 22.20077133178711, 23.557828903198242, 24.341289520263672], \"item_1\": [44.26552200317383, 52.46006393432617, 54.20823669433594, 58.337764739990234, 61.993202209472656, 64.77264404296875, 68.71761322021484, 46.06790542602539, 52.786376953125, 53.58518981933594, 56.71074676513672, 60.79315948486328, 63.52743148803711, 67.9822006225586, 44.5804443359375, 52.165836334228516, 51.97383117675781, 55.43089294433594, 58.21323776245117, 61.984745025634766, 64.7683334350586, 43.30618667602539, 50.221378326416016, 49.51301193237305, 52.87257766723633, 55.660308837890625, 59.56661605834961, 62.972652435302734], \"item_2\": [28.440685272216797, 32.6129150390625, 34.182106018066406, 36.813392639160156, 39.23234558105469, 41.0505256652832, 43.46332931518555, 29.478384017944336, 33.5858039855957, 33.83454513549805, 36.418907165527344, 38.52590560913086, 40.76995849609375, 43.142669677734375, 28.840688705444336, 33.42390441894531, 32.972190856933594, 35.39073944091797, 37.434566497802734, 39.354164123535156, 42.104286193847656, 27.548276901245117, 32.091522216796875, 31.86089515686035, 34.41233444213867, 36.53211212158203, 38.71239471435547, 40.68842315673828]}'"
      ]
     },
     "execution_count": 31,
     "metadata": {},
     "output_type": "execute_result"
    }
   ],
   "source": [
    "outputs"
   ]
  },
  {
   "cell_type": "markdown",
   "metadata": {},
   "source": [
    "### Local Mode Endpoint Clean-up\n",
    "\n",
    "엔드포인트를 계속 사용하지 않는다면, 엔드포인트를 삭제해야 합니다. \n",
    "SageMaker SDK에서는 `delete_endpoint()` 메소드로 간단히 삭제할 수 있습니다."
   ]
  },
  {
   "cell_type": "code",
   "execution_count": 32,
   "metadata": {},
   "outputs": [
    {
     "name": "stdout",
     "output_type": "stream",
     "text": [
      "Gracefully stopping... (press Ctrl+C again to force)\n",
      "--- Deleted model: mxnet-inference-2022-07-17-08-26-12-193\n",
      "--- Deleted endpoint: local-endpoint-store-item-demand-forecast-1658046368\n",
      "--- Deleted endpoint_config: local-endpoint-store-item-demand-forecast-1658046368\n"
     ]
    }
   ],
   "source": [
    "def delete_endpoint(client, endpoint_name):\n",
    "    response = client.describe_endpoint_config(EndpointConfigName=endpoint_name)\n",
    "    model_name = response['ProductionVariants'][0]['ModelName']\n",
    "\n",
    "    client.delete_model(ModelName=model_name)    \n",
    "    client.delete_endpoint(EndpointName=endpoint_name)\n",
    "    client.delete_endpoint_config(EndpointConfigName=endpoint_name)    \n",
    "    \n",
    "    print(f'--- Deleted model: {model_name}')\n",
    "    print(f'--- Deleted endpoint: {endpoint_name}')\n",
    "    print(f'--- Deleted endpoint_config: {endpoint_name}')    \n",
    "delete_endpoint(client, endpoint_name)"
   ]
  },
  {
   "cell_type": "markdown",
   "metadata": {},
   "source": [
    "<br>\n",
    "\n",
    "## 4. SageMaker Hosted Endpoint Inference\n",
    "---\n",
    "\n",
    "이제 실제 운영 환경에 엔드포인트 배포를 수행해 보겠습니다. 로컬 모드 엔드포인트와 대부분의 코드가 동일하며, 모델 아티팩트 경로(`model_data`)와 인스턴스 유형(`instance_type`)만 변경해 주시면 됩니다. SageMaker가 관리하는 배포 클러스터를 프로비저닝하는 시간이 소요되기 때문에 추론 서비스를 시작하는 데에는 약 5~10분 정도 소요됩니다."
   ]
  },
  {
   "cell_type": "code",
   "execution_count": 33,
   "metadata": {},
   "outputs": [],
   "source": [
    "import os\n",
    "import boto3\n",
    "import sagemaker\n",
    "from sagemaker.mxnet import MXNet\n",
    "\n",
    "boto_session = boto3.Session()\n",
    "sagemaker_session = sagemaker.Session(boto_session=boto_session)\n",
    "role = sagemaker.get_execution_role()\n",
    "bucket = sagemaker.Session().default_bucket()"
   ]
  },
  {
   "cell_type": "code",
   "execution_count": 34,
   "metadata": {},
   "outputs": [],
   "source": [
    "model_path = os.path.join(s3_model_dir, \"model.tar.gz\")\n",
    "endpoint_name = \"endpoint-store-item-demand-forecast-{}\".format(int(time.time()))"
   ]
  },
  {
   "cell_type": "code",
   "execution_count": 35,
   "metadata": {},
   "outputs": [
    {
     "name": "stdout",
     "output_type": "stream",
     "text": [
      "-----!"
     ]
    }
   ],
   "source": [
    "model = MXNetModel(model_data=model_path,\n",
    "                         role=role,\n",
    "                         source_dir='src',\n",
    "                         entry_point='inference.py',\n",
    "                         framework_version='1.6.0',\n",
    "                         py_version='py3')\n",
    "\n",
    "predictor = model.deploy(instance_type=\"ml.c5.large\", \n",
    "                         initial_instance_count=1, \n",
    "                         endpoint_name=endpoint_name,\n",
    "                         wait=True)"
   ]
  },
  {
   "cell_type": "markdown",
   "metadata": {},
   "source": [
    "추론을 수행합니다. 로컬 모드의 코드와 동일합니다."
   ]
  },
  {
   "cell_type": "code",
   "execution_count": 36,
   "metadata": {},
   "outputs": [
    {
     "name": "stdout",
     "output_type": "stream",
     "text": [
      "{'item_0': [16.57381820678711, 19.485477447509766, 20.022624969482422, 21.5930233001709, 23.302013397216797, 25.1539249420166, 25.836523056030273, 17.183429718017578, 20.263813018798828, 20.109722137451172, 22.046316146850586, 22.884986877441406, 24.547731399536133, 25.728004455566406, 17.03057289123535, 19.898099899291992, 19.560701370239258, 21.239351272583008, 22.5848388671875, 23.70880699157715, 25.67095184326172, 16.704727172851562, 19.436874389648438, 19.222536087036133, 20.789386749267578, 22.200769424438477, 23.557828903198242, 24.341291427612305], 'item_1': [44.265525817871094, 52.46006393432617, 54.2082405090332, 58.3377685546875, 61.993202209472656, 64.77264404296875, 68.71761322021484, 46.06790542602539, 52.786380767822266, 53.58518981933594, 56.71074676513672, 60.79315948486328, 63.52743148803711, 67.9822006225586, 44.580448150634766, 52.165836334228516, 51.97383117675781, 55.43089294433594, 58.21323776245117, 61.984745025634766, 64.76834106445312, 43.306190490722656, 50.22138214111328, 49.51301193237305, 52.872581481933594, 55.660308837890625, 59.56661605834961, 62.972652435302734], 'item_2': [28.440685272216797, 32.6129150390625, 34.182106018066406, 36.813392639160156, 39.23234939575195, 41.0505256652832, 43.46332550048828, 29.4783878326416, 33.5858039855957, 33.83454895019531, 36.41891098022461, 38.52590560913086, 40.769962310791016, 43.142669677734375, 28.840688705444336, 33.423912048339844, 32.972190856933594, 35.3907356262207, 37.4345703125, 39.354164123535156, 42.104286193847656, 27.548276901245117, 32.091522216796875, 31.860902786254883, 34.412330627441406, 36.53211212158203, 38.71239471435547, 40.68842697143555]}\n"
     ]
    }
   ],
   "source": [
    "outputs = predictor.predict(input_data)\n",
    "print(outputs)"
   ]
  },
  {
   "cell_type": "code",
   "execution_count": 37,
   "metadata": {},
   "outputs": [],
   "source": [
    "import boto3\n",
    "client = boto3.client('sagemaker')\n",
    "runtime_client = boto3.client('sagemaker-runtime')\n",
    "endpoint_name = model.endpoint_name"
   ]
  },
  {
   "cell_type": "code",
   "execution_count": 38,
   "metadata": {},
   "outputs": [],
   "source": [
    "response = runtime_client.invoke_endpoint(\n",
    "    EndpointName=endpoint_name, \n",
    "    ContentType='application/json',\n",
    "    Accept='application/json',\n",
    "    Body=json.dumps(input_data)\n",
    "    )\n",
    "outputs = response['Body'].read().decode()"
   ]
  },
  {
   "cell_type": "code",
   "execution_count": 39,
   "metadata": {},
   "outputs": [
    {
     "data": {
      "text/plain": [
       "'{\"item_0\": [16.853008270263672, 19.322612762451172, 20.264875411987305, 21.6895809173584, 23.208093643188477, 24.666259765625, 25.791994094848633, 17.28667449951172, 20.07016372680664, 19.992877960205078, 21.58452606201172, 23.29920196533203, 24.273176193237305, 25.842388153076172, 17.135705947875977, 19.5638484954834, 19.59037971496582, 21.33539581298828, 22.556406021118164, 23.76131820678711, 25.470582962036133, 16.315513610839844, 19.536975860595703, 19.149011611938477, 20.34992218017578, 22.035219192504883, 23.492212295532227, 24.147998809814453], \"item_1\": [43.88142013549805, 52.48280715942383, 55.357688903808594, 58.26667404174805, 62.02186965942383, 65.01542663574219, 68.57644653320312, 45.89519119262695, 52.98295593261719, 53.547569274902344, 56.70088195800781, 60.956172943115234, 63.80867004394531, 67.9952621459961, 44.49686050415039, 51.725616455078125, 52.2453498840332, 55.277000427246094, 58.427616119384766, 61.6430549621582, 65.1532211303711, 43.52935028076172, 49.79910659790039, 49.80726623535156, 52.98100662231445, 56.099308013916016, 59.46759796142578, 62.32807540893555], \"item_2\": [28.650545120239258, 32.16042709350586, 34.480072021484375, 36.70463180541992, 38.79436111450195, 40.609615325927734, 43.8044319152832, 29.239145278930664, 33.656341552734375, 33.794105529785156, 36.27511978149414, 38.80241775512695, 40.65964889526367, 43.418556213378906, 28.890823364257812, 32.95356750488281, 32.871253967285156, 35.02690887451172, 37.46687316894531, 39.10713577270508, 41.893707275390625, 27.391660690307617, 32.319244384765625, 31.76532554626465, 34.027801513671875, 36.51230239868164, 38.36192321777344, 40.660919189453125]}'"
      ]
     },
     "execution_count": 39,
     "metadata": {},
     "output_type": "execute_result"
    }
   ],
   "source": [
    "outputs"
   ]
  },
  {
   "cell_type": "markdown",
   "metadata": {},
   "source": [
    "### SageMaker Hosted Endpoint Clean-up\n",
    "\n",
    "엔드포인트를 계속 사용하지 않는다면, 불필요한 과금을 피하기 위해 엔드포인트를 삭제해야 합니다. \n",
    "SageMaker SDK에서는 `delete_endpoint()` 메소드로 간단히 삭제할 수 있으며, UI에서도 쉽게 삭제할 수 있습니다."
   ]
  },
  {
   "cell_type": "code",
   "execution_count": 40,
   "metadata": {},
   "outputs": [
    {
     "name": "stdout",
     "output_type": "stream",
     "text": [
      "--- Deleted model: mxnet-inference-2022-07-17-08-28-26-387\n",
      "--- Deleted endpoint: endpoint-store-item-demand-forecast-1658046504\n",
      "--- Deleted endpoint_config: endpoint-store-item-demand-forecast-1658046504\n"
     ]
    }
   ],
   "source": [
    "delete_endpoint(client, endpoint_name)"
   ]
  },
  {
   "cell_type": "code",
   "execution_count": null,
   "metadata": {},
   "outputs": [],
   "source": []
  }
 ],
 "metadata": {
  "kernelspec": {
   "display_name": "conda_mxnet_p37",
   "language": "python",
   "name": "conda_mxnet_p37"
  },
  "language_info": {
   "codemirror_mode": {
    "name": "ipython",
    "version": 3
   },
   "file_extension": ".py",
   "mimetype": "text/x-python",
   "name": "python",
   "nbconvert_exporter": "python",
   "pygments_lexer": "ipython3",
   "version": "3.7.10"
  }
 },
 "nbformat": 4,
 "nbformat_minor": 4
}
